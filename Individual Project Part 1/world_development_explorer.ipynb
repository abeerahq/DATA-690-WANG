{
  "cells": [
    {
      "cell_type": "markdown",
      "source": "## Correlation Between GDP Per Capita, PPP and Post-Secondary Education Attainment\n\n**Author**: Abeerah Qadir\n\n**Date**: March 28, 2021",
      "metadata": {
        "tags": [],
        "cell_id": "00000-d5cda9f7-c191-4b12-9303-5bbef2195137",
        "deepnote_cell_type": "markdown"
      }
    },
    {
      "cell_type": "markdown",
      "source": "### **Introduction**",
      "metadata": {
        "tags": [],
        "cell_id": "00001-0d048459-0c33-4185-a4ad-9689f990faf0",
        "deepnote_cell_type": "markdown"
      }
    },
    {
      "cell_type": "markdown",
      "source": "#### Background Information (Area of Investigation)",
      "metadata": {
        "tags": [],
        "cell_id": "00001-3115ba1a-6b53-43f2-8852-d4912e9751a3",
        "deepnote_cell_type": "markdown"
      }
    },
    {
      "cell_type": "markdown",
      "source": "The main area of investigation is understanding the relationship between education and the growth of an economy. I want to explore whether attaining an education has any correlation with GDP growth for countries. Some research shows that there is more growth in GDP among those populations that have attained higher education. Additionally, better economic systems allow countries to provide better education to citizens with better resources for learning. This allows for citizens to obtain education at affordable costs, motivating more of the population to attain education without any financial barrier. The investigation will consist of comparison between 2 third-world countries and 2 first-world countries so 4 countries in total. These countries include United States, Mexico, Germany, and Pakistan. The overall purpose of this investigation is to explore how education level of citizens affects the economy of a country.",
      "metadata": {
        "tags": [],
        "cell_id": "00003-bf572c7b-65ae-4a5f-8e7e-a7a7074fcc58",
        "deepnote_cell_type": "markdown"
      }
    },
    {
      "cell_type": "markdown",
      "source": "#### Personal Importance",
      "metadata": {
        "tags": [],
        "cell_id": "00002-b896f9a0-941e-476c-bdcc-d85fdf4d5836",
        "deepnote_cell_type": "markdown"
      }
    },
    {
      "cell_type": "markdown",
      "source": "For any country, it is vital to analyze the major factors that influence the GDP growth of a country. Personally, this topic is important to me because my family is from Pakistan and I was born and raised in the United States. I want to explore how these two countries differ in terms of education and in terms of economical growth. I always wanted to understand the differences in education for first-world and third-world countries. This project will allow me to understand the trends for both type of countries and will give me a clear indication of how education has the ability to impact GDP growth.",
      "metadata": {
        "tags": [],
        "cell_id": "00005-1dd145fb-244e-4f1c-8ef9-4985af4d58ae",
        "deepnote_cell_type": "markdown"
      }
    },
    {
      "cell_type": "markdown",
      "source": "#### Questions",
      "metadata": {
        "tags": [],
        "cell_id": "00003-47656c0f-2e74-4450-ab6a-870c755d988d",
        "deepnote_cell_type": "markdown"
      }
    },
    {
      "cell_type": "markdown",
      "source": "The main questions I would like to answer are:\n\n- What is the correlation between education and GDP Per Capita, PPP growth?\n- Does higher education attainment among a population increase GDP of a country?\n- What are differences between third-world and first-world country's education and GDP?",
      "metadata": {
        "tags": [],
        "cell_id": "00007-2ff241f1-a8cd-481b-82bb-6e948fdd5704",
        "deepnote_cell_type": "markdown"
      }
    },
    {
      "cell_type": "markdown",
      "source": "#### Data Source to Answer Questions",
      "metadata": {
        "tags": [],
        "cell_id": "00004-74012d2f-7967-4b73-80c0-502a40f6aaa8",
        "deepnote_cell_type": "markdown"
      }
    },
    {
      "cell_type": "markdown",
      "source": "The source for the data and charts used to answer the questions is http://www.worlddev.xyz/ which gets the data from World Bank. ",
      "metadata": {
        "tags": [],
        "cell_id": "00009-1810d49d-c86d-4a35-ae86-3982be160e77",
        "deepnote_cell_type": "markdown"
      }
    },
    {
      "cell_type": "markdown",
      "source": "#### Process to Analyze Issue",
      "metadata": {
        "tags": [],
        "cell_id": "00005-7382f6bc-9c0c-45d4-a224-20ded14e3ab8",
        "deepnote_cell_type": "markdown"
      }
    },
    {
      "cell_type": "markdown",
      "source": "In order to analyze the issue, I first selected 2 third-world countries and 2 first-world countries. The third world countries I selected were Pakistan and Mexico. Pakistan was selected because it is my home country, and Mexico was selected because its the third-world country most closest to where I currently live (U.S). The first world countries that were selected are United States and Germany. I wanted to choose countries from three different continents. \n\nI chose the variables education and GDP Per Capita, PPP in order to see whether education has an impact on the economy of a country. First, a bubble chart was created in which the trend was analyzed to see the correlation between the two variables. The size of the bubbles in the chart represented the population and they will also be considered to see whether they have any influence in the trend.\n\nSecond, line graphs for GDP and post-secondary educational attainment will be analyzed to see another visual of what the trend is overtime. Thirdly, a bar chart for post-secondary educational attainment was analyzed just to have another visual representation for comparison. The table will also be analyzed to see in detail the individual data values.",
      "metadata": {
        "tags": [],
        "cell_id": "00011-1eb3c985-c873-47b0-9431-791dd1053a0d",
        "deepnote_cell_type": "markdown"
      }
    },
    {
      "cell_type": "markdown",
      "source": "### Results",
      "metadata": {
        "tags": [],
        "cell_id": "00012-203d25d3-15d6-4a1e-b234-234070a7e00e",
        "deepnote_cell_type": "markdown"
      }
    },
    {
      "cell_type": "markdown",
      "source": "#### GDP per capita, PPP vs. Post-Secondary Educational Attainment in 2008",
      "metadata": {
        "tags": [],
        "cell_id": "00013-749e7bfe-b881-40ba-98bb-7aedc8fb0a60",
        "deepnote_cell_type": "markdown"
      }
    },
    {
      "cell_type": "markdown",
      "source": "![Picture title](image-20210327-201439.png)",
      "metadata": {
        "tags": [],
        "cell_id": "00014-4d86a058-8810-4828-89a8-f2bde43dd29a",
        "deepnote_cell_type": "markdown"
      }
    },
    {
      "cell_type": "markdown",
      "source": "#### GDP per capita, PPP vs. Post-Secondary Educational Attainment in 2016",
      "metadata": {
        "tags": [],
        "cell_id": "00015-098f025c-6433-4bde-9a23-bc875e912d95",
        "deepnote_cell_type": "markdown"
      }
    },
    {
      "cell_type": "markdown",
      "source": "![Picture title](image-20210327-202059.png)",
      "metadata": {
        "tags": [],
        "cell_id": "00015-aa333903-cdd7-43c6-b6b3-716e7e3c82e1",
        "deepnote_cell_type": "markdown"
      }
    },
    {
      "cell_type": "markdown",
      "source": "#### Post-Secondary Educational Attainment Overtime",
      "metadata": {
        "tags": [],
        "cell_id": "00017-cc51b9c8-cbe2-42bf-ae2f-e57979b42461",
        "deepnote_cell_type": "markdown"
      }
    },
    {
      "cell_type": "markdown",
      "source": "![Picture title](image-20210328-190043.png)",
      "metadata": {
        "tags": [],
        "cell_id": "00016-1221de48-6bb8-44de-b6e6-4c0e45055226",
        "deepnote_cell_type": "markdown"
      }
    },
    {
      "cell_type": "markdown",
      "source": "#### GDP per capita, PPP Overtime",
      "metadata": {
        "tags": [],
        "cell_id": "00020-4dda8dc5-0c20-4b82-bfdd-0286b7512057",
        "deepnote_cell_type": "markdown"
      }
    },
    {
      "cell_type": "markdown",
      "source": "![Picture title](image-20210328-191805.png)",
      "metadata": {
        "tags": [],
        "cell_id": "00020-68971e15-2973-454e-a17a-a1f7f0b9ab35",
        "deepnote_cell_type": "markdown"
      }
    },
    {
      "cell_type": "markdown",
      "source": "#### Post-Secondary Educational Attainment in 2016",
      "metadata": {
        "tags": [],
        "cell_id": "00021-9c9db94f-b999-42df-abf6-9712aeb216a5",
        "deepnote_cell_type": "markdown"
      }
    },
    {
      "cell_type": "markdown",
      "source": "![Picture title](image-20210328-200531.png)",
      "metadata": {
        "tags": [],
        "cell_id": "00022-d846036a-464b-4400-ab3a-af7066727ee1",
        "deepnote_cell_type": "markdown"
      }
    },
    {
      "cell_type": "markdown",
      "source": "#### Findings",
      "metadata": {
        "tags": [],
        "cell_id": "00015-17321898-de3c-4cb5-b391-75afa57f4394",
        "deepnote_cell_type": "markdown"
      }
    },
    {
      "cell_type": "markdown",
      "source": "The bubble charts show in 2008 and 2016, United States has the highest GDP Per Capita, PPP of about 48K and 58K USD, respectively. In 2008 and 2016, Germany has the second highest GDP Per Capita, PPP of about 38K and 50K USD, respectively. In 2008 and 2016, Mexico has the third highest GDP Per Capita, PPP of about 15K and 19K USD, respectively. In 2008 and 2016, Pakistan has the lowest GDP Per Capita, PPP of about 3800 and 4400 USD. *Note: Analysis is only comparing these 4 countries.*",
      "metadata": {
        "tags": [],
        "cell_id": "00017-81bf649f-3173-4ac4-850f-987f761899dc",
        "deepnote_cell_type": "markdown"
      }
    },
    {
      "cell_type": "markdown",
      "source": "The line graph for post-secondary education attainment overtime shows a steady increase overtime for United States and Germany. However, the line graph for post-secondary education attainment overtime for Mexico shows fluctuation throughout the years, and Pakistan shows minimal growth and remains stable throughout the years.",
      "metadata": {
        "tags": [],
        "cell_id": "00023-a35c98c6-bac0-4620-bb39-203e6a7b0d1d",
        "deepnote_cell_type": "markdown"
      }
    },
    {
      "cell_type": "markdown",
      "source": "The line graph for GDP per capita, PPP overtime shows a steady increase overtime for United States and Germany. However, the line graph for GDP per capita, PPP overtime for Mexico is a very minimal increase while Pakistan remains stable throughout the years. ",
      "metadata": {
        "tags": [],
        "cell_id": "00024-cb01917c-fa2b-48d2-9239-19e4976f0224",
        "deepnote_cell_type": "markdown"
      }
    },
    {
      "cell_type": "markdown",
      "source": "The bar chart shows United States having the highest number of people with post-secondary education, then Germany, then Mexico, and lastly Pakistan.",
      "metadata": {
        "tags": [],
        "cell_id": "00027-fa4ad0b7-5edf-48e3-82c3-97142ddb48d3",
        "deepnote_cell_type": "markdown"
      }
    },
    {
      "cell_type": "markdown",
      "source": "#### Analysis",
      "metadata": {
        "tags": [],
        "cell_id": "00017-c5169d74-7520-40c4-9fdf-606cb067037c",
        "deepnote_cell_type": "markdown"
      }
    },
    {
      "cell_type": "markdown",
      "source": "The bubble charts show a positive correlation so the higher the level of education attained, the higher the GDP Per Capita, PPP of a country. The results show that higher education attainment for a population increases GDP of a country. The historic trend from 2008 to 2016 also remains the same (positive correlation). So essentially if people have better access to education and attain higher education, the economy will thrive even more. Higher education contributes to economic growth as it involves keeping up with technological development, transferring knowledge and raising awareness, which all contribute to reducing the knowledge gap and poverty in these countries.",
      "metadata": {
        "tags": [],
        "cell_id": "00020-2f24401f-365d-456b-95c9-4cb21d12c787",
        "deepnote_cell_type": "markdown"
      }
    },
    {
      "cell_type": "markdown",
      "source": "The data shows similarities between United States and Germany as they both are first-world countries and have high GDP Per Capita, PPP and high post-secondary education attainment. Mexico and Pakistan have similarities in that they both have much lower education attainment and GDP. Similarities between all four countries are that the higher the education attainment, the higher the GDP for countries.",
      "metadata": {
        "tags": [],
        "cell_id": "00030-34f29bfc-8650-4ebc-87d6-bfe8fa043fa6",
        "deepnote_cell_type": "markdown"
      }
    },
    {
      "cell_type": "markdown",
      "source": "When comparing the countries, it is clear that first-world countries have much higher education attainment compared to third-world countries. First-world countries also have higher GDP Per Capita, PPP than third-world countries. Since third-world countries are developing nations, the economy growth is much slower compared to first-world countries. Better economy leads to more money for educational programs and resources, allowing residents of first-world countries to attain higher education. People living in third-world countries have less educational attainment due to a lack of funding for education, untrained teachers, lack of learning materials, long school distances, and overall expense of education.",
      "metadata": {
        "tags": [],
        "cell_id": "00019-595e48ab-bb13-485f-bc47-6e1207c7da2f",
        "deepnote_cell_type": "markdown"
      }
    },
    {
      "cell_type": "markdown",
      "source": "",
      "metadata": {
        "tags": [],
        "cell_id": "00020-23a8f0bb-188a-4128-aa3c-76fa1b2e497a",
        "deepnote_cell_type": "markdown"
      }
    },
    {
      "cell_type": "code",
      "source": "",
      "metadata": {
        "tags": [],
        "cell_id": "00020-5414162f-e486-4f8f-968e-c348148d4a3f",
        "deepnote_cell_type": "code"
      },
      "outputs": [],
      "execution_count": null
    },
    {
      "cell_type": "markdown",
      "source": "<a style='text-decoration:none;line-height:16px;display:flex;color:#5B5B62;padding:10px;justify-content:end;' href='https://deepnote.com?utm_source=created-in-deepnote-cell&projectId=10892208-56bc-4414-9a73-ef9d8575d83c' target=\"_blank\">\n<img style='display:inline;max-height:16px;margin:0px;margin-right:7.5px;' src='data:image/svg+xml;base64,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' > </img>\nCreated in <span style='font-weight:600;margin-left:4px;'>Deepnote</span></a>",
      "metadata": {
        "tags": [],
        "created_in_deepnote_cell": true,
        "deepnote_cell_type": "markdown"
      }
    }
  ],
  "nbformat": 4,
  "nbformat_minor": 2,
  "metadata": {
    "orig_nbformat": 2,
    "deepnote_notebook_id": "957bf490-a1ba-452e-8ae0-06372f35b1ec",
    "deepnote": {},
    "deepnote_execution_queue": []
  }
}