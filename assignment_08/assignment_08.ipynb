{
  "cells": [
    {
      "cell_type": "markdown",
      "source": "## Assignment 8\n\n**Author**: Abeerah Qadir\n\n**Date**: April 18, 2021",
      "metadata": {
        "tags": [],
        "cell_id": "00000-9c377b1f-1723-4427-b33d-44a24945e522",
        "deepnote_cell_type": "markdown"
      }
    },
    {
      "cell_type": "code",
      "metadata": {
        "tags": [],
        "cell_id": "00001-3a36813b-89b4-4f22-a580-63dca2ffec5e",
        "deepnote_to_be_reexecuted": false,
        "source_hash": "9ebd77d5",
        "execution_millis": 1749,
        "execution_start": 1618682804475,
        "deepnote_cell_type": "code"
      },
      "source": "# 1 - Import necessary libraries\nimport os, random\nimport pandas as pd\nimport numpy as np\nimport matplotlib.pyplot as plt",
      "execution_count": 1,
      "outputs": []
    },
    {
      "cell_type": "code",
      "metadata": {
        "tags": [],
        "cell_id": "00002-8590cfc6-658b-4585-a1e6-f37a018c1ed7",
        "deepnote_to_be_reexecuted": false,
        "source_hash": "a23c6245",
        "execution_millis": 21,
        "execution_start": 1618682806228,
        "deepnote_cell_type": "code"
      },
      "source": "# 2 - Retrieve the names of the 22 files and assign them to a List variable\n# You would need to filter out other files\n# Display the names of these 22 files\n\nfile_list = os.listdir(\"/work/Raw Data Files\")\nfile_list",
      "execution_count": 2,
      "outputs": [
        {
          "output_type": "execute_result",
          "execution_count": 2,
          "data": {
            "text/plain": "['MERGED2015_16_PP.csv',\n 'MERGED2013_14_PP.csv',\n 'MERGED1996_97_PP.csv',\n 'Most-Recent-Cohorts-All-Data-Elements.csv',\n 'MERGED2000_01_PP.csv',\n 'MERGED2002_03_PP.csv',\n 'MERGED1997_98_PP.csv',\n 'MERGED2006_07_PP.csv',\n 'MERGED2018_19_PP.csv',\n 'FieldOfStudyData1516_1617_PP.csv',\n 'FieldOfStudyData1415_1516_PP.csv',\n 'MERGED2011_12_PP.csv',\n 'MERGED2007_08_PP.csv',\n 'FieldOfStudyData1617_1718_PP.csv',\n 'MERGED2004_05_PP.csv',\n 'MERGED2005_06_PP.csv',\n 'MERGED2003_04_PP.csv',\n 'MERGED1998_99_PP.csv',\n 'MERGED2010_11_PP.csv',\n 'data.yaml',\n 'MERGED2012_13_PP.csv',\n 'MERGED1999_00_PP.csv',\n 'MERGED2016_17_PP.csv',\n 'MERGED2008_09_PP.csv',\n 'Crosswalks.zip',\n 'MERGED2009_10_PP.csv',\n 'MERGED2001_02_PP.csv',\n 'MERGED2017_18_PP.csv',\n 'Most-Recent-Cohorts-Field-of-Study.csv',\n 'MERGED2014_15_PP.csv']"
          },
          "metadata": {}
        }
      ]
    },
    {
      "cell_type": "code",
      "metadata": {
        "tags": [],
        "cell_id": "00003-e10175f2-9e5d-44ea-81c4-2b9ea1d51da7",
        "deepnote_to_be_reexecuted": false,
        "source_hash": "b120af35",
        "execution_millis": 14,
        "execution_start": 1618682806245,
        "deepnote_cell_type": "code"
      },
      "source": "# Filter and select only files starting with \"MERGED\"\ndir = os.listdir('/work/Raw Data Files')\n\ncsv_files = []\n\nfor file in dir:\n    if \".csv\" and \"MERGED\" in file:\n        csv_files.append(file)\n\n    else:\n        csv_files\n\ncsv_files",
      "execution_count": 3,
      "outputs": [
        {
          "output_type": "execute_result",
          "execution_count": 3,
          "data": {
            "text/plain": "['MERGED2015_16_PP.csv',\n 'MERGED2013_14_PP.csv',\n 'MERGED1996_97_PP.csv',\n 'MERGED2000_01_PP.csv',\n 'MERGED2002_03_PP.csv',\n 'MERGED1997_98_PP.csv',\n 'MERGED2006_07_PP.csv',\n 'MERGED2018_19_PP.csv',\n 'MERGED2011_12_PP.csv',\n 'MERGED2007_08_PP.csv',\n 'MERGED2004_05_PP.csv',\n 'MERGED2005_06_PP.csv',\n 'MERGED2003_04_PP.csv',\n 'MERGED1998_99_PP.csv',\n 'MERGED2010_11_PP.csv',\n 'MERGED2012_13_PP.csv',\n 'MERGED1999_00_PP.csv',\n 'MERGED2016_17_PP.csv',\n 'MERGED2008_09_PP.csv',\n 'MERGED2009_10_PP.csv',\n 'MERGED2001_02_PP.csv',\n 'MERGED2017_18_PP.csv',\n 'MERGED2014_15_PP.csv']"
          },
          "metadata": {}
        }
      ]
    },
    {
      "cell_type": "code",
      "metadata": {
        "tags": [],
        "cell_id": "00004-1d9ea7d9-e6ae-486d-92cd-d7df005adc89",
        "deepnote_to_be_reexecuted": false,
        "source_hash": "f825e5aa",
        "execution_millis": 12,
        "execution_start": 1618682806257,
        "deepnote_cell_type": "code"
      },
      "source": "# 3 - Write code to randomly select one file name out of the 22 files names. \n# Hint: generate a random integer between 0 and 21 first\n# Display the file name\n\nrandom_file=random.choice(os.listdir(\"/work/Raw Data Files\"))\nprint (\"File Name:\",random_file)",
      "execution_count": 4,
      "outputs": [
        {
          "name": "stdout",
          "text": "File Name: MERGED2012_13_PP.csv\n",
          "output_type": "stream"
        }
      ]
    },
    {
      "cell_type": "code",
      "metadata": {
        "tags": [],
        "cell_id": "00005-a66065fb-6ab5-49a2-b4a1-1f8e9cdf3135",
        "deepnote_to_be_reexecuted": false,
        "source_hash": "b1148166",
        "execution_millis": 3275,
        "execution_start": 1618682806267,
        "deepnote_cell_type": "code"
      },
      "source": "# 4 - Only read the two columns: college name (INSTNM) and in state tution (\"TUITIONFEE_IN\")\n# from this file into a data frame aand display use info() function to display a summary information\n\ndf = pd.read_csv(\"/work/Raw Data Files/MERGED2013_14_PP.csv\", usecols=[\"INSTNM\",\"TUITIONFEE_IN\"])\ndf\n",
      "execution_count": 5,
      "outputs": [
        {
          "output_type": "execute_result",
          "execution_count": 5,
          "data": {
            "application/vnd.deepnote.dataframe.v2+json": {
              "row_count": 7869,
              "column_count": 2,
              "columns": [
                {
                  "name": "INSTNM",
                  "dtype": "object",
                  "stats": {
                    "unique_count": 7685,
                    "nan_count": 0,
                    "categories": [
                      {
                        "name": "UEI College",
                        "count": 8
                      },
                      {
                        "name": "Stevens-Henager College",
                        "count": 7
                      },
                      {
                        "name": "7683 others",
                        "count": 7854
                      }
                    ]
                  }
                },
                {
                  "name": "TUITIONFEE_IN",
                  "dtype": "float64",
                  "stats": {
                    "unique_count": 3045,
                    "nan_count": 3342,
                    "min": "0.0",
                    "max": "64900.0",
                    "histogram": [
                      {
                        "bin_start": 0,
                        "bin_end": 6490,
                        "count": 1358
                      },
                      {
                        "bin_start": 6490,
                        "bin_end": 12980,
                        "count": 1069
                      },
                      {
                        "bin_start": 12980,
                        "bin_end": 19470,
                        "count": 1144
                      },
                      {
                        "bin_start": 19470,
                        "bin_end": 25960,
                        "count": 330
                      },
                      {
                        "bin_start": 25960,
                        "bin_end": 32450,
                        "count": 286
                      },
                      {
                        "bin_start": 32450,
                        "bin_end": 38940,
                        "count": 170
                      },
                      {
                        "bin_start": 38940,
                        "bin_end": 45430,
                        "count": 120
                      },
                      {
                        "bin_start": 45430,
                        "bin_end": 51920,
                        "count": 49
                      },
                      {
                        "bin_start": 51920,
                        "bin_end": 58410,
                        "count": 0
                      },
                      {
                        "bin_start": 58410,
                        "bin_end": 64900,
                        "count": 1
                      }
                    ]
                  }
                },
                {
                  "name": "_deepnote_index_column",
                  "dtype": "int64"
                }
              ],
              "rows_top": [
                {
                  "INSTNM": "Alabama A & M University",
                  "TUITIONFEE_IN": "7182.0",
                  "_deepnote_index_column": 0
                },
                {
                  "INSTNM": "University of Alabama at Birmingham",
                  "TUITIONFEE_IN": "7206.0",
                  "_deepnote_index_column": 1
                },
                {
                  "INSTNM": "Amridge University",
                  "TUITIONFEE_IN": "6870.0",
                  "_deepnote_index_column": 2
                },
                {
                  "INSTNM": "University of Alabama in Huntsville",
                  "TUITIONFEE_IN": "9192.0",
                  "_deepnote_index_column": 3
                },
                {
                  "INSTNM": "Alabama State University",
                  "TUITIONFEE_IN": "8720.0",
                  "_deepnote_index_column": 4
                },
                {
                  "INSTNM": "The University of Alabama",
                  "TUITIONFEE_IN": "9450.0",
                  "_deepnote_index_column": 5
                },
                {
                  "INSTNM": "Central Alabama Community College",
                  "TUITIONFEE_IN": "4200.0",
                  "_deepnote_index_column": 6
                },
                {
                  "INSTNM": "Athens State University",
                  "TUITIONFEE_IN": "nan",
                  "_deepnote_index_column": 7
                },
                {
                  "INSTNM": "Auburn University at Montgomery",
                  "TUITIONFEE_IN": "8750.0",
                  "_deepnote_index_column": 8
                },
                {
                  "INSTNM": "Auburn University",
                  "TUITIONFEE_IN": "9852.0",
                  "_deepnote_index_column": 9
                },
                {
                  "INSTNM": "Birmingham-Southern College",
                  "TUITIONFEE_IN": "30690.0",
                  "_deepnote_index_column": 10
                },
                {
                  "INSTNM": "Chattahoochee Valley Community College",
                  "TUITIONFEE_IN": "4260.0",
                  "_deepnote_index_column": 11
                },
                {
                  "INSTNM": "Concordia College Alabama",
                  "TUITIONFEE_IN": "8090.0",
                  "_deepnote_index_column": 12
                },
                {
                  "INSTNM": "South University-Montgomery",
                  "TUITIONFEE_IN": "16360.0",
                  "_deepnote_index_column": 13
                },
                {
                  "INSTNM": "Enterprise State Community College",
                  "TUITIONFEE_IN": "3780.0",
                  "_deepnote_index_column": 14
                },
                {
                  "INSTNM": "Coastal Alabama Community College",
                  "TUITIONFEE_IN": "4200.0",
                  "_deepnote_index_column": 15
                },
                {
                  "INSTNM": "Faulkner University",
                  "TUITIONFEE_IN": "18230.0",
                  "_deepnote_index_column": 16
                },
                {
                  "INSTNM": "Gadsden State Community College",
                  "TUITIONFEE_IN": "3900.0",
                  "_deepnote_index_column": 17
                },
                {
                  "INSTNM": "New Beginning College of Cosmetology",
                  "TUITIONFEE_IN": "nan",
                  "_deepnote_index_column": 18
                },
                {
                  "INSTNM": "George C Wallace Community College-Dothan",
                  "TUITIONFEE_IN": "3900.0",
                  "_deepnote_index_column": 19
                },
                {
                  "INSTNM": "George C Wallace State Community College-Hanceville",
                  "TUITIONFEE_IN": "4200.0",
                  "_deepnote_index_column": 20
                },
                {
                  "INSTNM": "George C Wallace State Community College-Selma",
                  "TUITIONFEE_IN": "3900.0",
                  "_deepnote_index_column": 21
                },
                {
                  "INSTNM": "Herzing University-Birmingham",
                  "TUITIONFEE_IN": "11150.0",
                  "_deepnote_index_column": 22
                },
                {
                  "INSTNM": "Huntingdon College",
                  "TUITIONFEE_IN": "23500.0",
                  "_deepnote_index_column": 23
                },
                {
                  "INSTNM": "Heritage Christian University",
                  "TUITIONFEE_IN": "9792.0",
                  "_deepnote_index_column": 24
                },
                {
                  "INSTNM": "J. F. Drake State Community and Technical College",
                  "TUITIONFEE_IN": "3336.0",
                  "_deepnote_index_column": 25
                },
                {
                  "INSTNM": "J F Ingram State Technical College",
                  "TUITIONFEE_IN": "4608.0",
                  "_deepnote_index_column": 26
                },
                {
                  "INSTNM": "Jacksonville State University",
                  "TUITIONFEE_IN": "7092.0",
                  "_deepnote_index_column": 27
                },
                {
                  "INSTNM": "Jefferson Davis Community College",
                  "TUITIONFEE_IN": "3908.0",
                  "_deepnote_index_column": 28
                },
                {
                  "INSTNM": "Jefferson State Community College",
                  "TUITIONFEE_IN": "4260.0",
                  "_deepnote_index_column": 29
                },
                {
                  "INSTNM": "John C Calhoun State Community College",
                  "TUITIONFEE_IN": "4140.0",
                  "_deepnote_index_column": 30
                },
                {
                  "INSTNM": "Judson College",
                  "TUITIONFEE_IN": "15630.0",
                  "_deepnote_index_column": 31
                },
                {
                  "INSTNM": "Lawson State Community College",
                  "TUITIONFEE_IN": "4230.0",
                  "_deepnote_index_column": 32
                },
                {
                  "INSTNM": "University of West Alabama",
                  "TUITIONFEE_IN": "7660.0",
                  "_deepnote_index_column": 33
                },
                {
                  "INSTNM": "Lurleen B Wallace Community College",
                  "TUITIONFEE_IN": "4170.0",
                  "_deepnote_index_column": 34
                },
                {
                  "INSTNM": "Marion Military Institute",
                  "TUITIONFEE_IN": "8570.0",
                  "_deepnote_index_column": 35
                },
                {
                  "INSTNM": "Miles College",
                  "TUITIONFEE_IN": "11454.0",
                  "_deepnote_index_column": 36
                },
                {
                  "INSTNM": "University of Mobile",
                  "TUITIONFEE_IN": "18690.0",
                  "_deepnote_index_column": 37
                },
                {
                  "INSTNM": "University of Montevallo",
                  "TUITIONFEE_IN": "10000.0",
                  "_deepnote_index_column": 38
                },
                {
                  "INSTNM": "Northwest-Shoals Community College",
                  "TUITIONFEE_IN": "4140.0",
                  "_deepnote_index_column": 39
                },
                {
                  "INSTNM": "University of North Alabama",
                  "TUITIONFEE_IN": "7078.0",
                  "_deepnote_index_column": 40
                },
                {
                  "INSTNM": "Northeast Alabama Community College",
                  "TUITIONFEE_IN": "4200.0",
                  "_deepnote_index_column": 41
                },
                {
                  "INSTNM": "Oakwood University",
                  "TUITIONFEE_IN": "16234.0",
                  "_deepnote_index_column": 42
                },
                {
                  "INSTNM": "Alabama Southern Community College",
                  "TUITIONFEE_IN": "4200.0",
                  "_deepnote_index_column": 43
                },
                {
                  "INSTNM": "Prince Institute-Southeast",
                  "TUITIONFEE_IN": "9685.0",
                  "_deepnote_index_column": 44
                },
                {
                  "INSTNM": "Reid State Technical College",
                  "TUITIONFEE_IN": "4260.0",
                  "_deepnote_index_column": 45
                },
                {
                  "INSTNM": "Bishop State Community College",
                  "TUITIONFEE_IN": "4200.0",
                  "_deepnote_index_column": 46
                },
                {
                  "INSTNM": "Samford University",
                  "TUITIONFEE_IN": "26328.0",
                  "_deepnote_index_column": 47
                },
                {
                  "INSTNM": "Selma University",
                  "TUITIONFEE_IN": "5840.0",
                  "_deepnote_index_column": 48
                },
                {
                  "INSTNM": "Shelton State Community College",
                  "TUITIONFEE_IN": "3900.0",
                  "_deepnote_index_column": 49
                },
                {
                  "INSTNM": "Snead State Community College",
                  "TUITIONFEE_IN": "4260.0",
                  "_deepnote_index_column": 50
                },
                {
                  "INSTNM": "University of South Alabama",
                  "TUITIONFEE_IN": "6948.0",
                  "_deepnote_index_column": 51
                },
                {
                  "INSTNM": "Spring Hill College",
                  "TUITIONFEE_IN": "30924.0",
                  "_deepnote_index_column": 52
                },
                {
                  "INSTNM": "Southeastern Bible College",
                  "TUITIONFEE_IN": "11370.0",
                  "_deepnote_index_column": 53
                },
                {
                  "INSTNM": "Stillman College",
                  "TUITIONFEE_IN": "15901.0",
                  "_deepnote_index_column": 54
                },
                {
                  "INSTNM": "Talladega College",
                  "TUITIONFEE_IN": "11492.0",
                  "_deepnote_index_column": 55
                },
                {
                  "INSTNM": "H Councill Trenholm State Community College",
                  "TUITIONFEE_IN": "3288.0",
                  "_deepnote_index_column": 56
                },
                {
                  "INSTNM": "Troy University",
                  "TUITIONFEE_IN": "7276.0",
                  "_deepnote_index_column": 57
                },
                {
                  "INSTNM": "Tuskegee University",
                  "TUITIONFEE_IN": "18900.0",
                  "_deepnote_index_column": 58
                },
                {
                  "INSTNM": "United States Sports Academy",
                  "TUITIONFEE_IN": "nan",
                  "_deepnote_index_column": 59
                },
                {
                  "INSTNM": "Bevill State Community College",
                  "TUITIONFEE_IN": "4230.0",
                  "_deepnote_index_column": 60
                },
                {
                  "INSTNM": "University of Alaska Anchorage",
                  "TUITIONFEE_IN": "5147.0",
                  "_deepnote_index_column": 61
                },
                {
                  "INSTNM": "Alaska Bible College",
                  "TUITIONFEE_IN": "9200.0",
                  "_deepnote_index_column": 62
                },
                {
                  "INSTNM": "University of Alaska Fairbanks",
                  "TUITIONFEE_IN": "4984.0",
                  "_deepnote_index_column": 63
                },
                {
                  "INSTNM": "University of Alaska Southeast",
                  "TUITIONFEE_IN": "5693.0",
                  "_deepnote_index_column": 64
                },
                {
                  "INSTNM": "Alaska Pacific University",
                  "TUITIONFEE_IN": "29810.0",
                  "_deepnote_index_column": 65
                },
                {
                  "INSTNM": "Alaska Vocational Technical Center",
                  "TUITIONFEE_IN": "nan",
                  "_deepnote_index_column": 66
                },
                {
                  "INSTNM": "Charter College",
                  "TUITIONFEE_IN": "19882.0",
                  "_deepnote_index_column": 67
                },
                {
                  "INSTNM": "Prince William Sound Community College",
                  "TUITIONFEE_IN": "4448.0",
                  "_deepnote_index_column": 68
                },
                {
                  "INSTNM": "Alaska Career College",
                  "TUITIONFEE_IN": "nan",
                  "_deepnote_index_column": 69
                },
                {
                  "INSTNM": "Everest College-Phoenix",
                  "TUITIONFEE_IN": "12960.0",
                  "_deepnote_index_column": 70
                },
                {
                  "INSTNM": "Collins College",
                  "TUITIONFEE_IN": "nan",
                  "_deepnote_index_column": 71
                },
                {
                  "INSTNM": "Empire Beauty School-Paradise Valley",
                  "TUITIONFEE_IN": "nan",
                  "_deepnote_index_column": 72
                },
                {
                  "INSTNM": "Empire Beauty School-Tucson",
                  "TUITIONFEE_IN": "nan",
                  "_deepnote_index_column": 73
                },
                {
                  "INSTNM": "Thunderbird School of Global Management",
                  "TUITIONFEE_IN": "nan",
                  "_deepnote_index_column": 74
                },
                {
                  "INSTNM": "American Indian College Inc",
                  "TUITIONFEE_IN": "12000.0",
                  "_deepnote_index_column": 75
                },
                {
                  "INSTNM": "American Institute of Trucking",
                  "TUITIONFEE_IN": "nan",
                  "_deepnote_index_column": 76
                },
                {
                  "INSTNM": "Carrington College-Phoenix North",
                  "TUITIONFEE_IN": "nan",
                  "_deepnote_index_column": 77
                },
                {
                  "INSTNM": "Carrington College-Mesa",
                  "TUITIONFEE_IN": "nan",
                  "_deepnote_index_column": 78
                },
                {
                  "INSTNM": "Carrington College-Tucson",
                  "TUITIONFEE_IN": "nan",
                  "_deepnote_index_column": 79
                },
                {
                  "INSTNM": "CollegeAmerica-Flagstaff",
                  "TUITIONFEE_IN": "17211.0",
                  "_deepnote_index_column": 80
                },
                {
                  "INSTNM": "Arizona Academy of Beauty-East",
                  "TUITIONFEE_IN": "nan",
                  "_deepnote_index_column": 81
                },
                {
                  "INSTNM": "Platt College-Arizona Automotive Institute Arizona",
                  "TUITIONFEE_IN": "nan",
                  "_deepnote_index_column": 82
                },
                {
                  "INSTNM": "Brookline College-Phoenix",
                  "TUITIONFEE_IN": "nan",
                  "_deepnote_index_column": 83
                },
                {
                  "INSTNM": "Arizona State University-Tempe",
                  "TUITIONFEE_IN": "9861.0",
                  "_deepnote_index_column": 84
                },
                {
                  "INSTNM": "Arizona Western College",
                  "TUITIONFEE_IN": "2420.0",
                  "_deepnote_index_column": 85
                },
                {
                  "INSTNM": "University of Arizona",
                  "TUITIONFEE_IN": "10391.0",
                  "_deepnote_index_column": 86
                },
                {
                  "INSTNM": "Southwest University of Visual Arts-Tucson",
                  "TUITIONFEE_IN": "34541.0",
                  "_deepnote_index_column": 87
                },
                {
                  "INSTNM": "Brillare Hairdressing Academy",
                  "TUITIONFEE_IN": "nan",
                  "_deepnote_index_column": 88
                },
                {
                  "INSTNM": "Central Arizona College",
                  "TUITIONFEE_IN": "2310.0",
                  "_deepnote_index_column": 89
                },
                {
                  "INSTNM": "Brown Mackie College-Tucson",
                  "TUITIONFEE_IN": "13194.0",
                  "_deepnote_index_column": 90
                },
                {
                  "INSTNM": "Charles of Italy Beauty College",
                  "TUITIONFEE_IN": "nan",
                  "_deepnote_index_column": 91
                },
                {
                  "INSTNM": "Cochise County Community College District",
                  "TUITIONFEE_IN": "1752.0",
                  "_deepnote_index_column": 92
                },
                {
                  "INSTNM": "Empire Beauty School-Flagstaff",
                  "TUITIONFEE_IN": "nan",
                  "_deepnote_index_column": 93
                },
                {
                  "INSTNM": "Empire Beauty School-Chandler",
                  "TUITIONFEE_IN": "nan",
                  "_deepnote_index_column": 94
                },
                {
                  "INSTNM": "Cortiva Institute-Tucson",
                  "TUITIONFEE_IN": "nan",
                  "_deepnote_index_column": 95
                },
                {
                  "INSTNM": "Avalon School of Cosmetology-Mesa",
                  "TUITIONFEE_IN": "nan",
                  "_deepnote_index_column": 96
                },
                {
                  "INSTNM": "Eastern Arizona College",
                  "TUITIONFEE_IN": "1760.0",
                  "_deepnote_index_column": 97
                },
                {
                  "INSTNM": "Embry-Riddle Aeronautical University-Prescott",
                  "TUITIONFEE_IN": "31034.0",
                  "_deepnote_index_column": 98
                },
                {
                  "INSTNM": "School of Architecture at Taliesin",
                  "TUITIONFEE_IN": "nan",
                  "_deepnote_index_column": 99
                },
                {
                  "INSTNM": "Glendale Community College",
                  "TUITIONFEE_IN": "1974.0",
                  "_deepnote_index_column": 100
                },
                {
                  "INSTNM": "Grand Canyon University",
                  "TUITIONFEE_IN": "17000.0",
                  "_deepnote_index_column": 101
                },
                {
                  "INSTNM": "Anthem College-Phoenix",
                  "TUITIONFEE_IN": "13775.0",
                  "_deepnote_index_column": 102
                },
                {
                  "INSTNM": "Olympian Academy of Cosmetology",
                  "TUITIONFEE_IN": "nan",
                  "_deepnote_index_column": 103
                },
                {
                  "INSTNM": "Kaplan College-Phoenix",
                  "TUITIONFEE_IN": "nan",
                  "_deepnote_index_column": 104
                },
                {
                  "INSTNM": "GateWay Community College",
                  "TUITIONFEE_IN": "1974.0",
                  "_deepnote_index_column": 105
                },
                {
                  "INSTNM": "Mesa Community College",
                  "TUITIONFEE_IN": "1974.0",
                  "_deepnote_index_column": 106
                },
                {
                  "INSTNM": "ITT Technical Institute-Tucson",
                  "TUITIONFEE_IN": "18048.0",
                  "_deepnote_index_column": 107
                },
                {
                  "INSTNM": "ITT Technical Institute-Tempe",
                  "TUITIONFEE_IN": "18048.0",
                  "_deepnote_index_column": 108
                },
                {
                  "INSTNM": "Mohave Community College",
                  "TUITIONFEE_IN": "2040.0",
                  "_deepnote_index_column": 109
                },
                {
                  "INSTNM": "Universal Technical Institute of Arizona Inc-Motorcycle Mechanics Institute Division",
                  "TUITIONFEE_IN": "nan",
                  "_deepnote_index_column": 110
                },
                {
                  "INSTNM": "Dine College",
                  "TUITIONFEE_IN": "805.0",
                  "_deepnote_index_column": 111
                },
                {
                  "INSTNM": "Northern Arizona University",
                  "TUITIONFEE_IN": "9738.0",
                  "_deepnote_index_column": 112
                },
                {
                  "INSTNM": "Northland Pioneer College",
                  "TUITIONFEE_IN": "1606.0",
                  "_deepnote_index_column": 113
                },
                {
                  "INSTNM": "Ottawa University-Phoenix",
                  "TUITIONFEE_IN": "nan",
                  "_deepnote_index_column": 114
                },
                {
                  "INSTNM": "Phoenix College",
                  "TUITIONFEE_IN": "1974.0",
                  "_deepnote_index_column": 115
                },
                {
                  "INSTNM": "Cortiva Institute-Scottsdale",
                  "TUITIONFEE_IN": "nan",
                  "_deepnote_index_column": 116
                },
                {
                  "INSTNM": "University of Phoenix-Phoenix Campus",
                  "TUITIONFEE_IN": "11320.0",
                  "_deepnote_index_column": 117
                },
                {
                  "INSTNM": "Pima Community College",
                  "TUITIONFEE_IN": "1724.0",
                  "_deepnote_index_column": 118
                },
                {
                  "INSTNM": "Pima Medical Institute-Tucson",
                  "TUITIONFEE_IN": "nan",
                  "_deepnote_index_column": 119
                },
                {
                  "INSTNM": "Pima Medical Institute-Albuquerque",
                  "TUITIONFEE_IN": "nan",
                  "_deepnote_index_column": 120
                },
                {
                  "INSTNM": "Prescott College",
                  "TUITIONFEE_IN": "29732.0",
                  "_deepnote_index_column": 121
                },
                {
                  "INSTNM": "Refrigeration School Inc",
                  "TUITIONFEE_IN": "nan",
                  "_deepnote_index_column": 122
                },
                {
                  "INSTNM": "Rio Salado College",
                  "TUITIONFEE_IN": "1974.0",
                  "_deepnote_index_column": 123
                },
                {
                  "INSTNM": "Roberto-Venn School of Luthiery",
                  "TUITIONFEE_IN": "nan",
                  "_deepnote_index_column": 124
                },
                {
                  "INSTNM": "Hair Academy of Safford",
                  "TUITIONFEE_IN": "nan",
                  "_deepnote_index_column": 125
                },
                {
                  "INSTNM": "Scottsdale Community College",
                  "TUITIONFEE_IN": "1974.0",
                  "_deepnote_index_column": 126
                },
                {
                  "INSTNM": "South Mountain Community College",
                  "TUITIONFEE_IN": "1974.0",
                  "_deepnote_index_column": 127
                },
                {
                  "INSTNM": "Arizona Christian University",
                  "TUITIONFEE_IN": "21832.0",
                  "_deepnote_index_column": 128
                },
                {
                  "INSTNM": "Tucson College",
                  "TUITIONFEE_IN": "nan",
                  "_deepnote_index_column": 129
                },
                {
                  "INSTNM": "Universal Technical Institute of Arizona Inc",
                  "TUITIONFEE_IN": "nan",
                  "_deepnote_index_column": 130
                },
                {
                  "INSTNM": "Western International University",
                  "TUITIONFEE_IN": "6000.0",
                  "_deepnote_index_column": 131
                },
                {
                  "INSTNM": "Empire Beauty School-NW Phoenix",
                  "TUITIONFEE_IN": "nan",
                  "_deepnote_index_column": 132
                },
                {
                  "INSTNM": "Yavapai College",
                  "TUITIONFEE_IN": "1872.0",
                  "_deepnote_index_column": 133
                },
                {
                  "INSTNM": "University of Arkansas at Little Rock",
                  "TUITIONFEE_IN": "7094.0",
                  "_deepnote_index_column": 134
                },
                {
                  "INSTNM": "University of Arkansas for Medical Sciences",
                  "TUITIONFEE_IN": "nan",
                  "_deepnote_index_column": 135
                },
                {
                  "INSTNM": "ABC Beauty College Inc",
                  "TUITIONFEE_IN": "nan",
                  "_deepnote_index_column": 136
                },
                {
                  "INSTNM": "Arkansas Baptist College",
                  "TUITIONFEE_IN": "8040.0",
                  "_deepnote_index_column": 137
                },
                {
                  "INSTNM": "Arkansas Beauty School-Little Rock",
                  "TUITIONFEE_IN": "nan",
                  "_deepnote_index_column": 138
                },
                {
                  "INSTNM": "Arkansas Beauty College",
                  "TUITIONFEE_IN": "nan",
                  "_deepnote_index_column": 139
                },
                {
                  "INSTNM": "Lyon College",
                  "TUITIONFEE_IN": "23594.0",
                  "_deepnote_index_column": 140
                },
                {
                  "INSTNM": "Arkansas College of Barbering and Hair Design",
                  "TUITIONFEE_IN": "nan",
                  "_deepnote_index_column": 141
                },
                {
                  "INSTNM": "Arthur's Beauty College Inc-Fort Smith",
                  "TUITIONFEE_IN": "nan",
                  "_deepnote_index_column": 142
                },
                {
                  "INSTNM": "University of Arkansas",
                  "TUITIONFEE_IN": "7818.0",
                  "_deepnote_index_column": 143
                },
                {
                  "INSTNM": "University of Arkansas at Pine Bluff",
                  "TUITIONFEE_IN": "5938.0",
                  "_deepnote_index_column": 144
                },
                {
                  "INSTNM": "Arkansas State University-Beebe",
                  "TUITIONFEE_IN": "2099.0",
                  "_deepnote_index_column": 145
                },
                {
                  "INSTNM": "Arkansas State University-Main Campus",
                  "TUITIONFEE_IN": "7510.0",
                  "_deepnote_index_column": 146
                },
                {
                  "INSTNM": "Arkansas Tech University",
                  "TUITIONFEE_IN": "5598.0",
                  "_deepnote_index_column": 147
                },
                {
                  "INSTNM": "University of Arkansas at Monticello",
                  "TUITIONFEE_IN": "5793.0",
                  "_deepnote_index_column": 148
                },
                {
                  "INSTNM": "Arthur's Beauty College Inc-Jacksonville",
                  "TUITIONFEE_IN": "nan",
                  "_deepnote_index_column": 149
                },
                {
                  "INSTNM": "Baptist Health College Little Rock",
                  "TUITIONFEE_IN": "7804.0",
                  "_deepnote_index_column": 150
                },
                {
                  "INSTNM": "Black River Technical College",
                  "TUITIONFEE_IN": "2520.0",
                  "_deepnote_index_column": 151
                },
                {
                  "INSTNM": "University of Central Arkansas",
                  "TUITIONFEE_IN": "7595.0",
                  "_deepnote_index_column": 152
                },
                {
                  "INSTNM": "Central Baptist College",
                  "TUITIONFEE_IN": "13350.0",
                  "_deepnote_index_column": 153
                },
                {
                  "INSTNM": "Cossatot Community College of the University of Arkansas",
                  "TUITIONFEE_IN": "2212.0",
                  "_deepnote_index_column": 154
                },
                {
                  "INSTNM": "Crowley's Ridge College",
                  "TUITIONFEE_IN": "10900.0",
                  "_deepnote_index_column": 155
                },
                {
                  "INSTNM": "Crowley's Ridge Technical Institute",
                  "TUITIONFEE_IN": "1350.0",
                  "_deepnote_index_column": 156
                },
                {
                  "INSTNM": "East Arkansas Community College",
                  "TUITIONFEE_IN": "2520.0",
                  "_deepnote_index_column": 157
                },
                {
                  "INSTNM": "Eastern College of Health Vocations-Little Rock",
                  "TUITIONFEE_IN": "nan",
                  "_deepnote_index_column": 158
                },
                {
                  "INSTNM": "Imagine-Paul Mitchell Partner School",
                  "TUITIONFEE_IN": "nan",
                  "_deepnote_index_column": 159
                },
                {
                  "INSTNM": "National Park College",
                  "TUITIONFEE_IN": "3020.0",
                  "_deepnote_index_column": 160
                },
                {
                  "INSTNM": "University of Arkansas Community College-Batesville",
                  "TUITIONFEE_IN": "2166.0",
                  "_deepnote_index_column": 161
                },
                {
                  "INSTNM": "Harding University",
                  "TUITIONFEE_IN": "16170.0",
                  "_deepnote_index_column": 162
                },
                {
                  "INSTNM": "Henderson State University",
                  "TUITIONFEE_IN": "7580.0",
                  "_deepnote_index_column": 163
                },
                {
                  "INSTNM": "Hendrix College",
                  "TUITIONFEE_IN": "37816.0",
                  "_deepnote_index_column": 164
                },
                {
                  "INSTNM": "Hot Springs Beauty College",
                  "TUITIONFEE_IN": "nan",
                  "_deepnote_index_column": 165
                },
                {
                  "INSTNM": "Jefferson Regional Medical Center School of Nursing",
                  "TUITIONFEE_IN": "nan",
                  "_deepnote_index_column": 166
                },
                {
                  "INSTNM": "John Brown University",
                  "TUITIONFEE_IN": "22734.0",
                  "_deepnote_index_column": 167
                },
                {
                  "INSTNM": "Lees School of Cosmetology",
                  "TUITIONFEE_IN": "nan",
                  "_deepnote_index_column": 168
                },
                {
                  "INSTNM": "Career Academy of Hair Design",
                  "TUITIONFEE_IN": "nan",
                  "_deepnote_index_column": 169
                },
                {
                  "INSTNM": "Marsha Kay Beauty College",
                  "TUITIONFEE_IN": "nan",
                  "_deepnote_index_column": 170
                },
                {
                  "INSTNM": "Academy of Salon and Spa",
                  "TUITIONFEE_IN": "nan",
                  "_deepnote_index_column": 171
                },
                {
                  "INSTNM": "Arkansas State University Mid-South",
                  "TUITIONFEE_IN": "2458.0",
                  "_deepnote_index_column": 172
                },
                {
                  "INSTNM": "Arkansas Northeastern College",
                  "TUITIONFEE_IN": "1954.0",
                  "_deepnote_index_column": 173
                },
                {
                  "INSTNM": "Margaret's Hair Academy Inc",
                  "TUITIONFEE_IN": "nan",
                  "_deepnote_index_column": 174
                },
                {
                  "INSTNM": "New Tyler Barber College Inc",
                  "TUITIONFEE_IN": "nan",
                  "_deepnote_index_column": 175
                },
                {
                  "INSTNM": "North Arkansas College",
                  "TUITIONFEE_IN": "1896.0",
                  "_deepnote_index_column": 176
                },
                {
                  "INSTNM": "Northwest Technical Institute",
                  "TUITIONFEE_IN": "2321.0",
                  "_deepnote_index_column": 177
                },
                {
                  "INSTNM": "Ouachita Baptist University",
                  "TUITIONFEE_IN": "22370.0",
                  "_deepnote_index_column": 178
                },
                {
                  "INSTNM": "Arkansas State University Three Rivers",
                  "TUITIONFEE_IN": "3367.0",
                  "_deepnote_index_column": 179
                },
                {
                  "INSTNM": "Ozarka College",
                  "TUITIONFEE_IN": "2414.0",
                  "_deepnote_index_column": 180
                },
                {
                  "INSTNM": "University of the Ozarks",
                  "TUITIONFEE_IN": "24350.0",
                  "_deepnote_index_column": 181
                },
                {
                  "INSTNM": "University of Arkansas Community College-Morrilton",
                  "TUITIONFEE_IN": "2309.0",
                  "_deepnote_index_column": 182
                },
                {
                  "INSTNM": "Philander Smith College",
                  "TUITIONFEE_IN": "12564.0",
                  "_deepnote_index_column": 183
                },
                {
                  "INSTNM": "Phillips Community College of the University of Arkansas",
                  "TUITIONFEE_IN": "2375.0",
                  "_deepnote_index_column": 184
                },
                {
                  "INSTNM": "Southeast Arkansas College",
                  "TUITIONFEE_IN": "2980.0",
                  "_deepnote_index_column": 185
                },
                {
                  "INSTNM": "Professional Cosmetology Education Center",
                  "TUITIONFEE_IN": "nan",
                  "_deepnote_index_column": 186
                },
                {
                  "INSTNM": "University of Arkansas-Pulaski Technical College",
                  "TUITIONFEE_IN": "3507.0",
                  "_deepnote_index_column": 187
                },
                {
                  "INSTNM": "University of Arkansas Hope-Texarkana",
                  "TUITIONFEE_IN": "2281.0",
                  "_deepnote_index_column": 188
                },
                {
                  "INSTNM": "University of Arkansas Community College Rich Mountain",
                  "TUITIONFEE_IN": "2208.0",
                  "_deepnote_index_column": 189
                },
                {
                  "INSTNM": "Paul Mitchell the School-Arkansas",
                  "TUITIONFEE_IN": "nan",
                  "_deepnote_index_column": 190
                },
                {
                  "INSTNM": "Searcy Beauty College",
                  "TUITIONFEE_IN": "nan",
                  "_deepnote_index_column": 191
                },
                {
                  "INSTNM": "Shorter College",
                  "TUITIONFEE_IN": "2100.0",
                  "_deepnote_index_column": 192
                },
                {
                  "INSTNM": "Williams Baptist University",
                  "TUITIONFEE_IN": "13750.0",
                  "_deepnote_index_column": 193
                },
                {
                  "INSTNM": "South Arkansas Community College",
                  "TUITIONFEE_IN": "2200.0",
                  "_deepnote_index_column": 194
                },
                {
                  "INSTNM": "Southern Arkansas University Main Campus",
                  "TUITIONFEE_IN": "7466.0",
                  "_deepnote_index_column": 195
                },
                {
                  "INSTNM": "Southern Arkansas University Tech",
                  "TUITIONFEE_IN": "4080.0",
                  "_deepnote_index_column": 196
                },
                {
                  "INSTNM": "Velvatex College of Beauty Culture",
                  "TUITIONFEE_IN": "nan",
                  "_deepnote_index_column": 197
                },
                {
                  "INSTNM": "University of Arkansas-Fort Smith",
                  "TUITIONFEE_IN": "4528.0",
                  "_deepnote_index_column": 198
                },
                {
                  "INSTNM": "Academy of Art University",
                  "TUITIONFEE_IN": "19130.0",
                  "_deepnote_index_column": 199
                },
                {
                  "INSTNM": "ITT Technical Institute-Rancho Cordova",
                  "TUITIONFEE_IN": "18048.0",
                  "_deepnote_index_column": 200
                },
                {
                  "INSTNM": "Academy of Chinese Culture and Health Sciences",
                  "TUITIONFEE_IN": "nan",
                  "_deepnote_index_column": 201
                },
                {
                  "INSTNM": "The Academy of Radio and TV Broadcasting",
                  "TUITIONFEE_IN": "nan",
                  "_deepnote_index_column": 202
                },
                {
                  "INSTNM": "Avalon School of Cosmetology-Alameda",
                  "TUITIONFEE_IN": "nan",
                  "_deepnote_index_column": 203
                },
                {
                  "INSTNM": "College of Alameda",
                  "TUITIONFEE_IN": "1144.0",
                  "_deepnote_index_column": 204
                },
                {
                  "INSTNM": "Allan Hancock College",
                  "TUITIONFEE_IN": "1346.0",
                  "_deepnote_index_column": 205
                },
                {
                  "INSTNM": "American Academy of Dramatic Arts-Los Angeles",
                  "TUITIONFEE_IN": "30650.0",
                  "_deepnote_index_column": 206
                },
                {
                  "INSTNM": "American Baptist Seminary of the West",
                  "TUITIONFEE_IN": "nan",
                  "_deepnote_index_column": 207
                },
                {
                  "INSTNM": "American Film Institute Conservatory",
                  "TUITIONFEE_IN": "nan",
                  "_deepnote_index_column": 208
                },
                {
                  "INSTNM": "American Beauty College",
                  "TUITIONFEE_IN": "nan",
                  "_deepnote_index_column": 209
                },
                {
                  "INSTNM": "American Career College-Los Angeles",
                  "TUITIONFEE_IN": "nan",
                  "_deepnote_index_column": 210
                },
                {
                  "INSTNM": "American Conservatory Theater",
                  "TUITIONFEE_IN": "nan",
                  "_deepnote_index_column": 211
                },
                {
                  "INSTNM": "American River College",
                  "TUITIONFEE_IN": "1104.0",
                  "_deepnote_index_column": 212
                },
                {
                  "INSTNM": "Everest College-Hayward",
                  "TUITIONFEE_IN": "nan",
                  "_deepnote_index_column": 213
                },
                {
                  "INSTNM": "Antelope Valley College",
                  "TUITIONFEE_IN": "1104.0",
                  "_deepnote_index_column": 214
                },
                {
                  "INSTNM": "Art Center College of Design",
                  "TUITIONFEE_IN": "36480.0",
                  "_deepnote_index_column": 215
                },
                {
                  "INSTNM": "Associated Technical College-Los Angeles",
                  "TUITIONFEE_IN": "nan",
                  "_deepnote_index_column": 216
                },
                {
                  "INSTNM": "Associated Technical College-San Diego",
                  "TUITIONFEE_IN": "nan",
                  "_deepnote_index_column": 217
                },
                {
                  "INSTNM": "Azusa Pacific University",
                  "TUITIONFEE_IN": "32256.0",
                  "_deepnote_index_column": 218
                },
                {
                  "INSTNM": "Bakersfield College",
                  "TUITIONFEE_IN": "1324.0",
                  "_deepnote_index_column": 219
                },
                {
                  "INSTNM": "Barstow Community College",
                  "TUITIONFEE_IN": "1104.0",
                  "_deepnote_index_column": 220
                },
                {
                  "INSTNM": "Bellus Academy-Chula Vista",
                  "TUITIONFEE_IN": "nan",
                  "_deepnote_index_column": 221
                },
                {
                  "INSTNM": "Bethesda University",
                  "TUITIONFEE_IN": "7620.0",
                  "_deepnote_index_column": 222
                },
                {
                  "INSTNM": "Biola University",
                  "TUITIONFEE_IN": "32142.0",
                  "_deepnote_index_column": 223
                },
                {
                  "INSTNM": "Brooks Institute",
                  "TUITIONFEE_IN": "20120.0",
                  "_deepnote_index_column": 224
                },
                {
                  "INSTNM": "Brownson Technical School",
                  "TUITIONFEE_IN": "nan",
                  "_deepnote_index_column": 225
                },
                {
                  "INSTNM": "Bryan University",
                  "TUITIONFEE_IN": "11850.0",
                  "_deepnote_index_column": 226
                },
                {
                  "INSTNM": "Butte College",
                  "TUITIONFEE_IN": "1354.0",
                  "_deepnote_index_column": 227
                },
                {
                  "INSTNM": "Phillips Graduate University",
                  "TUITIONFEE_IN": "nan",
                  "_deepnote_index_column": 228
                },
                {
                  "INSTNM": "California Institute of Integral Studies",
                  "TUITIONFEE_IN": "nan",
                  "_deepnote_index_column": 229
                },
                {
                  "INSTNM": "Cabrillo College",
                  "TUITIONFEE_IN": "1358.0",
                  "_deepnote_index_column": 230
                },
                {
                  "INSTNM": "California Baptist University",
                  "TUITIONFEE_IN": "28122.0",
                  "_deepnote_index_column": 231
                },
                {
                  "INSTNM": "California College of the Arts",
                  "TUITIONFEE_IN": "40334.0",
                  "_deepnote_index_column": 232
                },
                {
                  "INSTNM": "University of California-Hastings College of Law",
                  "TUITIONFEE_IN": "nan",
                  "_deepnote_index_column": 233
                },
                {
                  "INSTNM": "California Institute of Technology",
                  "TUITIONFEE_IN": "41538.0",
                  "_deepnote_index_column": 234
                },
                {
                  "INSTNM": "California Lutheran University",
                  "TUITIONFEE_IN": "35720.0",
                  "_deepnote_index_column": 235
                },
                {
                  "INSTNM": "California Polytechnic State University-San Luis Obispo",
                  "TUITIONFEE_IN": "8724.0",
                  "_deepnote_index_column": 236
                },
                {
                  "INSTNM": "Alliant International University-San Diego",
                  "TUITIONFEE_IN": "15816.0",
                  "_deepnote_index_column": 237
                },
                {
                  "INSTNM": "California State University-Bakersfield",
                  "TUITIONFEE_IN": "6775.0",
                  "_deepnote_index_column": 238
                },
                {
                  "INSTNM": "California State University-Stanislaus",
                  "TUITIONFEE_IN": "6491.0",
                  "_deepnote_index_column": 239
                },
                {
                  "INSTNM": "California State University-San Bernardino",
                  "TUITIONFEE_IN": "6550.0",
                  "_deepnote_index_column": 240
                },
                {
                  "INSTNM": "California State Polytechnic University-Pomona",
                  "TUITIONFEE_IN": "6350.0",
                  "_deepnote_index_column": 241
                },
                {
                  "INSTNM": "California State University-Chico",
                  "TUITIONFEE_IN": "6972.0",
                  "_deepnote_index_column": 242
                },
                {
                  "INSTNM": "California State University-Dominguez Hills",
                  "TUITIONFEE_IN": "6100.0",
                  "_deepnote_index_column": 243
                },
                {
                  "INSTNM": "California State University-Fresno",
                  "TUITIONFEE_IN": "6287.0",
                  "_deepnote_index_column": 244
                },
                {
                  "INSTNM": "California State University-Fullerton",
                  "TUITIONFEE_IN": "6186.0",
                  "_deepnote_index_column": 245
                },
                {
                  "INSTNM": "California State University-East Bay",
                  "TUITIONFEE_IN": "6550.0",
                  "_deepnote_index_column": 246
                },
                {
                  "INSTNM": "California State University-Long Beach",
                  "TUITIONFEE_IN": "6240.0",
                  "_deepnote_index_column": 247
                },
                {
                  "INSTNM": "California State University-Los Angeles",
                  "TUITIONFEE_IN": "6344.0",
                  "_deepnote_index_column": 248
                },
                {
                  "INSTNM": "California State University-Northridge",
                  "TUITIONFEE_IN": "6525.0",
                  "_deepnote_index_column": 249
                }
              ],
              "rows_bottom": [
                {
                  "INSTNM": "M State - Detroit Lakes Campus",
                  "TUITIONFEE_IN": "5303.0",
                  "_deepnote_index_column": 7619
                },
                {
                  "INSTNM": "M State - Moorhead Campus",
                  "TUITIONFEE_IN": "5444.0",
                  "_deepnote_index_column": 7620
                },
                {
                  "INSTNM": "M State - Wadena Campus",
                  "TUITIONFEE_IN": "5273.0",
                  "_deepnote_index_column": 7621
                },
                {
                  "INSTNM": "South Central College-Faribault",
                  "TUITIONFEE_IN": "5370.0",
                  "_deepnote_index_column": 7622
                },
                {
                  "INSTNM": "Mesabi Range College",
                  "TUITIONFEE_IN": "5293.0",
                  "_deepnote_index_column": 7623
                },
                {
                  "INSTNM": "Northland Community and Technical College - East Grand Forks",
                  "TUITIONFEE_IN": "5517.0",
                  "_deepnote_index_column": 7624
                },
                {
                  "INSTNM": "Rasmussen College-Bloomington",
                  "TUITIONFEE_IN": "10764.0",
                  "_deepnote_index_column": 7625
                },
                {
                  "INSTNM": "Rasmussen College-Eagan",
                  "TUITIONFEE_IN": "10764.0",
                  "_deepnote_index_column": 7626
                },
                {
                  "INSTNM": "Rasmussen College-Mankato",
                  "TUITIONFEE_IN": "10764.0",
                  "_deepnote_index_column": 7627
                },
                {
                  "INSTNM": "Rasmussen College-Brooklyn Park",
                  "TUITIONFEE_IN": "10764.0",
                  "_deepnote_index_column": 7628
                },
                {
                  "INSTNM": "Rasmussen College-Lake Elmo/Woodbury",
                  "TUITIONFEE_IN": "10764.0",
                  "_deepnote_index_column": 7629
                },
                {
                  "INSTNM": "Rasmussen College-Blaine",
                  "TUITIONFEE_IN": "10764.0",
                  "_deepnote_index_column": 7630
                },
                {
                  "INSTNM": "Ridgewater College",
                  "TUITIONFEE_IN": "5390.0",
                  "_deepnote_index_column": 7631
                },
                {
                  "INSTNM": "Minnesota State CollegeSoutheast-Red Wing Campus",
                  "TUITIONFEE_IN": "6064.0",
                  "_deepnote_index_column": 7632
                },
                {
                  "INSTNM": "Copiah-Lincoln Community College Simpson County Center",
                  "TUITIONFEE_IN": "2350.0",
                  "_deepnote_index_column": 7633
                },
                {
                  "INSTNM": "Copiah-Lincoln Community College-Natchez Campus",
                  "TUITIONFEE_IN": "2350.0",
                  "_deepnote_index_column": 7634
                },
                {
                  "INSTNM": "Pearl River Community College-Forrest County Center",
                  "TUITIONFEE_IN": "2550.0",
                  "_deepnote_index_column": 7635
                },
                {
                  "INSTNM": "Lindenwood University-Belleville",
                  "TUITIONFEE_IN": "15150.0",
                  "_deepnote_index_column": 7636
                },
                {
                  "INSTNM": "City College Montana State University Billings",
                  "TUITIONFEE_IN": "3782.0",
                  "_deepnote_index_column": 7637
                },
                {
                  "INSTNM": "The University of Montana - Missoula College",
                  "TUITIONFEE_IN": "3460.0",
                  "_deepnote_index_column": 7638
                },
                {
                  "INSTNM": "Marinello School of Beauty-Henderson",
                  "TUITIONFEE_IN": "nan",
                  "_deepnote_index_column": 7639
                },
                {
                  "INSTNM": "Marinello School of Beauty",
                  "TUITIONFEE_IN": "nan",
                  "_deepnote_index_column": 7640
                },
                {
                  "INSTNM": "New Hampshire Institute for Therapeutic Arts",
                  "TUITIONFEE_IN": "nan",
                  "_deepnote_index_column": 7641
                },
                {
                  "INSTNM": "American Institute",
                  "TUITIONFEE_IN": "nan",
                  "_deepnote_index_column": 7642
                },
                {
                  "INSTNM": "Berkeley College - Westchester Campus",
                  "TUITIONFEE_IN": "23100.0",
                  "_deepnote_index_column": 7643
                },
                {
                  "INSTNM": "Briarcliffe College-Bohemia",
                  "TUITIONFEE_IN": "18639.0",
                  "_deepnote_index_column": 7644
                },
                {
                  "INSTNM": "Culinary Institute of America at Greystone",
                  "TUITIONFEE_IN": "27600.0",
                  "_deepnote_index_column": 7645
                },
                {
                  "INSTNM": "Culinary Institute of America San Antonio",
                  "TUITIONFEE_IN": "27070.0",
                  "_deepnote_index_column": 7646
                },
                {
                  "INSTNM": "Pratt Manhattan-A Division of Pratt Institute",
                  "TUITIONFEE_IN": "43126.0",
                  "_deepnote_index_column": 7647
                },
                {
                  "INSTNM": "St. Joseph's College Long Island",
                  "TUITIONFEE_IN": "21878.0",
                  "_deepnote_index_column": 7648
                },
                {
                  "INSTNM": "Gaston College",
                  "TUITIONFEE_IN": "2560.0",
                  "_deepnote_index_column": 7649
                },
                {
                  "INSTNM": "Rasmussen College-Bismarck",
                  "TUITIONFEE_IN": "10764.0",
                  "_deepnote_index_column": 7650
                },
                {
                  "INSTNM": "Los Angeles Center",
                  "TUITIONFEE_IN": "11904.0",
                  "_deepnote_index_column": 7651
                },
                {
                  "INSTNM": "Florida Center",
                  "TUITIONFEE_IN": "11904.0",
                  "_deepnote_index_column": 7652
                },
                {
                  "INSTNM": "Sacramento Center",
                  "TUITIONFEE_IN": "11904.0",
                  "_deepnote_index_column": 7653
                },
                {
                  "INSTNM": "Montpelier Center - Closed July 2013",
                  "TUITIONFEE_IN": "0.0",
                  "_deepnote_index_column": 7654
                },
                {
                  "INSTNM": "Brattleboro Center - Closed July 2013",
                  "TUITIONFEE_IN": "0.0",
                  "_deepnote_index_column": 7655
                },
                {
                  "INSTNM": "New England Center",
                  "TUITIONFEE_IN": "11904.0",
                  "_deepnote_index_column": 7656
                },
                {
                  "INSTNM": "Corban University Bellevue Washington Campus",
                  "TUITIONFEE_IN": "nan",
                  "_deepnote_index_column": 7657
                },
                {
                  "INSTNM": "Western Seminary-San Jose",
                  "TUITIONFEE_IN": "nan",
                  "_deepnote_index_column": 7658
                },
                {
                  "INSTNM": "Western Seminary-Sacramento",
                  "TUITIONFEE_IN": "nan",
                  "_deepnote_index_column": 7659
                },
                {
                  "INSTNM": "The Beauty Institute",
                  "TUITIONFEE_IN": "nan",
                  "_deepnote_index_column": 7660
                },
                {
                  "INSTNM": "Bucks County Community College-Upper Bucks Campus",
                  "TUITIONFEE_IN": "3866.0",
                  "_deepnote_index_column": 7661
                },
                {
                  "INSTNM": "Bucks County Community College-Lower Bucks Campus",
                  "TUITIONFEE_IN": "3866.0",
                  "_deepnote_index_column": 7662
                },
                {
                  "INSTNM": "Harrisburg Area Community College-Lancaster",
                  "TUITIONFEE_IN": "5295.0",
                  "_deepnote_index_column": 7663
                },
                {
                  "INSTNM": "Harrisburg Area Community College-Gettysburg",
                  "TUITIONFEE_IN": "5295.0",
                  "_deepnote_index_column": 7664
                },
                {
                  "INSTNM": "Harrisburg Area Community College-Lebanon",
                  "TUITIONFEE_IN": "5295.0",
                  "_deepnote_index_column": 7665
                },
                {
                  "INSTNM": "Harrisburg Area Community College-York",
                  "TUITIONFEE_IN": "5295.0",
                  "_deepnote_index_column": 7666
                },
                {
                  "INSTNM": "New Castle School of Trades",
                  "TUITIONFEE_IN": "nan",
                  "_deepnote_index_column": 7667
                },
                {
                  "INSTNM": "Northampton County Area Community College-Monroe",
                  "TUITIONFEE_IN": "3690.0",
                  "_deepnote_index_column": 7668
                },
                {
                  "INSTNM": "Villanova University - Summer Music Studies Program",
                  "TUITIONFEE_IN": "nan",
                  "_deepnote_index_column": 7669
                },
                {
                  "INSTNM": "Laurel Technical Institute Meadville",
                  "TUITIONFEE_IN": "9444.0",
                  "_deepnote_index_column": 7670
                },
                {
                  "INSTNM": "South Hills School of Business and Technology-Altoona",
                  "TUITIONFEE_IN": "15735.0",
                  "_deepnote_index_column": 7671
                },
                {
                  "INSTNM": "Spark",
                  "TUITIONFEE_IN": "nan",
                  "_deepnote_index_column": 7672
                },
                {
                  "INSTNM": "Galveston College - Charlie Thomas Family Applied Technology Center",
                  "TUITIONFEE_IN": "1900.0",
                  "_deepnote_index_column": 7673
                },
                {
                  "INSTNM": "San Jacinto College-North Campus",
                  "TUITIONFEE_IN": "1312.0",
                  "_deepnote_index_column": 7674
                },
                {
                  "INSTNM": "San Jacinto College-South Campus",
                  "TUITIONFEE_IN": "1312.0",
                  "_deepnote_index_column": 7675
                },
                {
                  "INSTNM": "Southwest School of Business and Technical Careers-South Texas",
                  "TUITIONFEE_IN": "nan",
                  "_deepnote_index_column": 7676
                },
                {
                  "INSTNM": "Southwest School of Business and Technical Careers-Corpus Christi",
                  "TUITIONFEE_IN": "nan",
                  "_deepnote_index_column": 7677
                },
                {
                  "INSTNM": "Texas A&M University-San Antonio",
                  "TUITIONFEE_IN": "6940.0",
                  "_deepnote_index_column": 7678
                },
                {
                  "INSTNM": "Snow College-Richfield Campus",
                  "TUITIONFEE_IN": "3220.0",
                  "_deepnote_index_column": 7679
                },
                {
                  "INSTNM": "Strayer University-Alexandria Campus",
                  "TUITIONFEE_IN": "15495.0",
                  "_deepnote_index_column": 7680
                },
                {
                  "INSTNM": "Strayer University-Woodbridge Campus",
                  "TUITIONFEE_IN": "15495.0",
                  "_deepnote_index_column": 7681
                },
                {
                  "INSTNM": "Strayer University-Manassas Campus",
                  "TUITIONFEE_IN": "15495.0",
                  "_deepnote_index_column": 7682
                },
                {
                  "INSTNM": "Strayer University-Loudoun Campus",
                  "TUITIONFEE_IN": "15495.0",
                  "_deepnote_index_column": 7683
                },
                {
                  "INSTNM": "Strayer University-Fredericksburg Campus",
                  "TUITIONFEE_IN": "15495.0",
                  "_deepnote_index_column": 7684
                },
                {
                  "INSTNM": "Strayer University-Henrico Campus",
                  "TUITIONFEE_IN": "15495.0",
                  "_deepnote_index_column": 7685
                },
                {
                  "INSTNM": "Strayer University-Chesterfield Campus",
                  "TUITIONFEE_IN": "15495.0",
                  "_deepnote_index_column": 7686
                },
                {
                  "INSTNM": "Strayer University-Chesapeake Campus",
                  "TUITIONFEE_IN": "15495.0",
                  "_deepnote_index_column": 7687
                },
                {
                  "INSTNM": "Strayer University-Newport News Campus",
                  "TUITIONFEE_IN": "15495.0",
                  "_deepnote_index_column": 7688
                },
                {
                  "INSTNM": "Strayer University-Virginia Beach Campus",
                  "TUITIONFEE_IN": "15495.0",
                  "_deepnote_index_column": 7689
                },
                {
                  "INSTNM": "Union Presbyterian Seminary-Charlotte",
                  "TUITIONFEE_IN": "nan",
                  "_deepnote_index_column": 7690
                },
                {
                  "INSTNM": "Washington State University-Vancouver",
                  "TUITIONFEE_IN": "11386.0",
                  "_deepnote_index_column": 7691
                },
                {
                  "INSTNM": "Washington State University-Spokane",
                  "TUITIONFEE_IN": "11566.0",
                  "_deepnote_index_column": 7692
                },
                {
                  "INSTNM": "Washington State University-Tri Cities",
                  "TUITIONFEE_IN": "11386.0",
                  "_deepnote_index_column": 7693
                },
                {
                  "INSTNM": "West Virginia Business College-Nutter Fort",
                  "TUITIONFEE_IN": "9700.0",
                  "_deepnote_index_column": 7694
                },
                {
                  "INSTNM": "University of the Virgin Islands-Albert A. Sheen",
                  "TUITIONFEE_IN": "4794.0",
                  "_deepnote_index_column": 7695
                },
                {
                  "INSTNM": "ECPI University-Newport News",
                  "TUITIONFEE_IN": "14245.0",
                  "_deepnote_index_column": 7696
                },
                {
                  "INSTNM": "ECPI University-Greensboro",
                  "TUITIONFEE_IN": "14245.0",
                  "_deepnote_index_column": 7697
                },
                {
                  "INSTNM": "ECPI University-Charlotte",
                  "TUITIONFEE_IN": "14245.0",
                  "_deepnote_index_column": 7698
                },
                {
                  "INSTNM": "ECPI University-Greenville",
                  "TUITIONFEE_IN": "14245.0",
                  "_deepnote_index_column": 7699
                },
                {
                  "INSTNM": "ECPI University-Manassas",
                  "TUITIONFEE_IN": "14245.0",
                  "_deepnote_index_column": 7700
                },
                {
                  "INSTNM": "ECPI University-Charleston",
                  "TUITIONFEE_IN": "14245.0",
                  "_deepnote_index_column": 7701
                },
                {
                  "INSTNM": "ECPI University-Raleigh",
                  "TUITIONFEE_IN": "14245.0",
                  "_deepnote_index_column": 7702
                },
                {
                  "INSTNM": "ECPI University-Columbia",
                  "TUITIONFEE_IN": "14245.0",
                  "_deepnote_index_column": 7703
                },
                {
                  "INSTNM": "ECPI University-Concord",
                  "TUITIONFEE_IN": "14245.0",
                  "_deepnote_index_column": 7704
                },
                {
                  "INSTNM": "ECPI University-Culinary Institute of Virginia",
                  "TUITIONFEE_IN": "14955.0",
                  "_deepnote_index_column": 7705
                },
                {
                  "INSTNM": "ECPI University-Virginia Beach Health Sciences",
                  "TUITIONFEE_IN": "15035.0",
                  "_deepnote_index_column": 7706
                },
                {
                  "INSTNM": "ECPI University-Richmond South",
                  "TUITIONFEE_IN": "14245.0",
                  "_deepnote_index_column": 7707
                },
                {
                  "INSTNM": "ECPI University-Innsbrook",
                  "TUITIONFEE_IN": "14245.0",
                  "_deepnote_index_column": 7708
                },
                {
                  "INSTNM": "ECPI University-Richmond West",
                  "TUITIONFEE_IN": "15035.0",
                  "_deepnote_index_column": 7709
                },
                {
                  "INSTNM": "Vista College Amarillo",
                  "TUITIONFEE_IN": "14725.0",
                  "_deepnote_index_column": 7710
                },
                {
                  "INSTNM": "Vista College Lubbock",
                  "TUITIONFEE_IN": "14725.0",
                  "_deepnote_index_column": 7711
                },
                {
                  "INSTNM": "Computer Career Center-Las Cruces",
                  "TUITIONFEE_IN": "14725.0",
                  "_deepnote_index_column": 7712
                },
                {
                  "INSTNM": "Vista College-Beaumont",
                  "TUITIONFEE_IN": "14725.0",
                  "_deepnote_index_column": 7713
                },
                {
                  "INSTNM": "Vista College-Longview",
                  "TUITIONFEE_IN": "14725.0",
                  "_deepnote_index_column": 7714
                },
                {
                  "INSTNM": "Vista College-Killeen",
                  "TUITIONFEE_IN": "14725.0",
                  "_deepnote_index_column": 7715
                },
                {
                  "INSTNM": "Fremont College",
                  "TUITIONFEE_IN": "nan",
                  "_deepnote_index_column": 7716
                },
                {
                  "INSTNM": "Rob Roy Academy - Woonsocket",
                  "TUITIONFEE_IN": "nan",
                  "_deepnote_index_column": 7717
                },
                {
                  "INSTNM": "CC's Cosmetology College",
                  "TUITIONFEE_IN": "nan",
                  "_deepnote_index_column": 7718
                },
                {
                  "INSTNM": "CC's Cosmetology College",
                  "TUITIONFEE_IN": "nan",
                  "_deepnote_index_column": 7719
                },
                {
                  "INSTNM": "CC's Cosmetology College-Texarkana",
                  "TUITIONFEE_IN": "nan",
                  "_deepnote_index_column": 7720
                },
                {
                  "INSTNM": "CC's Cosmetology College-Texarkana",
                  "TUITIONFEE_IN": "nan",
                  "_deepnote_index_column": 7721
                },
                {
                  "INSTNM": "YTI Career Institute - Altoona",
                  "TUITIONFEE_IN": "nan",
                  "_deepnote_index_column": 7722
                },
                {
                  "INSTNM": "Nuvani Institute-Uvalde",
                  "TUITIONFEE_IN": "nan",
                  "_deepnote_index_column": 7723
                },
                {
                  "INSTNM": "Nuvani Institute-San Antonio",
                  "TUITIONFEE_IN": "nan",
                  "_deepnote_index_column": 7724
                },
                {
                  "INSTNM": "Nuvani Institute-Del Rio",
                  "TUITIONFEE_IN": "nan",
                  "_deepnote_index_column": 7725
                },
                {
                  "INSTNM": "Nuvani Institute-North Campus",
                  "TUITIONFEE_IN": "nan",
                  "_deepnote_index_column": 7726
                },
                {
                  "INSTNM": "Nuvani Institute-South Campus",
                  "TUITIONFEE_IN": "nan",
                  "_deepnote_index_column": 7727
                },
                {
                  "INSTNM": "Westech College",
                  "TUITIONFEE_IN": "nan",
                  "_deepnote_index_column": 7728
                },
                {
                  "INSTNM": "Westech College",
                  "TUITIONFEE_IN": "nan",
                  "_deepnote_index_column": 7729
                },
                {
                  "INSTNM": "Everglades University-Orlando",
                  "TUITIONFEE_IN": "14600.0",
                  "_deepnote_index_column": 7730
                },
                {
                  "INSTNM": "Everglades University-Sarasota",
                  "TUITIONFEE_IN": "14600.0",
                  "_deepnote_index_column": 7731
                },
                {
                  "INSTNM": "UEI College",
                  "TUITIONFEE_IN": "nan",
                  "_deepnote_index_column": 7732
                },
                {
                  "INSTNM": "UEI College-Bakersfield",
                  "TUITIONFEE_IN": "nan",
                  "_deepnote_index_column": 7733
                },
                {
                  "INSTNM": "Wright Career College - Oklahoma City OK",
                  "TUITIONFEE_IN": "12700.0",
                  "_deepnote_index_column": 7734
                },
                {
                  "INSTNM": "Wright Career College - Tulsa OK",
                  "TUITIONFEE_IN": "12700.0",
                  "_deepnote_index_column": 7735
                },
                {
                  "INSTNM": "Florida National University-South Campus",
                  "TUITIONFEE_IN": "13250.0",
                  "_deepnote_index_column": 7736
                },
                {
                  "INSTNM": "Florida National University Training Center",
                  "TUITIONFEE_IN": "13250.0",
                  "_deepnote_index_column": 7737
                },
                {
                  "INSTNM": "Marinello School of Beauty-Concord",
                  "TUITIONFEE_IN": "nan",
                  "_deepnote_index_column": 7738
                },
                {
                  "INSTNM": "Marinello School of Beauty-Stockton",
                  "TUITIONFEE_IN": "nan",
                  "_deepnote_index_column": 7739
                },
                {
                  "INSTNM": "Connecticut Aero Tech  School",
                  "TUITIONFEE_IN": "nan",
                  "_deepnote_index_column": 7740
                },
                {
                  "INSTNM": "Compu-Med Vocational Careers Corp",
                  "TUITIONFEE_IN": "nan",
                  "_deepnote_index_column": 7741
                },
                {
                  "INSTNM": "Southeastern College-Miami Lakes",
                  "TUITIONFEE_IN": "16204.0",
                  "_deepnote_index_column": 7742
                },
                {
                  "INSTNM": "Southeastern College-St. Petersburg",
                  "TUITIONFEE_IN": "16204.0",
                  "_deepnote_index_column": 7743
                },
                {
                  "INSTNM": "Southeastern College-New Port Richey",
                  "TUITIONFEE_IN": "16204.0",
                  "_deepnote_index_column": 7744
                },
                {
                  "INSTNM": "Southeastern College - Tampa",
                  "TUITIONFEE_IN": "16204.0",
                  "_deepnote_index_column": 7745
                },
                {
                  "INSTNM": "Colorado Technical University",
                  "TUITIONFEE_IN": "11290.0",
                  "_deepnote_index_column": 7746
                },
                {
                  "INSTNM": "Strayer University-Rockville Campus",
                  "TUITIONFEE_IN": "15495.0",
                  "_deepnote_index_column": 7747
                },
                {
                  "INSTNM": "Strayer University-Anne Arundel Campus",
                  "TUITIONFEE_IN": "15495.0",
                  "_deepnote_index_column": 7748
                },
                {
                  "INSTNM": "Strayer University-White Marsh Campus",
                  "TUITIONFEE_IN": "15495.0",
                  "_deepnote_index_column": 7749
                },
                {
                  "INSTNM": "Strayer University-Owings Mills Campus",
                  "TUITIONFEE_IN": "15495.0",
                  "_deepnote_index_column": 7750
                },
                {
                  "INSTNM": "Blue Cliff College",
                  "TUITIONFEE_IN": "18199.0",
                  "_deepnote_index_column": 7751
                },
                {
                  "INSTNM": "Franklin Career Institute",
                  "TUITIONFEE_IN": "nan",
                  "_deepnote_index_column": 7752
                },
                {
                  "INSTNM": "IYRS School of Technology & Trades",
                  "TUITIONFEE_IN": "nan",
                  "_deepnote_index_column": 7753
                },
                {
                  "INSTNM": "McCann School of Business & Technology",
                  "TUITIONFEE_IN": "9820.0",
                  "_deepnote_index_column": 7754
                },
                {
                  "INSTNM": "McCann School of Business & Technology",
                  "TUITIONFEE_IN": "9820.0",
                  "_deepnote_index_column": 7755
                },
                {
                  "INSTNM": "McCann School of Business & Technology",
                  "TUITIONFEE_IN": "9820.0",
                  "_deepnote_index_column": 7756
                },
                {
                  "INSTNM": "McCann School of Business & Technology",
                  "TUITIONFEE_IN": "9820.0",
                  "_deepnote_index_column": 7757
                },
                {
                  "INSTNM": "McCann School of Business & Technology",
                  "TUITIONFEE_IN": "9820.0",
                  "_deepnote_index_column": 7758
                },
                {
                  "INSTNM": "McCann School of Business & Technology",
                  "TUITIONFEE_IN": "9820.0",
                  "_deepnote_index_column": 7759
                },
                {
                  "INSTNM": "Central Florida Institute",
                  "TUITIONFEE_IN": "nan",
                  "_deepnote_index_column": 7760
                },
                {
                  "INSTNM": "Marinello School of Beauty-Wichita",
                  "TUITIONFEE_IN": "nan",
                  "_deepnote_index_column": 7761
                },
                {
                  "INSTNM": "Marinello School of Beauty-Overland Park",
                  "TUITIONFEE_IN": "nan",
                  "_deepnote_index_column": 7762
                },
                {
                  "INSTNM": "Texas Barber College - Branch Campus #1",
                  "TUITIONFEE_IN": "nan",
                  "_deepnote_index_column": 7763
                },
                {
                  "INSTNM": "Texas Barber College - Branch Campus #2",
                  "TUITIONFEE_IN": "nan",
                  "_deepnote_index_column": 7764
                },
                {
                  "INSTNM": "Texas Barber Colleges and Hairstyling Schools Branch Campus #6",
                  "TUITIONFEE_IN": "nan",
                  "_deepnote_index_column": 7765
                },
                {
                  "INSTNM": "Texas Barber College - Branch Campus #5",
                  "TUITIONFEE_IN": "nan",
                  "_deepnote_index_column": 7766
                },
                {
                  "INSTNM": "Texas Barber Colleges and Hairstyling Schools Branch Campus #7",
                  "TUITIONFEE_IN": "nan",
                  "_deepnote_index_column": 7767
                },
                {
                  "INSTNM": "Design's School of Cosmetology",
                  "TUITIONFEE_IN": "nan",
                  "_deepnote_index_column": 7768
                },
                {
                  "INSTNM": "Southeastern Institute-Nashville",
                  "TUITIONFEE_IN": "nan",
                  "_deepnote_index_column": 7769
                },
                {
                  "INSTNM": "Strayer University-Nashville Campus",
                  "TUITIONFEE_IN": "15495.0",
                  "_deepnote_index_column": 7770
                },
                {
                  "INSTNM": "Strayer University-Shelby Oaks Campus",
                  "TUITIONFEE_IN": "15495.0",
                  "_deepnote_index_column": 7771
                },
                {
                  "INSTNM": "Strayer University-Knoxville Campus",
                  "TUITIONFEE_IN": "15495.0",
                  "_deepnote_index_column": 7772
                },
                {
                  "INSTNM": "Strayer University-Delaware County Campus",
                  "TUITIONFEE_IN": "15495.0",
                  "_deepnote_index_column": 7773
                },
                {
                  "INSTNM": "Strayer University-King of Prussia Campus",
                  "TUITIONFEE_IN": "15495.0",
                  "_deepnote_index_column": 7774
                },
                {
                  "INSTNM": "Strayer University-Center City Campus",
                  "TUITIONFEE_IN": "15495.0",
                  "_deepnote_index_column": 7775
                },
                {
                  "INSTNM": "Strayer University-Lower Bucks County Campus",
                  "TUITIONFEE_IN": "15495.0",
                  "_deepnote_index_column": 7776
                },
                {
                  "INSTNM": "Strayer University-Warrendale Campus",
                  "TUITIONFEE_IN": "15495.0",
                  "_deepnote_index_column": 7777
                },
                {
                  "INSTNM": "Strayer University-Allentown Campus",
                  "TUITIONFEE_IN": "15496.0",
                  "_deepnote_index_column": 7778
                },
                {
                  "INSTNM": "New Directions Beauty Institute",
                  "TUITIONFEE_IN": "nan",
                  "_deepnote_index_column": 7779
                },
                {
                  "INSTNM": "Marinello School of Beauty-Torrington",
                  "TUITIONFEE_IN": "nan",
                  "_deepnote_index_column": 7780
                },
                {
                  "INSTNM": "Marinello School of Beauty-Enfield",
                  "TUITIONFEE_IN": "nan",
                  "_deepnote_index_column": 7781
                },
                {
                  "INSTNM": "Marinello School of Beauty-Northampton",
                  "TUITIONFEE_IN": "nan",
                  "_deepnote_index_column": 7782
                },
                {
                  "INSTNM": "Blake Austin College Beauty Academy",
                  "TUITIONFEE_IN": "nan",
                  "_deepnote_index_column": 7783
                },
                {
                  "INSTNM": "Rasmussen College-Aurora",
                  "TUITIONFEE_IN": "10764.0",
                  "_deepnote_index_column": 7784
                },
                {
                  "INSTNM": "Rasmussen College-Romeoville/Joliet",
                  "TUITIONFEE_IN": "10764.0",
                  "_deepnote_index_column": 7785
                },
                {
                  "INSTNM": "Rasmussen College-Mokena/Tinley Park",
                  "TUITIONFEE_IN": "10764.0",
                  "_deepnote_index_column": 7786
                },
                {
                  "INSTNM": "Strayer University-Tampa East Campus",
                  "TUITIONFEE_IN": "15495.0",
                  "_deepnote_index_column": 7787
                },
                {
                  "INSTNM": "Strayer University-Maitland Campus",
                  "TUITIONFEE_IN": "15495.0",
                  "_deepnote_index_column": 7788
                },
                {
                  "INSTNM": "Strayer University-Orlando East Campus",
                  "TUITIONFEE_IN": "15495.0",
                  "_deepnote_index_column": 7789
                },
                {
                  "INSTNM": "Strayer University-Sand Lake Campus",
                  "TUITIONFEE_IN": "15495.0",
                  "_deepnote_index_column": 7790
                },
                {
                  "INSTNM": "Strayer University-Baymeadows Campus",
                  "TUITIONFEE_IN": "15495.0",
                  "_deepnote_index_column": 7791
                },
                {
                  "INSTNM": "Strayer University-Palm Beach Gardens Campus",
                  "TUITIONFEE_IN": "15495.0",
                  "_deepnote_index_column": 7792
                },
                {
                  "INSTNM": "Strayer University-Coral Springs Campus",
                  "TUITIONFEE_IN": "15495.0",
                  "_deepnote_index_column": 7793
                },
                {
                  "INSTNM": "Strayer University-Fort Lauderdale Campus",
                  "TUITIONFEE_IN": "15495.0",
                  "_deepnote_index_column": 7794
                },
                {
                  "INSTNM": "Strayer University-Miramar Campus",
                  "TUITIONFEE_IN": "15495.0",
                  "_deepnote_index_column": 7795
                },
                {
                  "INSTNM": "Strayer University-Doral",
                  "TUITIONFEE_IN": "15495.0",
                  "_deepnote_index_column": 7796
                },
                {
                  "INSTNM": "Strayer University-Brickell",
                  "TUITIONFEE_IN": "15495.0",
                  "_deepnote_index_column": 7797
                },
                {
                  "INSTNM": "Make-up Designory",
                  "TUITIONFEE_IN": "nan",
                  "_deepnote_index_column": 7798
                },
                {
                  "INSTNM": "Dayton School of Medical Massage-Lima",
                  "TUITIONFEE_IN": "15400.0",
                  "_deepnote_index_column": 7799
                },
                {
                  "INSTNM": "Cincinnati School of Medical Massage",
                  "TUITIONFEE_IN": "15400.0",
                  "_deepnote_index_column": 7800
                },
                {
                  "INSTNM": "Cleveland Institute of Medical Massage",
                  "TUITIONFEE_IN": "15400.0",
                  "_deepnote_index_column": 7801
                },
                {
                  "INSTNM": "CCI Training Center-Dallas",
                  "TUITIONFEE_IN": "nan",
                  "_deepnote_index_column": 7802
                },
                {
                  "INSTNM": "Strayer University-Huntsville Campus",
                  "TUITIONFEE_IN": "15495.0",
                  "_deepnote_index_column": 7803
                },
                {
                  "INSTNM": "Rasmussen College-Appleton",
                  "TUITIONFEE_IN": "10764.0",
                  "_deepnote_index_column": 7804
                },
                {
                  "INSTNM": "Rasmussen College-Wausau",
                  "TUITIONFEE_IN": "10764.0",
                  "_deepnote_index_column": 7805
                },
                {
                  "INSTNM": "Strayer University-Louisville Campus",
                  "TUITIONFEE_IN": "15495.0",
                  "_deepnote_index_column": 7806
                },
                {
                  "INSTNM": "Strayer University-Florence Campus",
                  "TUITIONFEE_IN": "15495.0",
                  "_deepnote_index_column": 7807
                },
                {
                  "INSTNM": "Strayer University-North Charlotte",
                  "TUITIONFEE_IN": "15495.0",
                  "_deepnote_index_column": 7808
                },
                {
                  "INSTNM": "Strayer University-South Charlotte",
                  "TUITIONFEE_IN": "15495.0",
                  "_deepnote_index_column": 7809
                },
                {
                  "INSTNM": "Strayer University-North Raleigh Campus",
                  "TUITIONFEE_IN": "15495.0",
                  "_deepnote_index_column": 7810
                },
                {
                  "INSTNM": "Strayer University-Greensboro Campus",
                  "TUITIONFEE_IN": "15495.0",
                  "_deepnote_index_column": 7811
                },
                {
                  "INSTNM": "Strayer University-Huntersville Campus",
                  "TUITIONFEE_IN": "15495.0",
                  "_deepnote_index_column": 7812
                },
                {
                  "INSTNM": "Strayer University-South Raleigh Campus",
                  "TUITIONFEE_IN": "15495.0",
                  "_deepnote_index_column": 7813
                },
                {
                  "INSTNM": "Strayer University-Willingboro Campus",
                  "TUITIONFEE_IN": "15495.0",
                  "_deepnote_index_column": 7814
                },
                {
                  "INSTNM": "Strayer University-Lawrenceville",
                  "TUITIONFEE_IN": "15495.0",
                  "_deepnote_index_column": 7815
                },
                {
                  "INSTNM": "Strayer University-Piscataway",
                  "TUITIONFEE_IN": "15495.0",
                  "_deepnote_index_column": 7816
                },
                {
                  "INSTNM": "Cambridge College of Healthcare & Technology",
                  "TUITIONFEE_IN": "nan",
                  "_deepnote_index_column": 7817
                },
                {
                  "INSTNM": "Professional Hands Institute",
                  "TUITIONFEE_IN": "nan",
                  "_deepnote_index_column": 7818
                },
                {
                  "INSTNM": "Professional Hands Institute",
                  "TUITIONFEE_IN": "nan",
                  "_deepnote_index_column": 7819
                },
                {
                  "INSTNM": "Utah County Campus",
                  "TUITIONFEE_IN": "nan",
                  "_deepnote_index_column": 7820
                },
                {
                  "INSTNM": "Strayer University-Columbus Campus",
                  "TUITIONFEE_IN": "15495.0",
                  "_deepnote_index_column": 7821
                },
                {
                  "INSTNM": "Strayer University-Fairview Park Campus",
                  "TUITIONFEE_IN": "15495.0",
                  "_deepnote_index_column": 7822
                },
                {
                  "INSTNM": "Strayer University-Akron Campus",
                  "TUITIONFEE_IN": "15495.0",
                  "_deepnote_index_column": 7823
                },
                {
                  "INSTNM": "Strayer University-Fairborn Campus",
                  "TUITIONFEE_IN": "15495.0",
                  "_deepnote_index_column": 7824
                },
                {
                  "INSTNM": "Strayer University-Cincinnati Campus",
                  "TUITIONFEE_IN": "15495.0",
                  "_deepnote_index_column": 7825
                },
                {
                  "INSTNM": "Park West Barber School",
                  "TUITIONFEE_IN": "nan",
                  "_deepnote_index_column": 7826
                },
                {
                  "INSTNM": "Park West Barber School",
                  "TUITIONFEE_IN": "nan",
                  "_deepnote_index_column": 7827
                },
                {
                  "INSTNM": "Strayer University-Cobb Campus",
                  "TUITIONFEE_IN": "15495.0",
                  "_deepnote_index_column": 7828
                },
                {
                  "INSTNM": "Strayer University-Morrow Campus",
                  "TUITIONFEE_IN": "15495.0",
                  "_deepnote_index_column": 7829
                },
                {
                  "INSTNM": "Strayer University-Roswell Campus",
                  "TUITIONFEE_IN": "15495.0",
                  "_deepnote_index_column": 7830
                },
                {
                  "INSTNM": "Strayer University-Douglasville Campus",
                  "TUITIONFEE_IN": "15495.0",
                  "_deepnote_index_column": 7831
                },
                {
                  "INSTNM": "Strayer University-Lithonia Campus",
                  "TUITIONFEE_IN": "15495.0",
                  "_deepnote_index_column": 7832
                },
                {
                  "INSTNM": "Strayer University-Savannah Campus",
                  "TUITIONFEE_IN": "15495.0",
                  "_deepnote_index_column": 7833
                },
                {
                  "INSTNM": "Strayer University-Augusta Campus",
                  "TUITIONFEE_IN": "15495.0",
                  "_deepnote_index_column": 7834
                },
                {
                  "INSTNM": "Strayer University-Columbus",
                  "TUITIONFEE_IN": "15495.0",
                  "_deepnote_index_column": 7835
                },
                {
                  "INSTNM": "Strayer University-Columbia Campus",
                  "TUITIONFEE_IN": "15495.0",
                  "_deepnote_index_column": 7836
                },
                {
                  "INSTNM": "Strayer University-Charleston Campus",
                  "TUITIONFEE_IN": "15495.0",
                  "_deepnote_index_column": 7837
                },
                {
                  "INSTNM": "Strayer University-Irving",
                  "TUITIONFEE_IN": "15495.0",
                  "_deepnote_index_column": 7838
                },
                {
                  "INSTNM": "Strayer University-Katy",
                  "TUITIONFEE_IN": "15495.0",
                  "_deepnote_index_column": 7839
                },
                {
                  "INSTNM": "Strayer University-Northwest Houston",
                  "TUITIONFEE_IN": "15495.0",
                  "_deepnote_index_column": 7840
                },
                {
                  "INSTNM": "Strayer University-Plano",
                  "TUITIONFEE_IN": "15495.0",
                  "_deepnote_index_column": 7841
                },
                {
                  "INSTNM": "Strayer University-Cedar Hill",
                  "TUITIONFEE_IN": "15495.0",
                  "_deepnote_index_column": 7842
                },
                {
                  "INSTNM": "Strayer University-North Dallas",
                  "TUITIONFEE_IN": "15495.0",
                  "_deepnote_index_column": 7843
                },
                {
                  "INSTNM": "Strayer University-San Antonio",
                  "TUITIONFEE_IN": "15495.0",
                  "_deepnote_index_column": 7844
                },
                {
                  "INSTNM": "Strayer University-Stafford",
                  "TUITIONFEE_IN": "15495.0",
                  "_deepnote_index_column": 7845
                },
                {
                  "INSTNM": "Unitek College",
                  "TUITIONFEE_IN": "21671.0",
                  "_deepnote_index_column": 7846
                },
                {
                  "INSTNM": "Twin Rivers Adult School - Grand Avenue Center",
                  "TUITIONFEE_IN": "nan",
                  "_deepnote_index_column": 7847
                },
                {
                  "INSTNM": "Twin Rivers Adult School - Arnold Avenue Center",
                  "TUITIONFEE_IN": "nan",
                  "_deepnote_index_column": 7848
                },
                {
                  "INSTNM": "Greater Sacramento Urban League",
                  "TUITIONFEE_IN": "nan",
                  "_deepnote_index_column": 7849
                },
                {
                  "INSTNM": "I-TAP",
                  "TUITIONFEE_IN": "nan",
                  "_deepnote_index_column": 7850
                },
                {
                  "INSTNM": "WestMed College - Merced",
                  "TUITIONFEE_IN": "nan",
                  "_deepnote_index_column": 7851
                },
                {
                  "INSTNM": "Vantage College",
                  "TUITIONFEE_IN": "nan",
                  "_deepnote_index_column": 7852
                },
                {
                  "INSTNM": "Vantage College",
                  "TUITIONFEE_IN": "nan",
                  "_deepnote_index_column": 7853
                },
                {
                  "INSTNM": "SAE Institute of Technology San Francisco",
                  "TUITIONFEE_IN": "nan",
                  "_deepnote_index_column": 7854
                },
                {
                  "INSTNM": "Strayer University-Bloomington Campus",
                  "TUITIONFEE_IN": "15495.0",
                  "_deepnote_index_column": 7855
                },
                {
                  "INSTNM": "Strayer University-Schaumburg Campus",
                  "TUITIONFEE_IN": "15495.0",
                  "_deepnote_index_column": 7856
                },
                {
                  "INSTNM": "Strayer University-Downers Grove Campus",
                  "TUITIONFEE_IN": "15495.0",
                  "_deepnote_index_column": 7857
                },
                {
                  "INSTNM": "Strayer University-Aurora Campus",
                  "TUITIONFEE_IN": "15495.0",
                  "_deepnote_index_column": 7858
                },
                {
                  "INSTNM": "Rasmussen College - Overland Park",
                  "TUITIONFEE_IN": "10764.0",
                  "_deepnote_index_column": 7859
                },
                {
                  "INSTNM": "National Personal Training Institute of Cleveland",
                  "TUITIONFEE_IN": "nan",
                  "_deepnote_index_column": 7860
                },
                {
                  "INSTNM": "Strayer University-St Louis-Brentwood",
                  "TUITIONFEE_IN": "15495.0",
                  "_deepnote_index_column": 7861
                },
                {
                  "INSTNM": "Georgia Military College-Augusta Campus",
                  "TUITIONFEE_IN": "5340.0",
                  "_deepnote_index_column": 7862
                },
                {
                  "INSTNM": "Georgia Military College-Fairburn Campus",
                  "TUITIONFEE_IN": "5916.0",
                  "_deepnote_index_column": 7863
                },
                {
                  "INSTNM": "Georgia Military College-Columbus Campus",
                  "TUITIONFEE_IN": "6276.0",
                  "_deepnote_index_column": 7864
                },
                {
                  "INSTNM": "Georgia Military College-Valdosta Campus",
                  "TUITIONFEE_IN": "5271.0",
                  "_deepnote_index_column": 7865
                },
                {
                  "INSTNM": "Georgia Military College-Warner Robins Campus",
                  "TUITIONFEE_IN": "5148.0",
                  "_deepnote_index_column": 7866
                },
                {
                  "INSTNM": "Georgia Military College-Online",
                  "TUITIONFEE_IN": "6900.0",
                  "_deepnote_index_column": 7867
                },
                {
                  "INSTNM": "Georgia Military College-Stone Mountain",
                  "TUITIONFEE_IN": "5916.0",
                  "_deepnote_index_column": 7868
                }
              ]
            },
            "text/plain": "                                             INSTNM  TUITIONFEE_IN\n0                          Alabama A & M University         7182.0\n1               University of Alabama at Birmingham         7206.0\n2                                Amridge University         6870.0\n3               University of Alabama in Huntsville         9192.0\n4                          Alabama State University         8720.0\n...                                             ...            ...\n7864       Georgia Military College-Columbus Campus         6276.0\n7865       Georgia Military College-Valdosta Campus         5271.0\n7866  Georgia Military College-Warner Robins Campus         5148.0\n7867                Georgia Military College-Online         6900.0\n7868        Georgia Military College-Stone Mountain         5916.0\n\n[7869 rows x 2 columns]",
            "text/html": "<div>\n<style scoped>\n    .dataframe tbody tr th:only-of-type {\n        vertical-align: middle;\n    }\n\n    .dataframe tbody tr th {\n        vertical-align: top;\n    }\n\n    .dataframe thead th {\n        text-align: right;\n    }\n</style>\n<table border=\"1\" class=\"dataframe\">\n  <thead>\n    <tr style=\"text-align: right;\">\n      <th></th>\n      <th>INSTNM</th>\n      <th>TUITIONFEE_IN</th>\n    </tr>\n  </thead>\n  <tbody>\n    <tr>\n      <th>0</th>\n      <td>Alabama A &amp; M University</td>\n      <td>7182.0</td>\n    </tr>\n    <tr>\n      <th>1</th>\n      <td>University of Alabama at Birmingham</td>\n      <td>7206.0</td>\n    </tr>\n    <tr>\n      <th>2</th>\n      <td>Amridge University</td>\n      <td>6870.0</td>\n    </tr>\n    <tr>\n      <th>3</th>\n      <td>University of Alabama in Huntsville</td>\n      <td>9192.0</td>\n    </tr>\n    <tr>\n      <th>4</th>\n      <td>Alabama State University</td>\n      <td>8720.0</td>\n    </tr>\n    <tr>\n      <th>...</th>\n      <td>...</td>\n      <td>...</td>\n    </tr>\n    <tr>\n      <th>7864</th>\n      <td>Georgia Military College-Columbus Campus</td>\n      <td>6276.0</td>\n    </tr>\n    <tr>\n      <th>7865</th>\n      <td>Georgia Military College-Valdosta Campus</td>\n      <td>5271.0</td>\n    </tr>\n    <tr>\n      <th>7866</th>\n      <td>Georgia Military College-Warner Robins Campus</td>\n      <td>5148.0</td>\n    </tr>\n    <tr>\n      <th>7867</th>\n      <td>Georgia Military College-Online</td>\n      <td>6900.0</td>\n    </tr>\n    <tr>\n      <th>7868</th>\n      <td>Georgia Military College-Stone Mountain</td>\n      <td>5916.0</td>\n    </tr>\n  </tbody>\n</table>\n<p>7869 rows × 2 columns</p>\n</div>"
          },
          "metadata": {}
        }
      ]
    },
    {
      "cell_type": "code",
      "metadata": {
        "tags": [],
        "cell_id": "00006-5078019e-0387-4e12-8884-54c865a8c7c9",
        "deepnote_to_be_reexecuted": false,
        "source_hash": "21bdfa98",
        "execution_millis": 15,
        "execution_start": 1618682809539,
        "deepnote_cell_type": "code"
      },
      "source": "# 5 - Find out how many observations have missing value.\n\nprint(\" \\nCount total NaN at each column in a DataFrame : \\n\\n\", df.isnull().sum()) ",
      "execution_count": 6,
      "outputs": [
        {
          "name": "stdout",
          "text": " \nCount total NaN at each column in a DataFrame : \n\n INSTNM              0\nTUITIONFEE_IN    3342\ndtype: int64\n",
          "output_type": "stream"
        }
      ]
    },
    {
      "cell_type": "code",
      "metadata": {
        "tags": [],
        "cell_id": "00007-3b815908-7d9d-46f2-96e9-5887909f443f",
        "deepnote_to_be_reexecuted": false,
        "source_hash": "8e973e14",
        "execution_millis": 5,
        "execution_start": 1618682809607,
        "deepnote_cell_type": "code"
      },
      "source": "# 6 - Drop those observations with missing value\n# Display the number of observations afterward\n\ndf[\"TUITIONFEE_IN\"] = df[\"TUITIONFEE_IN\"].fillna(0)\nprint(\" \\nCount total NaN at each column in a DataFrame : \\n\\n\", df.isnull().sum()) ",
      "execution_count": 7,
      "outputs": [
        {
          "name": "stdout",
          "text": " \nCount total NaN at each column in a DataFrame : \n\n INSTNM           0\nTUITIONFEE_IN    0\ndtype: int64\n",
          "output_type": "stream"
        }
      ]
    },
    {
      "cell_type": "code",
      "metadata": {
        "tags": [],
        "cell_id": "00008-1e4e9175-d5fa-48fd-b328-caf9fa415471",
        "deepnote_to_be_reexecuted": false,
        "source_hash": "2bda2204",
        "execution_millis": 78,
        "execution_start": 1618682809608,
        "deepnote_cell_type": "code"
      },
      "source": "# 7 - Find out how many observations have 0 tuition.\n\ndf[df[\"TUITIONFEE_IN\"]== 0]",
      "execution_count": 8,
      "outputs": [
        {
          "output_type": "execute_result",
          "execution_count": 8,
          "data": {
            "application/vnd.deepnote.dataframe.v2+json": {
              "row_count": 3344,
              "column_count": 2,
              "columns": [
                {
                  "name": "INSTNM",
                  "dtype": "object",
                  "stats": {
                    "unique_count": 3244,
                    "nan_count": 0,
                    "categories": [
                      {
                        "name": "UEI College",
                        "count": 8
                      },
                      {
                        "name": "Academy of Cosmetology",
                        "count": 4
                      },
                      {
                        "name": "3242 others",
                        "count": 3332
                      }
                    ]
                  }
                },
                {
                  "name": "TUITIONFEE_IN",
                  "dtype": "float64",
                  "stats": {
                    "unique_count": 1,
                    "nan_count": 0,
                    "min": "0.0",
                    "max": "0.0",
                    "histogram": [
                      {
                        "bin_start": -0.5,
                        "bin_end": -0.4,
                        "count": 0
                      },
                      {
                        "bin_start": -0.4,
                        "bin_end": -0.3,
                        "count": 0
                      },
                      {
                        "bin_start": -0.3,
                        "bin_end": -0.19999999999999996,
                        "count": 0
                      },
                      {
                        "bin_start": -0.19999999999999996,
                        "bin_end": -0.09999999999999998,
                        "count": 0
                      },
                      {
                        "bin_start": -0.09999999999999998,
                        "bin_end": 0,
                        "count": 0
                      },
                      {
                        "bin_start": 0,
                        "bin_end": 0.10000000000000009,
                        "count": 3344
                      },
                      {
                        "bin_start": 0.10000000000000009,
                        "bin_end": 0.20000000000000007,
                        "count": 0
                      },
                      {
                        "bin_start": 0.20000000000000007,
                        "bin_end": 0.30000000000000004,
                        "count": 0
                      },
                      {
                        "bin_start": 0.30000000000000004,
                        "bin_end": 0.4,
                        "count": 0
                      },
                      {
                        "bin_start": 0.4,
                        "bin_end": 0.5,
                        "count": 0
                      }
                    ]
                  }
                },
                {
                  "name": "_deepnote_index_column",
                  "dtype": "int64"
                }
              ],
              "rows_top": [
                {
                  "INSTNM": "Athens State University",
                  "TUITIONFEE_IN": 0,
                  "_deepnote_index_column": 7
                },
                {
                  "INSTNM": "New Beginning College of Cosmetology",
                  "TUITIONFEE_IN": 0,
                  "_deepnote_index_column": 18
                },
                {
                  "INSTNM": "United States Sports Academy",
                  "TUITIONFEE_IN": 0,
                  "_deepnote_index_column": 59
                },
                {
                  "INSTNM": "Alaska Vocational Technical Center",
                  "TUITIONFEE_IN": 0,
                  "_deepnote_index_column": 66
                },
                {
                  "INSTNM": "Alaska Career College",
                  "TUITIONFEE_IN": 0,
                  "_deepnote_index_column": 69
                },
                {
                  "INSTNM": "Collins College",
                  "TUITIONFEE_IN": 0,
                  "_deepnote_index_column": 71
                },
                {
                  "INSTNM": "Empire Beauty School-Paradise Valley",
                  "TUITIONFEE_IN": 0,
                  "_deepnote_index_column": 72
                },
                {
                  "INSTNM": "Empire Beauty School-Tucson",
                  "TUITIONFEE_IN": 0,
                  "_deepnote_index_column": 73
                },
                {
                  "INSTNM": "Thunderbird School of Global Management",
                  "TUITIONFEE_IN": 0,
                  "_deepnote_index_column": 74
                },
                {
                  "INSTNM": "American Institute of Trucking",
                  "TUITIONFEE_IN": 0,
                  "_deepnote_index_column": 76
                },
                {
                  "INSTNM": "Carrington College-Phoenix North",
                  "TUITIONFEE_IN": 0,
                  "_deepnote_index_column": 77
                },
                {
                  "INSTNM": "Carrington College-Mesa",
                  "TUITIONFEE_IN": 0,
                  "_deepnote_index_column": 78
                },
                {
                  "INSTNM": "Carrington College-Tucson",
                  "TUITIONFEE_IN": 0,
                  "_deepnote_index_column": 79
                },
                {
                  "INSTNM": "Arizona Academy of Beauty-East",
                  "TUITIONFEE_IN": 0,
                  "_deepnote_index_column": 81
                },
                {
                  "INSTNM": "Platt College-Arizona Automotive Institute Arizona",
                  "TUITIONFEE_IN": 0,
                  "_deepnote_index_column": 82
                },
                {
                  "INSTNM": "Brookline College-Phoenix",
                  "TUITIONFEE_IN": 0,
                  "_deepnote_index_column": 83
                },
                {
                  "INSTNM": "Brillare Hairdressing Academy",
                  "TUITIONFEE_IN": 0,
                  "_deepnote_index_column": 88
                },
                {
                  "INSTNM": "Charles of Italy Beauty College",
                  "TUITIONFEE_IN": 0,
                  "_deepnote_index_column": 91
                },
                {
                  "INSTNM": "Empire Beauty School-Flagstaff",
                  "TUITIONFEE_IN": 0,
                  "_deepnote_index_column": 93
                },
                {
                  "INSTNM": "Empire Beauty School-Chandler",
                  "TUITIONFEE_IN": 0,
                  "_deepnote_index_column": 94
                },
                {
                  "INSTNM": "Cortiva Institute-Tucson",
                  "TUITIONFEE_IN": 0,
                  "_deepnote_index_column": 95
                },
                {
                  "INSTNM": "Avalon School of Cosmetology-Mesa",
                  "TUITIONFEE_IN": 0,
                  "_deepnote_index_column": 96
                },
                {
                  "INSTNM": "School of Architecture at Taliesin",
                  "TUITIONFEE_IN": 0,
                  "_deepnote_index_column": 99
                },
                {
                  "INSTNM": "Olympian Academy of Cosmetology",
                  "TUITIONFEE_IN": 0,
                  "_deepnote_index_column": 103
                },
                {
                  "INSTNM": "Kaplan College-Phoenix",
                  "TUITIONFEE_IN": 0,
                  "_deepnote_index_column": 104
                },
                {
                  "INSTNM": "Universal Technical Institute of Arizona Inc-Motorcycle Mechanics Institute Division",
                  "TUITIONFEE_IN": 0,
                  "_deepnote_index_column": 110
                },
                {
                  "INSTNM": "Ottawa University-Phoenix",
                  "TUITIONFEE_IN": 0,
                  "_deepnote_index_column": 114
                },
                {
                  "INSTNM": "Cortiva Institute-Scottsdale",
                  "TUITIONFEE_IN": 0,
                  "_deepnote_index_column": 116
                },
                {
                  "INSTNM": "Pima Medical Institute-Tucson",
                  "TUITIONFEE_IN": 0,
                  "_deepnote_index_column": 119
                },
                {
                  "INSTNM": "Pima Medical Institute-Albuquerque",
                  "TUITIONFEE_IN": 0,
                  "_deepnote_index_column": 120
                },
                {
                  "INSTNM": "Refrigeration School Inc",
                  "TUITIONFEE_IN": 0,
                  "_deepnote_index_column": 122
                },
                {
                  "INSTNM": "Roberto-Venn School of Luthiery",
                  "TUITIONFEE_IN": 0,
                  "_deepnote_index_column": 124
                },
                {
                  "INSTNM": "Hair Academy of Safford",
                  "TUITIONFEE_IN": 0,
                  "_deepnote_index_column": 125
                },
                {
                  "INSTNM": "Tucson College",
                  "TUITIONFEE_IN": 0,
                  "_deepnote_index_column": 129
                },
                {
                  "INSTNM": "Universal Technical Institute of Arizona Inc",
                  "TUITIONFEE_IN": 0,
                  "_deepnote_index_column": 130
                },
                {
                  "INSTNM": "Empire Beauty School-NW Phoenix",
                  "TUITIONFEE_IN": 0,
                  "_deepnote_index_column": 132
                },
                {
                  "INSTNM": "University of Arkansas for Medical Sciences",
                  "TUITIONFEE_IN": 0,
                  "_deepnote_index_column": 135
                },
                {
                  "INSTNM": "ABC Beauty College Inc",
                  "TUITIONFEE_IN": 0,
                  "_deepnote_index_column": 136
                },
                {
                  "INSTNM": "Arkansas Beauty School-Little Rock",
                  "TUITIONFEE_IN": 0,
                  "_deepnote_index_column": 138
                },
                {
                  "INSTNM": "Arkansas Beauty College",
                  "TUITIONFEE_IN": 0,
                  "_deepnote_index_column": 139
                },
                {
                  "INSTNM": "Arkansas College of Barbering and Hair Design",
                  "TUITIONFEE_IN": 0,
                  "_deepnote_index_column": 141
                },
                {
                  "INSTNM": "Arthur's Beauty College Inc-Fort Smith",
                  "TUITIONFEE_IN": 0,
                  "_deepnote_index_column": 142
                },
                {
                  "INSTNM": "Arthur's Beauty College Inc-Jacksonville",
                  "TUITIONFEE_IN": 0,
                  "_deepnote_index_column": 149
                },
                {
                  "INSTNM": "Eastern College of Health Vocations-Little Rock",
                  "TUITIONFEE_IN": 0,
                  "_deepnote_index_column": 158
                },
                {
                  "INSTNM": "Imagine-Paul Mitchell Partner School",
                  "TUITIONFEE_IN": 0,
                  "_deepnote_index_column": 159
                },
                {
                  "INSTNM": "Hot Springs Beauty College",
                  "TUITIONFEE_IN": 0,
                  "_deepnote_index_column": 165
                },
                {
                  "INSTNM": "Jefferson Regional Medical Center School of Nursing",
                  "TUITIONFEE_IN": 0,
                  "_deepnote_index_column": 166
                },
                {
                  "INSTNM": "Lees School of Cosmetology",
                  "TUITIONFEE_IN": 0,
                  "_deepnote_index_column": 168
                },
                {
                  "INSTNM": "Career Academy of Hair Design",
                  "TUITIONFEE_IN": 0,
                  "_deepnote_index_column": 169
                },
                {
                  "INSTNM": "Marsha Kay Beauty College",
                  "TUITIONFEE_IN": 0,
                  "_deepnote_index_column": 170
                },
                {
                  "INSTNM": "Academy of Salon and Spa",
                  "TUITIONFEE_IN": 0,
                  "_deepnote_index_column": 171
                },
                {
                  "INSTNM": "Margaret's Hair Academy Inc",
                  "TUITIONFEE_IN": 0,
                  "_deepnote_index_column": 174
                },
                {
                  "INSTNM": "New Tyler Barber College Inc",
                  "TUITIONFEE_IN": 0,
                  "_deepnote_index_column": 175
                },
                {
                  "INSTNM": "Professional Cosmetology Education Center",
                  "TUITIONFEE_IN": 0,
                  "_deepnote_index_column": 186
                },
                {
                  "INSTNM": "Paul Mitchell the School-Arkansas",
                  "TUITIONFEE_IN": 0,
                  "_deepnote_index_column": 190
                },
                {
                  "INSTNM": "Searcy Beauty College",
                  "TUITIONFEE_IN": 0,
                  "_deepnote_index_column": 191
                },
                {
                  "INSTNM": "Velvatex College of Beauty Culture",
                  "TUITIONFEE_IN": 0,
                  "_deepnote_index_column": 197
                },
                {
                  "INSTNM": "Academy of Chinese Culture and Health Sciences",
                  "TUITIONFEE_IN": 0,
                  "_deepnote_index_column": 201
                },
                {
                  "INSTNM": "The Academy of Radio and TV Broadcasting",
                  "TUITIONFEE_IN": 0,
                  "_deepnote_index_column": 202
                },
                {
                  "INSTNM": "Avalon School of Cosmetology-Alameda",
                  "TUITIONFEE_IN": 0,
                  "_deepnote_index_column": 203
                },
                {
                  "INSTNM": "American Baptist Seminary of the West",
                  "TUITIONFEE_IN": 0,
                  "_deepnote_index_column": 207
                },
                {
                  "INSTNM": "American Film Institute Conservatory",
                  "TUITIONFEE_IN": 0,
                  "_deepnote_index_column": 208
                },
                {
                  "INSTNM": "American Beauty College",
                  "TUITIONFEE_IN": 0,
                  "_deepnote_index_column": 209
                },
                {
                  "INSTNM": "American Career College-Los Angeles",
                  "TUITIONFEE_IN": 0,
                  "_deepnote_index_column": 210
                },
                {
                  "INSTNM": "American Conservatory Theater",
                  "TUITIONFEE_IN": 0,
                  "_deepnote_index_column": 211
                },
                {
                  "INSTNM": "Everest College-Hayward",
                  "TUITIONFEE_IN": 0,
                  "_deepnote_index_column": 213
                },
                {
                  "INSTNM": "Associated Technical College-Los Angeles",
                  "TUITIONFEE_IN": 0,
                  "_deepnote_index_column": 216
                },
                {
                  "INSTNM": "Associated Technical College-San Diego",
                  "TUITIONFEE_IN": 0,
                  "_deepnote_index_column": 217
                },
                {
                  "INSTNM": "Bellus Academy-Chula Vista",
                  "TUITIONFEE_IN": 0,
                  "_deepnote_index_column": 221
                },
                {
                  "INSTNM": "Brownson Technical School",
                  "TUITIONFEE_IN": 0,
                  "_deepnote_index_column": 225
                },
                {
                  "INSTNM": "Phillips Graduate University",
                  "TUITIONFEE_IN": 0,
                  "_deepnote_index_column": 228
                },
                {
                  "INSTNM": "California Institute of Integral Studies",
                  "TUITIONFEE_IN": 0,
                  "_deepnote_index_column": 229
                },
                {
                  "INSTNM": "University of California-Hastings College of Law",
                  "TUITIONFEE_IN": 0,
                  "_deepnote_index_column": 233
                },
                {
                  "INSTNM": "University of California-San Francisco",
                  "TUITIONFEE_IN": 0,
                  "_deepnote_index_column": 257
                },
                {
                  "INSTNM": "Sofia University",
                  "TUITIONFEE_IN": 0,
                  "_deepnote_index_column": 260
                },
                {
                  "INSTNM": "California Beauty School",
                  "TUITIONFEE_IN": 0,
                  "_deepnote_index_column": 261
                },
                {
                  "INSTNM": "California Hair Design Academy",
                  "TUITIONFEE_IN": 0,
                  "_deepnote_index_column": 265
                },
                {
                  "INSTNM": "California Western School of Law",
                  "TUITIONFEE_IN": 0,
                  "_deepnote_index_column": 268
                },
                {
                  "INSTNM": "Career Academy of Beauty",
                  "TUITIONFEE_IN": 0,
                  "_deepnote_index_column": 271
                },
                {
                  "INSTNM": "Casa Loma College-Van Nuys",
                  "TUITIONFEE_IN": 0,
                  "_deepnote_index_column": 272
                },
                {
                  "INSTNM": "CET-San Diego",
                  "TUITIONFEE_IN": 0,
                  "_deepnote_index_column": 273
                },
                {
                  "INSTNM": "CET-San Jose",
                  "TUITIONFEE_IN": 0,
                  "_deepnote_index_column": 274
                },
                {
                  "INSTNM": "CET-El Centro",
                  "TUITIONFEE_IN": 0,
                  "_deepnote_index_column": 275
                },
                {
                  "INSTNM": "CET-Colton",
                  "TUITIONFEE_IN": 0,
                  "_deepnote_index_column": 276
                },
                {
                  "INSTNM": "CET-Watsonville",
                  "TUITIONFEE_IN": 0,
                  "_deepnote_index_column": 277
                },
                {
                  "INSTNM": "CET-Gilroy",
                  "TUITIONFEE_IN": 0,
                  "_deepnote_index_column": 278
                },
                {
                  "INSTNM": "CET-Salinas",
                  "TUITIONFEE_IN": 0,
                  "_deepnote_index_column": 279
                },
                {
                  "INSTNM": "Church Divinity School of the Pacific",
                  "TUITIONFEE_IN": 0,
                  "_deepnote_index_column": 288
                },
                {
                  "INSTNM": "Citrus Heights Beauty College",
                  "TUITIONFEE_IN": 0,
                  "_deepnote_index_column": 290
                },
                {
                  "INSTNM": "Claremont Graduate University",
                  "TUITIONFEE_IN": 0,
                  "_deepnote_index_column": 292
                },
                {
                  "INSTNM": "Milan Institute-Visalia",
                  "TUITIONFEE_IN": 0,
                  "_deepnote_index_column": 294
                },
                {
                  "INSTNM": "Clovis Adult Education",
                  "TUITIONFEE_IN": 0,
                  "_deepnote_index_column": 295
                },
                {
                  "INSTNM": "Coba Academy",
                  "TUITIONFEE_IN": 0,
                  "_deepnote_index_column": 299
                },
                {
                  "INSTNM": "Western University of Health Sciences",
                  "TUITIONFEE_IN": 0,
                  "_deepnote_index_column": 300
                },
                {
                  "INSTNM": "Marinello Schools of Beauty-Hemet",
                  "TUITIONFEE_IN": 0,
                  "_deepnote_index_column": 311
                },
                {
                  "INSTNM": "International School of Beauty Inc",
                  "TUITIONFEE_IN": 0,
                  "_deepnote_index_column": 312
                },
                {
                  "INSTNM": "Dominican School of Philosophy & Theology",
                  "TUITIONFEE_IN": 0,
                  "_deepnote_index_column": 318
                },
                {
                  "INSTNM": "Marinello Schools of Beauty-Santa Clara",
                  "TUITIONFEE_IN": 0,
                  "_deepnote_index_column": 320
                },
                {
                  "INSTNM": "Elegance International",
                  "TUITIONFEE_IN": 0,
                  "_deepnote_index_column": 322
                },
                {
                  "INSTNM": "Marinello Schools of Beauty-Burbank",
                  "TUITIONFEE_IN": 0,
                  "_deepnote_index_column": 323
                },
                {
                  "INSTNM": "Marinello Schools of Beauty-Moreno Valley",
                  "TUITIONFEE_IN": 0,
                  "_deepnote_index_column": 324
                },
                {
                  "INSTNM": "Emperor's College of Traditional Oriental Medicine",
                  "TUITIONFEE_IN": 0,
                  "_deepnote_index_column": 325
                },
                {
                  "INSTNM": "Empire College",
                  "TUITIONFEE_IN": 0,
                  "_deepnote_index_column": 326
                },
                {
                  "INSTNM": "Federico Beauty Institute",
                  "TUITIONFEE_IN": 0,
                  "_deepnote_index_column": 332
                },
                {
                  "INSTNM": "Fielding Graduate University",
                  "TUITIONFEE_IN": 0,
                  "_deepnote_index_column": 333
                },
                {
                  "INSTNM": "Five Branches University",
                  "TUITIONFEE_IN": 0,
                  "_deepnote_index_column": 334
                },
                {
                  "INSTNM": "Hair California Beauty Academy",
                  "TUITIONFEE_IN": 0,
                  "_deepnote_index_column": 335
                },
                {
                  "INSTNM": "Franciscan School of Theology",
                  "TUITIONFEE_IN": 0,
                  "_deepnote_index_column": 337
                },
                {
                  "INSTNM": "Fredrick and Charles Beauty College",
                  "TUITIONFEE_IN": 0,
                  "_deepnote_index_column": 338
                },
                {
                  "INSTNM": "Fuller Theological Seminary",
                  "TUITIONFEE_IN": 0,
                  "_deepnote_index_column": 341
                },
                {
                  "INSTNM": "Gemological Institute of America-Carlsbad",
                  "TUITIONFEE_IN": 0,
                  "_deepnote_index_column": 344
                },
                {
                  "INSTNM": "Glendale Career College",
                  "TUITIONFEE_IN": 0,
                  "_deepnote_index_column": 346
                },
                {
                  "INSTNM": "Graduate Theological Union",
                  "TUITIONFEE_IN": 0,
                  "_deepnote_index_column": 349
                },
                {
                  "INSTNM": "Salon Success Academy-Riverside",
                  "TUITIONFEE_IN": 0,
                  "_deepnote_index_column": 351
                },
                {
                  "INSTNM": "Hilltop Beauty School",
                  "TUITIONFEE_IN": 0,
                  "_deepnote_index_column": 359
                },
                {
                  "INSTNM": "Pacifica Graduate Institute",
                  "TUITIONFEE_IN": 0,
                  "_deepnote_index_column": 361
                },
                {
                  "INSTNM": "Institute for Business and Technology",
                  "TUITIONFEE_IN": 0,
                  "_deepnote_index_column": 365
                },
                {
                  "INSTNM": "Interior Designers Institute",
                  "TUITIONFEE_IN": 0,
                  "_deepnote_index_column": 366
                },
                {
                  "INSTNM": "Toni & Guy Hairdressing Academy-Santa Monica",
                  "TUITIONFEE_IN": 0,
                  "_deepnote_index_column": 367
                },
                {
                  "INSTNM": "Bellus Academy-El Cajon",
                  "TUITIONFEE_IN": 0,
                  "_deepnote_index_column": 372
                },
                {
                  "INSTNM": "John F. Kennedy University",
                  "TUITIONFEE_IN": 0,
                  "_deepnote_index_column": 373
                },
                {
                  "INSTNM": "Lancaster Beauty School",
                  "TUITIONFEE_IN": 0,
                  "_deepnote_index_column": 381
                },
                {
                  "INSTNM": "Life Chiropractic College West",
                  "TUITIONFEE_IN": 0,
                  "_deepnote_index_column": 384
                },
                {
                  "INSTNM": "Loma Linda University",
                  "TUITIONFEE_IN": 0,
                  "_deepnote_index_column": 388
                },
                {
                  "INSTNM": "Southern California University of Health Sciences",
                  "TUITIONFEE_IN": 0,
                  "_deepnote_index_column": 390
                },
                {
                  "INSTNM": "Los Angeles County College of Nursing and Allied Health",
                  "TUITIONFEE_IN": 0,
                  "_deepnote_index_column": 398
                },
                {
                  "INSTNM": "Lu Ross Academy",
                  "TUITIONFEE_IN": 0,
                  "_deepnote_index_column": 403
                },
                {
                  "INSTNM": "Manchester Beauty College",
                  "TUITIONFEE_IN": 0,
                  "_deepnote_index_column": 404
                },
                {
                  "INSTNM": "Tulare Beauty College",
                  "TUITIONFEE_IN": 0,
                  "_deepnote_index_column": 405
                },
                {
                  "INSTNM": "Lyle's College of Beauty",
                  "TUITIONFEE_IN": 0,
                  "_deepnote_index_column": 406
                },
                {
                  "INSTNM": "Lyle's College of  Beauty",
                  "TUITIONFEE_IN": 0,
                  "_deepnote_index_column": 407
                },
                {
                  "INSTNM": "Lytles Redwood Empire Beauty College Inc",
                  "TUITIONFEE_IN": 0,
                  "_deepnote_index_column": 408
                },
                {
                  "INSTNM": "MTI Business College Inc",
                  "TUITIONFEE_IN": 0,
                  "_deepnote_index_column": 409
                },
                {
                  "INSTNM": "MTI College",
                  "TUITIONFEE_IN": 0,
                  "_deepnote_index_column": 410
                },
                {
                  "INSTNM": "Brightwood College-Sacramento",
                  "TUITIONFEE_IN": 0,
                  "_deepnote_index_column": 411
                },
                {
                  "INSTNM": "Brightwood College-San Diego",
                  "TUITIONFEE_IN": 0,
                  "_deepnote_index_column": 412
                },
                {
                  "INSTNM": "Brightwood College-Vista",
                  "TUITIONFEE_IN": 0,
                  "_deepnote_index_column": 413
                },
                {
                  "INSTNM": "Marinello Schools of Beauty-Los Angeles",
                  "TUITIONFEE_IN": 0,
                  "_deepnote_index_column": 415
                },
                {
                  "INSTNM": "Marinello Schools of Beauty-San Francisco",
                  "TUITIONFEE_IN": 0,
                  "_deepnote_index_column": 423
                },
                {
                  "INSTNM": "Modern Beauty Academy",
                  "TUITIONFEE_IN": 0,
                  "_deepnote_index_column": 425
                },
                {
                  "INSTNM": "Brightwood College-Los Angeles-Van Nuys",
                  "TUITIONFEE_IN": 0,
                  "_deepnote_index_column": 426
                },
                {
                  "INSTNM": "Moler Barber College",
                  "TUITIONFEE_IN": 0,
                  "_deepnote_index_column": 428
                },
                {
                  "INSTNM": "Middlebury Institute of International Studies at Monterey",
                  "TUITIONFEE_IN": 0,
                  "_deepnote_index_column": 429
                },
                {
                  "INSTNM": "Everest College-San Francisco",
                  "TUITIONFEE_IN": 0,
                  "_deepnote_index_column": 438
                },
                {
                  "INSTNM": "Everest College-San Jose",
                  "TUITIONFEE_IN": 0,
                  "_deepnote_index_column": 441
                },
                {
                  "INSTNM": "Everest College-Gardena",
                  "TUITIONFEE_IN": 0,
                  "_deepnote_index_column": 442
                },
                {
                  "INSTNM": "Everest College-Alhambra",
                  "TUITIONFEE_IN": 0,
                  "_deepnote_index_column": 443
                },
                {
                  "INSTNM": "National Holistic Institute",
                  "TUITIONFEE_IN": 0,
                  "_deepnote_index_column": 446
                },
                {
                  "INSTNM": "Naval Postgraduate School",
                  "TUITIONFEE_IN": 0,
                  "_deepnote_index_column": 448
                },
                {
                  "INSTNM": "Newberry School of Beauty",
                  "TUITIONFEE_IN": 0,
                  "_deepnote_index_column": 450
                },
                {
                  "INSTNM": "North Adrian's College of Beauty Inc",
                  "TUITIONFEE_IN": 0,
                  "_deepnote_index_column": 451
                },
                {
                  "INSTNM": "North-West College-Pomona",
                  "TUITIONFEE_IN": 0,
                  "_deepnote_index_column": 452
                },
                {
                  "INSTNM": "North-West College-West Covina",
                  "TUITIONFEE_IN": 0,
                  "_deepnote_index_column": 453
                },
                {
                  "INSTNM": "North-West College-Van Nuys",
                  "TUITIONFEE_IN": 0,
                  "_deepnote_index_column": 454
                },
                {
                  "INSTNM": "Oceanside College of Beauty",
                  "TUITIONFEE_IN": 0,
                  "_deepnote_index_column": 457
                },
                {
                  "INSTNM": "Concorde Career College-San Diego",
                  "TUITIONFEE_IN": 0,
                  "_deepnote_index_column": 463
                },
                {
                  "INSTNM": "Palo Alto University",
                  "TUITIONFEE_IN": 0,
                  "_deepnote_index_column": 464
                },
                {
                  "INSTNM": "Pacific Lutheran Theological Seminary",
                  "TUITIONFEE_IN": 0,
                  "_deepnote_index_column": 465
                },
                {
                  "INSTNM": "Pacific Oaks College",
                  "TUITIONFEE_IN": 0,
                  "_deepnote_index_column": 466
                },
                {
                  "INSTNM": "Pacific School of Religion",
                  "TUITIONFEE_IN": 0,
                  "_deepnote_index_column": 467
                },
                {
                  "INSTNM": "Paris Beauty College",
                  "TUITIONFEE_IN": 0,
                  "_deepnote_index_column": 473
                },
                {
                  "INSTNM": "Professional Institute of Beauty",
                  "TUITIONFEE_IN": 0,
                  "_deepnote_index_column": 482
                },
                {
                  "INSTNM": "Pardee RAND Graduate School",
                  "TUITIONFEE_IN": 0,
                  "_deepnote_index_column": 484
                },
                {
                  "INSTNM": "Shasta School of Cosmetology",
                  "TUITIONFEE_IN": 0,
                  "_deepnote_index_column": 485
                },
                {
                  "INSTNM": "Salon Success Academy-Upland",
                  "TUITIONFEE_IN": 0,
                  "_deepnote_index_column": 488
                },
                {
                  "INSTNM": "Salon Success Academy-Corona",
                  "TUITIONFEE_IN": 0,
                  "_deepnote_index_column": 489
                },
                {
                  "INSTNM": "Rosemead Beauty School",
                  "TUITIONFEE_IN": 0,
                  "_deepnote_index_column": 493
                },
                {
                  "INSTNM": "Dongguk University-Los Angeles",
                  "TUITIONFEE_IN": 0,
                  "_deepnote_index_column": 494
                },
                {
                  "INSTNM": "Saint Patrick's Seminary and University",
                  "TUITIONFEE_IN": 0,
                  "_deepnote_index_column": 497
                },
                {
                  "INSTNM": "Samuel Merritt University",
                  "TUITIONFEE_IN": 0,
                  "_deepnote_index_column": 498
                },
                {
                  "INSTNM": "San Francisco Theological Seminary",
                  "TUITIONFEE_IN": 0,
                  "_deepnote_index_column": 508
                },
                {
                  "INSTNM": "San Joaquin College of Law",
                  "TUITIONFEE_IN": 0,
                  "_deepnote_index_column": 510
                },
                {
                  "INSTNM": "Saybrook University",
                  "TUITIONFEE_IN": 0,
                  "_deepnote_index_column": 525
                },
                {
                  "INSTNM": "Wyotech-Fremont",
                  "TUITIONFEE_IN": 0,
                  "_deepnote_index_column": 527
                },
                {
                  "INSTNM": "Sierra College of Beauty",
                  "TUITIONFEE_IN": 0,
                  "_deepnote_index_column": 532
                },
                {
                  "INSTNM": "Trinity Law School",
                  "TUITIONFEE_IN": 0,
                  "_deepnote_index_column": 534
                },
                {
                  "INSTNM": "Charles A Jones Career and Education Center",
                  "TUITIONFEE_IN": 0,
                  "_deepnote_index_column": 537
                },
                {
                  "INSTNM": "Pinnacle College",
                  "TUITIONFEE_IN": 0,
                  "_deepnote_index_column": 543
                },
                {
                  "INSTNM": "South Baylo University",
                  "TUITIONFEE_IN": 0,
                  "_deepnote_index_column": 544
                },
                {
                  "INSTNM": "South Coast College",
                  "TUITIONFEE_IN": 0,
                  "_deepnote_index_column": 545
                },
                {
                  "INSTNM": "Concorde Career College-Garden Grove",
                  "TUITIONFEE_IN": 0,
                  "_deepnote_index_column": 547
                },
                {
                  "INSTNM": "St John's Seminary",
                  "TUITIONFEE_IN": 0,
                  "_deepnote_index_column": 549
                },
                {
                  "INSTNM": "Starr King School for the Ministry",
                  "TUITIONFEE_IN": 0,
                  "_deepnote_index_column": 550
                },
                {
                  "INSTNM": "Marshall B Ketchum University",
                  "TUITIONFEE_IN": 0,
                  "_deepnote_index_column": 551
                },
                {
                  "INSTNM": "Southwestern Law School",
                  "TUITIONFEE_IN": 0,
                  "_deepnote_index_column": 554
                },
                {
                  "INSTNM": "Claremont School of Theology",
                  "TUITIONFEE_IN": 0,
                  "_deepnote_index_column": 556
                },
                {
                  "INSTNM": "Marinello Schools of Beauty-Lake Forest",
                  "TUITIONFEE_IN": 0,
                  "_deepnote_index_column": 558
                },
                {
                  "INSTNM": "United Education Institute-Huntington Park Campus",
                  "TUITIONFEE_IN": 0,
                  "_deepnote_index_column": 560
                },
                {
                  "INSTNM": "Concorde Career College-San Bernardino",
                  "TUITIONFEE_IN": 0,
                  "_deepnote_index_column": 561
                },
                {
                  "INSTNM": "Universal College of Beauty Inc-Los Angeles 1",
                  "TUITIONFEE_IN": 0,
                  "_deepnote_index_column": 562
                },
                {
                  "INSTNM": "Concorde Career College-North Hollywood",
                  "TUITIONFEE_IN": 0,
                  "_deepnote_index_column": 563
                },
                {
                  "INSTNM": "Victor Valley Beauty College Inc",
                  "TUITIONFEE_IN": 0,
                  "_deepnote_index_column": 565
                },
                {
                  "INSTNM": "Waynes College of Beauty",
                  "TUITIONFEE_IN": 0,
                  "_deepnote_index_column": 569
                },
                {
                  "INSTNM": "Carrington College-Sacramento",
                  "TUITIONFEE_IN": 0,
                  "_deepnote_index_column": 573
                },
                {
                  "INSTNM": "Westminster Theological Seminary in California",
                  "TUITIONFEE_IN": 0,
                  "_deepnote_index_column": 574
                },
                {
                  "INSTNM": "The Wright Institute",
                  "TUITIONFEE_IN": 0,
                  "_deepnote_index_column": 578
                },
                {
                  "INSTNM": "Western State College of Law at Argosy University",
                  "TUITIONFEE_IN": 0,
                  "_deepnote_index_column": 579
                },
                {
                  "INSTNM": "Thomas Jefferson School of Law",
                  "TUITIONFEE_IN": 0,
                  "_deepnote_index_column": 580
                },
                {
                  "INSTNM": "The Salon Professional Academy-Grand Junction",
                  "TUITIONFEE_IN": 0,
                  "_deepnote_index_column": 583
                },
                {
                  "INSTNM": "Concorde Career College-Aurora",
                  "TUITIONFEE_IN": 0,
                  "_deepnote_index_column": 595
                },
                {
                  "INSTNM": "Colorado School of Trades",
                  "TUITIONFEE_IN": 0,
                  "_deepnote_index_column": 600
                },
                {
                  "INSTNM": "Empire Beauty School-Lakewood",
                  "TUITIONFEE_IN": 0,
                  "_deepnote_index_column": 603
                },
                {
                  "INSTNM": "Technical College of the Rockies",
                  "TUITIONFEE_IN": 0,
                  "_deepnote_index_column": 606
                },
                {
                  "INSTNM": "Lincoln College of Technology-Denver",
                  "TUITIONFEE_IN": 0,
                  "_deepnote_index_column": 609
                },
                {
                  "INSTNM": "Denver Seminary",
                  "TUITIONFEE_IN": 0,
                  "_deepnote_index_column": 610
                },
                {
                  "INSTNM": "Emily Griffith Technical College",
                  "TUITIONFEE_IN": 0,
                  "_deepnote_index_column": 613
                },
                {
                  "INSTNM": "Glenwood Beauty Academy",
                  "TUITIONFEE_IN": 0,
                  "_deepnote_index_column": 616
                },
                {
                  "INSTNM": "Hair Dynamics Education Center",
                  "TUITIONFEE_IN": 0,
                  "_deepnote_index_column": 617
                },
                {
                  "INSTNM": "Iliff School of Theology",
                  "TUITIONFEE_IN": 0,
                  "_deepnote_index_column": 618
                },
                {
                  "INSTNM": "International Salon and Spa Academy",
                  "TUITIONFEE_IN": 0,
                  "_deepnote_index_column": 619
                },
                {
                  "INSTNM": "IBMC College",
                  "TUITIONFEE_IN": 0,
                  "_deepnote_index_column": 633
                },
                {
                  "INSTNM": "Montessori Education Center of the Rockies",
                  "TUITIONFEE_IN": 0,
                  "_deepnote_index_column": 638
                },
                {
                  "INSTNM": "Intellitec College-Colorado Springs",
                  "TUITIONFEE_IN": 0,
                  "_deepnote_index_column": 641
                },
                {
                  "INSTNM": "Intellitec College-Grand Junction",
                  "TUITIONFEE_IN": 0,
                  "_deepnote_index_column": 642
                },
                {
                  "INSTNM": "United States Air Force Academy",
                  "TUITIONFEE_IN": 0,
                  "_deepnote_index_column": 644
                },
                {
                  "INSTNM": "Empire Beauty School-Thornton",
                  "TUITIONFEE_IN": 0,
                  "_deepnote_index_column": 645
                },
                {
                  "INSTNM": "Paul Mitchell the School-Danbury",
                  "TUITIONFEE_IN": 0,
                  "_deepnote_index_column": 649
                },
                {
                  "INSTNM": "Branford Hall Career Institute-Branford Campus",
                  "TUITIONFEE_IN": 0,
                  "_deepnote_index_column": 652
                },
                {
                  "INSTNM": "Charter Oak State College",
                  "TUITIONFEE_IN": 0,
                  "_deepnote_index_column": 657
                },
                {
                  "INSTNM": "Cortiva Institute-Cromwell",
                  "TUITIONFEE_IN": 0,
                  "_deepnote_index_column": 658
                },
                {
                  "INSTNM": "Marinello Schools of Beauty-East Hartford",
                  "TUITIONFEE_IN": 0,
                  "_deepnote_index_column": 660
                },
                {
                  "INSTNM": "Lincoln Technical Institute-East Windsor",
                  "TUITIONFEE_IN": 0,
                  "_deepnote_index_column": 664
                },
                {
                  "INSTNM": "Paul Mitchell the School-North Haven",
                  "TUITIONFEE_IN": 0,
                  "_deepnote_index_column": 667
                },
                {
                  "INSTNM": "Rensselaer at Hartford",
                  "TUITIONFEE_IN": 0,
                  "_deepnote_index_column": 669
                },
                {
                  "INSTNM": "American Institute-West Hartford",
                  "TUITIONFEE_IN": 0,
                  "_deepnote_index_column": 670
                },
                {
                  "INSTNM": "Hartford Seminary",
                  "TUITIONFEE_IN": 0,
                  "_deepnote_index_column": 671
                },
                {
                  "INSTNM": "Sanford-Brown College-Farmington",
                  "TUITIONFEE_IN": 0,
                  "_deepnote_index_column": 675
                },
                {
                  "INSTNM": "Lincoln Technical Institute-New Britain",
                  "TUITIONFEE_IN": 0,
                  "_deepnote_index_column": 682
                },
                {
                  "INSTNM": "New England Tractor Trailer Training School of Connecticut",
                  "TUITIONFEE_IN": 0,
                  "_deepnote_index_column": 683
                },
                {
                  "INSTNM": "Ridley-Lowell Business & Technical Institute-New London",
                  "TUITIONFEE_IN": 0,
                  "_deepnote_index_column": 685
                },
                {
                  "INSTNM": "Marinello Schools of Beauty-Meriden",
                  "TUITIONFEE_IN": 0,
                  "_deepnote_index_column": 689
                },
                {
                  "INSTNM": "Stone Academy-West Haven",
                  "TUITIONFEE_IN": 0,
                  "_deepnote_index_column": 699
                },
                {
                  "INSTNM": "Tri-State College of Acupuncture",
                  "TUITIONFEE_IN": 0,
                  "_deepnote_index_column": 700
                },
                {
                  "INSTNM": "United States Coast Guard Academy",
                  "TUITIONFEE_IN": 0,
                  "_deepnote_index_column": 703
                },
                {
                  "INSTNM": "Yale-New Haven Hospital Dietetic Internship",
                  "TUITIONFEE_IN": 0,
                  "_deepnote_index_column": 706
                },
                {
                  "INSTNM": "Margaret H Rollins School of Nursing at Beebe Medical Center",
                  "TUITIONFEE_IN": 0,
                  "_deepnote_index_column": 708
                },
                {
                  "INSTNM": "Dawn Career Institute LLC",
                  "TUITIONFEE_IN": 0,
                  "_deepnote_index_column": 709
                },
                {
                  "INSTNM": "Schilling-Douglas School of Hair Design LLC",
                  "TUITIONFEE_IN": 0,
                  "_deepnote_index_column": 716
                },
                {
                  "INSTNM": "Pontifical Faculty of the Immaculate Conception at the Dominican House of Studies",
                  "TUITIONFEE_IN": 0,
                  "_deepnote_index_column": 723
                },
                {
                  "INSTNM": "Medtech Institute",
                  "TUITIONFEE_IN": 0,
                  "_deepnote_index_column": 728
                },
                {
                  "INSTNM": "Wesley Theological Seminary",
                  "TUITIONFEE_IN": 0,
                  "_deepnote_index_column": 732
                },
                {
                  "INSTNM": "Wyotech-Daytona",
                  "TUITIONFEE_IN": 0,
                  "_deepnote_index_column": 733
                },
                {
                  "INSTNM": "Atlantic Technical College",
                  "TUITIONFEE_IN": 0,
                  "_deepnote_index_column": 735
                },
                {
                  "INSTNM": "Gooding Institute of Nurse Anesthesia",
                  "TUITIONFEE_IN": 0,
                  "_deepnote_index_column": 738
                },
                {
                  "INSTNM": "GUTI The Premier Beauty & Wellness Academy",
                  "TUITIONFEE_IN": 0,
                  "_deepnote_index_column": 741
                },
                {
                  "INSTNM": "North Florida Technical College",
                  "TUITIONFEE_IN": 0,
                  "_deepnote_index_column": 742
                },
                {
                  "INSTNM": "Lorenzo Walker Technical College",
                  "TUITIONFEE_IN": 0,
                  "_deepnote_index_column": 753
                },
                {
                  "INSTNM": "Concorde Career Institute-Jacksonville",
                  "TUITIONFEE_IN": 0,
                  "_deepnote_index_column": 765
                },
                {
                  "INSTNM": "Concorde Career Institute-Miramar",
                  "TUITIONFEE_IN": 0,
                  "_deepnote_index_column": 766
                },
                {
                  "INSTNM": "Concorde Career Institute-Tampa",
                  "TUITIONFEE_IN": 0,
                  "_deepnote_index_column": 767
                }
              ],
              "rows_bottom": [
                {
                  "INSTNM": "School of Missionary Aviation Technology",
                  "TUITIONFEE_IN": 0,
                  "_deepnote_index_column": 7282
                },
                {
                  "INSTNM": "Ace Cosmetology and Barber Training Center",
                  "TUITIONFEE_IN": 0,
                  "_deepnote_index_column": 7283
                },
                {
                  "INSTNM": "Rocky Vista University",
                  "TUITIONFEE_IN": 0,
                  "_deepnote_index_column": 7286
                },
                {
                  "INSTNM": "The College of Health Care Professions-Dallas",
                  "TUITIONFEE_IN": 0,
                  "_deepnote_index_column": 7288
                },
                {
                  "INSTNM": "The College of Health Care Professions-Fort Worth",
                  "TUITIONFEE_IN": 0,
                  "_deepnote_index_column": 7289
                },
                {
                  "INSTNM": "Shear Finesse Beauty Academy",
                  "TUITIONFEE_IN": 0,
                  "_deepnote_index_column": 7290
                },
                {
                  "INSTNM": "Academy of Salon Professionals",
                  "TUITIONFEE_IN": 0,
                  "_deepnote_index_column": 7291
                },
                {
                  "INSTNM": "CyberTex Institute of Technology",
                  "TUITIONFEE_IN": 0,
                  "_deepnote_index_column": 7292
                },
                {
                  "INSTNM": "UEI College-Santa Cruz",
                  "TUITIONFEE_IN": 0,
                  "_deepnote_index_column": 7293
                },
                {
                  "INSTNM": "New England Tractor Trailer Training School of CT-Bridgeport",
                  "TUITIONFEE_IN": 0,
                  "_deepnote_index_column": 7294
                },
                {
                  "INSTNM": "Gemini School of Visual Arts & Communication",
                  "TUITIONFEE_IN": 0,
                  "_deepnote_index_column": 7295
                },
                {
                  "INSTNM": "Paul Mitchell the School-Woodbridge",
                  "TUITIONFEE_IN": 0,
                  "_deepnote_index_column": 7296
                },
                {
                  "INSTNM": "The Salon Professional Academy-Huntsville",
                  "TUITIONFEE_IN": 0,
                  "_deepnote_index_column": 7298
                },
                {
                  "INSTNM": "Aspen Beauty Academy of Laurel",
                  "TUITIONFEE_IN": 0,
                  "_deepnote_index_column": 7300
                },
                {
                  "INSTNM": "M T Training Center",
                  "TUITIONFEE_IN": 0,
                  "_deepnote_index_column": 7301
                },
                {
                  "INSTNM": "Berks Career & Technology Center",
                  "TUITIONFEE_IN": 0,
                  "_deepnote_index_column": 7302
                },
                {
                  "INSTNM": "Future Generations University",
                  "TUITIONFEE_IN": 0,
                  "_deepnote_index_column": 7303
                },
                {
                  "INSTNM": "Carthage R9 School District-Carthage Technical Center",
                  "TUITIONFEE_IN": 0,
                  "_deepnote_index_column": 7304
                },
                {
                  "INSTNM": "World A Cuts Barber Institute",
                  "TUITIONFEE_IN": 0,
                  "_deepnote_index_column": 7306
                },
                {
                  "INSTNM": "Photographic Center Northwest",
                  "TUITIONFEE_IN": 0,
                  "_deepnote_index_column": 7307
                },
                {
                  "INSTNM": "Verve College",
                  "TUITIONFEE_IN": 0,
                  "_deepnote_index_column": 7308
                },
                {
                  "INSTNM": "Sotheby's Institute of Art-NY",
                  "TUITIONFEE_IN": 0,
                  "_deepnote_index_column": 7309
                },
                {
                  "INSTNM": "Top Nails & Hair Beauty School",
                  "TUITIONFEE_IN": 0,
                  "_deepnote_index_column": 7310
                },
                {
                  "INSTNM": "Radians College",
                  "TUITIONFEE_IN": 0,
                  "_deepnote_index_column": 7311
                },
                {
                  "INSTNM": "Santa Ana Beauty College",
                  "TUITIONFEE_IN": 0,
                  "_deepnote_index_column": 7312
                },
                {
                  "INSTNM": "Shepherds College",
                  "TUITIONFEE_IN": 0,
                  "_deepnote_index_column": 7313
                },
                {
                  "INSTNM": "Woodruff Medical Training and Testing",
                  "TUITIONFEE_IN": 0,
                  "_deepnote_index_column": 7314
                },
                {
                  "INSTNM": "American Academy of Personal Training",
                  "TUITIONFEE_IN": 0,
                  "_deepnote_index_column": 7316
                },
                {
                  "INSTNM": "Technology Center",
                  "TUITIONFEE_IN": 0,
                  "_deepnote_index_column": 7317
                },
                {
                  "INSTNM": "Ukiah Adult School",
                  "TUITIONFEE_IN": 0,
                  "_deepnote_index_column": 7318
                },
                {
                  "INSTNM": "Riverside County Office of Education-School of Career Education",
                  "TUITIONFEE_IN": 0,
                  "_deepnote_index_column": 7319
                },
                {
                  "INSTNM": "Advanced Computing Institute",
                  "TUITIONFEE_IN": 0,
                  "_deepnote_index_column": 7322
                },
                {
                  "INSTNM": "New York Institute of Beauty",
                  "TUITIONFEE_IN": 0,
                  "_deepnote_index_column": 7323
                },
                {
                  "INSTNM": "Ultrasound Medical Institute",
                  "TUITIONFEE_IN": 0,
                  "_deepnote_index_column": 7324
                },
                {
                  "INSTNM": "Beautiful You School of Nail Technology",
                  "TUITIONFEE_IN": 0,
                  "_deepnote_index_column": 7325
                },
                {
                  "INSTNM": "Harmon's Beauty School",
                  "TUITIONFEE_IN": 0,
                  "_deepnote_index_column": 7326
                },
                {
                  "INSTNM": "Xavier College School of Nursing",
                  "TUITIONFEE_IN": 0,
                  "_deepnote_index_column": 7327
                },
                {
                  "INSTNM": "Lawrence & Company College of Cosmetology",
                  "TUITIONFEE_IN": 0,
                  "_deepnote_index_column": 7328
                },
                {
                  "INSTNM": "Kaizen Beauty Academy",
                  "TUITIONFEE_IN": 0,
                  "_deepnote_index_column": 7330
                },
                {
                  "INSTNM": "Southern Texas Careers Academy",
                  "TUITIONFEE_IN": 0,
                  "_deepnote_index_column": 7331
                },
                {
                  "INSTNM": "Sharp Edgez Barber Institute",
                  "TUITIONFEE_IN": 0,
                  "_deepnote_index_column": 7332
                },
                {
                  "INSTNM": "The Salon Professional Academy-Nashville",
                  "TUITIONFEE_IN": 0,
                  "_deepnote_index_column": 7333
                },
                {
                  "INSTNM": "Cosmotech School of Cosmetology",
                  "TUITIONFEE_IN": 0,
                  "_deepnote_index_column": 7334
                },
                {
                  "INSTNM": "Prestige Health & Beauty Sciences Academy",
                  "TUITIONFEE_IN": 0,
                  "_deepnote_index_column": 7335
                },
                {
                  "INSTNM": "Grace College of Barbering",
                  "TUITIONFEE_IN": 0,
                  "_deepnote_index_column": 7336
                },
                {
                  "INSTNM": "California Career Institute",
                  "TUITIONFEE_IN": 0,
                  "_deepnote_index_column": 7337
                },
                {
                  "INSTNM": "Cosmo Factory Cosmetology Academy",
                  "TUITIONFEE_IN": 0,
                  "_deepnote_index_column": 7338
                },
                {
                  "INSTNM": "Universal Training Institute",
                  "TUITIONFEE_IN": 0,
                  "_deepnote_index_column": 7341
                },
                {
                  "INSTNM": "Rizzieri Institute",
                  "TUITIONFEE_IN": 0,
                  "_deepnote_index_column": 7343
                },
                {
                  "INSTNM": "Bonnie Joseph Academy of Cosmetology & Barbering",
                  "TUITIONFEE_IN": 0,
                  "_deepnote_index_column": 7344
                },
                {
                  "INSTNM": "Healthcare Training Institute",
                  "TUITIONFEE_IN": 0,
                  "_deepnote_index_column": 7345
                },
                {
                  "INSTNM": "J D Academy of Salon and Spa",
                  "TUITIONFEE_IN": 0,
                  "_deepnote_index_column": 7346
                },
                {
                  "INSTNM": "Boca Beauty Academy",
                  "TUITIONFEE_IN": 0,
                  "_deepnote_index_column": 7347
                },
                {
                  "INSTNM": "United Medical and Business Institute",
                  "TUITIONFEE_IN": 0,
                  "_deepnote_index_column": 7348
                },
                {
                  "INSTNM": "Paul Mitchell the School-Jersey Shore",
                  "TUITIONFEE_IN": 0,
                  "_deepnote_index_column": 7349
                },
                {
                  "INSTNM": "City Pointe Beauty Academy",
                  "TUITIONFEE_IN": 0,
                  "_deepnote_index_column": 7350
                },
                {
                  "INSTNM": "The Chrysm Insitute of Esthetics",
                  "TUITIONFEE_IN": 0,
                  "_deepnote_index_column": 7351
                },
                {
                  "INSTNM": "Sanford Burnham Prebys Medical Discovery Institute",
                  "TUITIONFEE_IN": 0,
                  "_deepnote_index_column": 7352
                },
                {
                  "INSTNM": "National Personal Training Institute of Columbus",
                  "TUITIONFEE_IN": 0,
                  "_deepnote_index_column": 7353
                },
                {
                  "INSTNM": "Bly's School of Cosmetology",
                  "TUITIONFEE_IN": 0,
                  "_deepnote_index_column": 7354
                },
                {
                  "INSTNM": "Toni & Guy Hairdressing Academy-Manteca",
                  "TUITIONFEE_IN": 0,
                  "_deepnote_index_column": 7355
                },
                {
                  "INSTNM": "Belle Academy of Cosmetology LLC",
                  "TUITIONFEE_IN": 0,
                  "_deepnote_index_column": 7356
                },
                {
                  "INSTNM": "MedTech Institute-Orlando Campus",
                  "TUITIONFEE_IN": 0,
                  "_deepnote_index_column": 7361
                },
                {
                  "INSTNM": "Tulsa Welding School-Tulsa",
                  "TUITIONFEE_IN": 0,
                  "_deepnote_index_column": 7362
                },
                {
                  "INSTNM": "Empire Beauty School-Augusta",
                  "TUITIONFEE_IN": 0,
                  "_deepnote_index_column": 7363
                },
                {
                  "INSTNM": "Empire Beauty School-Vernon Hills",
                  "TUITIONFEE_IN": 0,
                  "_deepnote_index_column": 7365
                },
                {
                  "INSTNM": "Empire Beauty School-Stone Park",
                  "TUITIONFEE_IN": 0,
                  "_deepnote_index_column": 7366
                },
                {
                  "INSTNM": "Empire Beauty School-Rochester",
                  "TUITIONFEE_IN": 0,
                  "_deepnote_index_column": 7371
                },
                {
                  "INSTNM": "American Career College-Long Beach",
                  "TUITIONFEE_IN": 0,
                  "_deepnote_index_column": 7372
                },
                {
                  "INSTNM": "Ross Medical Education Center-Kokomo",
                  "TUITIONFEE_IN": 0,
                  "_deepnote_index_column": 7373
                },
                {
                  "INSTNM": "Ross Medical Education Center-Erlanger",
                  "TUITIONFEE_IN": 0,
                  "_deepnote_index_column": 7374
                },
                {
                  "INSTNM": "Ross Medical Education Center-Charleston",
                  "TUITIONFEE_IN": 0,
                  "_deepnote_index_column": 7375
                },
                {
                  "INSTNM": "Cortiva Institute-Houston",
                  "TUITIONFEE_IN": 0,
                  "_deepnote_index_column": 7377
                },
                {
                  "INSTNM": "InterCoast Colleges-Fairfield",
                  "TUITIONFEE_IN": 0,
                  "_deepnote_index_column": 7378
                },
                {
                  "INSTNM": "Southern Careers Institute-San Antonio",
                  "TUITIONFEE_IN": 0,
                  "_deepnote_index_column": 7380
                },
                {
                  "INSTNM": "Milan Institute of Cosmetology-Nampa",
                  "TUITIONFEE_IN": 0,
                  "_deepnote_index_column": 7382
                },
                {
                  "INSTNM": "Milan Institute-Merced",
                  "TUITIONFEE_IN": 0,
                  "_deepnote_index_column": 7383
                },
                {
                  "INSTNM": "Midwest Technical Institute-Springfield",
                  "TUITIONFEE_IN": 0,
                  "_deepnote_index_column": 7384
                },
                {
                  "INSTNM": "Finger Lakes School of Massage",
                  "TUITIONFEE_IN": 0,
                  "_deepnote_index_column": 7385
                },
                {
                  "INSTNM": "Trenz Beauty Academy",
                  "TUITIONFEE_IN": 0,
                  "_deepnote_index_column": 7388
                },
                {
                  "INSTNM": "Paul Mitchell the School-Denver",
                  "TUITIONFEE_IN": 0,
                  "_deepnote_index_column": 7389
                },
                {
                  "INSTNM": "Arrojo Cosmetology School",
                  "TUITIONFEE_IN": 0,
                  "_deepnote_index_column": 7391
                },
                {
                  "INSTNM": "Cosmetology Academy of Texarkana",
                  "TUITIONFEE_IN": 0,
                  "_deepnote_index_column": 7392
                },
                {
                  "INSTNM": "Lynnes Welding Training",
                  "TUITIONFEE_IN": 0,
                  "_deepnote_index_column": 7394
                },
                {
                  "INSTNM": "Tulsa Technology Center-Owasso Campus",
                  "TUITIONFEE_IN": 0,
                  "_deepnote_index_column": 7396
                },
                {
                  "INSTNM": "Tulsa Technology Center-Sand Springs Campus",
                  "TUITIONFEE_IN": 0,
                  "_deepnote_index_column": 7397
                },
                {
                  "INSTNM": "Northeastern University Lifelong Learning Network",
                  "TUITIONFEE_IN": 0,
                  "_deepnote_index_column": 7436
                },
                {
                  "INSTNM": "American Institute-Toms River",
                  "TUITIONFEE_IN": 0,
                  "_deepnote_index_column": 7439
                },
                {
                  "INSTNM": "American College of Healthcare and Technology",
                  "TUITIONFEE_IN": 0,
                  "_deepnote_index_column": 7441
                },
                {
                  "INSTNM": "Texas A&M University-Central Texas",
                  "TUITIONFEE_IN": 0,
                  "_deepnote_index_column": 7442
                },
                {
                  "INSTNM": "Barber School of Pittsburgh",
                  "TUITIONFEE_IN": 0,
                  "_deepnote_index_column": 7444
                },
                {
                  "INSTNM": "Innovate Salon Academy",
                  "TUITIONFEE_IN": 0,
                  "_deepnote_index_column": 7445
                },
                {
                  "INSTNM": "Global MBA Latin American Managers Program Satellite Campus",
                  "TUITIONFEE_IN": 0,
                  "_deepnote_index_column": 7453
                },
                {
                  "INSTNM": "Arkansas College of Barbering and Hair Design",
                  "TUITIONFEE_IN": 0,
                  "_deepnote_index_column": 7454
                },
                {
                  "INSTNM": "Career Academy of Hair Design-Siloam Springs",
                  "TUITIONFEE_IN": 0,
                  "_deepnote_index_column": 7456
                },
                {
                  "INSTNM": "Career Academy of Hair Design-Rogers",
                  "TUITIONFEE_IN": 0,
                  "_deepnote_index_column": 7457
                },
                {
                  "INSTNM": "Career Academy of Hair Design-Fayetteville",
                  "TUITIONFEE_IN": 0,
                  "_deepnote_index_column": 7458
                },
                {
                  "INSTNM": "Alliant International University-Fresno",
                  "TUITIONFEE_IN": 0,
                  "_deepnote_index_column": 7459
                },
                {
                  "INSTNM": "Alliant International University-Los Angeles",
                  "TUITIONFEE_IN": 0,
                  "_deepnote_index_column": 7460
                },
                {
                  "INSTNM": "Alliant International University-San Francisco",
                  "TUITIONFEE_IN": 0,
                  "_deepnote_index_column": 7461
                },
                {
                  "INSTNM": "Alliant International University-Irvine",
                  "TUITIONFEE_IN": 0,
                  "_deepnote_index_column": 7462
                },
                {
                  "INSTNM": "Alliant International University-Sacramento",
                  "TUITIONFEE_IN": 0,
                  "_deepnote_index_column": 7463
                },
                {
                  "INSTNM": "Casa Loma College-Anaheim Campus",
                  "TUITIONFEE_IN": 0,
                  "_deepnote_index_column": 7464
                },
                {
                  "INSTNM": "Marinello School of Beauty-Bell",
                  "TUITIONFEE_IN": 0,
                  "_deepnote_index_column": 7465
                },
                {
                  "INSTNM": "Marinello School of Beauty-City of Industry",
                  "TUITIONFEE_IN": 0,
                  "_deepnote_index_column": 7466
                },
                {
                  "INSTNM": "Marinello School of Beauty-Paramount",
                  "TUITIONFEE_IN": 0,
                  "_deepnote_index_column": 7467
                },
                {
                  "INSTNM": "Marinello School of Beauty-Huntington Beach",
                  "TUITIONFEE_IN": 0,
                  "_deepnote_index_column": 7468
                },
                {
                  "INSTNM": "Marinello School of Beauty-Layton",
                  "TUITIONFEE_IN": 0,
                  "_deepnote_index_column": 7469
                },
                {
                  "INSTNM": "Marinello School of Beauty-Ogden",
                  "TUITIONFEE_IN": 0,
                  "_deepnote_index_column": 7470
                },
                {
                  "INSTNM": "Marinello School of Beauty-Cathedral City",
                  "TUITIONFEE_IN": 0,
                  "_deepnote_index_column": 7471
                },
                {
                  "INSTNM": "Marinello School of Beauty-Murrieta",
                  "TUITIONFEE_IN": 0,
                  "_deepnote_index_column": 7472
                },
                {
                  "INSTNM": "Marinello School of Beauty-Napa",
                  "TUITIONFEE_IN": 0,
                  "_deepnote_index_column": 7473
                },
                {
                  "INSTNM": "Marinello School of Beauty-Seaside",
                  "TUITIONFEE_IN": 0,
                  "_deepnote_index_column": 7474
                },
                {
                  "INSTNM": "Marinello School of Beauty-San Mateo",
                  "TUITIONFEE_IN": 0,
                  "_deepnote_index_column": 7475
                },
                {
                  "INSTNM": "Marinello School of Beauty-Hayward",
                  "TUITIONFEE_IN": 0,
                  "_deepnote_index_column": 7476
                },
                {
                  "INSTNM": "Marinello School of Beauty-Castro Valley",
                  "TUITIONFEE_IN": 0,
                  "_deepnote_index_column": 7477
                },
                {
                  "INSTNM": "Marinello School of Beauty-Palmdale",
                  "TUITIONFEE_IN": 0,
                  "_deepnote_index_column": 7478
                },
                {
                  "INSTNM": "Marinello School of Beauty-San Rafael",
                  "TUITIONFEE_IN": 0,
                  "_deepnote_index_column": 7479
                },
                {
                  "INSTNM": "San Jose Campus",
                  "TUITIONFEE_IN": 0,
                  "_deepnote_index_column": 7480
                },
                {
                  "INSTNM": "Franciscan School of Theology",
                  "TUITIONFEE_IN": 0,
                  "_deepnote_index_column": 7481
                },
                {
                  "INSTNM": "Golden Gate University-Los Angeles",
                  "TUITIONFEE_IN": 0,
                  "_deepnote_index_column": 7482
                },
                {
                  "INSTNM": "Golden Gate University-Seattle",
                  "TUITIONFEE_IN": 0,
                  "_deepnote_index_column": 7483
                },
                {
                  "INSTNM": "Golden Gate University-Silicon Valley",
                  "TUITIONFEE_IN": 0,
                  "_deepnote_index_column": 7484
                },
                {
                  "INSTNM": "International School of Cosmetology",
                  "TUITIONFEE_IN": 0,
                  "_deepnote_index_column": 7486
                },
                {
                  "INSTNM": "Marinello School of Beauty-Whittier",
                  "TUITIONFEE_IN": 0,
                  "_deepnote_index_column": 7488
                },
                {
                  "INSTNM": "Marinello School of Beauty-Reseda",
                  "TUITIONFEE_IN": 0,
                  "_deepnote_index_column": 7489
                },
                {
                  "INSTNM": "Marinello School of Beauty-Ontario",
                  "TUITIONFEE_IN": 0,
                  "_deepnote_index_column": 7490
                },
                {
                  "INSTNM": "Marinello School of Beauty-San Diego",
                  "TUITIONFEE_IN": 0,
                  "_deepnote_index_column": 7491
                },
                {
                  "INSTNM": "Marinello School of Beauty-San Bernardino",
                  "TUITIONFEE_IN": 0,
                  "_deepnote_index_column": 7492
                },
                {
                  "INSTNM": "Marinello School of Beauty-West Covina",
                  "TUITIONFEE_IN": 0,
                  "_deepnote_index_column": 7493
                },
                {
                  "INSTNM": "Marinello School of Beauty-West Los Angeles",
                  "TUITIONFEE_IN": 0,
                  "_deepnote_index_column": 7494
                },
                {
                  "INSTNM": "Marinello School of Beauty-Inglewood",
                  "TUITIONFEE_IN": 0,
                  "_deepnote_index_column": 7495
                },
                {
                  "INSTNM": "Marinello School of Beauty-El Cajon",
                  "TUITIONFEE_IN": 0,
                  "_deepnote_index_column": 7496
                },
                {
                  "INSTNM": "Marinello School of Beauty-Victorville",
                  "TUITIONFEE_IN": 0,
                  "_deepnote_index_column": 7497
                },
                {
                  "INSTNM": "Marinello School of Beauty-Anaheim",
                  "TUITIONFEE_IN": 0,
                  "_deepnote_index_column": 7498
                },
                {
                  "INSTNM": "Marinello School of Beauty-Simi Valley",
                  "TUITIONFEE_IN": 0,
                  "_deepnote_index_column": 7499
                },
                {
                  "INSTNM": "Marinello School of Beauty-Lomita",
                  "TUITIONFEE_IN": 0,
                  "_deepnote_index_column": 7500
                },
                {
                  "INSTNM": "Marinello School of Beauty-Chico",
                  "TUITIONFEE_IN": 0,
                  "_deepnote_index_column": 7501
                },
                {
                  "INSTNM": "Marinello School of Beauty-Redding",
                  "TUITIONFEE_IN": 0,
                  "_deepnote_index_column": 7502
                },
                {
                  "INSTNM": "Marinello School of Beauty-Fresno",
                  "TUITIONFEE_IN": 0,
                  "_deepnote_index_column": 7503
                },
                {
                  "INSTNM": "Jesuit School of Theology of Santa Clara University",
                  "TUITIONFEE_IN": 0,
                  "_deepnote_index_column": 7508
                },
                {
                  "INSTNM": "Pinnacle College-Sacramento",
                  "TUITIONFEE_IN": 0,
                  "_deepnote_index_column": 7509
                },
                {
                  "INSTNM": "Marinello School of Beauty-Bakersfield",
                  "TUITIONFEE_IN": 0,
                  "_deepnote_index_column": 7510
                },
                {
                  "INSTNM": "Marinello School of Beauty-Visalia",
                  "TUITIONFEE_IN": 0,
                  "_deepnote_index_column": 7511
                },
                {
                  "INSTNM": "UEI College",
                  "TUITIONFEE_IN": 0,
                  "_deepnote_index_column": 7512
                },
                {
                  "INSTNM": "UEI College",
                  "TUITIONFEE_IN": 0,
                  "_deepnote_index_column": 7513
                },
                {
                  "INSTNM": "UEI College",
                  "TUITIONFEE_IN": 0,
                  "_deepnote_index_column": 7514
                },
                {
                  "INSTNM": "UEI College",
                  "TUITIONFEE_IN": 0,
                  "_deepnote_index_column": 7515
                },
                {
                  "INSTNM": "UEI College",
                  "TUITIONFEE_IN": 0,
                  "_deepnote_index_column": 7516
                },
                {
                  "INSTNM": "United Education Institute",
                  "TUITIONFEE_IN": 0,
                  "_deepnote_index_column": 7517
                },
                {
                  "INSTNM": "UEI",
                  "TUITIONFEE_IN": 0,
                  "_deepnote_index_column": 7518
                },
                {
                  "INSTNM": "UEI College",
                  "TUITIONFEE_IN": 0,
                  "_deepnote_index_column": 7519
                },
                {
                  "INSTNM": "UEI College",
                  "TUITIONFEE_IN": 0,
                  "_deepnote_index_column": 7520
                },
                {
                  "INSTNM": "Marinello School of Beauty-Hamden",
                  "TUITIONFEE_IN": 0,
                  "_deepnote_index_column": 7522
                },
                {
                  "INSTNM": "Marinello School of Beauty-Fairfield",
                  "TUITIONFEE_IN": 0,
                  "_deepnote_index_column": 7523
                },
                {
                  "INSTNM": "Marinello School of Beauty-Willimantic",
                  "TUITIONFEE_IN": 0,
                  "_deepnote_index_column": 7524
                },
                {
                  "INSTNM": "Barry University Law School",
                  "TUITIONFEE_IN": 0,
                  "_deepnote_index_column": 7533
                },
                {
                  "INSTNM": "Manhattan Hairstyling Academy - North",
                  "TUITIONFEE_IN": 0,
                  "_deepnote_index_column": 7548
                },
                {
                  "INSTNM": "Moody Theological Seminary and Graduate School--Michigan",
                  "TUITIONFEE_IN": 0,
                  "_deepnote_index_column": 7556
                },
                {
                  "INSTNM": "Saint Anthony College of Nursing - Highland Community College Campus",
                  "TUITIONFEE_IN": 0,
                  "_deepnote_index_column": 7558
                },
                {
                  "INSTNM": "PJ's College of Cosmetology- Brownsburg",
                  "TUITIONFEE_IN": 0,
                  "_deepnote_index_column": 7559
                },
                {
                  "INSTNM": "PJ's College of Cosmetology-Crestwood",
                  "TUITIONFEE_IN": 0,
                  "_deepnote_index_column": 7560
                },
                {
                  "INSTNM": "PJ's College of Cosmetology- Jeffersonville",
                  "TUITIONFEE_IN": 0,
                  "_deepnote_index_column": 7561
                },
                {
                  "INSTNM": "Graceland University - Independence",
                  "TUITIONFEE_IN": 0,
                  "_deepnote_index_column": 7586
                },
                {
                  "INSTNM": "Baker University School of Nursing",
                  "TUITIONFEE_IN": 0,
                  "_deepnote_index_column": 7587
                },
                {
                  "INSTNM": "Baker University School of Professional and Graduate Studies and Graduate School of Education",
                  "TUITIONFEE_IN": 0,
                  "_deepnote_index_column": 7588
                },
                {
                  "INSTNM": "Marinello School of Beauty-Lawrence",
                  "TUITIONFEE_IN": 0,
                  "_deepnote_index_column": 7592
                },
                {
                  "INSTNM": "PJ's College of Cosmetology- Greenfield",
                  "TUITIONFEE_IN": 0,
                  "_deepnote_index_column": 7593
                },
                {
                  "INSTNM": "PJ's College of Cosmetology- Muncie",
                  "TUITIONFEE_IN": 0,
                  "_deepnote_index_column": 7594
                },
                {
                  "INSTNM": "PJ's College of Cosmetology- Indianapolis",
                  "TUITIONFEE_IN": 0,
                  "_deepnote_index_column": 7595
                },
                {
                  "INSTNM": "PJ's College of Cosmetology- Plainfield",
                  "TUITIONFEE_IN": 0,
                  "_deepnote_index_column": 7596
                },
                {
                  "INSTNM": "PJ's College of Cosmetology- Louisville",
                  "TUITIONFEE_IN": 0,
                  "_deepnote_index_column": 7597
                },
                {
                  "INSTNM": "Empire Beauty School-Caribou",
                  "TUITIONFEE_IN": 0,
                  "_deepnote_index_column": 7598
                },
                {
                  "INSTNM": "Empire Beauty School-Bangor",
                  "TUITIONFEE_IN": 0,
                  "_deepnote_index_column": 7599
                },
                {
                  "INSTNM": "Empire Beauty School-Waterville",
                  "TUITIONFEE_IN": 0,
                  "_deepnote_index_column": 7600
                },
                {
                  "INSTNM": "International Beauty School",
                  "TUITIONFEE_IN": 0,
                  "_deepnote_index_column": 7601
                },
                {
                  "INSTNM": "Wentworth Institute of Technology",
                  "TUITIONFEE_IN": 0,
                  "_deepnote_index_column": 7602
                },
                {
                  "INSTNM": "Wentworth Institute of Technology",
                  "TUITIONFEE_IN": 0,
                  "_deepnote_index_column": 7603
                },
                {
                  "INSTNM": "Wentworth Institute of Technology",
                  "TUITIONFEE_IN": 0,
                  "_deepnote_index_column": 7604
                },
                {
                  "INSTNM": "Davenport University-Grand Rapids Downtown",
                  "TUITIONFEE_IN": 0,
                  "_deepnote_index_column": 7616
                },
                {
                  "INSTNM": "Marinello School of Beauty-Henderson",
                  "TUITIONFEE_IN": 0,
                  "_deepnote_index_column": 7639
                },
                {
                  "INSTNM": "Marinello School of Beauty",
                  "TUITIONFEE_IN": 0,
                  "_deepnote_index_column": 7640
                },
                {
                  "INSTNM": "New Hampshire Institute for Therapeutic Arts",
                  "TUITIONFEE_IN": 0,
                  "_deepnote_index_column": 7641
                },
                {
                  "INSTNM": "American Institute",
                  "TUITIONFEE_IN": 0,
                  "_deepnote_index_column": 7642
                },
                {
                  "INSTNM": "Montpelier Center - Closed July 2013",
                  "TUITIONFEE_IN": 0,
                  "_deepnote_index_column": 7654
                },
                {
                  "INSTNM": "Brattleboro Center - Closed July 2013",
                  "TUITIONFEE_IN": 0,
                  "_deepnote_index_column": 7655
                },
                {
                  "INSTNM": "Corban University Bellevue Washington Campus",
                  "TUITIONFEE_IN": 0,
                  "_deepnote_index_column": 7657
                },
                {
                  "INSTNM": "Western Seminary-San Jose",
                  "TUITIONFEE_IN": 0,
                  "_deepnote_index_column": 7658
                },
                {
                  "INSTNM": "Western Seminary-Sacramento",
                  "TUITIONFEE_IN": 0,
                  "_deepnote_index_column": 7659
                },
                {
                  "INSTNM": "The Beauty Institute",
                  "TUITIONFEE_IN": 0,
                  "_deepnote_index_column": 7660
                },
                {
                  "INSTNM": "New Castle School of Trades",
                  "TUITIONFEE_IN": 0,
                  "_deepnote_index_column": 7667
                },
                {
                  "INSTNM": "Villanova University - Summer Music Studies Program",
                  "TUITIONFEE_IN": 0,
                  "_deepnote_index_column": 7669
                },
                {
                  "INSTNM": "Spark",
                  "TUITIONFEE_IN": 0,
                  "_deepnote_index_column": 7672
                },
                {
                  "INSTNM": "Southwest School of Business and Technical Careers-South Texas",
                  "TUITIONFEE_IN": 0,
                  "_deepnote_index_column": 7676
                },
                {
                  "INSTNM": "Southwest School of Business and Technical Careers-Corpus Christi",
                  "TUITIONFEE_IN": 0,
                  "_deepnote_index_column": 7677
                },
                {
                  "INSTNM": "Union Presbyterian Seminary-Charlotte",
                  "TUITIONFEE_IN": 0,
                  "_deepnote_index_column": 7690
                },
                {
                  "INSTNM": "Fremont College",
                  "TUITIONFEE_IN": 0,
                  "_deepnote_index_column": 7716
                },
                {
                  "INSTNM": "Rob Roy Academy - Woonsocket",
                  "TUITIONFEE_IN": 0,
                  "_deepnote_index_column": 7717
                },
                {
                  "INSTNM": "CC's Cosmetology College",
                  "TUITIONFEE_IN": 0,
                  "_deepnote_index_column": 7718
                },
                {
                  "INSTNM": "CC's Cosmetology College",
                  "TUITIONFEE_IN": 0,
                  "_deepnote_index_column": 7719
                },
                {
                  "INSTNM": "CC's Cosmetology College-Texarkana",
                  "TUITIONFEE_IN": 0,
                  "_deepnote_index_column": 7720
                },
                {
                  "INSTNM": "CC's Cosmetology College-Texarkana",
                  "TUITIONFEE_IN": 0,
                  "_deepnote_index_column": 7721
                },
                {
                  "INSTNM": "YTI Career Institute - Altoona",
                  "TUITIONFEE_IN": 0,
                  "_deepnote_index_column": 7722
                },
                {
                  "INSTNM": "Nuvani Institute-Uvalde",
                  "TUITIONFEE_IN": 0,
                  "_deepnote_index_column": 7723
                },
                {
                  "INSTNM": "Nuvani Institute-San Antonio",
                  "TUITIONFEE_IN": 0,
                  "_deepnote_index_column": 7724
                },
                {
                  "INSTNM": "Nuvani Institute-Del Rio",
                  "TUITIONFEE_IN": 0,
                  "_deepnote_index_column": 7725
                },
                {
                  "INSTNM": "Nuvani Institute-North Campus",
                  "TUITIONFEE_IN": 0,
                  "_deepnote_index_column": 7726
                },
                {
                  "INSTNM": "Nuvani Institute-South Campus",
                  "TUITIONFEE_IN": 0,
                  "_deepnote_index_column": 7727
                },
                {
                  "INSTNM": "Westech College",
                  "TUITIONFEE_IN": 0,
                  "_deepnote_index_column": 7728
                },
                {
                  "INSTNM": "Westech College",
                  "TUITIONFEE_IN": 0,
                  "_deepnote_index_column": 7729
                },
                {
                  "INSTNM": "UEI College",
                  "TUITIONFEE_IN": 0,
                  "_deepnote_index_column": 7732
                },
                {
                  "INSTNM": "UEI College-Bakersfield",
                  "TUITIONFEE_IN": 0,
                  "_deepnote_index_column": 7733
                },
                {
                  "INSTNM": "Marinello School of Beauty-Concord",
                  "TUITIONFEE_IN": 0,
                  "_deepnote_index_column": 7738
                },
                {
                  "INSTNM": "Marinello School of Beauty-Stockton",
                  "TUITIONFEE_IN": 0,
                  "_deepnote_index_column": 7739
                },
                {
                  "INSTNM": "Connecticut Aero Tech  School",
                  "TUITIONFEE_IN": 0,
                  "_deepnote_index_column": 7740
                },
                {
                  "INSTNM": "Compu-Med Vocational Careers Corp",
                  "TUITIONFEE_IN": 0,
                  "_deepnote_index_column": 7741
                },
                {
                  "INSTNM": "Franklin Career Institute",
                  "TUITIONFEE_IN": 0,
                  "_deepnote_index_column": 7752
                },
                {
                  "INSTNM": "IYRS School of Technology & Trades",
                  "TUITIONFEE_IN": 0,
                  "_deepnote_index_column": 7753
                },
                {
                  "INSTNM": "Central Florida Institute",
                  "TUITIONFEE_IN": 0,
                  "_deepnote_index_column": 7760
                },
                {
                  "INSTNM": "Marinello School of Beauty-Wichita",
                  "TUITIONFEE_IN": 0,
                  "_deepnote_index_column": 7761
                },
                {
                  "INSTNM": "Marinello School of Beauty-Overland Park",
                  "TUITIONFEE_IN": 0,
                  "_deepnote_index_column": 7762
                },
                {
                  "INSTNM": "Texas Barber College - Branch Campus #1",
                  "TUITIONFEE_IN": 0,
                  "_deepnote_index_column": 7763
                },
                {
                  "INSTNM": "Texas Barber College - Branch Campus #2",
                  "TUITIONFEE_IN": 0,
                  "_deepnote_index_column": 7764
                },
                {
                  "INSTNM": "Texas Barber Colleges and Hairstyling Schools Branch Campus #6",
                  "TUITIONFEE_IN": 0,
                  "_deepnote_index_column": 7765
                },
                {
                  "INSTNM": "Texas Barber College - Branch Campus #5",
                  "TUITIONFEE_IN": 0,
                  "_deepnote_index_column": 7766
                },
                {
                  "INSTNM": "Texas Barber Colleges and Hairstyling Schools Branch Campus #7",
                  "TUITIONFEE_IN": 0,
                  "_deepnote_index_column": 7767
                },
                {
                  "INSTNM": "Design's School of Cosmetology",
                  "TUITIONFEE_IN": 0,
                  "_deepnote_index_column": 7768
                },
                {
                  "INSTNM": "Southeastern Institute-Nashville",
                  "TUITIONFEE_IN": 0,
                  "_deepnote_index_column": 7769
                },
                {
                  "INSTNM": "New Directions Beauty Institute",
                  "TUITIONFEE_IN": 0,
                  "_deepnote_index_column": 7779
                },
                {
                  "INSTNM": "Marinello School of Beauty-Torrington",
                  "TUITIONFEE_IN": 0,
                  "_deepnote_index_column": 7780
                },
                {
                  "INSTNM": "Marinello School of Beauty-Enfield",
                  "TUITIONFEE_IN": 0,
                  "_deepnote_index_column": 7781
                },
                {
                  "INSTNM": "Marinello School of Beauty-Northampton",
                  "TUITIONFEE_IN": 0,
                  "_deepnote_index_column": 7782
                },
                {
                  "INSTNM": "Blake Austin College Beauty Academy",
                  "TUITIONFEE_IN": 0,
                  "_deepnote_index_column": 7783
                },
                {
                  "INSTNM": "Make-up Designory",
                  "TUITIONFEE_IN": 0,
                  "_deepnote_index_column": 7798
                },
                {
                  "INSTNM": "CCI Training Center-Dallas",
                  "TUITIONFEE_IN": 0,
                  "_deepnote_index_column": 7802
                },
                {
                  "INSTNM": "Cambridge College of Healthcare & Technology",
                  "TUITIONFEE_IN": 0,
                  "_deepnote_index_column": 7817
                },
                {
                  "INSTNM": "Professional Hands Institute",
                  "TUITIONFEE_IN": 0,
                  "_deepnote_index_column": 7818
                },
                {
                  "INSTNM": "Professional Hands Institute",
                  "TUITIONFEE_IN": 0,
                  "_deepnote_index_column": 7819
                },
                {
                  "INSTNM": "Utah County Campus",
                  "TUITIONFEE_IN": 0,
                  "_deepnote_index_column": 7820
                },
                {
                  "INSTNM": "Park West Barber School",
                  "TUITIONFEE_IN": 0,
                  "_deepnote_index_column": 7826
                },
                {
                  "INSTNM": "Park West Barber School",
                  "TUITIONFEE_IN": 0,
                  "_deepnote_index_column": 7827
                },
                {
                  "INSTNM": "Twin Rivers Adult School - Grand Avenue Center",
                  "TUITIONFEE_IN": 0,
                  "_deepnote_index_column": 7847
                },
                {
                  "INSTNM": "Twin Rivers Adult School - Arnold Avenue Center",
                  "TUITIONFEE_IN": 0,
                  "_deepnote_index_column": 7848
                },
                {
                  "INSTNM": "Greater Sacramento Urban League",
                  "TUITIONFEE_IN": 0,
                  "_deepnote_index_column": 7849
                },
                {
                  "INSTNM": "I-TAP",
                  "TUITIONFEE_IN": 0,
                  "_deepnote_index_column": 7850
                },
                {
                  "INSTNM": "WestMed College - Merced",
                  "TUITIONFEE_IN": 0,
                  "_deepnote_index_column": 7851
                },
                {
                  "INSTNM": "Vantage College",
                  "TUITIONFEE_IN": 0,
                  "_deepnote_index_column": 7852
                },
                {
                  "INSTNM": "Vantage College",
                  "TUITIONFEE_IN": 0,
                  "_deepnote_index_column": 7853
                },
                {
                  "INSTNM": "SAE Institute of Technology San Francisco",
                  "TUITIONFEE_IN": 0,
                  "_deepnote_index_column": 7854
                },
                {
                  "INSTNM": "National Personal Training Institute of Cleveland",
                  "TUITIONFEE_IN": 0,
                  "_deepnote_index_column": 7860
                }
              ]
            },
            "text/plain": "                                                 INSTNM  TUITIONFEE_IN\n7                               Athens State University            0.0\n18                 New Beginning College of Cosmetology            0.0\n59                         United States Sports Academy            0.0\n66                   Alaska Vocational Technical Center            0.0\n69                                Alaska Career College            0.0\n...                                                 ...            ...\n7851                           WestMed College - Merced            0.0\n7852                                    Vantage College            0.0\n7853                                    Vantage College            0.0\n7854          SAE Institute of Technology San Francisco            0.0\n7860  National Personal Training Institute of Cleveland            0.0\n\n[3344 rows x 2 columns]",
            "text/html": "<div>\n<style scoped>\n    .dataframe tbody tr th:only-of-type {\n        vertical-align: middle;\n    }\n\n    .dataframe tbody tr th {\n        vertical-align: top;\n    }\n\n    .dataframe thead th {\n        text-align: right;\n    }\n</style>\n<table border=\"1\" class=\"dataframe\">\n  <thead>\n    <tr style=\"text-align: right;\">\n      <th></th>\n      <th>INSTNM</th>\n      <th>TUITIONFEE_IN</th>\n    </tr>\n  </thead>\n  <tbody>\n    <tr>\n      <th>7</th>\n      <td>Athens State University</td>\n      <td>0.0</td>\n    </tr>\n    <tr>\n      <th>18</th>\n      <td>New Beginning College of Cosmetology</td>\n      <td>0.0</td>\n    </tr>\n    <tr>\n      <th>59</th>\n      <td>United States Sports Academy</td>\n      <td>0.0</td>\n    </tr>\n    <tr>\n      <th>66</th>\n      <td>Alaska Vocational Technical Center</td>\n      <td>0.0</td>\n    </tr>\n    <tr>\n      <th>69</th>\n      <td>Alaska Career College</td>\n      <td>0.0</td>\n    </tr>\n    <tr>\n      <th>...</th>\n      <td>...</td>\n      <td>...</td>\n    </tr>\n    <tr>\n      <th>7851</th>\n      <td>WestMed College - Merced</td>\n      <td>0.0</td>\n    </tr>\n    <tr>\n      <th>7852</th>\n      <td>Vantage College</td>\n      <td>0.0</td>\n    </tr>\n    <tr>\n      <th>7853</th>\n      <td>Vantage College</td>\n      <td>0.0</td>\n    </tr>\n    <tr>\n      <th>7854</th>\n      <td>SAE Institute of Technology San Francisco</td>\n      <td>0.0</td>\n    </tr>\n    <tr>\n      <th>7860</th>\n      <td>National Personal Training Institute of Cleveland</td>\n      <td>0.0</td>\n    </tr>\n  </tbody>\n</table>\n<p>3344 rows × 2 columns</p>\n</div>"
          },
          "metadata": {}
        }
      ]
    },
    {
      "cell_type": "code",
      "metadata": {
        "tags": [],
        "cell_id": "00009-7756cea2-7f7c-49e0-a4a8-eaade4acc830",
        "deepnote_to_be_reexecuted": false,
        "source_hash": "60d233c3",
        "execution_millis": 92,
        "execution_start": 1618682809690,
        "deepnote_cell_type": "code"
      },
      "source": "# 8 - Drop those observations with 0 tuition\n# Display the number of observations afterward\n\ndf= df[df['TUITIONFEE_IN'] != 0]\ndf",
      "execution_count": 9,
      "outputs": [
        {
          "output_type": "execute_result",
          "execution_count": 9,
          "data": {
            "application/vnd.deepnote.dataframe.v2+json": {
              "row_count": 4525,
              "column_count": 2,
              "columns": [
                {
                  "name": "INSTNM",
                  "dtype": "object",
                  "stats": {
                    "unique_count": 4456,
                    "nan_count": 0,
                    "categories": [
                      {
                        "name": "Stevens-Henager College",
                        "count": 7
                      },
                      {
                        "name": "McCann School of Business & Technology",
                        "count": 7
                      },
                      {
                        "name": "4454 others",
                        "count": 4511
                      }
                    ]
                  }
                },
                {
                  "name": "TUITIONFEE_IN",
                  "dtype": "float64",
                  "stats": {
                    "unique_count": 3044,
                    "nan_count": 0,
                    "min": "80.0",
                    "max": "64900.0",
                    "histogram": [
                      {
                        "bin_start": 80,
                        "bin_end": 6562,
                        "count": 1385
                      },
                      {
                        "bin_start": 6562,
                        "bin_end": 13044,
                        "count": 1045
                      },
                      {
                        "bin_start": 13044,
                        "bin_end": 19526,
                        "count": 1141
                      },
                      {
                        "bin_start": 19526,
                        "bin_end": 26008,
                        "count": 330
                      },
                      {
                        "bin_start": 26008,
                        "bin_end": 32490,
                        "count": 287
                      },
                      {
                        "bin_start": 32490,
                        "bin_end": 38972,
                        "count": 170
                      },
                      {
                        "bin_start": 38972,
                        "bin_end": 45454,
                        "count": 118
                      },
                      {
                        "bin_start": 45454,
                        "bin_end": 51936,
                        "count": 48
                      },
                      {
                        "bin_start": 51936,
                        "bin_end": 58418,
                        "count": 0
                      },
                      {
                        "bin_start": 58418,
                        "bin_end": 64900,
                        "count": 1
                      }
                    ]
                  }
                },
                {
                  "name": "_deepnote_index_column",
                  "dtype": "int64"
                }
              ],
              "rows_top": [
                {
                  "INSTNM": "Alabama A & M University",
                  "TUITIONFEE_IN": 7182,
                  "_deepnote_index_column": 0
                },
                {
                  "INSTNM": "University of Alabama at Birmingham",
                  "TUITIONFEE_IN": 7206,
                  "_deepnote_index_column": 1
                },
                {
                  "INSTNM": "Amridge University",
                  "TUITIONFEE_IN": 6870,
                  "_deepnote_index_column": 2
                },
                {
                  "INSTNM": "University of Alabama in Huntsville",
                  "TUITIONFEE_IN": 9192,
                  "_deepnote_index_column": 3
                },
                {
                  "INSTNM": "Alabama State University",
                  "TUITIONFEE_IN": 8720,
                  "_deepnote_index_column": 4
                },
                {
                  "INSTNM": "The University of Alabama",
                  "TUITIONFEE_IN": 9450,
                  "_deepnote_index_column": 5
                },
                {
                  "INSTNM": "Central Alabama Community College",
                  "TUITIONFEE_IN": 4200,
                  "_deepnote_index_column": 6
                },
                {
                  "INSTNM": "Auburn University at Montgomery",
                  "TUITIONFEE_IN": 8750,
                  "_deepnote_index_column": 8
                },
                {
                  "INSTNM": "Auburn University",
                  "TUITIONFEE_IN": 9852,
                  "_deepnote_index_column": 9
                },
                {
                  "INSTNM": "Birmingham-Southern College",
                  "TUITIONFEE_IN": 30690,
                  "_deepnote_index_column": 10
                },
                {
                  "INSTNM": "Chattahoochee Valley Community College",
                  "TUITIONFEE_IN": 4260,
                  "_deepnote_index_column": 11
                },
                {
                  "INSTNM": "Concordia College Alabama",
                  "TUITIONFEE_IN": 8090,
                  "_deepnote_index_column": 12
                },
                {
                  "INSTNM": "South University-Montgomery",
                  "TUITIONFEE_IN": 16360,
                  "_deepnote_index_column": 13
                },
                {
                  "INSTNM": "Enterprise State Community College",
                  "TUITIONFEE_IN": 3780,
                  "_deepnote_index_column": 14
                },
                {
                  "INSTNM": "Coastal Alabama Community College",
                  "TUITIONFEE_IN": 4200,
                  "_deepnote_index_column": 15
                },
                {
                  "INSTNM": "Faulkner University",
                  "TUITIONFEE_IN": 18230,
                  "_deepnote_index_column": 16
                },
                {
                  "INSTNM": "Gadsden State Community College",
                  "TUITIONFEE_IN": 3900,
                  "_deepnote_index_column": 17
                },
                {
                  "INSTNM": "George C Wallace Community College-Dothan",
                  "TUITIONFEE_IN": 3900,
                  "_deepnote_index_column": 19
                },
                {
                  "INSTNM": "George C Wallace State Community College-Hanceville",
                  "TUITIONFEE_IN": 4200,
                  "_deepnote_index_column": 20
                },
                {
                  "INSTNM": "George C Wallace State Community College-Selma",
                  "TUITIONFEE_IN": 3900,
                  "_deepnote_index_column": 21
                },
                {
                  "INSTNM": "Herzing University-Birmingham",
                  "TUITIONFEE_IN": 11150,
                  "_deepnote_index_column": 22
                },
                {
                  "INSTNM": "Huntingdon College",
                  "TUITIONFEE_IN": 23500,
                  "_deepnote_index_column": 23
                },
                {
                  "INSTNM": "Heritage Christian University",
                  "TUITIONFEE_IN": 9792,
                  "_deepnote_index_column": 24
                },
                {
                  "INSTNM": "J. F. Drake State Community and Technical College",
                  "TUITIONFEE_IN": 3336,
                  "_deepnote_index_column": 25
                },
                {
                  "INSTNM": "J F Ingram State Technical College",
                  "TUITIONFEE_IN": 4608,
                  "_deepnote_index_column": 26
                },
                {
                  "INSTNM": "Jacksonville State University",
                  "TUITIONFEE_IN": 7092,
                  "_deepnote_index_column": 27
                },
                {
                  "INSTNM": "Jefferson Davis Community College",
                  "TUITIONFEE_IN": 3908,
                  "_deepnote_index_column": 28
                },
                {
                  "INSTNM": "Jefferson State Community College",
                  "TUITIONFEE_IN": 4260,
                  "_deepnote_index_column": 29
                },
                {
                  "INSTNM": "John C Calhoun State Community College",
                  "TUITIONFEE_IN": 4140,
                  "_deepnote_index_column": 30
                },
                {
                  "INSTNM": "Judson College",
                  "TUITIONFEE_IN": 15630,
                  "_deepnote_index_column": 31
                },
                {
                  "INSTNM": "Lawson State Community College",
                  "TUITIONFEE_IN": 4230,
                  "_deepnote_index_column": 32
                },
                {
                  "INSTNM": "University of West Alabama",
                  "TUITIONFEE_IN": 7660,
                  "_deepnote_index_column": 33
                },
                {
                  "INSTNM": "Lurleen B Wallace Community College",
                  "TUITIONFEE_IN": 4170,
                  "_deepnote_index_column": 34
                },
                {
                  "INSTNM": "Marion Military Institute",
                  "TUITIONFEE_IN": 8570,
                  "_deepnote_index_column": 35
                },
                {
                  "INSTNM": "Miles College",
                  "TUITIONFEE_IN": 11454,
                  "_deepnote_index_column": 36
                },
                {
                  "INSTNM": "University of Mobile",
                  "TUITIONFEE_IN": 18690,
                  "_deepnote_index_column": 37
                },
                {
                  "INSTNM": "University of Montevallo",
                  "TUITIONFEE_IN": 10000,
                  "_deepnote_index_column": 38
                },
                {
                  "INSTNM": "Northwest-Shoals Community College",
                  "TUITIONFEE_IN": 4140,
                  "_deepnote_index_column": 39
                },
                {
                  "INSTNM": "University of North Alabama",
                  "TUITIONFEE_IN": 7078,
                  "_deepnote_index_column": 40
                },
                {
                  "INSTNM": "Northeast Alabama Community College",
                  "TUITIONFEE_IN": 4200,
                  "_deepnote_index_column": 41
                },
                {
                  "INSTNM": "Oakwood University",
                  "TUITIONFEE_IN": 16234,
                  "_deepnote_index_column": 42
                },
                {
                  "INSTNM": "Alabama Southern Community College",
                  "TUITIONFEE_IN": 4200,
                  "_deepnote_index_column": 43
                },
                {
                  "INSTNM": "Prince Institute-Southeast",
                  "TUITIONFEE_IN": 9685,
                  "_deepnote_index_column": 44
                },
                {
                  "INSTNM": "Reid State Technical College",
                  "TUITIONFEE_IN": 4260,
                  "_deepnote_index_column": 45
                },
                {
                  "INSTNM": "Bishop State Community College",
                  "TUITIONFEE_IN": 4200,
                  "_deepnote_index_column": 46
                },
                {
                  "INSTNM": "Samford University",
                  "TUITIONFEE_IN": 26328,
                  "_deepnote_index_column": 47
                },
                {
                  "INSTNM": "Selma University",
                  "TUITIONFEE_IN": 5840,
                  "_deepnote_index_column": 48
                },
                {
                  "INSTNM": "Shelton State Community College",
                  "TUITIONFEE_IN": 3900,
                  "_deepnote_index_column": 49
                },
                {
                  "INSTNM": "Snead State Community College",
                  "TUITIONFEE_IN": 4260,
                  "_deepnote_index_column": 50
                },
                {
                  "INSTNM": "University of South Alabama",
                  "TUITIONFEE_IN": 6948,
                  "_deepnote_index_column": 51
                },
                {
                  "INSTNM": "Spring Hill College",
                  "TUITIONFEE_IN": 30924,
                  "_deepnote_index_column": 52
                },
                {
                  "INSTNM": "Southeastern Bible College",
                  "TUITIONFEE_IN": 11370,
                  "_deepnote_index_column": 53
                },
                {
                  "INSTNM": "Stillman College",
                  "TUITIONFEE_IN": 15901,
                  "_deepnote_index_column": 54
                },
                {
                  "INSTNM": "Talladega College",
                  "TUITIONFEE_IN": 11492,
                  "_deepnote_index_column": 55
                },
                {
                  "INSTNM": "H Councill Trenholm State Community College",
                  "TUITIONFEE_IN": 3288,
                  "_deepnote_index_column": 56
                },
                {
                  "INSTNM": "Troy University",
                  "TUITIONFEE_IN": 7276,
                  "_deepnote_index_column": 57
                },
                {
                  "INSTNM": "Tuskegee University",
                  "TUITIONFEE_IN": 18900,
                  "_deepnote_index_column": 58
                },
                {
                  "INSTNM": "Bevill State Community College",
                  "TUITIONFEE_IN": 4230,
                  "_deepnote_index_column": 60
                },
                {
                  "INSTNM": "University of Alaska Anchorage",
                  "TUITIONFEE_IN": 5147,
                  "_deepnote_index_column": 61
                },
                {
                  "INSTNM": "Alaska Bible College",
                  "TUITIONFEE_IN": 9200,
                  "_deepnote_index_column": 62
                },
                {
                  "INSTNM": "University of Alaska Fairbanks",
                  "TUITIONFEE_IN": 4984,
                  "_deepnote_index_column": 63
                },
                {
                  "INSTNM": "University of Alaska Southeast",
                  "TUITIONFEE_IN": 5693,
                  "_deepnote_index_column": 64
                },
                {
                  "INSTNM": "Alaska Pacific University",
                  "TUITIONFEE_IN": 29810,
                  "_deepnote_index_column": 65
                },
                {
                  "INSTNM": "Charter College",
                  "TUITIONFEE_IN": 19882,
                  "_deepnote_index_column": 67
                },
                {
                  "INSTNM": "Prince William Sound Community College",
                  "TUITIONFEE_IN": 4448,
                  "_deepnote_index_column": 68
                },
                {
                  "INSTNM": "Everest College-Phoenix",
                  "TUITIONFEE_IN": 12960,
                  "_deepnote_index_column": 70
                },
                {
                  "INSTNM": "American Indian College Inc",
                  "TUITIONFEE_IN": 12000,
                  "_deepnote_index_column": 75
                },
                {
                  "INSTNM": "CollegeAmerica-Flagstaff",
                  "TUITIONFEE_IN": 17211,
                  "_deepnote_index_column": 80
                },
                {
                  "INSTNM": "Arizona State University-Tempe",
                  "TUITIONFEE_IN": 9861,
                  "_deepnote_index_column": 84
                },
                {
                  "INSTNM": "Arizona Western College",
                  "TUITIONFEE_IN": 2420,
                  "_deepnote_index_column": 85
                },
                {
                  "INSTNM": "University of Arizona",
                  "TUITIONFEE_IN": 10391,
                  "_deepnote_index_column": 86
                },
                {
                  "INSTNM": "Southwest University of Visual Arts-Tucson",
                  "TUITIONFEE_IN": 34541,
                  "_deepnote_index_column": 87
                },
                {
                  "INSTNM": "Central Arizona College",
                  "TUITIONFEE_IN": 2310,
                  "_deepnote_index_column": 89
                },
                {
                  "INSTNM": "Brown Mackie College-Tucson",
                  "TUITIONFEE_IN": 13194,
                  "_deepnote_index_column": 90
                },
                {
                  "INSTNM": "Cochise County Community College District",
                  "TUITIONFEE_IN": 1752,
                  "_deepnote_index_column": 92
                },
                {
                  "INSTNM": "Eastern Arizona College",
                  "TUITIONFEE_IN": 1760,
                  "_deepnote_index_column": 97
                },
                {
                  "INSTNM": "Embry-Riddle Aeronautical University-Prescott",
                  "TUITIONFEE_IN": 31034,
                  "_deepnote_index_column": 98
                },
                {
                  "INSTNM": "Glendale Community College",
                  "TUITIONFEE_IN": 1974,
                  "_deepnote_index_column": 100
                },
                {
                  "INSTNM": "Grand Canyon University",
                  "TUITIONFEE_IN": 17000,
                  "_deepnote_index_column": 101
                },
                {
                  "INSTNM": "Anthem College-Phoenix",
                  "TUITIONFEE_IN": 13775,
                  "_deepnote_index_column": 102
                },
                {
                  "INSTNM": "GateWay Community College",
                  "TUITIONFEE_IN": 1974,
                  "_deepnote_index_column": 105
                },
                {
                  "INSTNM": "Mesa Community College",
                  "TUITIONFEE_IN": 1974,
                  "_deepnote_index_column": 106
                },
                {
                  "INSTNM": "ITT Technical Institute-Tucson",
                  "TUITIONFEE_IN": 18048,
                  "_deepnote_index_column": 107
                },
                {
                  "INSTNM": "ITT Technical Institute-Tempe",
                  "TUITIONFEE_IN": 18048,
                  "_deepnote_index_column": 108
                },
                {
                  "INSTNM": "Mohave Community College",
                  "TUITIONFEE_IN": 2040,
                  "_deepnote_index_column": 109
                },
                {
                  "INSTNM": "Dine College",
                  "TUITIONFEE_IN": 805,
                  "_deepnote_index_column": 111
                },
                {
                  "INSTNM": "Northern Arizona University",
                  "TUITIONFEE_IN": 9738,
                  "_deepnote_index_column": 112
                },
                {
                  "INSTNM": "Northland Pioneer College",
                  "TUITIONFEE_IN": 1606,
                  "_deepnote_index_column": 113
                },
                {
                  "INSTNM": "Phoenix College",
                  "TUITIONFEE_IN": 1974,
                  "_deepnote_index_column": 115
                },
                {
                  "INSTNM": "University of Phoenix-Phoenix Campus",
                  "TUITIONFEE_IN": 11320,
                  "_deepnote_index_column": 117
                },
                {
                  "INSTNM": "Pima Community College",
                  "TUITIONFEE_IN": 1724,
                  "_deepnote_index_column": 118
                },
                {
                  "INSTNM": "Prescott College",
                  "TUITIONFEE_IN": 29732,
                  "_deepnote_index_column": 121
                },
                {
                  "INSTNM": "Rio Salado College",
                  "TUITIONFEE_IN": 1974,
                  "_deepnote_index_column": 123
                },
                {
                  "INSTNM": "Scottsdale Community College",
                  "TUITIONFEE_IN": 1974,
                  "_deepnote_index_column": 126
                },
                {
                  "INSTNM": "South Mountain Community College",
                  "TUITIONFEE_IN": 1974,
                  "_deepnote_index_column": 127
                },
                {
                  "INSTNM": "Arizona Christian University",
                  "TUITIONFEE_IN": 21832,
                  "_deepnote_index_column": 128
                },
                {
                  "INSTNM": "Western International University",
                  "TUITIONFEE_IN": 6000,
                  "_deepnote_index_column": 131
                },
                {
                  "INSTNM": "Yavapai College",
                  "TUITIONFEE_IN": 1872,
                  "_deepnote_index_column": 133
                },
                {
                  "INSTNM": "University of Arkansas at Little Rock",
                  "TUITIONFEE_IN": 7094,
                  "_deepnote_index_column": 134
                },
                {
                  "INSTNM": "Arkansas Baptist College",
                  "TUITIONFEE_IN": 8040,
                  "_deepnote_index_column": 137
                },
                {
                  "INSTNM": "Lyon College",
                  "TUITIONFEE_IN": 23594,
                  "_deepnote_index_column": 140
                },
                {
                  "INSTNM": "University of Arkansas",
                  "TUITIONFEE_IN": 7818,
                  "_deepnote_index_column": 143
                },
                {
                  "INSTNM": "University of Arkansas at Pine Bluff",
                  "TUITIONFEE_IN": 5938,
                  "_deepnote_index_column": 144
                },
                {
                  "INSTNM": "Arkansas State University-Beebe",
                  "TUITIONFEE_IN": 2099,
                  "_deepnote_index_column": 145
                },
                {
                  "INSTNM": "Arkansas State University-Main Campus",
                  "TUITIONFEE_IN": 7510,
                  "_deepnote_index_column": 146
                },
                {
                  "INSTNM": "Arkansas Tech University",
                  "TUITIONFEE_IN": 5598,
                  "_deepnote_index_column": 147
                },
                {
                  "INSTNM": "University of Arkansas at Monticello",
                  "TUITIONFEE_IN": 5793,
                  "_deepnote_index_column": 148
                },
                {
                  "INSTNM": "Baptist Health College Little Rock",
                  "TUITIONFEE_IN": 7804,
                  "_deepnote_index_column": 150
                },
                {
                  "INSTNM": "Black River Technical College",
                  "TUITIONFEE_IN": 2520,
                  "_deepnote_index_column": 151
                },
                {
                  "INSTNM": "University of Central Arkansas",
                  "TUITIONFEE_IN": 7595,
                  "_deepnote_index_column": 152
                },
                {
                  "INSTNM": "Central Baptist College",
                  "TUITIONFEE_IN": 13350,
                  "_deepnote_index_column": 153
                },
                {
                  "INSTNM": "Cossatot Community College of the University of Arkansas",
                  "TUITIONFEE_IN": 2212,
                  "_deepnote_index_column": 154
                },
                {
                  "INSTNM": "Crowley's Ridge College",
                  "TUITIONFEE_IN": 10900,
                  "_deepnote_index_column": 155
                },
                {
                  "INSTNM": "Crowley's Ridge Technical Institute",
                  "TUITIONFEE_IN": 1350,
                  "_deepnote_index_column": 156
                },
                {
                  "INSTNM": "East Arkansas Community College",
                  "TUITIONFEE_IN": 2520,
                  "_deepnote_index_column": 157
                },
                {
                  "INSTNM": "National Park College",
                  "TUITIONFEE_IN": 3020,
                  "_deepnote_index_column": 160
                },
                {
                  "INSTNM": "University of Arkansas Community College-Batesville",
                  "TUITIONFEE_IN": 2166,
                  "_deepnote_index_column": 161
                },
                {
                  "INSTNM": "Harding University",
                  "TUITIONFEE_IN": 16170,
                  "_deepnote_index_column": 162
                },
                {
                  "INSTNM": "Henderson State University",
                  "TUITIONFEE_IN": 7580,
                  "_deepnote_index_column": 163
                },
                {
                  "INSTNM": "Hendrix College",
                  "TUITIONFEE_IN": 37816,
                  "_deepnote_index_column": 164
                },
                {
                  "INSTNM": "John Brown University",
                  "TUITIONFEE_IN": 22734,
                  "_deepnote_index_column": 167
                },
                {
                  "INSTNM": "Arkansas State University Mid-South",
                  "TUITIONFEE_IN": 2458,
                  "_deepnote_index_column": 172
                },
                {
                  "INSTNM": "Arkansas Northeastern College",
                  "TUITIONFEE_IN": 1954,
                  "_deepnote_index_column": 173
                },
                {
                  "INSTNM": "North Arkansas College",
                  "TUITIONFEE_IN": 1896,
                  "_deepnote_index_column": 176
                },
                {
                  "INSTNM": "Northwest Technical Institute",
                  "TUITIONFEE_IN": 2321,
                  "_deepnote_index_column": 177
                },
                {
                  "INSTNM": "Ouachita Baptist University",
                  "TUITIONFEE_IN": 22370,
                  "_deepnote_index_column": 178
                },
                {
                  "INSTNM": "Arkansas State University Three Rivers",
                  "TUITIONFEE_IN": 3367,
                  "_deepnote_index_column": 179
                },
                {
                  "INSTNM": "Ozarka College",
                  "TUITIONFEE_IN": 2414,
                  "_deepnote_index_column": 180
                },
                {
                  "INSTNM": "University of the Ozarks",
                  "TUITIONFEE_IN": 24350,
                  "_deepnote_index_column": 181
                },
                {
                  "INSTNM": "University of Arkansas Community College-Morrilton",
                  "TUITIONFEE_IN": 2309,
                  "_deepnote_index_column": 182
                },
                {
                  "INSTNM": "Philander Smith College",
                  "TUITIONFEE_IN": 12564,
                  "_deepnote_index_column": 183
                },
                {
                  "INSTNM": "Phillips Community College of the University of Arkansas",
                  "TUITIONFEE_IN": 2375,
                  "_deepnote_index_column": 184
                },
                {
                  "INSTNM": "Southeast Arkansas College",
                  "TUITIONFEE_IN": 2980,
                  "_deepnote_index_column": 185
                },
                {
                  "INSTNM": "University of Arkansas-Pulaski Technical College",
                  "TUITIONFEE_IN": 3507,
                  "_deepnote_index_column": 187
                },
                {
                  "INSTNM": "University of Arkansas Hope-Texarkana",
                  "TUITIONFEE_IN": 2281,
                  "_deepnote_index_column": 188
                },
                {
                  "INSTNM": "University of Arkansas Community College Rich Mountain",
                  "TUITIONFEE_IN": 2208,
                  "_deepnote_index_column": 189
                },
                {
                  "INSTNM": "Shorter College",
                  "TUITIONFEE_IN": 2100,
                  "_deepnote_index_column": 192
                },
                {
                  "INSTNM": "Williams Baptist University",
                  "TUITIONFEE_IN": 13750,
                  "_deepnote_index_column": 193
                },
                {
                  "INSTNM": "South Arkansas Community College",
                  "TUITIONFEE_IN": 2200,
                  "_deepnote_index_column": 194
                },
                {
                  "INSTNM": "Southern Arkansas University Main Campus",
                  "TUITIONFEE_IN": 7466,
                  "_deepnote_index_column": 195
                },
                {
                  "INSTNM": "Southern Arkansas University Tech",
                  "TUITIONFEE_IN": 4080,
                  "_deepnote_index_column": 196
                },
                {
                  "INSTNM": "University of Arkansas-Fort Smith",
                  "TUITIONFEE_IN": 4528,
                  "_deepnote_index_column": 198
                },
                {
                  "INSTNM": "Academy of Art University",
                  "TUITIONFEE_IN": 19130,
                  "_deepnote_index_column": 199
                },
                {
                  "INSTNM": "ITT Technical Institute-Rancho Cordova",
                  "TUITIONFEE_IN": 18048,
                  "_deepnote_index_column": 200
                },
                {
                  "INSTNM": "College of Alameda",
                  "TUITIONFEE_IN": 1144,
                  "_deepnote_index_column": 204
                },
                {
                  "INSTNM": "Allan Hancock College",
                  "TUITIONFEE_IN": 1346,
                  "_deepnote_index_column": 205
                },
                {
                  "INSTNM": "American Academy of Dramatic Arts-Los Angeles",
                  "TUITIONFEE_IN": 30650,
                  "_deepnote_index_column": 206
                },
                {
                  "INSTNM": "American River College",
                  "TUITIONFEE_IN": 1104,
                  "_deepnote_index_column": 212
                },
                {
                  "INSTNM": "Antelope Valley College",
                  "TUITIONFEE_IN": 1104,
                  "_deepnote_index_column": 214
                },
                {
                  "INSTNM": "Art Center College of Design",
                  "TUITIONFEE_IN": 36480,
                  "_deepnote_index_column": 215
                },
                {
                  "INSTNM": "Azusa Pacific University",
                  "TUITIONFEE_IN": 32256,
                  "_deepnote_index_column": 218
                },
                {
                  "INSTNM": "Bakersfield College",
                  "TUITIONFEE_IN": 1324,
                  "_deepnote_index_column": 219
                },
                {
                  "INSTNM": "Barstow Community College",
                  "TUITIONFEE_IN": 1104,
                  "_deepnote_index_column": 220
                },
                {
                  "INSTNM": "Bethesda University",
                  "TUITIONFEE_IN": 7620,
                  "_deepnote_index_column": 222
                },
                {
                  "INSTNM": "Biola University",
                  "TUITIONFEE_IN": 32142,
                  "_deepnote_index_column": 223
                },
                {
                  "INSTNM": "Brooks Institute",
                  "TUITIONFEE_IN": 20120,
                  "_deepnote_index_column": 224
                },
                {
                  "INSTNM": "Bryan University",
                  "TUITIONFEE_IN": 11850,
                  "_deepnote_index_column": 226
                },
                {
                  "INSTNM": "Butte College",
                  "TUITIONFEE_IN": 1354,
                  "_deepnote_index_column": 227
                },
                {
                  "INSTNM": "Cabrillo College",
                  "TUITIONFEE_IN": 1358,
                  "_deepnote_index_column": 230
                },
                {
                  "INSTNM": "California Baptist University",
                  "TUITIONFEE_IN": 28122,
                  "_deepnote_index_column": 231
                },
                {
                  "INSTNM": "California College of the Arts",
                  "TUITIONFEE_IN": 40334,
                  "_deepnote_index_column": 232
                },
                {
                  "INSTNM": "California Institute of Technology",
                  "TUITIONFEE_IN": 41538,
                  "_deepnote_index_column": 234
                },
                {
                  "INSTNM": "California Lutheran University",
                  "TUITIONFEE_IN": 35720,
                  "_deepnote_index_column": 235
                },
                {
                  "INSTNM": "California Polytechnic State University-San Luis Obispo",
                  "TUITIONFEE_IN": 8724,
                  "_deepnote_index_column": 236
                },
                {
                  "INSTNM": "Alliant International University-San Diego",
                  "TUITIONFEE_IN": 15816,
                  "_deepnote_index_column": 237
                },
                {
                  "INSTNM": "California State University-Bakersfield",
                  "TUITIONFEE_IN": 6775,
                  "_deepnote_index_column": 238
                },
                {
                  "INSTNM": "California State University-Stanislaus",
                  "TUITIONFEE_IN": 6491,
                  "_deepnote_index_column": 239
                },
                {
                  "INSTNM": "California State University-San Bernardino",
                  "TUITIONFEE_IN": 6550,
                  "_deepnote_index_column": 240
                },
                {
                  "INSTNM": "California State Polytechnic University-Pomona",
                  "TUITIONFEE_IN": 6350,
                  "_deepnote_index_column": 241
                },
                {
                  "INSTNM": "California State University-Chico",
                  "TUITIONFEE_IN": 6972,
                  "_deepnote_index_column": 242
                },
                {
                  "INSTNM": "California State University-Dominguez Hills",
                  "TUITIONFEE_IN": 6100,
                  "_deepnote_index_column": 243
                },
                {
                  "INSTNM": "California State University-Fresno",
                  "TUITIONFEE_IN": 6287,
                  "_deepnote_index_column": 244
                },
                {
                  "INSTNM": "California State University-Fullerton",
                  "TUITIONFEE_IN": 6186,
                  "_deepnote_index_column": 245
                },
                {
                  "INSTNM": "California State University-East Bay",
                  "TUITIONFEE_IN": 6550,
                  "_deepnote_index_column": 246
                },
                {
                  "INSTNM": "California State University-Long Beach",
                  "TUITIONFEE_IN": 6240,
                  "_deepnote_index_column": 247
                },
                {
                  "INSTNM": "California State University-Los Angeles",
                  "TUITIONFEE_IN": 6344,
                  "_deepnote_index_column": 248
                },
                {
                  "INSTNM": "California State University-Northridge",
                  "TUITIONFEE_IN": 6525,
                  "_deepnote_index_column": 249
                },
                {
                  "INSTNM": "California State University-Sacramento",
                  "TUITIONFEE_IN": 6628,
                  "_deepnote_index_column": 250
                },
                {
                  "INSTNM": "University of California-Berkeley",
                  "TUITIONFEE_IN": 12864,
                  "_deepnote_index_column": 251
                },
                {
                  "INSTNM": "University of California-Davis",
                  "TUITIONFEE_IN": 13895,
                  "_deepnote_index_column": 252
                },
                {
                  "INSTNM": "University of California-Irvine",
                  "TUITIONFEE_IN": 13149,
                  "_deepnote_index_column": 253
                },
                {
                  "INSTNM": "University of California-Los Angeles",
                  "TUITIONFEE_IN": 12697,
                  "_deepnote_index_column": 254
                },
                {
                  "INSTNM": "University of California-Riverside",
                  "TUITIONFEE_IN": 12960,
                  "_deepnote_index_column": 255
                },
                {
                  "INSTNM": "University of California-San Diego",
                  "TUITIONFEE_IN": 13271,
                  "_deepnote_index_column": 256
                },
                {
                  "INSTNM": "University of California-Santa Barbara",
                  "TUITIONFEE_IN": 13746,
                  "_deepnote_index_column": 258
                },
                {
                  "INSTNM": "University of California-Santa Cruz",
                  "TUITIONFEE_IN": 13397,
                  "_deepnote_index_column": 259
                },
                {
                  "INSTNM": "California Christian College",
                  "TUITIONFEE_IN": 8275,
                  "_deepnote_index_column": 262
                },
                {
                  "INSTNM": "California College San Diego",
                  "TUITIONFEE_IN": 18480,
                  "_deepnote_index_column": 263
                },
                {
                  "INSTNM": "Le Cordon Bleu College of Culinary Arts-San Francisco",
                  "TUITIONFEE_IN": 13761,
                  "_deepnote_index_column": 264
                },
                {
                  "INSTNM": "California Institute of the Arts",
                  "TUITIONFEE_IN": 40536,
                  "_deepnote_index_column": 266
                },
                {
                  "INSTNM": "California State University Maritime Academy",
                  "TUITIONFEE_IN": 6536,
                  "_deepnote_index_column": 267
                },
                {
                  "INSTNM": "Canada College",
                  "TUITIONFEE_IN": 1344,
                  "_deepnote_index_column": 269
                },
                {
                  "INSTNM": "College of the Canyons",
                  "TUITIONFEE_IN": 1154,
                  "_deepnote_index_column": 270
                },
                {
                  "INSTNM": "Cerritos College",
                  "TUITIONFEE_IN": 1346,
                  "_deepnote_index_column": 280
                },
                {
                  "INSTNM": "Cerro Coso Community College",
                  "TUITIONFEE_IN": 1290,
                  "_deepnote_index_column": 281
                },
                {
                  "INSTNM": "Chabot College",
                  "TUITIONFEE_IN": 1138,
                  "_deepnote_index_column": 282
                },
                {
                  "INSTNM": "Chaffey College",
                  "TUITIONFEE_IN": 1153,
                  "_deepnote_index_column": 283
                },
                {
                  "INSTNM": "Chapman University",
                  "TUITIONFEE_IN": 43573,
                  "_deepnote_index_column": 284
                },
                {
                  "INSTNM": "Charles R Drew University of Medicine and Science",
                  "TUITIONFEE_IN": 11956,
                  "_deepnote_index_column": 285
                },
                {
                  "INSTNM": "Concordia University-Irvine",
                  "TUITIONFEE_IN": 29630,
                  "_deepnote_index_column": 286
                },
                {
                  "INSTNM": "San Diego Christian College",
                  "TUITIONFEE_IN": 25888,
                  "_deepnote_index_column": 287
                },
                {
                  "INSTNM": "Citrus College",
                  "TUITIONFEE_IN": 1174,
                  "_deepnote_index_column": 289
                },
                {
                  "INSTNM": "City College of San Francisco",
                  "TUITIONFEE_IN": 1274,
                  "_deepnote_index_column": 291
                },
                {
                  "INSTNM": "Claremont McKenna College",
                  "TUITIONFEE_IN": 45625,
                  "_deepnote_index_column": 293
                },
                {
                  "INSTNM": "Coastline Community College",
                  "TUITIONFEE_IN": 1136,
                  "_deepnote_index_column": 296
                },
                {
                  "INSTNM": "Cogswell College",
                  "TUITIONFEE_IN": 16160,
                  "_deepnote_index_column": 297
                },
                {
                  "INSTNM": "Coleman University",
                  "TUITIONFEE_IN": 20200,
                  "_deepnote_index_column": 298
                },
                {
                  "INSTNM": "Columbia College",
                  "TUITIONFEE_IN": 1150,
                  "_deepnote_index_column": 301
                },
                {
                  "INSTNM": "Columbia College Hollywood",
                  "TUITIONFEE_IN": 18804,
                  "_deepnote_index_column": 302
                },
                {
                  "INSTNM": "Compton College",
                  "TUITIONFEE_IN": 1142,
                  "_deepnote_index_column": 303
                },
                {
                  "INSTNM": "Contra Costa College",
                  "TUITIONFEE_IN": 1298,
                  "_deepnote_index_column": 304
                },
                {
                  "INSTNM": "Cosumnes River College",
                  "TUITIONFEE_IN": 1104,
                  "_deepnote_index_column": 305
                },
                {
                  "INSTNM": "Crafton Hills College",
                  "TUITIONFEE_IN": 1134,
                  "_deepnote_index_column": 306
                },
                {
                  "INSTNM": "Cuesta College",
                  "TUITIONFEE_IN": 1230,
                  "_deepnote_index_column": 307
                },
                {
                  "INSTNM": "Cuyamaca College",
                  "TUITIONFEE_IN": 1386,
                  "_deepnote_index_column": 308
                },
                {
                  "INSTNM": "Cypress College",
                  "TUITIONFEE_IN": 1136,
                  "_deepnote_index_column": 309
                },
                {
                  "INSTNM": "De Anza College",
                  "TUITIONFEE_IN": 1542,
                  "_deepnote_index_column": 310
                },
                {
                  "INSTNM": "Dell'Arte International School of Physical Theatre",
                  "TUITIONFEE_IN": 12750,
                  "_deepnote_index_column": 313
                },
                {
                  "INSTNM": "College of the Desert",
                  "TUITIONFEE_IN": 1316,
                  "_deepnote_index_column": 314
                },
                {
                  "INSTNM": "Design Institute of San Diego",
                  "TUITIONFEE_IN": 20470,
                  "_deepnote_index_column": 315
                },
                {
                  "INSTNM": "Diablo Valley College",
                  "TUITIONFEE_IN": 1298,
                  "_deepnote_index_column": 316
                },
                {
                  "INSTNM": "Dominican University of California",
                  "TUITIONFEE_IN": 40600,
                  "_deepnote_index_column": 317
                },
                {
                  "INSTNM": "East Los Angeles College",
                  "TUITIONFEE_IN": 1221,
                  "_deepnote_index_column": 319
                },
                {
                  "INSTNM": "El Camino Community College District",
                  "TUITIONFEE_IN": 1142,
                  "_deepnote_index_column": 321
                },
                {
                  "INSTNM": "Evergreen Valley College",
                  "TUITIONFEE_IN": 1326,
                  "_deepnote_index_column": 327
                },
                {
                  "INSTNM": "FIDM-Fashion Institute of Design & Merchandising-Los Angeles",
                  "TUITIONFEE_IN": 28920,
                  "_deepnote_index_column": 328
                },
                {
                  "INSTNM": "FIDM-Fashion Institute of Design & Merchandising-San Francisco",
                  "TUITIONFEE_IN": 28920,
                  "_deepnote_index_column": 329
                },
                {
                  "INSTNM": "FIDM-Fashion Institute of Design & Merchandising-Orange County",
                  "TUITIONFEE_IN": 28920,
                  "_deepnote_index_column": 330
                },
                {
                  "INSTNM": "Feather River Community College District",
                  "TUITIONFEE_IN": 1446,
                  "_deepnote_index_column": 331
                },
                {
                  "INSTNM": "Foothill College",
                  "TUITIONFEE_IN": 1536,
                  "_deepnote_index_column": 336
                },
                {
                  "INSTNM": "Fresno City College",
                  "TUITIONFEE_IN": 1142,
                  "_deepnote_index_column": 339
                },
                {
                  "INSTNM": "Fresno Pacific University",
                  "TUITIONFEE_IN": 25716,
                  "_deepnote_index_column": 340
                },
                {
                  "INSTNM": "Fullerton College",
                  "TUITIONFEE_IN": 1138,
                  "_deepnote_index_column": 342
                },
                {
                  "INSTNM": "Gavilan College",
                  "TUITIONFEE_IN": 1245,
                  "_deepnote_index_column": 343
                },
                {
                  "INSTNM": "Glendale Community College",
                  "TUITIONFEE_IN": 1175,
                  "_deepnote_index_column": 345
                },
                {
                  "INSTNM": "Golden Gate University-San Francisco",
                  "TUITIONFEE_IN": 14400,
                  "_deepnote_index_column": 347
                },
                {
                  "INSTNM": "Golden West College",
                  "TUITIONFEE_IN": 1176,
                  "_deepnote_index_column": 348
                },
                {
                  "INSTNM": "Grossmont College",
                  "TUITIONFEE_IN": 1387,
                  "_deepnote_index_column": 350
                },
                {
                  "INSTNM": "Hartnell College",
                  "TUITIONFEE_IN": 1340,
                  "_deepnote_index_column": 352
                },
                {
                  "INSTNM": "Harvey Mudd College",
                  "TUITIONFEE_IN": 46509,
                  "_deepnote_index_column": 353
                },
                {
                  "INSTNM": "Heald College-Rancho Cordova",
                  "TUITIONFEE_IN": 13620,
                  "_deepnote_index_column": 354
                },
                {
                  "INSTNM": "Heald College-Fresno",
                  "TUITIONFEE_IN": 13620,
                  "_deepnote_index_column": 355
                },
                {
                  "INSTNM": "Heald College-San Jose",
                  "TUITIONFEE_IN": 13620,
                  "_deepnote_index_column": 356
                },
                {
                  "INSTNM": "Heald College-San Francisco",
                  "TUITIONFEE_IN": 13620,
                  "_deepnote_index_column": 357
                },
                {
                  "INSTNM": "Heald College-Concord",
                  "TUITIONFEE_IN": 13620,
                  "_deepnote_index_column": 358
                },
                {
                  "INSTNM": "Holy Names University",
                  "TUITIONFEE_IN": 33020,
                  "_deepnote_index_column": 360
                },
                {
                  "INSTNM": "Humboldt State University",
                  "TUITIONFEE_IN": 7144,
                  "_deepnote_index_column": 362
                },
                {
                  "INSTNM": "Humphreys University-Stockton and Modesto Campuses",
                  "TUITIONFEE_IN": 11277,
                  "_deepnote_index_column": 363
                },
                {
                  "INSTNM": "Imperial Valley College",
                  "TUITIONFEE_IN": 1326,
                  "_deepnote_index_column": 364
                },
                {
                  "INSTNM": "Irvine Valley College",
                  "TUITIONFEE_IN": 1453,
                  "_deepnote_index_column": 368
                }
              ],
              "rows_bottom": [
                {
                  "INSTNM": "Porter and Chester Institute of Rocky Hill",
                  "TUITIONFEE_IN": 18519,
                  "_deepnote_index_column": 7525
                },
                {
                  "INSTNM": "Porter and Chester Institute of Enfield",
                  "TUITIONFEE_IN": 18519,
                  "_deepnote_index_column": 7526
                },
                {
                  "INSTNM": "Porter and Chester Institute of Waterbury",
                  "TUITIONFEE_IN": 18519,
                  "_deepnote_index_column": 7527
                },
                {
                  "INSTNM": "Porter and Chester Institute of Chicopee",
                  "TUITIONFEE_IN": 18519,
                  "_deepnote_index_column": 7528
                },
                {
                  "INSTNM": "Porter and Chester Institute of Worcester",
                  "TUITIONFEE_IN": 18519,
                  "_deepnote_index_column": 7529
                },
                {
                  "INSTNM": "Porter and Chester Institute of Canton",
                  "TUITIONFEE_IN": 18519,
                  "_deepnote_index_column": 7530
                },
                {
                  "INSTNM": "Porter and Chester Institute - New London",
                  "TUITIONFEE_IN": 18519,
                  "_deepnote_index_column": 7531
                },
                {
                  "INSTNM": "Strayer University-Takoma Park Campus",
                  "TUITIONFEE_IN": 15495,
                  "_deepnote_index_column": 7532
                },
                {
                  "INSTNM": "University of Southernmost Florida-Coral Gables Campus",
                  "TUITIONFEE_IN": 11103,
                  "_deepnote_index_column": 7534
                },
                {
                  "INSTNM": "Keiser University-Melbourne",
                  "TUITIONFEE_IN": 16284,
                  "_deepnote_index_column": 7535
                },
                {
                  "INSTNM": "Keiser University-Tallahassee",
                  "TUITIONFEE_IN": 16284,
                  "_deepnote_index_column": 7536
                },
                {
                  "INSTNM": "Keiser University-Daytona",
                  "TUITIONFEE_IN": 16284,
                  "_deepnote_index_column": 7537
                },
                {
                  "INSTNM": "Keiser University-Lakeland",
                  "TUITIONFEE_IN": 16284,
                  "_deepnote_index_column": 7538
                },
                {
                  "INSTNM": "Keiser University- Miami",
                  "TUITIONFEE_IN": 16284,
                  "_deepnote_index_column": 7539
                },
                {
                  "INSTNM": "Keiser University-Orlando",
                  "TUITIONFEE_IN": 16284,
                  "_deepnote_index_column": 7540
                },
                {
                  "INSTNM": "Keiser University-Sarasota",
                  "TUITIONFEE_IN": 16284,
                  "_deepnote_index_column": 7541
                },
                {
                  "INSTNM": "Keiser University-Jacksonville",
                  "TUITIONFEE_IN": 16284,
                  "_deepnote_index_column": 7542
                },
                {
                  "INSTNM": "Keiser University-Tampa",
                  "TUITIONFEE_IN": 16284,
                  "_deepnote_index_column": 7543
                },
                {
                  "INSTNM": "Keiser University-Pembroke Pines",
                  "TUITIONFEE_IN": 16284,
                  "_deepnote_index_column": 7544
                },
                {
                  "INSTNM": "Keiser University-Port St Lucie",
                  "TUITIONFEE_IN": 16284,
                  "_deepnote_index_column": 7545
                },
                {
                  "INSTNM": "Keiser University-West Palm Beach",
                  "TUITIONFEE_IN": 16284,
                  "_deepnote_index_column": 7546
                },
                {
                  "INSTNM": "Keiser University-Ft Myers",
                  "TUITIONFEE_IN": 16284,
                  "_deepnote_index_column": 7547
                },
                {
                  "INSTNM": "Rasmussen College-New Port Richey",
                  "TUITIONFEE_IN": 10764,
                  "_deepnote_index_column": 7549
                },
                {
                  "INSTNM": "Rasmussen College-Fort Myers",
                  "TUITIONFEE_IN": 10764,
                  "_deepnote_index_column": 7550
                },
                {
                  "INSTNM": "Rasmussen College-Tampa/Brandon",
                  "TUITIONFEE_IN": 10764,
                  "_deepnote_index_column": 7551
                },
                {
                  "INSTNM": "Rasmussen College-Land O' Lakes",
                  "TUITIONFEE_IN": 10764,
                  "_deepnote_index_column": 7552
                },
                {
                  "INSTNM": "GMC-Sandersville",
                  "TUITIONFEE_IN": 4599,
                  "_deepnote_index_column": 7553
                },
                {
                  "INSTNM": "GMC-Madison",
                  "TUITIONFEE_IN": 4599,
                  "_deepnote_index_column": 7554
                },
                {
                  "INSTNM": "Portfolio Center - Waltham",
                  "TUITIONFEE_IN": 26850,
                  "_deepnote_index_column": 7555
                },
                {
                  "INSTNM": "Moody Bible Institute-Spokane",
                  "TUITIONFEE_IN": 9006,
                  "_deepnote_index_column": 7557
                },
                {
                  "INSTNM": "Ivy Tech Community College-Northcentral",
                  "TUITIONFEE_IN": 3605,
                  "_deepnote_index_column": 7562
                },
                {
                  "INSTNM": "Ivy Tech Community College-Columbus",
                  "TUITIONFEE_IN": 3605,
                  "_deepnote_index_column": 7563
                },
                {
                  "INSTNM": "Ivy Tech Community College-East Central",
                  "TUITIONFEE_IN": 3605,
                  "_deepnote_index_column": 7564
                },
                {
                  "INSTNM": "Ivy Tech Community College-Kokomo",
                  "TUITIONFEE_IN": 3605,
                  "_deepnote_index_column": 7565
                },
                {
                  "INSTNM": "Ivy Tech Community College-Lafayette",
                  "TUITIONFEE_IN": 3605,
                  "_deepnote_index_column": 7566
                },
                {
                  "INSTNM": "Ivy Tech Community College-Northeast",
                  "TUITIONFEE_IN": 3605,
                  "_deepnote_index_column": 7567
                },
                {
                  "INSTNM": "Ivy Tech Community College-South Central",
                  "TUITIONFEE_IN": 3605,
                  "_deepnote_index_column": 7568
                },
                {
                  "INSTNM": "Ivy Tech Community College-Southwest",
                  "TUITIONFEE_IN": 3605,
                  "_deepnote_index_column": 7569
                },
                {
                  "INSTNM": "Ivy Tech Community College-Wabash Valley",
                  "TUITIONFEE_IN": 3605,
                  "_deepnote_index_column": 7570
                },
                {
                  "INSTNM": "Ivy Tech Community College-Richmond",
                  "TUITIONFEE_IN": 3605,
                  "_deepnote_index_column": 7571
                },
                {
                  "INSTNM": "Ivy Tech Community College-Northwest",
                  "TUITIONFEE_IN": 3605,
                  "_deepnote_index_column": 7572
                },
                {
                  "INSTNM": "Ivy Tech Community College-Southeast",
                  "TUITIONFEE_IN": 3605,
                  "_deepnote_index_column": 7573
                },
                {
                  "INSTNM": "Ivy Tech Community College-Bloomington",
                  "TUITIONFEE_IN": 3605,
                  "_deepnote_index_column": 7574
                },
                {
                  "INSTNM": "Ivy Tech Community College-Central Indiana",
                  "TUITIONFEE_IN": 3605,
                  "_deepnote_index_column": 7575
                },
                {
                  "INSTNM": "Harrison College-Anderson",
                  "TUITIONFEE_IN": 16740,
                  "_deepnote_index_column": 7576
                },
                {
                  "INSTNM": "Harrison College-Columbus",
                  "TUITIONFEE_IN": 16740,
                  "_deepnote_index_column": 7577
                },
                {
                  "INSTNM": "Harrison College-Terre Haute",
                  "TUITIONFEE_IN": 16740,
                  "_deepnote_index_column": 7578
                },
                {
                  "INSTNM": "Harrison College-Lafayette",
                  "TUITIONFEE_IN": 16740,
                  "_deepnote_index_column": 7579
                },
                {
                  "INSTNM": "Harrison College-Indianapolis East",
                  "TUITIONFEE_IN": 16740,
                  "_deepnote_index_column": 7580
                },
                {
                  "INSTNM": "Harrison College-Evansville",
                  "TUITIONFEE_IN": 16740,
                  "_deepnote_index_column": 7581
                },
                {
                  "INSTNM": "Harrison College-Fort Wayne",
                  "TUITIONFEE_IN": 16740,
                  "_deepnote_index_column": 7582
                },
                {
                  "INSTNM": "Harrison College-Northwest",
                  "TUITIONFEE_IN": 16740,
                  "_deepnote_index_column": 7583
                },
                {
                  "INSTNM": "Harrison College-Elkhart",
                  "TUITIONFEE_IN": 16740,
                  "_deepnote_index_column": 7584
                },
                {
                  "INSTNM": "Marian University",
                  "TUITIONFEE_IN": 8400,
                  "_deepnote_index_column": 7585
                },
                {
                  "INSTNM": "CBTS - Wisconsin",
                  "TUITIONFEE_IN": 6980,
                  "_deepnote_index_column": 7589
                },
                {
                  "INSTNM": "Coffeyville Technical Campus",
                  "TUITIONFEE_IN": 3370,
                  "_deepnote_index_column": 7590
                },
                {
                  "INSTNM": "Columbus Technical Campus",
                  "TUITIONFEE_IN": 3370,
                  "_deepnote_index_column": 7591
                },
                {
                  "INSTNM": "Cleary University",
                  "TUITIONFEE_IN": 18720,
                  "_deepnote_index_column": 7605
                },
                {
                  "INSTNM": "Davenport University-Warren Location",
                  "TUITIONFEE_IN": 13966,
                  "_deepnote_index_column": 7606
                },
                {
                  "INSTNM": "Davenport University-Kalamazoo Location",
                  "TUITIONFEE_IN": 13966,
                  "_deepnote_index_column": 7607
                },
                {
                  "INSTNM": "Davenport University-Lansing Location",
                  "TUITIONFEE_IN": 13956,
                  "_deepnote_index_column": 7608
                },
                {
                  "INSTNM": "Davenport University-Midland Location",
                  "TUITIONFEE_IN": 13198,
                  "_deepnote_index_column": 7609
                },
                {
                  "INSTNM": "Davenport University-Holland Location",
                  "TUITIONFEE_IN": 13966,
                  "_deepnote_index_column": 7610
                },
                {
                  "INSTNM": "Davenport University-Flint Location",
                  "TUITIONFEE_IN": 13198,
                  "_deepnote_index_column": 7611
                },
                {
                  "INSTNM": "Davenport University-Traverse City Location",
                  "TUITIONFEE_IN": 13198,
                  "_deepnote_index_column": 7612
                },
                {
                  "INSTNM": "Davenport University-Saginaw Location",
                  "TUITIONFEE_IN": 13198,
                  "_deepnote_index_column": 7613
                },
                {
                  "INSTNM": "Davenport University-Livonia Location",
                  "TUITIONFEE_IN": 13966,
                  "_deepnote_index_column": 7614
                },
                {
                  "INSTNM": "Davenport University-Battle Creek Location",
                  "TUITIONFEE_IN": 13966,
                  "_deepnote_index_column": 7615
                },
                {
                  "INSTNM": "Anoka-Ramsey Community College-Cambridge Campus",
                  "TUITIONFEE_IN": 5005,
                  "_deepnote_index_column": 7617
                },
                {
                  "INSTNM": "Central Lakes College-Staples Campus",
                  "TUITIONFEE_IN": 5393,
                  "_deepnote_index_column": 7618
                },
                {
                  "INSTNM": "M State - Detroit Lakes Campus",
                  "TUITIONFEE_IN": 5303,
                  "_deepnote_index_column": 7619
                },
                {
                  "INSTNM": "M State - Moorhead Campus",
                  "TUITIONFEE_IN": 5444,
                  "_deepnote_index_column": 7620
                },
                {
                  "INSTNM": "M State - Wadena Campus",
                  "TUITIONFEE_IN": 5273,
                  "_deepnote_index_column": 7621
                },
                {
                  "INSTNM": "South Central College-Faribault",
                  "TUITIONFEE_IN": 5370,
                  "_deepnote_index_column": 7622
                },
                {
                  "INSTNM": "Mesabi Range College",
                  "TUITIONFEE_IN": 5293,
                  "_deepnote_index_column": 7623
                },
                {
                  "INSTNM": "Northland Community and Technical College - East Grand Forks",
                  "TUITIONFEE_IN": 5517,
                  "_deepnote_index_column": 7624
                },
                {
                  "INSTNM": "Rasmussen College-Bloomington",
                  "TUITIONFEE_IN": 10764,
                  "_deepnote_index_column": 7625
                },
                {
                  "INSTNM": "Rasmussen College-Eagan",
                  "TUITIONFEE_IN": 10764,
                  "_deepnote_index_column": 7626
                },
                {
                  "INSTNM": "Rasmussen College-Mankato",
                  "TUITIONFEE_IN": 10764,
                  "_deepnote_index_column": 7627
                },
                {
                  "INSTNM": "Rasmussen College-Brooklyn Park",
                  "TUITIONFEE_IN": 10764,
                  "_deepnote_index_column": 7628
                },
                {
                  "INSTNM": "Rasmussen College-Lake Elmo/Woodbury",
                  "TUITIONFEE_IN": 10764,
                  "_deepnote_index_column": 7629
                },
                {
                  "INSTNM": "Rasmussen College-Blaine",
                  "TUITIONFEE_IN": 10764,
                  "_deepnote_index_column": 7630
                },
                {
                  "INSTNM": "Ridgewater College",
                  "TUITIONFEE_IN": 5390,
                  "_deepnote_index_column": 7631
                },
                {
                  "INSTNM": "Minnesota State CollegeSoutheast-Red Wing Campus",
                  "TUITIONFEE_IN": 6064,
                  "_deepnote_index_column": 7632
                },
                {
                  "INSTNM": "Copiah-Lincoln Community College Simpson County Center",
                  "TUITIONFEE_IN": 2350,
                  "_deepnote_index_column": 7633
                },
                {
                  "INSTNM": "Copiah-Lincoln Community College-Natchez Campus",
                  "TUITIONFEE_IN": 2350,
                  "_deepnote_index_column": 7634
                },
                {
                  "INSTNM": "Pearl River Community College-Forrest County Center",
                  "TUITIONFEE_IN": 2550,
                  "_deepnote_index_column": 7635
                },
                {
                  "INSTNM": "Lindenwood University-Belleville",
                  "TUITIONFEE_IN": 15150,
                  "_deepnote_index_column": 7636
                },
                {
                  "INSTNM": "City College Montana State University Billings",
                  "TUITIONFEE_IN": 3782,
                  "_deepnote_index_column": 7637
                },
                {
                  "INSTNM": "The University of Montana - Missoula College",
                  "TUITIONFEE_IN": 3460,
                  "_deepnote_index_column": 7638
                },
                {
                  "INSTNM": "Berkeley College - Westchester Campus",
                  "TUITIONFEE_IN": 23100,
                  "_deepnote_index_column": 7643
                },
                {
                  "INSTNM": "Briarcliffe College-Bohemia",
                  "TUITIONFEE_IN": 18639,
                  "_deepnote_index_column": 7644
                },
                {
                  "INSTNM": "Culinary Institute of America at Greystone",
                  "TUITIONFEE_IN": 27600,
                  "_deepnote_index_column": 7645
                },
                {
                  "INSTNM": "Culinary Institute of America San Antonio",
                  "TUITIONFEE_IN": 27070,
                  "_deepnote_index_column": 7646
                },
                {
                  "INSTNM": "Pratt Manhattan-A Division of Pratt Institute",
                  "TUITIONFEE_IN": 43126,
                  "_deepnote_index_column": 7647
                },
                {
                  "INSTNM": "St. Joseph's College Long Island",
                  "TUITIONFEE_IN": 21878,
                  "_deepnote_index_column": 7648
                },
                {
                  "INSTNM": "Gaston College",
                  "TUITIONFEE_IN": 2560,
                  "_deepnote_index_column": 7649
                },
                {
                  "INSTNM": "Rasmussen College-Bismarck",
                  "TUITIONFEE_IN": 10764,
                  "_deepnote_index_column": 7650
                },
                {
                  "INSTNM": "Los Angeles Center",
                  "TUITIONFEE_IN": 11904,
                  "_deepnote_index_column": 7651
                },
                {
                  "INSTNM": "Florida Center",
                  "TUITIONFEE_IN": 11904,
                  "_deepnote_index_column": 7652
                },
                {
                  "INSTNM": "Sacramento Center",
                  "TUITIONFEE_IN": 11904,
                  "_deepnote_index_column": 7653
                },
                {
                  "INSTNM": "New England Center",
                  "TUITIONFEE_IN": 11904,
                  "_deepnote_index_column": 7656
                },
                {
                  "INSTNM": "Bucks County Community College-Upper Bucks Campus",
                  "TUITIONFEE_IN": 3866,
                  "_deepnote_index_column": 7661
                },
                {
                  "INSTNM": "Bucks County Community College-Lower Bucks Campus",
                  "TUITIONFEE_IN": 3866,
                  "_deepnote_index_column": 7662
                },
                {
                  "INSTNM": "Harrisburg Area Community College-Lancaster",
                  "TUITIONFEE_IN": 5295,
                  "_deepnote_index_column": 7663
                },
                {
                  "INSTNM": "Harrisburg Area Community College-Gettysburg",
                  "TUITIONFEE_IN": 5295,
                  "_deepnote_index_column": 7664
                },
                {
                  "INSTNM": "Harrisburg Area Community College-Lebanon",
                  "TUITIONFEE_IN": 5295,
                  "_deepnote_index_column": 7665
                },
                {
                  "INSTNM": "Harrisburg Area Community College-York",
                  "TUITIONFEE_IN": 5295,
                  "_deepnote_index_column": 7666
                },
                {
                  "INSTNM": "Northampton County Area Community College-Monroe",
                  "TUITIONFEE_IN": 3690,
                  "_deepnote_index_column": 7668
                },
                {
                  "INSTNM": "Laurel Technical Institute Meadville",
                  "TUITIONFEE_IN": 9444,
                  "_deepnote_index_column": 7670
                },
                {
                  "INSTNM": "South Hills School of Business and Technology-Altoona",
                  "TUITIONFEE_IN": 15735,
                  "_deepnote_index_column": 7671
                },
                {
                  "INSTNM": "Galveston College - Charlie Thomas Family Applied Technology Center",
                  "TUITIONFEE_IN": 1900,
                  "_deepnote_index_column": 7673
                },
                {
                  "INSTNM": "San Jacinto College-North Campus",
                  "TUITIONFEE_IN": 1312,
                  "_deepnote_index_column": 7674
                },
                {
                  "INSTNM": "San Jacinto College-South Campus",
                  "TUITIONFEE_IN": 1312,
                  "_deepnote_index_column": 7675
                },
                {
                  "INSTNM": "Texas A&M University-San Antonio",
                  "TUITIONFEE_IN": 6940,
                  "_deepnote_index_column": 7678
                },
                {
                  "INSTNM": "Snow College-Richfield Campus",
                  "TUITIONFEE_IN": 3220,
                  "_deepnote_index_column": 7679
                },
                {
                  "INSTNM": "Strayer University-Alexandria Campus",
                  "TUITIONFEE_IN": 15495,
                  "_deepnote_index_column": 7680
                },
                {
                  "INSTNM": "Strayer University-Woodbridge Campus",
                  "TUITIONFEE_IN": 15495,
                  "_deepnote_index_column": 7681
                },
                {
                  "INSTNM": "Strayer University-Manassas Campus",
                  "TUITIONFEE_IN": 15495,
                  "_deepnote_index_column": 7682
                },
                {
                  "INSTNM": "Strayer University-Loudoun Campus",
                  "TUITIONFEE_IN": 15495,
                  "_deepnote_index_column": 7683
                },
                {
                  "INSTNM": "Strayer University-Fredericksburg Campus",
                  "TUITIONFEE_IN": 15495,
                  "_deepnote_index_column": 7684
                },
                {
                  "INSTNM": "Strayer University-Henrico Campus",
                  "TUITIONFEE_IN": 15495,
                  "_deepnote_index_column": 7685
                },
                {
                  "INSTNM": "Strayer University-Chesterfield Campus",
                  "TUITIONFEE_IN": 15495,
                  "_deepnote_index_column": 7686
                },
                {
                  "INSTNM": "Strayer University-Chesapeake Campus",
                  "TUITIONFEE_IN": 15495,
                  "_deepnote_index_column": 7687
                },
                {
                  "INSTNM": "Strayer University-Newport News Campus",
                  "TUITIONFEE_IN": 15495,
                  "_deepnote_index_column": 7688
                },
                {
                  "INSTNM": "Strayer University-Virginia Beach Campus",
                  "TUITIONFEE_IN": 15495,
                  "_deepnote_index_column": 7689
                },
                {
                  "INSTNM": "Washington State University-Vancouver",
                  "TUITIONFEE_IN": 11386,
                  "_deepnote_index_column": 7691
                },
                {
                  "INSTNM": "Washington State University-Spokane",
                  "TUITIONFEE_IN": 11566,
                  "_deepnote_index_column": 7692
                },
                {
                  "INSTNM": "Washington State University-Tri Cities",
                  "TUITIONFEE_IN": 11386,
                  "_deepnote_index_column": 7693
                },
                {
                  "INSTNM": "West Virginia Business College-Nutter Fort",
                  "TUITIONFEE_IN": 9700,
                  "_deepnote_index_column": 7694
                },
                {
                  "INSTNM": "University of the Virgin Islands-Albert A. Sheen",
                  "TUITIONFEE_IN": 4794,
                  "_deepnote_index_column": 7695
                },
                {
                  "INSTNM": "ECPI University-Newport News",
                  "TUITIONFEE_IN": 14245,
                  "_deepnote_index_column": 7696
                },
                {
                  "INSTNM": "ECPI University-Greensboro",
                  "TUITIONFEE_IN": 14245,
                  "_deepnote_index_column": 7697
                },
                {
                  "INSTNM": "ECPI University-Charlotte",
                  "TUITIONFEE_IN": 14245,
                  "_deepnote_index_column": 7698
                },
                {
                  "INSTNM": "ECPI University-Greenville",
                  "TUITIONFEE_IN": 14245,
                  "_deepnote_index_column": 7699
                },
                {
                  "INSTNM": "ECPI University-Manassas",
                  "TUITIONFEE_IN": 14245,
                  "_deepnote_index_column": 7700
                },
                {
                  "INSTNM": "ECPI University-Charleston",
                  "TUITIONFEE_IN": 14245,
                  "_deepnote_index_column": 7701
                },
                {
                  "INSTNM": "ECPI University-Raleigh",
                  "TUITIONFEE_IN": 14245,
                  "_deepnote_index_column": 7702
                },
                {
                  "INSTNM": "ECPI University-Columbia",
                  "TUITIONFEE_IN": 14245,
                  "_deepnote_index_column": 7703
                },
                {
                  "INSTNM": "ECPI University-Concord",
                  "TUITIONFEE_IN": 14245,
                  "_deepnote_index_column": 7704
                },
                {
                  "INSTNM": "ECPI University-Culinary Institute of Virginia",
                  "TUITIONFEE_IN": 14955,
                  "_deepnote_index_column": 7705
                },
                {
                  "INSTNM": "ECPI University-Virginia Beach Health Sciences",
                  "TUITIONFEE_IN": 15035,
                  "_deepnote_index_column": 7706
                },
                {
                  "INSTNM": "ECPI University-Richmond South",
                  "TUITIONFEE_IN": 14245,
                  "_deepnote_index_column": 7707
                },
                {
                  "INSTNM": "ECPI University-Innsbrook",
                  "TUITIONFEE_IN": 14245,
                  "_deepnote_index_column": 7708
                },
                {
                  "INSTNM": "ECPI University-Richmond West",
                  "TUITIONFEE_IN": 15035,
                  "_deepnote_index_column": 7709
                },
                {
                  "INSTNM": "Vista College Amarillo",
                  "TUITIONFEE_IN": 14725,
                  "_deepnote_index_column": 7710
                },
                {
                  "INSTNM": "Vista College Lubbock",
                  "TUITIONFEE_IN": 14725,
                  "_deepnote_index_column": 7711
                },
                {
                  "INSTNM": "Computer Career Center-Las Cruces",
                  "TUITIONFEE_IN": 14725,
                  "_deepnote_index_column": 7712
                },
                {
                  "INSTNM": "Vista College-Beaumont",
                  "TUITIONFEE_IN": 14725,
                  "_deepnote_index_column": 7713
                },
                {
                  "INSTNM": "Vista College-Longview",
                  "TUITIONFEE_IN": 14725,
                  "_deepnote_index_column": 7714
                },
                {
                  "INSTNM": "Vista College-Killeen",
                  "TUITIONFEE_IN": 14725,
                  "_deepnote_index_column": 7715
                },
                {
                  "INSTNM": "Everglades University-Orlando",
                  "TUITIONFEE_IN": 14600,
                  "_deepnote_index_column": 7730
                },
                {
                  "INSTNM": "Everglades University-Sarasota",
                  "TUITIONFEE_IN": 14600,
                  "_deepnote_index_column": 7731
                },
                {
                  "INSTNM": "Wright Career College - Oklahoma City OK",
                  "TUITIONFEE_IN": 12700,
                  "_deepnote_index_column": 7734
                },
                {
                  "INSTNM": "Wright Career College - Tulsa OK",
                  "TUITIONFEE_IN": 12700,
                  "_deepnote_index_column": 7735
                },
                {
                  "INSTNM": "Florida National University-South Campus",
                  "TUITIONFEE_IN": 13250,
                  "_deepnote_index_column": 7736
                },
                {
                  "INSTNM": "Florida National University Training Center",
                  "TUITIONFEE_IN": 13250,
                  "_deepnote_index_column": 7737
                },
                {
                  "INSTNM": "Southeastern College-Miami Lakes",
                  "TUITIONFEE_IN": 16204,
                  "_deepnote_index_column": 7742
                },
                {
                  "INSTNM": "Southeastern College-St. Petersburg",
                  "TUITIONFEE_IN": 16204,
                  "_deepnote_index_column": 7743
                },
                {
                  "INSTNM": "Southeastern College-New Port Richey",
                  "TUITIONFEE_IN": 16204,
                  "_deepnote_index_column": 7744
                },
                {
                  "INSTNM": "Southeastern College - Tampa",
                  "TUITIONFEE_IN": 16204,
                  "_deepnote_index_column": 7745
                },
                {
                  "INSTNM": "Colorado Technical University",
                  "TUITIONFEE_IN": 11290,
                  "_deepnote_index_column": 7746
                },
                {
                  "INSTNM": "Strayer University-Rockville Campus",
                  "TUITIONFEE_IN": 15495,
                  "_deepnote_index_column": 7747
                },
                {
                  "INSTNM": "Strayer University-Anne Arundel Campus",
                  "TUITIONFEE_IN": 15495,
                  "_deepnote_index_column": 7748
                },
                {
                  "INSTNM": "Strayer University-White Marsh Campus",
                  "TUITIONFEE_IN": 15495,
                  "_deepnote_index_column": 7749
                },
                {
                  "INSTNM": "Strayer University-Owings Mills Campus",
                  "TUITIONFEE_IN": 15495,
                  "_deepnote_index_column": 7750
                },
                {
                  "INSTNM": "Blue Cliff College",
                  "TUITIONFEE_IN": 18199,
                  "_deepnote_index_column": 7751
                },
                {
                  "INSTNM": "McCann School of Business & Technology",
                  "TUITIONFEE_IN": 9820,
                  "_deepnote_index_column": 7754
                },
                {
                  "INSTNM": "McCann School of Business & Technology",
                  "TUITIONFEE_IN": 9820,
                  "_deepnote_index_column": 7755
                },
                {
                  "INSTNM": "McCann School of Business & Technology",
                  "TUITIONFEE_IN": 9820,
                  "_deepnote_index_column": 7756
                },
                {
                  "INSTNM": "McCann School of Business & Technology",
                  "TUITIONFEE_IN": 9820,
                  "_deepnote_index_column": 7757
                },
                {
                  "INSTNM": "McCann School of Business & Technology",
                  "TUITIONFEE_IN": 9820,
                  "_deepnote_index_column": 7758
                },
                {
                  "INSTNM": "McCann School of Business & Technology",
                  "TUITIONFEE_IN": 9820,
                  "_deepnote_index_column": 7759
                },
                {
                  "INSTNM": "Strayer University-Nashville Campus",
                  "TUITIONFEE_IN": 15495,
                  "_deepnote_index_column": 7770
                },
                {
                  "INSTNM": "Strayer University-Shelby Oaks Campus",
                  "TUITIONFEE_IN": 15495,
                  "_deepnote_index_column": 7771
                },
                {
                  "INSTNM": "Strayer University-Knoxville Campus",
                  "TUITIONFEE_IN": 15495,
                  "_deepnote_index_column": 7772
                },
                {
                  "INSTNM": "Strayer University-Delaware County Campus",
                  "TUITIONFEE_IN": 15495,
                  "_deepnote_index_column": 7773
                },
                {
                  "INSTNM": "Strayer University-King of Prussia Campus",
                  "TUITIONFEE_IN": 15495,
                  "_deepnote_index_column": 7774
                },
                {
                  "INSTNM": "Strayer University-Center City Campus",
                  "TUITIONFEE_IN": 15495,
                  "_deepnote_index_column": 7775
                },
                {
                  "INSTNM": "Strayer University-Lower Bucks County Campus",
                  "TUITIONFEE_IN": 15495,
                  "_deepnote_index_column": 7776
                },
                {
                  "INSTNM": "Strayer University-Warrendale Campus",
                  "TUITIONFEE_IN": 15495,
                  "_deepnote_index_column": 7777
                },
                {
                  "INSTNM": "Strayer University-Allentown Campus",
                  "TUITIONFEE_IN": 15496,
                  "_deepnote_index_column": 7778
                },
                {
                  "INSTNM": "Rasmussen College-Aurora",
                  "TUITIONFEE_IN": 10764,
                  "_deepnote_index_column": 7784
                },
                {
                  "INSTNM": "Rasmussen College-Romeoville/Joliet",
                  "TUITIONFEE_IN": 10764,
                  "_deepnote_index_column": 7785
                },
                {
                  "INSTNM": "Rasmussen College-Mokena/Tinley Park",
                  "TUITIONFEE_IN": 10764,
                  "_deepnote_index_column": 7786
                },
                {
                  "INSTNM": "Strayer University-Tampa East Campus",
                  "TUITIONFEE_IN": 15495,
                  "_deepnote_index_column": 7787
                },
                {
                  "INSTNM": "Strayer University-Maitland Campus",
                  "TUITIONFEE_IN": 15495,
                  "_deepnote_index_column": 7788
                },
                {
                  "INSTNM": "Strayer University-Orlando East Campus",
                  "TUITIONFEE_IN": 15495,
                  "_deepnote_index_column": 7789
                },
                {
                  "INSTNM": "Strayer University-Sand Lake Campus",
                  "TUITIONFEE_IN": 15495,
                  "_deepnote_index_column": 7790
                },
                {
                  "INSTNM": "Strayer University-Baymeadows Campus",
                  "TUITIONFEE_IN": 15495,
                  "_deepnote_index_column": 7791
                },
                {
                  "INSTNM": "Strayer University-Palm Beach Gardens Campus",
                  "TUITIONFEE_IN": 15495,
                  "_deepnote_index_column": 7792
                },
                {
                  "INSTNM": "Strayer University-Coral Springs Campus",
                  "TUITIONFEE_IN": 15495,
                  "_deepnote_index_column": 7793
                },
                {
                  "INSTNM": "Strayer University-Fort Lauderdale Campus",
                  "TUITIONFEE_IN": 15495,
                  "_deepnote_index_column": 7794
                },
                {
                  "INSTNM": "Strayer University-Miramar Campus",
                  "TUITIONFEE_IN": 15495,
                  "_deepnote_index_column": 7795
                },
                {
                  "INSTNM": "Strayer University-Doral",
                  "TUITIONFEE_IN": 15495,
                  "_deepnote_index_column": 7796
                },
                {
                  "INSTNM": "Strayer University-Brickell",
                  "TUITIONFEE_IN": 15495,
                  "_deepnote_index_column": 7797
                },
                {
                  "INSTNM": "Dayton School of Medical Massage-Lima",
                  "TUITIONFEE_IN": 15400,
                  "_deepnote_index_column": 7799
                },
                {
                  "INSTNM": "Cincinnati School of Medical Massage",
                  "TUITIONFEE_IN": 15400,
                  "_deepnote_index_column": 7800
                },
                {
                  "INSTNM": "Cleveland Institute of Medical Massage",
                  "TUITIONFEE_IN": 15400,
                  "_deepnote_index_column": 7801
                },
                {
                  "INSTNM": "Strayer University-Huntsville Campus",
                  "TUITIONFEE_IN": 15495,
                  "_deepnote_index_column": 7803
                },
                {
                  "INSTNM": "Rasmussen College-Appleton",
                  "TUITIONFEE_IN": 10764,
                  "_deepnote_index_column": 7804
                },
                {
                  "INSTNM": "Rasmussen College-Wausau",
                  "TUITIONFEE_IN": 10764,
                  "_deepnote_index_column": 7805
                },
                {
                  "INSTNM": "Strayer University-Louisville Campus",
                  "TUITIONFEE_IN": 15495,
                  "_deepnote_index_column": 7806
                },
                {
                  "INSTNM": "Strayer University-Florence Campus",
                  "TUITIONFEE_IN": 15495,
                  "_deepnote_index_column": 7807
                },
                {
                  "INSTNM": "Strayer University-North Charlotte",
                  "TUITIONFEE_IN": 15495,
                  "_deepnote_index_column": 7808
                },
                {
                  "INSTNM": "Strayer University-South Charlotte",
                  "TUITIONFEE_IN": 15495,
                  "_deepnote_index_column": 7809
                },
                {
                  "INSTNM": "Strayer University-North Raleigh Campus",
                  "TUITIONFEE_IN": 15495,
                  "_deepnote_index_column": 7810
                },
                {
                  "INSTNM": "Strayer University-Greensboro Campus",
                  "TUITIONFEE_IN": 15495,
                  "_deepnote_index_column": 7811
                },
                {
                  "INSTNM": "Strayer University-Huntersville Campus",
                  "TUITIONFEE_IN": 15495,
                  "_deepnote_index_column": 7812
                },
                {
                  "INSTNM": "Strayer University-South Raleigh Campus",
                  "TUITIONFEE_IN": 15495,
                  "_deepnote_index_column": 7813
                },
                {
                  "INSTNM": "Strayer University-Willingboro Campus",
                  "TUITIONFEE_IN": 15495,
                  "_deepnote_index_column": 7814
                },
                {
                  "INSTNM": "Strayer University-Lawrenceville",
                  "TUITIONFEE_IN": 15495,
                  "_deepnote_index_column": 7815
                },
                {
                  "INSTNM": "Strayer University-Piscataway",
                  "TUITIONFEE_IN": 15495,
                  "_deepnote_index_column": 7816
                },
                {
                  "INSTNM": "Strayer University-Columbus Campus",
                  "TUITIONFEE_IN": 15495,
                  "_deepnote_index_column": 7821
                },
                {
                  "INSTNM": "Strayer University-Fairview Park Campus",
                  "TUITIONFEE_IN": 15495,
                  "_deepnote_index_column": 7822
                },
                {
                  "INSTNM": "Strayer University-Akron Campus",
                  "TUITIONFEE_IN": 15495,
                  "_deepnote_index_column": 7823
                },
                {
                  "INSTNM": "Strayer University-Fairborn Campus",
                  "TUITIONFEE_IN": 15495,
                  "_deepnote_index_column": 7824
                },
                {
                  "INSTNM": "Strayer University-Cincinnati Campus",
                  "TUITIONFEE_IN": 15495,
                  "_deepnote_index_column": 7825
                },
                {
                  "INSTNM": "Strayer University-Cobb Campus",
                  "TUITIONFEE_IN": 15495,
                  "_deepnote_index_column": 7828
                },
                {
                  "INSTNM": "Strayer University-Morrow Campus",
                  "TUITIONFEE_IN": 15495,
                  "_deepnote_index_column": 7829
                },
                {
                  "INSTNM": "Strayer University-Roswell Campus",
                  "TUITIONFEE_IN": 15495,
                  "_deepnote_index_column": 7830
                },
                {
                  "INSTNM": "Strayer University-Douglasville Campus",
                  "TUITIONFEE_IN": 15495,
                  "_deepnote_index_column": 7831
                },
                {
                  "INSTNM": "Strayer University-Lithonia Campus",
                  "TUITIONFEE_IN": 15495,
                  "_deepnote_index_column": 7832
                },
                {
                  "INSTNM": "Strayer University-Savannah Campus",
                  "TUITIONFEE_IN": 15495,
                  "_deepnote_index_column": 7833
                },
                {
                  "INSTNM": "Strayer University-Augusta Campus",
                  "TUITIONFEE_IN": 15495,
                  "_deepnote_index_column": 7834
                },
                {
                  "INSTNM": "Strayer University-Columbus",
                  "TUITIONFEE_IN": 15495,
                  "_deepnote_index_column": 7835
                },
                {
                  "INSTNM": "Strayer University-Columbia Campus",
                  "TUITIONFEE_IN": 15495,
                  "_deepnote_index_column": 7836
                },
                {
                  "INSTNM": "Strayer University-Charleston Campus",
                  "TUITIONFEE_IN": 15495,
                  "_deepnote_index_column": 7837
                },
                {
                  "INSTNM": "Strayer University-Irving",
                  "TUITIONFEE_IN": 15495,
                  "_deepnote_index_column": 7838
                },
                {
                  "INSTNM": "Strayer University-Katy",
                  "TUITIONFEE_IN": 15495,
                  "_deepnote_index_column": 7839
                },
                {
                  "INSTNM": "Strayer University-Northwest Houston",
                  "TUITIONFEE_IN": 15495,
                  "_deepnote_index_column": 7840
                },
                {
                  "INSTNM": "Strayer University-Plano",
                  "TUITIONFEE_IN": 15495,
                  "_deepnote_index_column": 7841
                },
                {
                  "INSTNM": "Strayer University-Cedar Hill",
                  "TUITIONFEE_IN": 15495,
                  "_deepnote_index_column": 7842
                },
                {
                  "INSTNM": "Strayer University-North Dallas",
                  "TUITIONFEE_IN": 15495,
                  "_deepnote_index_column": 7843
                },
                {
                  "INSTNM": "Strayer University-San Antonio",
                  "TUITIONFEE_IN": 15495,
                  "_deepnote_index_column": 7844
                },
                {
                  "INSTNM": "Strayer University-Stafford",
                  "TUITIONFEE_IN": 15495,
                  "_deepnote_index_column": 7845
                },
                {
                  "INSTNM": "Unitek College",
                  "TUITIONFEE_IN": 21671,
                  "_deepnote_index_column": 7846
                },
                {
                  "INSTNM": "Strayer University-Bloomington Campus",
                  "TUITIONFEE_IN": 15495,
                  "_deepnote_index_column": 7855
                },
                {
                  "INSTNM": "Strayer University-Schaumburg Campus",
                  "TUITIONFEE_IN": 15495,
                  "_deepnote_index_column": 7856
                },
                {
                  "INSTNM": "Strayer University-Downers Grove Campus",
                  "TUITIONFEE_IN": 15495,
                  "_deepnote_index_column": 7857
                },
                {
                  "INSTNM": "Strayer University-Aurora Campus",
                  "TUITIONFEE_IN": 15495,
                  "_deepnote_index_column": 7858
                },
                {
                  "INSTNM": "Rasmussen College - Overland Park",
                  "TUITIONFEE_IN": 10764,
                  "_deepnote_index_column": 7859
                },
                {
                  "INSTNM": "Strayer University-St Louis-Brentwood",
                  "TUITIONFEE_IN": 15495,
                  "_deepnote_index_column": 7861
                },
                {
                  "INSTNM": "Georgia Military College-Augusta Campus",
                  "TUITIONFEE_IN": 5340,
                  "_deepnote_index_column": 7862
                },
                {
                  "INSTNM": "Georgia Military College-Fairburn Campus",
                  "TUITIONFEE_IN": 5916,
                  "_deepnote_index_column": 7863
                },
                {
                  "INSTNM": "Georgia Military College-Columbus Campus",
                  "TUITIONFEE_IN": 6276,
                  "_deepnote_index_column": 7864
                },
                {
                  "INSTNM": "Georgia Military College-Valdosta Campus",
                  "TUITIONFEE_IN": 5271,
                  "_deepnote_index_column": 7865
                },
                {
                  "INSTNM": "Georgia Military College-Warner Robins Campus",
                  "TUITIONFEE_IN": 5148,
                  "_deepnote_index_column": 7866
                },
                {
                  "INSTNM": "Georgia Military College-Online",
                  "TUITIONFEE_IN": 6900,
                  "_deepnote_index_column": 7867
                },
                {
                  "INSTNM": "Georgia Military College-Stone Mountain",
                  "TUITIONFEE_IN": 5916,
                  "_deepnote_index_column": 7868
                }
              ]
            },
            "text/plain": "                                             INSTNM  TUITIONFEE_IN\n0                          Alabama A & M University         7182.0\n1               University of Alabama at Birmingham         7206.0\n2                                Amridge University         6870.0\n3               University of Alabama in Huntsville         9192.0\n4                          Alabama State University         8720.0\n...                                             ...            ...\n7864       Georgia Military College-Columbus Campus         6276.0\n7865       Georgia Military College-Valdosta Campus         5271.0\n7866  Georgia Military College-Warner Robins Campus         5148.0\n7867                Georgia Military College-Online         6900.0\n7868        Georgia Military College-Stone Mountain         5916.0\n\n[4525 rows x 2 columns]",
            "text/html": "<div>\n<style scoped>\n    .dataframe tbody tr th:only-of-type {\n        vertical-align: middle;\n    }\n\n    .dataframe tbody tr th {\n        vertical-align: top;\n    }\n\n    .dataframe thead th {\n        text-align: right;\n    }\n</style>\n<table border=\"1\" class=\"dataframe\">\n  <thead>\n    <tr style=\"text-align: right;\">\n      <th></th>\n      <th>INSTNM</th>\n      <th>TUITIONFEE_IN</th>\n    </tr>\n  </thead>\n  <tbody>\n    <tr>\n      <th>0</th>\n      <td>Alabama A &amp; M University</td>\n      <td>7182.0</td>\n    </tr>\n    <tr>\n      <th>1</th>\n      <td>University of Alabama at Birmingham</td>\n      <td>7206.0</td>\n    </tr>\n    <tr>\n      <th>2</th>\n      <td>Amridge University</td>\n      <td>6870.0</td>\n    </tr>\n    <tr>\n      <th>3</th>\n      <td>University of Alabama in Huntsville</td>\n      <td>9192.0</td>\n    </tr>\n    <tr>\n      <th>4</th>\n      <td>Alabama State University</td>\n      <td>8720.0</td>\n    </tr>\n    <tr>\n      <th>...</th>\n      <td>...</td>\n      <td>...</td>\n    </tr>\n    <tr>\n      <th>7864</th>\n      <td>Georgia Military College-Columbus Campus</td>\n      <td>6276.0</td>\n    </tr>\n    <tr>\n      <th>7865</th>\n      <td>Georgia Military College-Valdosta Campus</td>\n      <td>5271.0</td>\n    </tr>\n    <tr>\n      <th>7866</th>\n      <td>Georgia Military College-Warner Robins Campus</td>\n      <td>5148.0</td>\n    </tr>\n    <tr>\n      <th>7867</th>\n      <td>Georgia Military College-Online</td>\n      <td>6900.0</td>\n    </tr>\n    <tr>\n      <th>7868</th>\n      <td>Georgia Military College-Stone Mountain</td>\n      <td>5916.0</td>\n    </tr>\n  </tbody>\n</table>\n<p>4525 rows × 2 columns</p>\n</div>"
          },
          "metadata": {}
        }
      ]
    },
    {
      "cell_type": "code",
      "metadata": {
        "tags": [],
        "cell_id": "00010-953075c3-0f9c-4096-9b2e-6bb403198aa6",
        "deepnote_to_be_reexecuted": false,
        "source_hash": "7bbbb48d",
        "execution_millis": 49,
        "execution_start": 1618682809787,
        "deepnote_cell_type": "code"
      },
      "source": "# 9 - Calculate and display the mean (average) of the tuitions of all the remaining observations\n\ndf.describe()",
      "execution_count": 10,
      "outputs": [
        {
          "output_type": "execute_result",
          "execution_count": 10,
          "data": {
            "application/vnd.deepnote.dataframe.v2+json": {
              "row_count": 8,
              "column_count": 1,
              "columns": [
                {
                  "name": "TUITIONFEE_IN",
                  "dtype": "float64",
                  "stats": {
                    "unique_count": 8,
                    "nan_count": 0,
                    "min": "80.0",
                    "max": "64900.0",
                    "histogram": [
                      {
                        "bin_start": 80,
                        "bin_end": 6562,
                        "count": 3
                      },
                      {
                        "bin_start": 6562,
                        "bin_end": 13044,
                        "count": 2
                      },
                      {
                        "bin_start": 13044,
                        "bin_end": 19526,
                        "count": 2
                      },
                      {
                        "bin_start": 19526,
                        "bin_end": 26008,
                        "count": 0
                      },
                      {
                        "bin_start": 26008,
                        "bin_end": 32490,
                        "count": 0
                      },
                      {
                        "bin_start": 32490,
                        "bin_end": 38972,
                        "count": 0
                      },
                      {
                        "bin_start": 38972,
                        "bin_end": 45454,
                        "count": 0
                      },
                      {
                        "bin_start": 45454,
                        "bin_end": 51936,
                        "count": 0
                      },
                      {
                        "bin_start": 51936,
                        "bin_end": 58418,
                        "count": 0
                      },
                      {
                        "bin_start": 58418,
                        "bin_end": 64900,
                        "count": 1
                      }
                    ]
                  }
                },
                {
                  "name": "_deepnote_index_column",
                  "dtype": "object"
                }
              ],
              "rows_top": [
                {
                  "TUITIONFEE_IN": 4525,
                  "_deepnote_index_column": "count"
                },
                {
                  "TUITIONFEE_IN": 13859.759779005524,
                  "_deepnote_index_column": "mean"
                },
                {
                  "TUITIONFEE_IN": 10511.323721489958,
                  "_deepnote_index_column": "std"
                },
                {
                  "TUITIONFEE_IN": 80,
                  "_deepnote_index_column": "min"
                },
                {
                  "TUITIONFEE_IN": 5295,
                  "_deepnote_index_column": "25%"
                },
                {
                  "TUITIONFEE_IN": 12093,
                  "_deepnote_index_column": "50%"
                },
                {
                  "TUITIONFEE_IN": 18048,
                  "_deepnote_index_column": "75%"
                },
                {
                  "TUITIONFEE_IN": 64900,
                  "_deepnote_index_column": "max"
                }
              ],
              "rows_bottom": null
            },
            "text/plain": "       TUITIONFEE_IN\ncount    4525.000000\nmean    13859.759779\nstd     10511.323721\nmin        80.000000\n25%      5295.000000\n50%     12093.000000\n75%     18048.000000\nmax     64900.000000",
            "text/html": "<div>\n<style scoped>\n    .dataframe tbody tr th:only-of-type {\n        vertical-align: middle;\n    }\n\n    .dataframe tbody tr th {\n        vertical-align: top;\n    }\n\n    .dataframe thead th {\n        text-align: right;\n    }\n</style>\n<table border=\"1\" class=\"dataframe\">\n  <thead>\n    <tr style=\"text-align: right;\">\n      <th></th>\n      <th>TUITIONFEE_IN</th>\n    </tr>\n  </thead>\n  <tbody>\n    <tr>\n      <th>count</th>\n      <td>4525.000000</td>\n    </tr>\n    <tr>\n      <th>mean</th>\n      <td>13859.759779</td>\n    </tr>\n    <tr>\n      <th>std</th>\n      <td>10511.323721</td>\n    </tr>\n    <tr>\n      <th>min</th>\n      <td>80.000000</td>\n    </tr>\n    <tr>\n      <th>25%</th>\n      <td>5295.000000</td>\n    </tr>\n    <tr>\n      <th>50%</th>\n      <td>12093.000000</td>\n    </tr>\n    <tr>\n      <th>75%</th>\n      <td>18048.000000</td>\n    </tr>\n    <tr>\n      <th>max</th>\n      <td>64900.000000</td>\n    </tr>\n  </tbody>\n</table>\n</div>"
          },
          "metadata": {}
        }
      ]
    },
    {
      "cell_type": "code",
      "metadata": {
        "tags": [],
        "cell_id": "00011-f351b828-559a-43a2-bdcc-0ba09773fd4d",
        "deepnote_to_be_reexecuted": false,
        "source_hash": "ad895dc2",
        "execution_millis": 30,
        "execution_start": 1618682809839,
        "deepnote_cell_type": "code"
      },
      "source": "# 10 - Randomly select just 1 observation from the data frame.\n# Display the tuition of that observation.\n\ndfr= df.sample() \ndfr",
      "execution_count": 11,
      "outputs": [
        {
          "output_type": "execute_result",
          "execution_count": 11,
          "data": {
            "application/vnd.deepnote.dataframe.v2+json": {
              "row_count": 1,
              "column_count": 2,
              "columns": [
                {
                  "name": "INSTNM",
                  "dtype": "object",
                  "stats": {
                    "unique_count": 1,
                    "nan_count": 0,
                    "categories": [
                      {
                        "name": "Louisburg College",
                        "count": 1
                      }
                    ]
                  }
                },
                {
                  "name": "TUITIONFEE_IN",
                  "dtype": "float64",
                  "stats": {
                    "unique_count": 1,
                    "nan_count": 0,
                    "min": "15540.0",
                    "max": "15540.0",
                    "histogram": [
                      {
                        "bin_start": 15539.5,
                        "bin_end": 15539.6,
                        "count": 0
                      },
                      {
                        "bin_start": 15539.6,
                        "bin_end": 15539.7,
                        "count": 0
                      },
                      {
                        "bin_start": 15539.7,
                        "bin_end": 15539.8,
                        "count": 0
                      },
                      {
                        "bin_start": 15539.8,
                        "bin_end": 15539.9,
                        "count": 0
                      },
                      {
                        "bin_start": 15539.9,
                        "bin_end": 15540,
                        "count": 0
                      },
                      {
                        "bin_start": 15540,
                        "bin_end": 15540.1,
                        "count": 1
                      },
                      {
                        "bin_start": 15540.1,
                        "bin_end": 15540.2,
                        "count": 0
                      },
                      {
                        "bin_start": 15540.2,
                        "bin_end": 15540.3,
                        "count": 0
                      },
                      {
                        "bin_start": 15540.3,
                        "bin_end": 15540.4,
                        "count": 0
                      },
                      {
                        "bin_start": 15540.4,
                        "bin_end": 15540.5,
                        "count": 0
                      }
                    ]
                  }
                },
                {
                  "name": "_deepnote_index_column",
                  "dtype": "int64"
                }
              ],
              "rows_top": [
                {
                  "INSTNM": "Louisburg College",
                  "TUITIONFEE_IN": 15540,
                  "_deepnote_index_column": 2773
                }
              ],
              "rows_bottom": null
            },
            "text/plain": "                 INSTNM  TUITIONFEE_IN\n2773  Louisburg College        15540.0",
            "text/html": "<div>\n<style scoped>\n    .dataframe tbody tr th:only-of-type {\n        vertical-align: middle;\n    }\n\n    .dataframe tbody tr th {\n        vertical-align: top;\n    }\n\n    .dataframe thead th {\n        text-align: right;\n    }\n</style>\n<table border=\"1\" class=\"dataframe\">\n  <thead>\n    <tr style=\"text-align: right;\">\n      <th></th>\n      <th>INSTNM</th>\n      <th>TUITIONFEE_IN</th>\n    </tr>\n  </thead>\n  <tbody>\n    <tr>\n      <th>2773</th>\n      <td>Louisburg College</td>\n      <td>15540.0</td>\n    </tr>\n  </tbody>\n</table>\n</div>"
          },
          "metadata": {}
        }
      ]
    },
    {
      "cell_type": "code",
      "metadata": {
        "tags": [],
        "cell_id": "00012-129ca430-535f-4166-8be9-0e1acb904349",
        "deepnote_to_be_reexecuted": false,
        "source_hash": "43e2ecc2",
        "execution_millis": 25,
        "execution_start": 1618682809872,
        "deepnote_cell_type": "code"
      },
      "source": "# 11 - Calculate the different between the tuition of this observation and \n# the mean tuition off all observations calculated earlier.\n# Display the difference\n\nTF1= dfr[\"TUITIONFEE_IN\"]\nDiff= TF1-(df[\"TUITIONFEE_IN\"].mean())\nDiff",
      "execution_count": 12,
      "outputs": [
        {
          "output_type": "execute_result",
          "execution_count": 12,
          "data": {
            "text/plain": "2773    1680.240221\nName: TUITIONFEE_IN, dtype: float64"
          },
          "metadata": {}
        }
      ]
    },
    {
      "cell_type": "code",
      "metadata": {
        "tags": [],
        "cell_id": "00013-147bf001-f654-456a-ac10-85446b08e1db",
        "deepnote_to_be_reexecuted": false,
        "source_hash": "5cc9266",
        "execution_millis": 35,
        "execution_start": 1618682809894,
        "deepnote_cell_type": "code"
      },
      "source": "# 12 - Repeat 10 to 11 several times get the feel of the size of the difference in means\n\ndfr1= df.sample()\nTF2= dfr1[\"TUITIONFEE_IN\"]\nDiff= TF2-(df[\"TUITIONFEE_IN\"].mean())\nDiff",
      "execution_count": 13,
      "outputs": [
        {
          "output_type": "execute_result",
          "execution_count": 13,
          "data": {
            "text/plain": "1788    32738.240221\nName: TUITIONFEE_IN, dtype: float64"
          },
          "metadata": {}
        }
      ]
    },
    {
      "cell_type": "code",
      "metadata": {
        "tags": [],
        "cell_id": "00014-a1c15248-6932-4f97-a394-b312bcc43854",
        "deepnote_to_be_reexecuted": false,
        "source_hash": "b310b31",
        "execution_millis": 8,
        "execution_start": 1618682809963,
        "deepnote_cell_type": "code"
      },
      "source": "dfr2= df.sample()\nTF3= dfr2[\"TUITIONFEE_IN\"]\nDiff= TF3-(df[\"TUITIONFEE_IN\"].mean())\nDiff",
      "execution_count": 14,
      "outputs": [
        {
          "output_type": "execute_result",
          "execution_count": 14,
          "data": {
            "text/plain": "979    6320.240221\nName: TUITIONFEE_IN, dtype: float64"
          },
          "metadata": {}
        }
      ]
    },
    {
      "cell_type": "code",
      "metadata": {
        "tags": [],
        "cell_id": "00015-6fd9ad58-3575-4e1b-b74e-0b6700ef051b",
        "deepnote_to_be_reexecuted": false,
        "source_hash": "b0b33741",
        "execution_millis": 8,
        "execution_start": 1618682809963,
        "deepnote_cell_type": "code"
      },
      "source": "dfr3= df.sample()\nTF4= dfr3[\"TUITIONFEE_IN\"]\nDiff= TF4-(df[\"TUITIONFEE_IN\"].mean())\nDiff",
      "execution_count": 15,
      "outputs": [
        {
          "output_type": "execute_result",
          "execution_count": 15,
          "data": {
            "text/plain": "1110    21713.240221\nName: TUITIONFEE_IN, dtype: float64"
          },
          "metadata": {}
        }
      ]
    },
    {
      "cell_type": "code",
      "metadata": {
        "tags": [],
        "cell_id": "00016-01c431e5-65ca-4508-908d-46a53f2685e9",
        "deepnote_to_be_reexecuted": false,
        "source_hash": "2aabe4fb",
        "execution_millis": 7,
        "execution_start": 1618682809964,
        "deepnote_cell_type": "code"
      },
      "source": "dfr4= df.sample()\nTF5= dfr4[\"TUITIONFEE_IN\"]\nDiff= TF5-(df[\"TUITIONFEE_IN\"].mean())\nDiff",
      "execution_count": 16,
      "outputs": [
        {
          "output_type": "execute_result",
          "execution_count": 16,
          "data": {
            "text/plain": "242   -6887.759779\nName: TUITIONFEE_IN, dtype: float64"
          },
          "metadata": {}
        }
      ]
    },
    {
      "cell_type": "code",
      "metadata": {
        "tags": [],
        "cell_id": "00017-e98c8fc1-a702-4841-bbaa-b490e3f17e7e",
        "deepnote_to_be_reexecuted": false,
        "source_hash": "b80a956d",
        "execution_millis": 56,
        "execution_start": 1618682809967,
        "deepnote_cell_type": "code"
      },
      "source": "# 13 - Randomly select 20 observations, display the tuition of these observation.\n\ndfr20= df.sample(20)\ndfr20",
      "execution_count": 17,
      "outputs": [
        {
          "output_type": "execute_result",
          "execution_count": 17,
          "data": {
            "application/vnd.deepnote.dataframe.v2+json": {
              "row_count": 20,
              "column_count": 2,
              "columns": [
                {
                  "name": "INSTNM",
                  "dtype": "object",
                  "stats": {
                    "unique_count": 20,
                    "nan_count": 0,
                    "categories": [
                      {
                        "name": "Central Virginia Community College",
                        "count": 1
                      },
                      {
                        "name": "Chippewa Valley Technical College",
                        "count": 1
                      },
                      {
                        "name": "18 others",
                        "count": 18
                      }
                    ]
                  }
                },
                {
                  "name": "TUITIONFEE_IN",
                  "dtype": "float64",
                  "stats": {
                    "unique_count": 19,
                    "nan_count": 0,
                    "min": "1386.0",
                    "max": "28970.0",
                    "histogram": [
                      {
                        "bin_start": 1386,
                        "bin_end": 4144.4,
                        "count": 6
                      },
                      {
                        "bin_start": 4144.4,
                        "bin_end": 6902.8,
                        "count": 3
                      },
                      {
                        "bin_start": 6902.8,
                        "bin_end": 9661.2,
                        "count": 2
                      },
                      {
                        "bin_start": 9661.2,
                        "bin_end": 12419.6,
                        "count": 2
                      },
                      {
                        "bin_start": 12419.6,
                        "bin_end": 15178,
                        "count": 4
                      },
                      {
                        "bin_start": 15178,
                        "bin_end": 17936.4,
                        "count": 0
                      },
                      {
                        "bin_start": 17936.4,
                        "bin_end": 20694.8,
                        "count": 1
                      },
                      {
                        "bin_start": 20694.8,
                        "bin_end": 23453.2,
                        "count": 0
                      },
                      {
                        "bin_start": 23453.2,
                        "bin_end": 26211.600000000002,
                        "count": 1
                      },
                      {
                        "bin_start": 26211.600000000002,
                        "bin_end": 28970,
                        "count": 1
                      }
                    ]
                  }
                },
                {
                  "name": "_deepnote_index_column",
                  "dtype": "int64"
                }
              ],
              "rows_top": [
                {
                  "INSTNM": "Central Virginia Community College",
                  "TUITIONFEE_IN": 3564,
                  "_deepnote_index_column": 3974
                },
                {
                  "INSTNM": "Chippewa Valley Technical College",
                  "TUITIONFEE_IN": 3692,
                  "_deepnote_index_column": 4232
                },
                {
                  "INSTNM": "University of Missouri-Kansas City",
                  "TUITIONFEE_IN": 9456,
                  "_deepnote_index_column": 2114
                },
                {
                  "INSTNM": "National American University-Brooklyn Center",
                  "TUITIONFEE_IN": 12891,
                  "_deepnote_index_column": 5555
                },
                {
                  "INSTNM": "Everest University-Lakeland",
                  "TUITIONFEE_IN": 15156,
                  "_deepnote_index_column": 4589
                },
                {
                  "INSTNM": "Huntington Junior College",
                  "TUITIONFEE_IN": 7485,
                  "_deepnote_index_column": 4152
                },
                {
                  "INSTNM": "Brown Mackie College-Greenville",
                  "TUITIONFEE_IN": 12114,
                  "_deepnote_index_column": 6542
                },
                {
                  "INSTNM": "National American University-Lewisville",
                  "TUITIONFEE_IN": 12891,
                  "_deepnote_index_column": 7399
                },
                {
                  "INSTNM": "McNeese State University",
                  "TUITIONFEE_IN": 5701,
                  "_deepnote_index_column": 1533
                },
                {
                  "INSTNM": "Ogeechee Technical College",
                  "TUITIONFEE_IN": 2646,
                  "_deepnote_index_column": 4554
                },
                {
                  "INSTNM": "Epic Bible College",
                  "TUITIONFEE_IN": 9690,
                  "_deepnote_index_column": 559
                },
                {
                  "INSTNM": "Advanced Technology Institute",
                  "TUITIONFEE_IN": 12645,
                  "_deepnote_index_column": 3966
                },
                {
                  "INSTNM": "Sitting Bull College",
                  "TUITIONFEE_IN": 3910,
                  "_deepnote_index_column": 2866
                },
                {
                  "INSTNM": "SAE Expression College",
                  "TUITIONFEE_IN": 23747,
                  "_deepnote_index_column": 5979
                },
                {
                  "INSTNM": "Mt San Jacinto Community College District",
                  "TUITIONFEE_IN": 1386,
                  "_deepnote_index_column": 434
                },
                {
                  "INSTNM": "Florida International University",
                  "TUITIONFEE_IN": 6496,
                  "_deepnote_index_column": 771
                },
                {
                  "INSTNM": "ITT Technical Institute-San Dimas",
                  "TUITIONFEE_IN": 18048,
                  "_deepnote_index_column": 370
                },
                {
                  "INSTNM": "Ivy Tech Community College-Kokomo",
                  "TUITIONFEE_IN": 3605,
                  "_deepnote_index_column": 7565
                },
                {
                  "INSTNM": "Saint Xavier University",
                  "TUITIONFEE_IN": 28970,
                  "_deepnote_index_column": 1163
                },
                {
                  "INSTNM": "Pontifical Catholic University of Puerto Rico-Mayaguez",
                  "TUITIONFEE_IN": 4738,
                  "_deepnote_index_column": 4339
                }
              ],
              "rows_bottom": null
            },
            "text/plain": "                                                 INSTNM  TUITIONFEE_IN\n3974                 Central Virginia Community College         3564.0\n4232                  Chippewa Valley Technical College         3692.0\n2114                 University of Missouri-Kansas City         9456.0\n5555       National American University-Brooklyn Center        12891.0\n4589                        Everest University-Lakeland        15156.0\n4152                          Huntington Junior College         7485.0\n6542                    Brown Mackie College-Greenville        12114.0\n7399            National American University-Lewisville        12891.0\n1533                           McNeese State University         5701.0\n4554                         Ogeechee Technical College         2646.0\n559                                  Epic Bible College         9690.0\n3966                      Advanced Technology Institute        12645.0\n2866                               Sitting Bull College         3910.0\n5979                             SAE Expression College        23747.0\n434           Mt San Jacinto Community College District         1386.0\n771                    Florida International University         6496.0\n370                   ITT Technical Institute-San Dimas        18048.0\n7565                  Ivy Tech Community College-Kokomo         3605.0\n1163                            Saint Xavier University        28970.0\n4339  Pontifical Catholic University of Puerto Rico-...         4738.0",
            "text/html": "<div>\n<style scoped>\n    .dataframe tbody tr th:only-of-type {\n        vertical-align: middle;\n    }\n\n    .dataframe tbody tr th {\n        vertical-align: top;\n    }\n\n    .dataframe thead th {\n        text-align: right;\n    }\n</style>\n<table border=\"1\" class=\"dataframe\">\n  <thead>\n    <tr style=\"text-align: right;\">\n      <th></th>\n      <th>INSTNM</th>\n      <th>TUITIONFEE_IN</th>\n    </tr>\n  </thead>\n  <tbody>\n    <tr>\n      <th>3974</th>\n      <td>Central Virginia Community College</td>\n      <td>3564.0</td>\n    </tr>\n    <tr>\n      <th>4232</th>\n      <td>Chippewa Valley Technical College</td>\n      <td>3692.0</td>\n    </tr>\n    <tr>\n      <th>2114</th>\n      <td>University of Missouri-Kansas City</td>\n      <td>9456.0</td>\n    </tr>\n    <tr>\n      <th>5555</th>\n      <td>National American University-Brooklyn Center</td>\n      <td>12891.0</td>\n    </tr>\n    <tr>\n      <th>4589</th>\n      <td>Everest University-Lakeland</td>\n      <td>15156.0</td>\n    </tr>\n    <tr>\n      <th>4152</th>\n      <td>Huntington Junior College</td>\n      <td>7485.0</td>\n    </tr>\n    <tr>\n      <th>6542</th>\n      <td>Brown Mackie College-Greenville</td>\n      <td>12114.0</td>\n    </tr>\n    <tr>\n      <th>7399</th>\n      <td>National American University-Lewisville</td>\n      <td>12891.0</td>\n    </tr>\n    <tr>\n      <th>1533</th>\n      <td>McNeese State University</td>\n      <td>5701.0</td>\n    </tr>\n    <tr>\n      <th>4554</th>\n      <td>Ogeechee Technical College</td>\n      <td>2646.0</td>\n    </tr>\n    <tr>\n      <th>559</th>\n      <td>Epic Bible College</td>\n      <td>9690.0</td>\n    </tr>\n    <tr>\n      <th>3966</th>\n      <td>Advanced Technology Institute</td>\n      <td>12645.0</td>\n    </tr>\n    <tr>\n      <th>2866</th>\n      <td>Sitting Bull College</td>\n      <td>3910.0</td>\n    </tr>\n    <tr>\n      <th>5979</th>\n      <td>SAE Expression College</td>\n      <td>23747.0</td>\n    </tr>\n    <tr>\n      <th>434</th>\n      <td>Mt San Jacinto Community College District</td>\n      <td>1386.0</td>\n    </tr>\n    <tr>\n      <th>771</th>\n      <td>Florida International University</td>\n      <td>6496.0</td>\n    </tr>\n    <tr>\n      <th>370</th>\n      <td>ITT Technical Institute-San Dimas</td>\n      <td>18048.0</td>\n    </tr>\n    <tr>\n      <th>7565</th>\n      <td>Ivy Tech Community College-Kokomo</td>\n      <td>3605.0</td>\n    </tr>\n    <tr>\n      <th>1163</th>\n      <td>Saint Xavier University</td>\n      <td>28970.0</td>\n    </tr>\n    <tr>\n      <th>4339</th>\n      <td>Pontifical Catholic University of Puerto Rico-...</td>\n      <td>4738.0</td>\n    </tr>\n  </tbody>\n</table>\n</div>"
          },
          "metadata": {}
        }
      ]
    },
    {
      "cell_type": "code",
      "metadata": {
        "tags": [],
        "cell_id": "00018-4116e03f-031a-48f0-b0b1-44ee52c0fc9d",
        "deepnote_to_be_reexecuted": false,
        "source_hash": "d5793779",
        "execution_millis": 63,
        "execution_start": 1618682810021,
        "deepnote_cell_type": "code"
      },
      "source": "# 14 - Calculate and display the mean tuition of these 20 observations\n\ndf_mean20= dfr20[\"TUITIONFEE_IN\"].mean()\ndf_mean20",
      "execution_count": 18,
      "outputs": [
        {
          "output_type": "execute_result",
          "execution_count": 18,
          "data": {
            "text/plain": "9941.55"
          },
          "metadata": {}
        }
      ]
    },
    {
      "cell_type": "code",
      "metadata": {
        "tags": [],
        "cell_id": "00019-85043e62-e33b-4587-b6db-321865063c02",
        "deepnote_to_be_reexecuted": false,
        "source_hash": "9478703e",
        "execution_millis": 9,
        "execution_start": 1618682810075,
        "deepnote_cell_type": "code"
      },
      "source": "# 15 - Calculate  the different between the average tuition of these 20 observations \n# and the mean tuition off all observations calculated earlier.\n# Display the difference\n\nDiff2= df_mean20 -(df[\"TUITIONFEE_IN\"].mean())\nDiff2",
      "execution_count": 19,
      "outputs": [
        {
          "output_type": "execute_result",
          "execution_count": 19,
          "data": {
            "text/plain": "-3918.209779005525"
          },
          "metadata": {}
        }
      ]
    },
    {
      "cell_type": "code",
      "metadata": {
        "tags": [],
        "cell_id": "00020-d37f2255-2df6-416c-a960-dbcec8af0da0",
        "deepnote_to_be_reexecuted": false,
        "source_hash": "20b366e6",
        "execution_millis": 8,
        "execution_start": 1618682810076,
        "deepnote_cell_type": "code"
      },
      "source": "# 16 - Repeat 13 to 15 several times and get the feel of the size of the difference in means \n# Compare these differences with the differences calculated earlier with just 1 observation\n# Describe your hunch/conclusion\n\ndfr20= df.sample(20)\ndf_mean20= dfr20[\"TUITIONFEE_IN\"].mean()\nDiff3= df_mean20 -(df[\"TUITIONFEE_IN\"].mean())\nDiff3",
      "execution_count": 20,
      "outputs": [
        {
          "output_type": "execute_result",
          "execution_count": 20,
          "data": {
            "text/plain": "-2008.1097790055246"
          },
          "metadata": {}
        }
      ]
    },
    {
      "cell_type": "code",
      "metadata": {
        "tags": [],
        "cell_id": "00021-ec3c267d-c9e8-4160-8f84-33918d43dc51",
        "deepnote_to_be_reexecuted": false,
        "source_hash": "618c23c4",
        "execution_millis": 8,
        "execution_start": 1618682810076,
        "deepnote_cell_type": "code"
      },
      "source": "dfr20= df.sample(20)\ndf_mean20= dfr20[\"TUITIONFEE_IN\"].mean()\nDiff4= df_mean20 -(df[\"TUITIONFEE_IN\"].mean())\nDiff4",
      "execution_count": 21,
      "outputs": [
        {
          "output_type": "execute_result",
          "execution_count": 21,
          "data": {
            "text/plain": "-2286.909779005524"
          },
          "metadata": {}
        }
      ]
    },
    {
      "cell_type": "code",
      "metadata": {
        "tags": [],
        "cell_id": "00022-ad987729-e4fc-46a4-8f01-e4c91a1086b5",
        "deepnote_to_be_reexecuted": false,
        "source_hash": "8d4f6061",
        "execution_millis": 0,
        "execution_start": 1618682810131,
        "deepnote_cell_type": "code"
      },
      "source": "dfr20= df.sample(20)\ndf_mean20= dfr20[\"TUITIONFEE_IN\"].mean()\nDiff5= df_mean20 -(df[\"TUITIONFEE_IN\"].mean())\nDiff5",
      "execution_count": 22,
      "outputs": [
        {
          "output_type": "execute_result",
          "execution_count": 22,
          "data": {
            "text/plain": "-4363.459779005525"
          },
          "metadata": {}
        }
      ]
    },
    {
      "cell_type": "code",
      "metadata": {
        "tags": [],
        "cell_id": "00023-ea1cd5a7-dada-4ed1-8392-c6a5c5ddd5af",
        "deepnote_to_be_reexecuted": false,
        "source_hash": "ccb71b06",
        "execution_millis": 2,
        "execution_start": 1618682810139,
        "deepnote_cell_type": "code"
      },
      "source": "# 17 - write function Code here\n\ndef Differ (x,y):\n    df_x=y.sample(x)\n    mean_x=df_x[\"TUITIONFEE_IN\"].mean()\n    df_mean=df[\"TUITIONFEE_IN\"].mean()\n    return mean_x-df_mean",
      "execution_count": 23,
      "outputs": []
    },
    {
      "cell_type": "code",
      "metadata": {
        "tags": [],
        "cell_id": "00024-7f939eab-d76c-48dc-9fb3-2d79224969e7",
        "deepnote_to_be_reexecuted": false,
        "source_hash": "93f8aa20",
        "execution_millis": 7,
        "execution_start": 1618682810191,
        "deepnote_cell_type": "code"
      },
      "source": "# 18 - test the function by passing a sample size and the name of the dataframe\n# Dsplay the return of the function\n\nDiffer(10,df)",
      "execution_count": 24,
      "outputs": [
        {
          "output_type": "execute_result",
          "execution_count": 24,
          "data": {
            "text/plain": "2256.9402209944765"
          },
          "metadata": {}
        }
      ]
    },
    {
      "cell_type": "code",
      "metadata": {
        "tags": [],
        "cell_id": "00025-4a5553cb-47b4-4dd8-889d-0534056e3dba",
        "deepnote_to_be_reexecuted": false,
        "source_hash": "c85e656e",
        "execution_millis": 1,
        "execution_start": 1618682810192,
        "deepnote_cell_type": "code"
      },
      "source": "# 19 - Create a list of sequence numbers from 1 to 50, name it \"sample_sizes\";\n# display it to make sure its members are from 1 to 50\n\nsample_sizes= list(range(1, 51))\nprint(sample_sizes)",
      "execution_count": 25,
      "outputs": [
        {
          "name": "stdout",
          "text": "[1, 2, 3, 4, 5, 6, 7, 8, 9, 10, 11, 12, 13, 14, 15, 16, 17, 18, 19, 20, 21, 22, 23, 24, 25, 26, 27, 28, 29, 30, 31, 32, 33, 34, 35, 36, 37, 38, 39, 40, 41, 42, 43, 44, 45, 46, 47, 48, 49, 50]\n",
          "output_type": "stream"
        }
      ]
    },
    {
      "cell_type": "code",
      "metadata": {
        "tags": [],
        "cell_id": "00026-febc7e9b-884f-4c30-a802-43a9deb54a34",
        "deepnote_to_be_reexecuted": false,
        "source_hash": "e1c1948b",
        "execution_millis": 74,
        "execution_start": 1618682810193,
        "deepnote_cell_type": "code"
      },
      "source": "# 20 - Create an empty list and name it \"means_diff\" for differences of population mean and sample means;\n# Loop through the list sample_sizes:\n# For each element in the sample size list, obtain a random sample of that size from the data frame;\n# Calculate the sample mean \n# Calculate the difference between the population mean and the sample mean\n# Append the difference to the list \"means_diff\"\n# Display the list \"means_diff\" after the loop is completed\n\nmeans_differ=[]\nfor num in sample_sizes: \n    df_num= df.sample(num)\n    mean_num=df_num['TUITIONFEE_IN'].mean()\n    difference=mean_num-(df[\"TUITIONFEE_IN\"].mean())\n    means_differ.append(difference)\nprint(means_differ)",
      "execution_count": 26,
      "outputs": [
        {
          "name": "stdout",
          "text": "[-3654.7597790055243, -4021.7597790055243, 1525.2402209944757, -2974.5097790055243, 887.2402209944757, -302.9264456721903, 2501.6687924230464, 4763.865220994476, 3205.9068876611436, -1010.959779005525, 1507.7856755399298, -3266.6764456721903, -2036.4520866978328, -54.1883504340949, -1078.159779005524, 3016.8027209944757, 1189.1225739356523, 3359.4068876611436, -949.7071474265776, 2776.6902209944765, 781.7640305182849, -787.0325062782522, -1864.5858659620462, 197.7818876611418, -401.31977900552374, 2539.9325286867843, 2045.7957765500305, -674.8669218626674, 1364.033324442751, 1038.5735543278097, 1064.2402209944757, -78.60352900552425, -2106.21432446007, -1388.3480142996414, -1212.9026361483811, -502.0375567833016, 1739.6456263998807, 1509.2139052050024, -746.4777277234734, 2382.665220994475, 99.97192831154825, 331.6687924230464, -1086.2481510985472, -3333.2370517327963, 50.06244321669874, 1362.1967427336058, 1288.3678805689433, 715.2818876611418, 49.60756793325163, -939.0397790055249]\n",
          "output_type": "stream"
        }
      ]
    },
    {
      "cell_type": "code",
      "metadata": {
        "tags": [],
        "cell_id": "00027-3b83d827-e339-430e-bc80-cdb4b846ad03",
        "deepnote_to_be_reexecuted": false,
        "source_hash": "edbe9e8a",
        "execution_millis": 549,
        "execution_start": 1618682810270,
        "deepnote_cell_type": "code"
      },
      "source": "# 21 - Make a scatter plot with sample size on the x-axs and  mean difference on the y-axis\n# Observe as the sample size increases, the sample means converge to the population mean.\n# Make sure you make the plot large enough\n\nplt.scatter(sample_sizes,means_differ,plt.gcf().set_size_inches(15, 8))\nplt.xlabel('Sample size')\nplt.ylabel('Mean difference')\nplt.title('Mean Difference vs. Sample Size')\nplt.show()",
      "execution_count": 27,
      "outputs": [
        {
          "data": {
            "text/plain": "<Figure size 1080x576 with 1 Axes>",
            "image/png": "[encoded data removed]"
          },
          "metadata": {
            "needs_background": "light"
          },
          "output_type": "display_data"
        }
      ]
    },
    {
      "cell_type": "code",
      "metadata": {
        "tags": [],
        "cell_id": "00028-836f0830-84fe-456b-b654-921cbfb9018e",
        "deepnote_to_be_reexecuted": false,
        "source_hash": "4456e9a3",
        "execution_millis": 17,
        "execution_start": 1618682810823,
        "deepnote_cell_type": "code"
      },
      "source": "# 22 - repeat 18 to 21 by replacing 50 with a larger number. For example, 300, or even 1000.\n# and see how the plot looks.\n\nsample_sizes2= list(range(1, 301))\nprint(sample_sizes2)",
      "execution_count": 28,
      "outputs": [
        {
          "name": "stdout",
          "text": "[1, 2, 3, 4, 5, 6, 7, 8, 9, 10, 11, 12, 13, 14, 15, 16, 17, 18, 19, 20, 21, 22, 23, 24, 25, 26, 27, 28, 29, 30, 31, 32, 33, 34, 35, 36, 37, 38, 39, 40, 41, 42, 43, 44, 45, 46, 47, 48, 49, 50, 51, 52, 53, 54, 55, 56, 57, 58, 59, 60, 61, 62, 63, 64, 65, 66, 67, 68, 69, 70, 71, 72, 73, 74, 75, 76, 77, 78, 79, 80, 81, 82, 83, 84, 85, 86, 87, 88, 89, 90, 91, 92, 93, 94, 95, 96, 97, 98, 99, 100, 101, 102, 103, 104, 105, 106, 107, 108, 109, 110, 111, 112, 113, 114, 115, 116, 117, 118, 119, 120, 121, 122, 123, 124, 125, 126, 127, 128, 129, 130, 131, 132, 133, 134, 135, 136, 137, 138, 139, 140, 141, 142, 143, 144, 145, 146, 147, 148, 149, 150, 151, 152, 153, 154, 155, 156, 157, 158, 159, 160, 161, 162, 163, 164, 165, 166, 167, 168, 169, 170, 171, 172, 173, 174, 175, 176, 177, 178, 179, 180, 181, 182, 183, 184, 185, 186, 187, 188, 189, 190, 191, 192, 193, 194, 195, 196, 197, 198, 199, 200, 201, 202, 203, 204, 205, 206, 207, 208, 209, 210, 211, 212, 213, 214, 215, 216, 217, 218, 219, 220, 221, 222, 223, 224, 225, 226, 227, 228, 229, 230, 231, 232, 233, 234, 235, 236, 237, 238, 239, 240, 241, 242, 243, 244, 245, 246, 247, 248, 249, 250, 251, 252, 253, 254, 255, 256, 257, 258, 259, 260, 261, 262, 263, 264, 265, 266, 267, 268, 269, 270, 271, 272, 273, 274, 275, 276, 277, 278, 279, 280, 281, 282, 283, 284, 285, 286, 287, 288, 289, 290, 291, 292, 293, 294, 295, 296, 297, 298, 299, 300]\n",
          "output_type": "stream"
        }
      ]
    },
    {
      "cell_type": "markdown",
      "source": "<a style='text-decoration:none;line-height:16px;display:flex;color:#5B5B62;padding:10px;justify-content:end;' href='https://deepnote.com?utm_source=created-in-deepnote-cell&projectId=79cf53bd-9223-4e7b-960c-52a689117dd3' target=\"_blank\">\n<img alt='Created in deepnote.com' style='display:inline;max-height:16px;margin:0px;margin-right:7.5px;' src='data:image/svg+xml;base64,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' > </img>\nCreated in <span style='font-weight:600;margin-left:4px;'>Deepnote</span></a>",
      "metadata": {
        "tags": [],
        "created_in_deepnote_cell": true,
        "deepnote_cell_type": "markdown"
      }
    }
  ],
  "nbformat": 4,
  "nbformat_minor": 2,
  "metadata": {
    "orig_nbformat": 2,
    "deepnote": {
      "is_reactive": false
    },
    "deepnote_notebook_id": "8b2356b0-02ec-4def-b72c-6781b44e3517",
    "deepnote_execution_queue": []
  }
}