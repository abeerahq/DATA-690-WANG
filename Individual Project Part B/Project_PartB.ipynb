{
  "nbformat": 4,
  "nbformat_minor": 0,
  "metadata": {
    "orig_nbformat": 2,
    "deepnote_notebook_id": "5b1617c5-ff55-47a7-96ad-1ebc331cc49d",
    "deepnote": {},
    "deepnote_execution_queue": [],
    "colab": {
      "name": "Project_PartB.ipynb",
      "provenance": [],
      "collapsed_sections": [],
      "include_colab_link": true
    }
  },
  "cells": [
    {
      "cell_type": "markdown",
      "metadata": {
        "id": "view-in-github",
        "colab_type": "text"
      },
      "source": [
        "<a href=\"https://colab.research.google.com/github/abeerahq/DATA-690-WANG/blob/main/Individual%20Project%20Part%20B/Project_PartB.ipynb\" target=\"_parent\"><img src=\"https://colab.research.google.com/assets/colab-badge.svg\" alt=\"Open In Colab\"/></a>"
      ]
    },
    {
      "cell_type": "markdown",
      "metadata": {
        "tags": [],
        "cell_id": "00000-9908f238-6555-48e5-88fd-e17789c4b2c4",
        "deepnote_cell_type": "markdown",
        "id": "ZQwpv55T80a_"
      },
      "source": [
        "## Correlation Between GDP Per Capita, PPP and Post-Secondary Education Attainment\n",
        "\n",
        "**Author**: Abeerah Qadir\n",
        "\n",
        "**Date**: April 4, 2021"
      ]
    },
    {
      "cell_type": "markdown",
      "metadata": {
        "tags": [],
        "cell_id": "00001-54263b3a-dbcf-40ea-9eee-d7748e621b19",
        "deepnote_cell_type": "markdown",
        "id": "oepRGKW-80bC"
      },
      "source": [
        "### **Introduction**"
      ]
    },
    {
      "cell_type": "markdown",
      "metadata": {
        "tags": [],
        "cell_id": "00002-6b09c5f1-00ac-4da4-998e-2b4b4c74f585",
        "deepnote_cell_type": "markdown",
        "id": "dBoVcomA80bF"
      },
      "source": [
        "#### Background Information (Area of Investigation)"
      ]
    },
    {
      "cell_type": "markdown",
      "metadata": {
        "tags": [],
        "cell_id": "00003-2a0ca59b-bf8f-4c63-be65-754e03073a6e",
        "deepnote_cell_type": "markdown",
        "id": "W6At0xPc80bG"
      },
      "source": [
        "The main area of investigation is understanding the relationship between education and the growth of an economy. I want to explore whether attaining an education has any correlation with GDP growth for countries. Some research shows that there is more growth in GDP among those populations that have attained higher education. Additionally, better economic systems allow countries to provide better education to citizens with better resources for learning. This allows for citizens to obtain education at affordable costs, motivating more of the population to attain education without any financial barrier. The investigation will consist of comparison between 2 third-world countries and 2 first-world countries so 4 countries in total. These countries include United States, Mexico, Germany, and Pakistan. The overall purpose of this investigation is to explore how education level of citizens affects the economy of a country."
      ]
    },
    {
      "cell_type": "markdown",
      "metadata": {
        "tags": [],
        "cell_id": "00004-273eec1d-b6eb-4fc0-92a1-ee78162774bc",
        "deepnote_cell_type": "markdown",
        "id": "mCam1hnG80bG"
      },
      "source": [
        "#### Personal Importance"
      ]
    },
    {
      "cell_type": "markdown",
      "metadata": {
        "tags": [],
        "cell_id": "00005-42677576-83cd-4801-bca8-dc7c3cecf5bd",
        "deepnote_cell_type": "markdown",
        "id": "j6ZOrgJJ80bH"
      },
      "source": [
        "For any country, it is vital to analyze the major factors that influence the GDP growth of a country. Personally, this topic is important to me because my family is from Pakistan and I was born and raised in the United States. I want to explore how these two countries differ in terms of education and in terms of economical growth. I always wanted to understand the differences in education for first-world and third-world countries. This project will allow me to understand the trends for both type of countries and will give me a clear indication of how education has the ability to impact GDP growth."
      ]
    },
    {
      "cell_type": "markdown",
      "metadata": {
        "tags": [],
        "cell_id": "00006-7fb81f31-8b18-4c57-9763-9f8244c25c72",
        "deepnote_cell_type": "markdown",
        "id": "ZqYCkusW80bI"
      },
      "source": [
        "#### Questions"
      ]
    },
    {
      "cell_type": "markdown",
      "metadata": {
        "tags": [],
        "cell_id": "00007-d10621a6-ffc9-46bf-a2d1-813da644dc37",
        "deepnote_cell_type": "markdown",
        "id": "zAKBhDoh80bI"
      },
      "source": [
        "The main questions I would like to answer are:\n",
        "\n",
        "- What is the correlation between education and GDP Per Capita, PPP growth?\n",
        "- Does higher education attainment among a population increase GDP of a country?\n",
        "- What are differences between third-world and first-world country's education and GDP?"
      ]
    },
    {
      "cell_type": "markdown",
      "metadata": {
        "tags": [],
        "cell_id": "00008-a75ecbd9-0eb6-4162-8de6-b1f55fbe2195",
        "deepnote_cell_type": "markdown",
        "id": "A-Q-St3z80bJ"
      },
      "source": [
        "#### Data Source to Answer Questions"
      ]
    },
    {
      "cell_type": "markdown",
      "metadata": {
        "tags": [],
        "cell_id": "00009-04e58396-109e-453e-acb2-4e1e30b77884",
        "deepnote_cell_type": "markdown",
        "id": "tGQvV_HI80bJ"
      },
      "source": [
        "The source for the data and charts used to answer the questions is http://www.worlddev.xyz/ which gets the data from World Bank. "
      ]
    },
    {
      "cell_type": "markdown",
      "metadata": {
        "tags": [],
        "cell_id": "00010-04391e52-e354-4dd6-895a-59f4b31b7514",
        "deepnote_cell_type": "markdown",
        "id": "gVg1OxfU80bJ"
      },
      "source": [
        "#### Process to Analyze Issue"
      ]
    },
    {
      "cell_type": "markdown",
      "metadata": {
        "tags": [],
        "cell_id": "00011-7c6e51d3-3e21-4b4d-939f-f4453612e5f0",
        "deepnote_cell_type": "markdown",
        "id": "0G7NnICb80bK"
      },
      "source": [
        "In order to analyze the issue, I first selected 2 third-world countries and 2 first-world countries. The third world countries I selected were Pakistan and Mexico. Pakistan was selected because it is my home country, and Mexico was selected because its the third-world country most closest to where I currently live (U.S). The first world countries that were selected are United States and Germany. I wanted to choose countries from three different continents. \n",
        "\n",
        "I chose the variables education and GDP Per Capita, PPP in order to see whether education has an impact on the economy of a country. First, a bubble chart was created in which the trend was analyzed to see the correlation between the two variables. The size of the bubbles in the chart represented the population and they will also be considered to see whether they have any influence in the trend.\n",
        "\n",
        "Second, line graphs for GDP and post-secondary educational attainment will be analyzed to see another visual of what the trend is overtime. Thirdly, a bar chart for post-secondary educational attainment was analyzed just to have another visual representation for comparison. The table will also be analyzed to see in detail the individual data values."
      ]
    },
    {
      "cell_type": "markdown",
      "metadata": {
        "tags": [],
        "cell_id": "00012-80b2622e-9078-44bf-8d31-54266fc68258",
        "deepnote_cell_type": "markdown",
        "id": "CVSCIrYg80bK"
      },
      "source": [
        "### Results"
      ]
    },
    {
      "cell_type": "markdown",
      "metadata": {
        "tags": [],
        "cell_id": "00013-0bdd56d0-9e16-4c2e-b0c7-53979c20d595",
        "deepnote_cell_type": "markdown",
        "id": "pZEnLR3V80bK"
      },
      "source": [
        "#### Data Prep"
      ]
    },
    {
      "cell_type": "code",
      "metadata": {
        "tags": [],
        "cell_id": "00001-62282f60-4d8d-4106-b9b2-02165011c361",
        "deepnote_to_be_reexecuted": false,
        "source_hash": "531cde82",
        "execution_millis": 1084,
        "execution_start": 1617471938750,
        "deepnote_cell_type": "code",
        "id": "ScgdTbxw80bL"
      },
      "source": [
        "import pandas as pd\n",
        "import plotly.express as px\n",
        "import plotly.io as pio\n",
        "\n",
        "pio.templates.default = \"plotly_dark\"\n"
      ],
      "execution_count": null,
      "outputs": []
    },
    {
      "cell_type": "code",
      "metadata": {
        "tags": [],
        "cell_id": "00001-057b150b-f50c-4113-a246-795fbc55f06f",
        "deepnote_to_be_reexecuted": false,
        "source_hash": "c43684dc",
        "execution_millis": 5,
        "execution_start": 1617471939838,
        "deepnote_cell_type": "code",
        "id": "VVxkvdN980bL"
      },
      "source": [
        "df = pd.read_csv(\"wdi_data.csv\")"
      ],
      "execution_count": null,
      "outputs": []
    },
    {
      "cell_type": "code",
      "metadata": {
        "tags": [],
        "cell_id": "00003-d566024f-610b-40d8-ba03-798eca93d8f7",
        "deepnote_to_be_reexecuted": false,
        "source_hash": "14f60b8f",
        "execution_millis": 6,
        "execution_start": 1617471939854,
        "deepnote_cell_type": "code",
        "id": "edibJAa480bL",
        "outputId": "de410f4b-0c95-49ce-e086-8c4fafd700f3"
      },
      "source": [
        "df.shape"
      ],
      "execution_count": null,
      "outputs": [
        {
          "output_type": "execute_result",
          "data": {
            "text/plain": [
              "(36, 10)"
            ]
          },
          "metadata": {
            "tags": []
          },
          "execution_count": 3
        }
      ]
    },
    {
      "cell_type": "code",
      "metadata": {
        "tags": [],
        "cell_id": "00004-77c9c752-8e92-4fbe-95ec-c49d9d0983a4",
        "deepnote_to_be_reexecuted": false,
        "source_hash": "c085b6ba",
        "execution_millis": 10,
        "execution_start": 1617471939891,
        "deepnote_cell_type": "code",
        "id": "bOGXuok580bM",
        "outputId": "174a4f8b-1565-4b2b-f9c2-d4f1443b4eae"
      },
      "source": [
        "df.head()"
      ],
      "execution_count": null,
      "outputs": [
        {
          "output_type": "execute_result",
          "data": {
            "application/vnd.deepnote.dataframe.v2+json": {
              "row_count": 5,
              "column_count": 10,
              "columns": [
                {
                  "name": "Unnamed: 0",
                  "dtype": "int64",
                  "stats": {
                    "unique_count": 5,
                    "nan_count": 0,
                    "min": 0,
                    "max": 4,
                    "histogram": [
                      {
                        "bin_start": 0,
                        "bin_end": 0.4,
                        "count": 1
                      },
                      {
                        "bin_start": 0.4,
                        "bin_end": 0.8,
                        "count": 0
                      },
                      {
                        "bin_start": 0.8,
                        "bin_end": 1.2000000000000002,
                        "count": 1
                      },
                      {
                        "bin_start": 1.2000000000000002,
                        "bin_end": 1.6,
                        "count": 0
                      },
                      {
                        "bin_start": 1.6,
                        "bin_end": 2,
                        "count": 0
                      },
                      {
                        "bin_start": 2,
                        "bin_end": 2.4000000000000004,
                        "count": 1
                      },
                      {
                        "bin_start": 2.4000000000000004,
                        "bin_end": 2.8000000000000003,
                        "count": 0
                      },
                      {
                        "bin_start": 2.8000000000000003,
                        "bin_end": 3.2,
                        "count": 1
                      },
                      {
                        "bin_start": 3.2,
                        "bin_end": 3.6,
                        "count": 0
                      },
                      {
                        "bin_start": 3.6,
                        "bin_end": 4,
                        "count": 1
                      }
                    ]
                  }
                },
                {
                  "name": "Year",
                  "dtype": "int64",
                  "stats": {
                    "unique_count": 5,
                    "nan_count": 0,
                    "min": 2008,
                    "max": 2012,
                    "histogram": [
                      {
                        "bin_start": 2008,
                        "bin_end": 2008.4,
                        "count": 1
                      },
                      {
                        "bin_start": 2008.4,
                        "bin_end": 2008.8,
                        "count": 0
                      },
                      {
                        "bin_start": 2008.8,
                        "bin_end": 2009.2,
                        "count": 1
                      },
                      {
                        "bin_start": 2009.2,
                        "bin_end": 2009.6,
                        "count": 0
                      },
                      {
                        "bin_start": 2009.6,
                        "bin_end": 2010,
                        "count": 0
                      },
                      {
                        "bin_start": 2010,
                        "bin_end": 2010.4,
                        "count": 1
                      },
                      {
                        "bin_start": 2010.4,
                        "bin_end": 2010.8,
                        "count": 0
                      },
                      {
                        "bin_start": 2010.8,
                        "bin_end": 2011.2,
                        "count": 1
                      },
                      {
                        "bin_start": 2011.2,
                        "bin_end": 2011.6,
                        "count": 0
                      },
                      {
                        "bin_start": 2011.6,
                        "bin_end": 2012,
                        "count": 1
                      }
                    ]
                  }
                },
                {
                  "name": "SE.SEC.CUAT.PO.ZS",
                  "dtype": "float64",
                  "stats": {
                    "unique_count": 5,
                    "nan_count": 0,
                    "min": 28.8160705566,
                    "max": 31.7936401367,
                    "histogram": [
                      {
                        "bin_start": 28.8160705566,
                        "bin_end": 29.11382751461,
                        "count": 1
                      },
                      {
                        "bin_start": 29.11382751461,
                        "bin_end": 29.41158447262,
                        "count": 0
                      },
                      {
                        "bin_start": 29.41158447262,
                        "bin_end": 29.709341430629998,
                        "count": 0
                      },
                      {
                        "bin_start": 29.709341430629998,
                        "bin_end": 30.00709838864,
                        "count": 1
                      },
                      {
                        "bin_start": 30.00709838864,
                        "bin_end": 30.30485534665,
                        "count": 1
                      },
                      {
                        "bin_start": 30.30485534665,
                        "bin_end": 30.60261230466,
                        "count": 0
                      },
                      {
                        "bin_start": 30.60261230466,
                        "bin_end": 30.900369262669997,
                        "count": 0
                      },
                      {
                        "bin_start": 30.900369262669997,
                        "bin_end": 31.19812622068,
                        "count": 1
                      },
                      {
                        "bin_start": 31.19812622068,
                        "bin_end": 31.49588317869,
                        "count": 0
                      },
                      {
                        "bin_start": 31.49588317869,
                        "bin_end": 31.7936401367,
                        "count": 1
                      }
                    ]
                  }
                },
                {
                  "name": "SP.POP.TOTL",
                  "dtype": "int64",
                  "stats": {
                    "unique_count": 5,
                    "nan_count": 0,
                    "min": 80274983,
                    "max": 82110097,
                    "histogram": [
                      {
                        "bin_start": 80274983,
                        "bin_end": 80458494.4,
                        "count": 2
                      },
                      {
                        "bin_start": 80458494.4,
                        "bin_end": 80642005.8,
                        "count": 0
                      },
                      {
                        "bin_start": 80642005.8,
                        "bin_end": 80825517.2,
                        "count": 0
                      },
                      {
                        "bin_start": 80825517.2,
                        "bin_end": 81009028.6,
                        "count": 0
                      },
                      {
                        "bin_start": 81009028.6,
                        "bin_end": 81192540,
                        "count": 0
                      },
                      {
                        "bin_start": 81192540,
                        "bin_end": 81376051.4,
                        "count": 0
                      },
                      {
                        "bin_start": 81376051.4,
                        "bin_end": 81559562.8,
                        "count": 0
                      },
                      {
                        "bin_start": 81559562.8,
                        "bin_end": 81743074.2,
                        "count": 0
                      },
                      {
                        "bin_start": 81743074.2,
                        "bin_end": 81926585.6,
                        "count": 2
                      },
                      {
                        "bin_start": 81926585.6,
                        "bin_end": 82110097,
                        "count": 1
                      }
                    ]
                  }
                },
                {
                  "name": "NY.GDP.PCAP.PP.CD",
                  "dtype": "float64",
                  "stats": {
                    "unique_count": 5,
                    "nan_count": 0,
                    "min": 36842.9161976042,
                    "max": 43359.6148271723,
                    "histogram": [
                      {
                        "bin_start": 36842.9161976042,
                        "bin_end": 37494.586060561014,
                        "count": 1
                      },
                      {
                        "bin_start": 37494.586060561014,
                        "bin_end": 38146.25592351782,
                        "count": 1
                      },
                      {
                        "bin_start": 38146.25592351782,
                        "bin_end": 38797.92578647463,
                        "count": 0
                      },
                      {
                        "bin_start": 38797.92578647463,
                        "bin_end": 39449.59564943144,
                        "count": 1
                      },
                      {
                        "bin_start": 39449.59564943144,
                        "bin_end": 40101.26551238825,
                        "count": 0
                      },
                      {
                        "bin_start": 40101.26551238825,
                        "bin_end": 40752.93537534506,
                        "count": 0
                      },
                      {
                        "bin_start": 40752.93537534506,
                        "bin_end": 41404.60523830187,
                        "count": 0
                      },
                      {
                        "bin_start": 41404.60523830187,
                        "bin_end": 42056.27510125868,
                        "count": 0
                      },
                      {
                        "bin_start": 42056.27510125868,
                        "bin_end": 42707.94496421549,
                        "count": 1
                      },
                      {
                        "bin_start": 42707.94496421549,
                        "bin_end": 43359.6148271723,
                        "count": 1
                      }
                    ]
                  }
                },
                {
                  "name": "Country Code",
                  "dtype": "object",
                  "stats": {
                    "unique_count": 1,
                    "nan_count": 0,
                    "categories": [
                      {
                        "name": "DEU",
                        "count": 5
                      }
                    ]
                  }
                },
                {
                  "name": "Country Name",
                  "dtype": "object",
                  "stats": {
                    "unique_count": 1,
                    "nan_count": 0,
                    "categories": [
                      {
                        "name": "Germany",
                        "count": 5
                      }
                    ]
                  }
                },
                {
                  "name": "Region",
                  "dtype": "object",
                  "stats": {
                    "unique_count": 1,
                    "nan_count": 0,
                    "categories": [
                      {
                        "name": "Europe & Central Asia",
                        "count": 5
                      }
                    ]
                  }
                },
                {
                  "name": "Income Group",
                  "dtype": "object",
                  "stats": {
                    "unique_count": 1,
                    "nan_count": 0,
                    "categories": [
                      {
                        "name": "High income",
                        "count": 5
                      }
                    ]
                  }
                },
                {
                  "name": "Lending Type",
                  "dtype": "object",
                  "stats": {
                    "unique_count": 1,
                    "nan_count": 0,
                    "categories": [
                      {
                        "name": "Not classified",
                        "count": 5
                      }
                    ]
                  }
                },
                {
                  "name": "_deepnote_index_column",
                  "dtype": "int64"
                }
              ],
              "rows_top": [
                {
                  "Unnamed: 0": 0,
                  "Year": 2008,
                  "SE.SEC.CUAT.PO.ZS": 28.8160705566,
                  "SP.POP.TOTL": 82110097,
                  "NY.GDP.PCAP.PP.CD": 37802.3874303197,
                  "Country Code": "DEU",
                  "Country Name": "Germany",
                  "Region": "Europe & Central Asia",
                  "Income Group": "High income",
                  "Lending Type": "Not classified",
                  "_deepnote_index_column": 0
                },
                {
                  "Unnamed: 0": 1,
                  "Year": 2009,
                  "SE.SEC.CUAT.PO.ZS": 29.8395595551,
                  "SP.POP.TOTL": 81902307,
                  "NY.GDP.PCAP.PP.CD": 36842.9161976042,
                  "Country Code": "DEU",
                  "Country Name": "Germany",
                  "Region": "Europe & Central Asia",
                  "Income Group": "High income",
                  "Lending Type": "Not classified",
                  "_deepnote_index_column": 1
                },
                {
                  "Unnamed: 0": 2,
                  "Year": 2010,
                  "SE.SEC.CUAT.PO.ZS": 30.2569007874,
                  "SP.POP.TOTL": 81776930,
                  "NY.GDP.PCAP.PP.CD": 38982.4263045636,
                  "Country Code": "DEU",
                  "Country Name": "Germany",
                  "Region": "Europe & Central Asia",
                  "Income Group": "High income",
                  "Lending Type": "Not classified",
                  "_deepnote_index_column": 2
                },
                {
                  "Unnamed: 0": 3,
                  "Year": 2011,
                  "SE.SEC.CUAT.PO.ZS": 31.1494998932,
                  "SP.POP.TOTL": 80274983,
                  "NY.GDP.PCAP.PP.CD": 42541.5310884096,
                  "Country Code": "DEU",
                  "Country Name": "Germany",
                  "Region": "Europe & Central Asia",
                  "Income Group": "High income",
                  "Lending Type": "Not classified",
                  "_deepnote_index_column": 3
                },
                {
                  "Unnamed: 0": 4,
                  "Year": 2012,
                  "SE.SEC.CUAT.PO.ZS": 31.7936401367,
                  "SP.POP.TOTL": 80425823,
                  "NY.GDP.PCAP.PP.CD": 43359.6148271723,
                  "Country Code": "DEU",
                  "Country Name": "Germany",
                  "Region": "Europe & Central Asia",
                  "Income Group": "High income",
                  "Lending Type": "Not classified",
                  "_deepnote_index_column": 4
                }
              ],
              "rows_bottom": null
            },
            "text/plain": [
              "   Unnamed: 0  Year  SE.SEC.CUAT.PO.ZS  SP.POP.TOTL  NY.GDP.PCAP.PP.CD  \\\n",
              "0           0  2008          28.816071     82110097       37802.387430   \n",
              "1           1  2009          29.839560     81902307       36842.916198   \n",
              "2           2  2010          30.256901     81776930       38982.426305   \n",
              "3           3  2011          31.149500     80274983       42541.531088   \n",
              "4           4  2012          31.793640     80425823       43359.614827   \n",
              "\n",
              "  Country Code Country Name                 Region Income Group  \\\n",
              "0          DEU      Germany  Europe & Central Asia  High income   \n",
              "1          DEU      Germany  Europe & Central Asia  High income   \n",
              "2          DEU      Germany  Europe & Central Asia  High income   \n",
              "3          DEU      Germany  Europe & Central Asia  High income   \n",
              "4          DEU      Germany  Europe & Central Asia  High income   \n",
              "\n",
              "     Lending Type  \n",
              "0  Not classified  \n",
              "1  Not classified  \n",
              "2  Not classified  \n",
              "3  Not classified  \n",
              "4  Not classified  "
            ],
            "text/html": [
              "<div>\n",
              "<style scoped>\n",
              "    .dataframe tbody tr th:only-of-type {\n",
              "        vertical-align: middle;\n",
              "    }\n",
              "\n",
              "    .dataframe tbody tr th {\n",
              "        vertical-align: top;\n",
              "    }\n",
              "\n",
              "    .dataframe thead th {\n",
              "        text-align: right;\n",
              "    }\n",
              "</style>\n",
              "<table border=\"1\" class=\"dataframe\">\n",
              "  <thead>\n",
              "    <tr style=\"text-align: right;\">\n",
              "      <th></th>\n",
              "      <th>Unnamed: 0</th>\n",
              "      <th>Year</th>\n",
              "      <th>SE.SEC.CUAT.PO.ZS</th>\n",
              "      <th>SP.POP.TOTL</th>\n",
              "      <th>NY.GDP.PCAP.PP.CD</th>\n",
              "      <th>Country Code</th>\n",
              "      <th>Country Name</th>\n",
              "      <th>Region</th>\n",
              "      <th>Income Group</th>\n",
              "      <th>Lending Type</th>\n",
              "    </tr>\n",
              "  </thead>\n",
              "  <tbody>\n",
              "    <tr>\n",
              "      <th>0</th>\n",
              "      <td>0</td>\n",
              "      <td>2008</td>\n",
              "      <td>28.816071</td>\n",
              "      <td>82110097</td>\n",
              "      <td>37802.387430</td>\n",
              "      <td>DEU</td>\n",
              "      <td>Germany</td>\n",
              "      <td>Europe &amp; Central Asia</td>\n",
              "      <td>High income</td>\n",
              "      <td>Not classified</td>\n",
              "    </tr>\n",
              "    <tr>\n",
              "      <th>1</th>\n",
              "      <td>1</td>\n",
              "      <td>2009</td>\n",
              "      <td>29.839560</td>\n",
              "      <td>81902307</td>\n",
              "      <td>36842.916198</td>\n",
              "      <td>DEU</td>\n",
              "      <td>Germany</td>\n",
              "      <td>Europe &amp; Central Asia</td>\n",
              "      <td>High income</td>\n",
              "      <td>Not classified</td>\n",
              "    </tr>\n",
              "    <tr>\n",
              "      <th>2</th>\n",
              "      <td>2</td>\n",
              "      <td>2010</td>\n",
              "      <td>30.256901</td>\n",
              "      <td>81776930</td>\n",
              "      <td>38982.426305</td>\n",
              "      <td>DEU</td>\n",
              "      <td>Germany</td>\n",
              "      <td>Europe &amp; Central Asia</td>\n",
              "      <td>High income</td>\n",
              "      <td>Not classified</td>\n",
              "    </tr>\n",
              "    <tr>\n",
              "      <th>3</th>\n",
              "      <td>3</td>\n",
              "      <td>2011</td>\n",
              "      <td>31.149500</td>\n",
              "      <td>80274983</td>\n",
              "      <td>42541.531088</td>\n",
              "      <td>DEU</td>\n",
              "      <td>Germany</td>\n",
              "      <td>Europe &amp; Central Asia</td>\n",
              "      <td>High income</td>\n",
              "      <td>Not classified</td>\n",
              "    </tr>\n",
              "    <tr>\n",
              "      <th>4</th>\n",
              "      <td>4</td>\n",
              "      <td>2012</td>\n",
              "      <td>31.793640</td>\n",
              "      <td>80425823</td>\n",
              "      <td>43359.614827</td>\n",
              "      <td>DEU</td>\n",
              "      <td>Germany</td>\n",
              "      <td>Europe &amp; Central Asia</td>\n",
              "      <td>High income</td>\n",
              "      <td>Not classified</td>\n",
              "    </tr>\n",
              "  </tbody>\n",
              "</table>\n",
              "</div>"
            ]
          },
          "metadata": {
            "tags": []
          },
          "execution_count": 4
        }
      ]
    },
    {
      "cell_type": "code",
      "metadata": {
        "tags": [],
        "cell_id": "00005-51cbd8e0-2f7e-49a5-9fd9-aa6a49c904e5",
        "deepnote_to_be_reexecuted": false,
        "source_hash": "dbdcb751",
        "execution_millis": 6,
        "execution_start": 1617471939922,
        "deepnote_cell_type": "code",
        "id": "J2u6Un4680bM",
        "outputId": "c3967ee6-0695-470e-b963-56f8e200b970"
      },
      "source": [
        "df.drop(columns= [\"Unnamed: 0\"], inplace=True)\n",
        "df.sample()"
      ],
      "execution_count": null,
      "outputs": [
        {
          "output_type": "execute_result",
          "data": {
            "application/vnd.deepnote.dataframe.v2+json": {
              "row_count": 1,
              "column_count": 9,
              "columns": [
                {
                  "name": "Year",
                  "dtype": "int64",
                  "stats": {
                    "unique_count": 1,
                    "nan_count": 0,
                    "min": 2014,
                    "max": 2014,
                    "histogram": [
                      {
                        "bin_start": 2013.5,
                        "bin_end": 2013.6,
                        "count": 0
                      },
                      {
                        "bin_start": 2013.6,
                        "bin_end": 2013.7,
                        "count": 0
                      },
                      {
                        "bin_start": 2013.7,
                        "bin_end": 2013.8,
                        "count": 0
                      },
                      {
                        "bin_start": 2013.8,
                        "bin_end": 2013.9,
                        "count": 0
                      },
                      {
                        "bin_start": 2013.9,
                        "bin_end": 2014,
                        "count": 0
                      },
                      {
                        "bin_start": 2014,
                        "bin_end": 2014.1,
                        "count": 1
                      },
                      {
                        "bin_start": 2014.1,
                        "bin_end": 2014.2,
                        "count": 0
                      },
                      {
                        "bin_start": 2014.2,
                        "bin_end": 2014.3,
                        "count": 0
                      },
                      {
                        "bin_start": 2014.3,
                        "bin_end": 2014.4,
                        "count": 0
                      },
                      {
                        "bin_start": 2014.4,
                        "bin_end": 2014.5,
                        "count": 0
                      }
                    ]
                  }
                },
                {
                  "name": "SE.SEC.CUAT.PO.ZS",
                  "dtype": "float64",
                  "stats": {
                    "unique_count": 1,
                    "nan_count": 0,
                    "min": 14.4319295883,
                    "max": 14.4319295883,
                    "histogram": [
                      {
                        "bin_start": 13.9319295883,
                        "bin_end": 14.031929588299999,
                        "count": 0
                      },
                      {
                        "bin_start": 14.031929588299999,
                        "bin_end": 14.131929588299998,
                        "count": 0
                      },
                      {
                        "bin_start": 14.131929588299998,
                        "bin_end": 14.2319295883,
                        "count": 0
                      },
                      {
                        "bin_start": 14.2319295883,
                        "bin_end": 14.3319295883,
                        "count": 0
                      },
                      {
                        "bin_start": 14.3319295883,
                        "bin_end": 14.4319295883,
                        "count": 0
                      },
                      {
                        "bin_start": 14.4319295883,
                        "bin_end": 14.531929588299999,
                        "count": 1
                      },
                      {
                        "bin_start": 14.531929588299999,
                        "bin_end": 14.631929588299998,
                        "count": 0
                      },
                      {
                        "bin_start": 14.631929588299998,
                        "bin_end": 14.7319295883,
                        "count": 0
                      },
                      {
                        "bin_start": 14.7319295883,
                        "bin_end": 14.8319295883,
                        "count": 0
                      },
                      {
                        "bin_start": 14.8319295883,
                        "bin_end": 14.9319295883,
                        "count": 0
                      }
                    ]
                  }
                },
                {
                  "name": "SP.POP.TOTL",
                  "dtype": "int64",
                  "stats": {
                    "unique_count": 1,
                    "nan_count": 0,
                    "min": 120355128,
                    "max": 120355128,
                    "histogram": [
                      {
                        "bin_start": 120355127.5,
                        "bin_end": 120355127.6,
                        "count": 0
                      },
                      {
                        "bin_start": 120355127.6,
                        "bin_end": 120355127.7,
                        "count": 0
                      },
                      {
                        "bin_start": 120355127.7,
                        "bin_end": 120355127.8,
                        "count": 0
                      },
                      {
                        "bin_start": 120355127.8,
                        "bin_end": 120355127.9,
                        "count": 0
                      },
                      {
                        "bin_start": 120355127.9,
                        "bin_end": 120355128,
                        "count": 0
                      },
                      {
                        "bin_start": 120355128,
                        "bin_end": 120355128.1,
                        "count": 1
                      },
                      {
                        "bin_start": 120355128.1,
                        "bin_end": 120355128.2,
                        "count": 0
                      },
                      {
                        "bin_start": 120355128.2,
                        "bin_end": 120355128.3,
                        "count": 0
                      },
                      {
                        "bin_start": 120355128.3,
                        "bin_end": 120355128.4,
                        "count": 0
                      },
                      {
                        "bin_start": 120355128.4,
                        "bin_end": 120355128.5,
                        "count": 0
                      }
                    ]
                  }
                },
                {
                  "name": "NY.GDP.PCAP.PP.CD",
                  "dtype": "float64",
                  "stats": {
                    "unique_count": 1,
                    "nan_count": 0,
                    "min": 18056.7911564109,
                    "max": 18056.7911564109,
                    "histogram": [
                      {
                        "bin_start": 18056.2911564109,
                        "bin_end": 18056.3911564109,
                        "count": 0
                      },
                      {
                        "bin_start": 18056.3911564109,
                        "bin_end": 18056.491156410902,
                        "count": 0
                      },
                      {
                        "bin_start": 18056.491156410902,
                        "bin_end": 18056.5911564109,
                        "count": 0
                      },
                      {
                        "bin_start": 18056.5911564109,
                        "bin_end": 18056.691156410903,
                        "count": 0
                      },
                      {
                        "bin_start": 18056.691156410903,
                        "bin_end": 18056.7911564109,
                        "count": 0
                      },
                      {
                        "bin_start": 18056.7911564109,
                        "bin_end": 18056.8911564109,
                        "count": 1
                      },
                      {
                        "bin_start": 18056.8911564109,
                        "bin_end": 18056.991156410902,
                        "count": 0
                      },
                      {
                        "bin_start": 18056.991156410902,
                        "bin_end": 18057.0911564109,
                        "count": 0
                      },
                      {
                        "bin_start": 18057.0911564109,
                        "bin_end": 18057.191156410903,
                        "count": 0
                      },
                      {
                        "bin_start": 18057.191156410903,
                        "bin_end": 18057.2911564109,
                        "count": 0
                      }
                    ]
                  }
                },
                {
                  "name": "Country Code",
                  "dtype": "object",
                  "stats": {
                    "unique_count": 1,
                    "nan_count": 0,
                    "categories": [
                      {
                        "name": "MEX",
                        "count": 1
                      }
                    ]
                  }
                },
                {
                  "name": "Country Name",
                  "dtype": "object",
                  "stats": {
                    "unique_count": 1,
                    "nan_count": 0,
                    "categories": [
                      {
                        "name": "Mexico",
                        "count": 1
                      }
                    ]
                  }
                },
                {
                  "name": "Region",
                  "dtype": "object",
                  "stats": {
                    "unique_count": 1,
                    "nan_count": 0,
                    "categories": [
                      {
                        "name": "Latin America & Caribbean ",
                        "count": 1
                      }
                    ]
                  }
                },
                {
                  "name": "Income Group",
                  "dtype": "object",
                  "stats": {
                    "unique_count": 1,
                    "nan_count": 0,
                    "categories": [
                      {
                        "name": "Upper middle income",
                        "count": 1
                      }
                    ]
                  }
                },
                {
                  "name": "Lending Type",
                  "dtype": "object",
                  "stats": {
                    "unique_count": 1,
                    "nan_count": 0,
                    "categories": [
                      {
                        "name": "IBRD",
                        "count": 1
                      }
                    ]
                  }
                },
                {
                  "name": "_deepnote_index_column",
                  "dtype": "int64"
                }
              ],
              "rows_top": [
                {
                  "Year": 2014,
                  "SE.SEC.CUAT.PO.ZS": 14.4319295883,
                  "SP.POP.TOTL": 120355128,
                  "NY.GDP.PCAP.PP.CD": 18056.7911564109,
                  "Country Code": "MEX",
                  "Country Name": "Mexico",
                  "Region": "Latin America & Caribbean ",
                  "Income Group": "Upper middle income",
                  "Lending Type": "IBRD",
                  "_deepnote_index_column": 14
                }
              ],
              "rows_bottom": null
            },
            "text/plain": [
              "    Year  SE.SEC.CUAT.PO.ZS  SP.POP.TOTL  NY.GDP.PCAP.PP.CD Country Code  \\\n",
              "14  2014           14.43193    120355128       18056.791156          MEX   \n",
              "\n",
              "   Country Name                      Region         Income Group Lending Type  \n",
              "14       Mexico  Latin America & Caribbean   Upper middle income         IBRD  "
            ],
            "text/html": [
              "<div>\n",
              "<style scoped>\n",
              "    .dataframe tbody tr th:only-of-type {\n",
              "        vertical-align: middle;\n",
              "    }\n",
              "\n",
              "    .dataframe tbody tr th {\n",
              "        vertical-align: top;\n",
              "    }\n",
              "\n",
              "    .dataframe thead th {\n",
              "        text-align: right;\n",
              "    }\n",
              "</style>\n",
              "<table border=\"1\" class=\"dataframe\">\n",
              "  <thead>\n",
              "    <tr style=\"text-align: right;\">\n",
              "      <th></th>\n",
              "      <th>Year</th>\n",
              "      <th>SE.SEC.CUAT.PO.ZS</th>\n",
              "      <th>SP.POP.TOTL</th>\n",
              "      <th>NY.GDP.PCAP.PP.CD</th>\n",
              "      <th>Country Code</th>\n",
              "      <th>Country Name</th>\n",
              "      <th>Region</th>\n",
              "      <th>Income Group</th>\n",
              "      <th>Lending Type</th>\n",
              "    </tr>\n",
              "  </thead>\n",
              "  <tbody>\n",
              "    <tr>\n",
              "      <th>14</th>\n",
              "      <td>2014</td>\n",
              "      <td>14.43193</td>\n",
              "      <td>120355128</td>\n",
              "      <td>18056.791156</td>\n",
              "      <td>MEX</td>\n",
              "      <td>Mexico</td>\n",
              "      <td>Latin America &amp; Caribbean</td>\n",
              "      <td>Upper middle income</td>\n",
              "      <td>IBRD</td>\n",
              "    </tr>\n",
              "  </tbody>\n",
              "</table>\n",
              "</div>"
            ]
          },
          "metadata": {
            "tags": []
          },
          "execution_count": 5
        }
      ]
    },
    {
      "cell_type": "code",
      "metadata": {
        "tags": [],
        "cell_id": "00006-0f513142-44cc-4912-ad74-2ca0d483290e",
        "deepnote_to_be_reexecuted": false,
        "source_hash": "d27e1f79",
        "execution_millis": 35,
        "execution_start": 1617471939936,
        "deepnote_cell_type": "code",
        "id": "R53OG0da80bM",
        "outputId": "7073225a-1999-4954-e989-7042b9333031"
      },
      "source": [
        "df.describe(include=\"O\")"
      ],
      "execution_count": null,
      "outputs": [
        {
          "output_type": "execute_result",
          "data": {
            "application/vnd.deepnote.dataframe.v2+json": {
              "row_count": 4,
              "column_count": 5,
              "columns": [
                {
                  "name": "Country Code",
                  "dtype": "object",
                  "stats": {
                    "unique_count": 4,
                    "nan_count": 0,
                    "categories": [
                      {
                        "name": "36",
                        "count": 1
                      },
                      {
                        "name": "4",
                        "count": 1
                      },
                      {
                        "name": "2 others",
                        "count": 2
                      }
                    ]
                  }
                },
                {
                  "name": "Country Name",
                  "dtype": "object",
                  "stats": {
                    "unique_count": 4,
                    "nan_count": 0,
                    "categories": [
                      {
                        "name": "36",
                        "count": 1
                      },
                      {
                        "name": "4",
                        "count": 1
                      },
                      {
                        "name": "2 others",
                        "count": 2
                      }
                    ]
                  }
                },
                {
                  "name": "Region",
                  "dtype": "object",
                  "stats": {
                    "unique_count": 4,
                    "nan_count": 0,
                    "categories": [
                      {
                        "name": "36",
                        "count": 1
                      },
                      {
                        "name": "4",
                        "count": 1
                      },
                      {
                        "name": "2 others",
                        "count": 2
                      }
                    ]
                  }
                },
                {
                  "name": "Income Group",
                  "dtype": "object",
                  "stats": {
                    "unique_count": 4,
                    "nan_count": 0,
                    "categories": [
                      {
                        "name": "36",
                        "count": 1
                      },
                      {
                        "name": "3",
                        "count": 1
                      },
                      {
                        "name": "2 others",
                        "count": 2
                      }
                    ]
                  }
                },
                {
                  "name": "Lending Type",
                  "dtype": "object",
                  "stats": {
                    "unique_count": 4,
                    "nan_count": 0,
                    "categories": [
                      {
                        "name": "36",
                        "count": 1
                      },
                      {
                        "name": "3",
                        "count": 1
                      },
                      {
                        "name": "2 others",
                        "count": 2
                      }
                    ]
                  }
                },
                {
                  "name": "_deepnote_index_column",
                  "dtype": "object"
                }
              ],
              "rows_top": [
                {
                  "Country Code": "36",
                  "Country Name": "36",
                  "Region": "36",
                  "Income Group": "36",
                  "Lending Type": "36",
                  "_deepnote_index_column": "count"
                },
                {
                  "Country Code": "4",
                  "Country Name": "4",
                  "Region": "4",
                  "Income Group": "3",
                  "Lending Type": "3",
                  "_deepnote_index_column": "unique"
                },
                {
                  "Country Code": "MEX",
                  "Country Name": "United States",
                  "Region": "Europe & Central Asia",
                  "Income Group": "High income",
                  "Lending Type": "Not classified",
                  "_deepnote_index_column": "top"
                },
                {
                  "Country Code": "9",
                  "Country Name": "9",
                  "Region": "9",
                  "Income Group": "18",
                  "Lending Type": "18",
                  "_deepnote_index_column": "freq"
                }
              ],
              "rows_bottom": null
            },
            "text/plain": [
              "       Country Code   Country Name                 Region Income Group  \\\n",
              "count            36             36                     36           36   \n",
              "unique            4              4                      4            3   \n",
              "top             MEX  United States  Europe & Central Asia  High income   \n",
              "freq              9              9                      9           18   \n",
              "\n",
              "          Lending Type  \n",
              "count               36  \n",
              "unique               3  \n",
              "top     Not classified  \n",
              "freq                18  "
            ],
            "text/html": [
              "<div>\n",
              "<style scoped>\n",
              "    .dataframe tbody tr th:only-of-type {\n",
              "        vertical-align: middle;\n",
              "    }\n",
              "\n",
              "    .dataframe tbody tr th {\n",
              "        vertical-align: top;\n",
              "    }\n",
              "\n",
              "    .dataframe thead th {\n",
              "        text-align: right;\n",
              "    }\n",
              "</style>\n",
              "<table border=\"1\" class=\"dataframe\">\n",
              "  <thead>\n",
              "    <tr style=\"text-align: right;\">\n",
              "      <th></th>\n",
              "      <th>Country Code</th>\n",
              "      <th>Country Name</th>\n",
              "      <th>Region</th>\n",
              "      <th>Income Group</th>\n",
              "      <th>Lending Type</th>\n",
              "    </tr>\n",
              "  </thead>\n",
              "  <tbody>\n",
              "    <tr>\n",
              "      <th>count</th>\n",
              "      <td>36</td>\n",
              "      <td>36</td>\n",
              "      <td>36</td>\n",
              "      <td>36</td>\n",
              "      <td>36</td>\n",
              "    </tr>\n",
              "    <tr>\n",
              "      <th>unique</th>\n",
              "      <td>4</td>\n",
              "      <td>4</td>\n",
              "      <td>4</td>\n",
              "      <td>3</td>\n",
              "      <td>3</td>\n",
              "    </tr>\n",
              "    <tr>\n",
              "      <th>top</th>\n",
              "      <td>MEX</td>\n",
              "      <td>United States</td>\n",
              "      <td>Europe &amp; Central Asia</td>\n",
              "      <td>High income</td>\n",
              "      <td>Not classified</td>\n",
              "    </tr>\n",
              "    <tr>\n",
              "      <th>freq</th>\n",
              "      <td>9</td>\n",
              "      <td>9</td>\n",
              "      <td>9</td>\n",
              "      <td>18</td>\n",
              "      <td>18</td>\n",
              "    </tr>\n",
              "  </tbody>\n",
              "</table>\n",
              "</div>"
            ]
          },
          "metadata": {
            "tags": []
          },
          "execution_count": 6
        }
      ]
    },
    {
      "cell_type": "code",
      "metadata": {
        "tags": [],
        "cell_id": "00007-ce844a3c-771f-47d0-b358-61332cfa39a9",
        "deepnote_to_be_reexecuted": false,
        "source_hash": "f88152d9",
        "execution_millis": 8,
        "execution_start": 1617471940013,
        "deepnote_cell_type": "code",
        "id": "UticLiwn80bN",
        "outputId": "4c59e2bf-267d-4bff-82c0-340d47f230aa"
      },
      "source": [
        "df.describe()"
      ],
      "execution_count": null,
      "outputs": [
        {
          "output_type": "execute_result",
          "data": {
            "application/vnd.deepnote.dataframe.v2+json": {
              "row_count": 8,
              "column_count": 4,
              "columns": [
                {
                  "name": "Year",
                  "dtype": "float64",
                  "stats": {
                    "unique_count": 8,
                    "nan_count": 0,
                    "min": 2.8194336929969377,
                    "max": 2017,
                    "histogram": [
                      {
                        "bin_start": 2.8194336929969377,
                        "bin_end": 204.23749032369724,
                        "count": 2
                      },
                      {
                        "bin_start": 204.23749032369724,
                        "bin_end": 405.65554695439755,
                        "count": 0
                      },
                      {
                        "bin_start": 405.65554695439755,
                        "bin_end": 607.0736035850978,
                        "count": 0
                      },
                      {
                        "bin_start": 607.0736035850978,
                        "bin_end": 808.4916602157981,
                        "count": 0
                      },
                      {
                        "bin_start": 808.4916602157981,
                        "bin_end": 1009.9097168464984,
                        "count": 0
                      },
                      {
                        "bin_start": 1009.9097168464984,
                        "bin_end": 1211.3277734771987,
                        "count": 0
                      },
                      {
                        "bin_start": 1211.3277734771987,
                        "bin_end": 1412.745830107899,
                        "count": 0
                      },
                      {
                        "bin_start": 1412.745830107899,
                        "bin_end": 1614.1638867385993,
                        "count": 0
                      },
                      {
                        "bin_start": 1614.1638867385993,
                        "bin_end": 1815.5819433692996,
                        "count": 0
                      },
                      {
                        "bin_start": 1815.5819433692996,
                        "bin_end": 2017,
                        "count": 6
                      }
                    ]
                  }
                },
                {
                  "name": "SE.SEC.CUAT.PO.ZS",
                  "dtype": "float64",
                  "stats": {
                    "unique_count": 8,
                    "nan_count": 0,
                    "min": 5.9769501686,
                    "max": 43.5118789673,
                    "histogram": [
                      {
                        "bin_start": 5.9769501686,
                        "bin_end": 9.73044304847,
                        "count": 1
                      },
                      {
                        "bin_start": 9.73044304847,
                        "bin_end": 13.48393592834,
                        "count": 2
                      },
                      {
                        "bin_start": 13.48393592834,
                        "bin_end": 17.237428808209998,
                        "count": 0
                      },
                      {
                        "bin_start": 17.237428808209998,
                        "bin_end": 20.99092168808,
                        "count": 0
                      },
                      {
                        "bin_start": 20.99092168808,
                        "bin_end": 24.744414567950002,
                        "count": 2
                      },
                      {
                        "bin_start": 24.744414567950002,
                        "bin_end": 28.497907447819998,
                        "count": 0
                      },
                      {
                        "bin_start": 28.497907447819998,
                        "bin_end": 32.25140032769,
                        "count": 0
                      },
                      {
                        "bin_start": 32.25140032769,
                        "bin_end": 36.00489320756,
                        "count": 1
                      },
                      {
                        "bin_start": 36.00489320756,
                        "bin_end": 39.75838608743,
                        "count": 1
                      },
                      {
                        "bin_start": 39.75838608743,
                        "bin_end": 43.5118789673,
                        "count": 1
                      }
                    ]
                  }
                },
                {
                  "name": "SP.POP.TOTL",
                  "dtype": "float64",
                  "stats": {
                    "unique_count": 8,
                    "nan_count": 0,
                    "min": 36,
                    "max": 322941311,
                    "histogram": [
                      {
                        "bin_start": 36,
                        "bin_end": 32294163.5,
                        "count": 1
                      },
                      {
                        "bin_start": 32294163.5,
                        "bin_end": 64588291,
                        "count": 0
                      },
                      {
                        "bin_start": 64588291,
                        "bin_end": 96882418.5,
                        "count": 2
                      },
                      {
                        "bin_start": 96882418.5,
                        "bin_end": 129176546,
                        "count": 1
                      },
                      {
                        "bin_start": 129176546,
                        "bin_end": 161470673.5,
                        "count": 1
                      },
                      {
                        "bin_start": 161470673.5,
                        "bin_end": 193764801,
                        "count": 1
                      },
                      {
                        "bin_start": 193764801,
                        "bin_end": 226058928.5,
                        "count": 0
                      },
                      {
                        "bin_start": 226058928.5,
                        "bin_end": 258353056,
                        "count": 1
                      },
                      {
                        "bin_start": 258353056,
                        "bin_end": 290647183.5,
                        "count": 0
                      },
                      {
                        "bin_start": 290647183.5,
                        "bin_end": 322941311,
                        "count": 1
                      }
                    ]
                  }
                },
                {
                  "name": "NY.GDP.PCAP.PP.CD",
                  "dtype": "float64",
                  "stats": {
                    "unique_count": 8,
                    "nan_count": 0,
                    "min": 36,
                    "max": 57951.5840820997,
                    "histogram": [
                      {
                        "bin_start": 36,
                        "bin_end": 5827.5584082099695,
                        "count": 2
                      },
                      {
                        "bin_start": 5827.5584082099695,
                        "bin_end": 11619.116816419939,
                        "count": 0
                      },
                      {
                        "bin_start": 11619.116816419939,
                        "bin_end": 17410.675224629907,
                        "count": 1
                      },
                      {
                        "bin_start": 17410.675224629907,
                        "bin_end": 23202.233632839878,
                        "count": 1
                      },
                      {
                        "bin_start": 23202.233632839878,
                        "bin_end": 28993.79204104985,
                        "count": 1
                      },
                      {
                        "bin_start": 28993.79204104985,
                        "bin_end": 34785.350449259815,
                        "count": 1
                      },
                      {
                        "bin_start": 34785.350449259815,
                        "bin_end": 40576.90885746979,
                        "count": 0
                      },
                      {
                        "bin_start": 40576.90885746979,
                        "bin_end": 46368.467265679756,
                        "count": 0
                      },
                      {
                        "bin_start": 46368.467265679756,
                        "bin_end": 52160.02567388972,
                        "count": 1
                      },
                      {
                        "bin_start": 52160.02567388972,
                        "bin_end": 57951.5840820997,
                        "count": 1
                      }
                    ]
                  }
                },
                {
                  "name": "_deepnote_index_column",
                  "dtype": "object"
                }
              ],
              "rows_top": [
                {
                  "Year": 36,
                  "SE.SEC.CUAT.PO.ZS": 36,
                  "SP.POP.TOTL": 36,
                  "NY.GDP.PCAP.PP.CD": 36,
                  "_deepnote_index_column": "count"
                },
                {
                  "Year": 2012.2222222222222,
                  "SE.SEC.CUAT.PO.ZS": 23.867419547505555,
                  "SP.POP.TOTL": 175408674.6388889,
                  "NY.GDP.PCAP.PP.CD": 29161.279523427962,
                  "_deepnote_index_column": "mean"
                },
                {
                  "Year": 2.8194336929969377,
                  "SE.SEC.CUAT.PO.ZS": 13.364080035187603,
                  "SP.POP.TOTL": 90157717.33925998,
                  "NY.GDP.PCAP.PP.CD": 19847.261062893907,
                  "_deepnote_index_column": "std"
                },
                {
                  "Year": 2008,
                  "SE.SEC.CUAT.PO.ZS": 5.9769501686,
                  "SP.POP.TOTL": 80274983,
                  "NY.GDP.PCAP.PP.CD": 3818.0719405522,
                  "_deepnote_index_column": "min"
                },
                {
                  "Year": 2010,
                  "SE.SEC.CUAT.PO.ZS": 13.006207227725001,
                  "SP.POP.TOTL": 103698620.5,
                  "NY.GDP.PCAP.PP.CD": 12061.53723227505,
                  "_deepnote_index_column": "25%"
                },
                {
                  "Year": 2012,
                  "SE.SEC.CUAT.PO.ZS": 22.56438064575,
                  "SP.POP.TOTL": 148213155,
                  "NY.GDP.PCAP.PP.CD": 28314.4106029061,
                  "_deepnote_index_column": "50%"
                },
                {
                  "Year": 2014.25,
                  "SE.SEC.CUAT.PO.ZS": 36.30426883695,
                  "SP.POP.TOTL": 231946006,
                  "NY.GDP.PCAP.PP.CD": 47802.9753657,
                  "_deepnote_index_column": "75%"
                },
                {
                  "Year": 2017,
                  "SE.SEC.CUAT.PO.ZS": 43.5118789673,
                  "SP.POP.TOTL": 322941311,
                  "NY.GDP.PCAP.PP.CD": 57951.5840820997,
                  "_deepnote_index_column": "max"
                }
              ],
              "rows_bottom": null
            },
            "text/plain": [
              "              Year  SE.SEC.CUAT.PO.ZS   SP.POP.TOTL  NY.GDP.PCAP.PP.CD\n",
              "count    36.000000          36.000000  3.600000e+01          36.000000\n",
              "mean   2012.222222          23.867420  1.754087e+08       29161.279523\n",
              "std       2.819434          13.364080  9.015772e+07       19847.261063\n",
              "min    2008.000000           5.976950  8.027498e+07        3818.071941\n",
              "25%    2010.000000          13.006207  1.036986e+08       12061.537232\n",
              "50%    2012.000000          22.564381  1.482132e+08       28314.410603\n",
              "75%    2014.250000          36.304269  2.319460e+08       47802.975366\n",
              "max    2017.000000          43.511879  3.229413e+08       57951.584082"
            ],
            "text/html": [
              "<div>\n",
              "<style scoped>\n",
              "    .dataframe tbody tr th:only-of-type {\n",
              "        vertical-align: middle;\n",
              "    }\n",
              "\n",
              "    .dataframe tbody tr th {\n",
              "        vertical-align: top;\n",
              "    }\n",
              "\n",
              "    .dataframe thead th {\n",
              "        text-align: right;\n",
              "    }\n",
              "</style>\n",
              "<table border=\"1\" class=\"dataframe\">\n",
              "  <thead>\n",
              "    <tr style=\"text-align: right;\">\n",
              "      <th></th>\n",
              "      <th>Year</th>\n",
              "      <th>SE.SEC.CUAT.PO.ZS</th>\n",
              "      <th>SP.POP.TOTL</th>\n",
              "      <th>NY.GDP.PCAP.PP.CD</th>\n",
              "    </tr>\n",
              "  </thead>\n",
              "  <tbody>\n",
              "    <tr>\n",
              "      <th>count</th>\n",
              "      <td>36.000000</td>\n",
              "      <td>36.000000</td>\n",
              "      <td>3.600000e+01</td>\n",
              "      <td>36.000000</td>\n",
              "    </tr>\n",
              "    <tr>\n",
              "      <th>mean</th>\n",
              "      <td>2012.222222</td>\n",
              "      <td>23.867420</td>\n",
              "      <td>1.754087e+08</td>\n",
              "      <td>29161.279523</td>\n",
              "    </tr>\n",
              "    <tr>\n",
              "      <th>std</th>\n",
              "      <td>2.819434</td>\n",
              "      <td>13.364080</td>\n",
              "      <td>9.015772e+07</td>\n",
              "      <td>19847.261063</td>\n",
              "    </tr>\n",
              "    <tr>\n",
              "      <th>min</th>\n",
              "      <td>2008.000000</td>\n",
              "      <td>5.976950</td>\n",
              "      <td>8.027498e+07</td>\n",
              "      <td>3818.071941</td>\n",
              "    </tr>\n",
              "    <tr>\n",
              "      <th>25%</th>\n",
              "      <td>2010.000000</td>\n",
              "      <td>13.006207</td>\n",
              "      <td>1.036986e+08</td>\n",
              "      <td>12061.537232</td>\n",
              "    </tr>\n",
              "    <tr>\n",
              "      <th>50%</th>\n",
              "      <td>2012.000000</td>\n",
              "      <td>22.564381</td>\n",
              "      <td>1.482132e+08</td>\n",
              "      <td>28314.410603</td>\n",
              "    </tr>\n",
              "    <tr>\n",
              "      <th>75%</th>\n",
              "      <td>2014.250000</td>\n",
              "      <td>36.304269</td>\n",
              "      <td>2.319460e+08</td>\n",
              "      <td>47802.975366</td>\n",
              "    </tr>\n",
              "    <tr>\n",
              "      <th>max</th>\n",
              "      <td>2017.000000</td>\n",
              "      <td>43.511879</td>\n",
              "      <td>3.229413e+08</td>\n",
              "      <td>57951.584082</td>\n",
              "    </tr>\n",
              "  </tbody>\n",
              "</table>\n",
              "</div>"
            ]
          },
          "metadata": {
            "tags": []
          },
          "execution_count": 7
        }
      ]
    },
    {
      "cell_type": "code",
      "metadata": {
        "tags": [],
        "cell_id": "00008-bc26fd6d-cf1e-472d-aa0f-4ab503a5a9eb",
        "deepnote_to_be_reexecuted": false,
        "source_hash": "de1e323c",
        "execution_millis": 7,
        "execution_start": 1617471940027,
        "deepnote_cell_type": "code",
        "id": "6kXe5bEF80bN",
        "outputId": "a512b933-5202-46cc-c2de-14d3f7b6816f"
      },
      "source": [
        "df.info()"
      ],
      "execution_count": null,
      "outputs": [
        {
          "output_type": "stream",
          "text": [
            "<class 'pandas.core.frame.DataFrame'>\n",
            "RangeIndex: 36 entries, 0 to 35\n",
            "Data columns (total 9 columns):\n",
            " #   Column             Non-Null Count  Dtype  \n",
            "---  ------             --------------  -----  \n",
            " 0   Year               36 non-null     int64  \n",
            " 1   SE.SEC.CUAT.PO.ZS  36 non-null     float64\n",
            " 2   SP.POP.TOTL        36 non-null     int64  \n",
            " 3   NY.GDP.PCAP.PP.CD  36 non-null     float64\n",
            " 4   Country Code       36 non-null     object \n",
            " 5   Country Name       36 non-null     object \n",
            " 6   Region             36 non-null     object \n",
            " 7   Income Group       36 non-null     object \n",
            " 8   Lending Type       36 non-null     object \n",
            "dtypes: float64(2), int64(2), object(5)\n",
            "memory usage: 2.7+ KB\n"
          ],
          "name": "stdout"
        }
      ]
    },
    {
      "cell_type": "code",
      "metadata": {
        "tags": [],
        "cell_id": "00009-d4246ad1-e493-4701-ac15-3f2f20686254",
        "deepnote_to_be_reexecuted": false,
        "source_hash": "a7002ff0",
        "execution_millis": 67,
        "execution_start": 1617471940073,
        "deepnote_cell_type": "code",
        "id": "H2gSxS4u80bN",
        "outputId": "58569943-3c12-4657-c111-83be336d42da"
      },
      "source": [
        "df_2008 = df[df[\"Year\"]==2008]\n",
        "df_2008.shape"
      ],
      "execution_count": null,
      "outputs": [
        {
          "output_type": "execute_result",
          "data": {
            "text/plain": [
              "(4, 9)"
            ]
          },
          "metadata": {
            "tags": []
          },
          "execution_count": 9
        }
      ]
    },
    {
      "cell_type": "code",
      "metadata": {
        "tags": [],
        "cell_id": "00009-3827d090-e5e9-4a39-b994-a0107188c4c1",
        "deepnote_to_be_reexecuted": false,
        "source_hash": "f9d11f47",
        "execution_millis": 66,
        "execution_start": 1617471940074,
        "deepnote_cell_type": "code",
        "id": "j6wp-EZc80bO",
        "outputId": "44db1d9e-37e5-42ac-fdb1-aeab0de7e92c"
      },
      "source": [
        "df_2016 = df[df[\"Year\"]==2016]\n",
        "df_2016.shape"
      ],
      "execution_count": null,
      "outputs": [
        {
          "output_type": "execute_result",
          "data": {
            "text/plain": [
              "(4, 9)"
            ]
          },
          "metadata": {
            "tags": []
          },
          "execution_count": 10
        }
      ]
    },
    {
      "cell_type": "markdown",
      "metadata": {
        "tags": [],
        "cell_id": "00023-c6f7dc95-eb96-4acf-9a54-731d055dadd3",
        "deepnote_cell_type": "markdown",
        "id": "SMThHmZq80bO"
      },
      "source": [
        "#### Figure 1"
      ]
    },
    {
      "cell_type": "code",
      "metadata": {
        "tags": [],
        "cell_id": "00011-307996b9-395d-462f-86e2-9b42ec497684",
        "deepnote_to_be_reexecuted": false,
        "source_hash": "e3ce2b59",
        "execution_millis": 393,
        "execution_start": 1617471940075,
        "deepnote_cell_type": "code",
        "id": "MStdQTx980bO",
        "outputId": "b4718ecb-305c-45bd-dc5d-1d152f1192e3"
      },
      "source": [
        "# Scatterplot for 2008 GDP vs. Educational Attainment\n",
        "fig = px.scatter(data_frame=df_2008, \n",
        "             x=\"SE.SEC.CUAT.PO.ZS\", y=\"NY.GDP.PCAP.PP.CD\", \n",
        "             hover_name=\"Year\", \n",
        "             color=\"Country Name\",\n",
        "             height=600,\n",
        "             labels={\n",
        "                     \"Year\": \"Year\",\n",
        "                     \"SE.SEC.CUAT.PO.ZS\": \"Educational Attainment, at least completed Post-Secondary\",\n",
        "                     \"NY.GDP.PCAP.PP.CD\": \"GDP Per Capita, PPP\"\n",
        "                 },\n",
        "             title=\"GDP per capita, PPP vs. Post-Secondary Educational Attainment in 2008\"\n",
        "             )\n",
        "fig.show()"
      ],
      "execution_count": null,
      "outputs": [
        {
          "output_type": "display_data",
          "data": {
            "text/html": [
              "<html>\n",
              "<head><meta charset=\"utf-8\" /></head>\n",
              "<body>\n",
              "    <div>            <script src=\"https://cdnjs.cloudflare.com/ajax/libs/mathjax/2.7.5/MathJax.js?config=TeX-AMS-MML_SVG\"></script><script type=\"text/javascript\">if (window.MathJax) {MathJax.Hub.Config({SVG: {font: \"STIX-Web\"}});}</script>                <script type=\"text/javascript\">window.PlotlyConfig = {MathJaxConfig: 'local'};</script>\n",
              "        <script src=\"https://cdn.plot.ly/plotly-latest.min.js\"></script>                <div id=\"616858a3-50c3-457f-9d30-4571db038928\" class=\"plotly-graph-div\" style=\"height:600px; width:100%;\"></div>            <script type=\"text/javascript\">                                    window.PLOTLYENV=window.PLOTLYENV || {};                                    if (document.getElementById(\"616858a3-50c3-457f-9d30-4571db038928\")) {                    Plotly.newPlot(                        \"616858a3-50c3-457f-9d30-4571db038928\",                        [{\"hovertemplate\": \"<b>%{hovertext}</b><br><br>Country Name=Germany<br>Educational Attainment, at least completed Post-Secondary=%{x}<br>GDP Per Capita, PPP=%{y}<extra></extra>\", \"hovertext\": [2008.0], \"legendgroup\": \"Germany\", \"marker\": {\"color\": \"#636efa\", \"symbol\": \"circle\"}, \"mode\": \"markers\", \"name\": \"Germany\", \"orientation\": \"v\", \"showlegend\": true, \"type\": \"scatter\", \"x\": [28.8160705566], \"xaxis\": \"x\", \"y\": [37802.3874303197], \"yaxis\": \"y\"}, {\"hovertemplate\": \"<b>%{hovertext}</b><br><br>Country Name=Mexico<br>Educational Attainment, at least completed Post-Secondary=%{x}<br>GDP Per Capita, PPP=%{y}<extra></extra>\", \"hovertext\": [2008.0], \"legendgroup\": \"Mexico\", \"marker\": {\"color\": \"#EF553B\", \"symbol\": \"circle\"}, \"mode\": \"markers\", \"name\": \"Mexico\", \"orientation\": \"v\", \"showlegend\": true, \"type\": \"scatter\", \"x\": [14.4625301361], \"xaxis\": \"x\", \"y\": [14924.8217487322], \"yaxis\": \"y\"}, {\"hovertemplate\": \"<b>%{hovertext}</b><br><br>Country Name=Pakistan<br>Educational Attainment, at least completed Post-Secondary=%{x}<br>GDP Per Capita, PPP=%{y}<extra></extra>\", \"hovertext\": [2008.0], \"legendgroup\": \"Pakistan\", \"marker\": {\"color\": \"#00cc96\", \"symbol\": \"circle\"}, \"mode\": \"markers\", \"name\": \"Pakistan\", \"orientation\": \"v\", \"showlegend\": true, \"type\": \"scatter\", \"x\": [5.9769501686], \"xaxis\": \"x\", \"y\": [3818.0719405522], \"yaxis\": \"y\"}, {\"hovertemplate\": \"<b>%{hovertext}</b><br><br>Country Name=United States<br>Educational Attainment, at least completed Post-Secondary=%{x}<br>GDP Per Capita, PPP=%{y}<extra></extra>\", \"hovertext\": [2008.0], \"legendgroup\": \"United States\", \"marker\": {\"color\": \"#ab63fa\", \"symbol\": \"circle\"}, \"mode\": \"markers\", \"name\": \"United States\", \"orientation\": \"v\", \"showlegend\": true, \"type\": \"scatter\", \"x\": [38.2589111328], \"xaxis\": \"x\", \"y\": [48382.5584490552], \"yaxis\": \"y\"}],                        {\"height\": 600, \"legend\": {\"title\": {\"text\": \"Country Name\"}, \"tracegroupgap\": 0}, \"template\": {\"data\": {\"bar\": [{\"error_x\": {\"color\": \"#f2f5fa\"}, \"error_y\": {\"color\": \"#f2f5fa\"}, \"marker\": {\"line\": {\"color\": \"rgb(17,17,17)\", \"width\": 0.5}}, \"type\": \"bar\"}], \"barpolar\": [{\"marker\": {\"line\": {\"color\": \"rgb(17,17,17)\", \"width\": 0.5}}, \"type\": \"barpolar\"}], \"carpet\": [{\"aaxis\": {\"endlinecolor\": \"#A2B1C6\", \"gridcolor\": \"#506784\", \"linecolor\": \"#506784\", \"minorgridcolor\": \"#506784\", \"startlinecolor\": \"#A2B1C6\"}, \"baxis\": {\"endlinecolor\": \"#A2B1C6\", \"gridcolor\": \"#506784\", \"linecolor\": \"#506784\", \"minorgridcolor\": \"#506784\", \"startlinecolor\": \"#A2B1C6\"}, \"type\": \"carpet\"}], \"choropleth\": [{\"colorbar\": {\"outlinewidth\": 0, \"ticks\": \"\"}, \"type\": \"choropleth\"}], \"contour\": [{\"colorbar\": {\"outlinewidth\": 0, \"ticks\": \"\"}, \"colorscale\": [[0.0, \"#0d0887\"], [0.1111111111111111, \"#46039f\"], [0.2222222222222222, \"#7201a8\"], [0.3333333333333333, \"#9c179e\"], [0.4444444444444444, \"#bd3786\"], [0.5555555555555556, \"#d8576b\"], [0.6666666666666666, \"#ed7953\"], [0.7777777777777778, \"#fb9f3a\"], [0.8888888888888888, \"#fdca26\"], [1.0, \"#f0f921\"]], \"type\": \"contour\"}], \"contourcarpet\": [{\"colorbar\": {\"outlinewidth\": 0, \"ticks\": \"\"}, \"type\": \"contourcarpet\"}], \"heatmap\": [{\"colorbar\": {\"outlinewidth\": 0, \"ticks\": \"\"}, \"colorscale\": [[0.0, \"#0d0887\"], [0.1111111111111111, \"#46039f\"], [0.2222222222222222, \"#7201a8\"], [0.3333333333333333, \"#9c179e\"], [0.4444444444444444, \"#bd3786\"], [0.5555555555555556, \"#d8576b\"], [0.6666666666666666, \"#ed7953\"], [0.7777777777777778, \"#fb9f3a\"], [0.8888888888888888, \"#fdca26\"], [1.0, \"#f0f921\"]], \"type\": \"heatmap\"}], \"heatmapgl\": [{\"colorbar\": {\"outlinewidth\": 0, \"ticks\": \"\"}, \"colorscale\": [[0.0, \"#0d0887\"], [0.1111111111111111, \"#46039f\"], [0.2222222222222222, \"#7201a8\"], [0.3333333333333333, \"#9c179e\"], [0.4444444444444444, \"#bd3786\"], [0.5555555555555556, \"#d8576b\"], [0.6666666666666666, \"#ed7953\"], [0.7777777777777778, \"#fb9f3a\"], [0.8888888888888888, \"#fdca26\"], [1.0, \"#f0f921\"]], \"type\": \"heatmapgl\"}], \"histogram\": [{\"marker\": {\"colorbar\": {\"outlinewidth\": 0, \"ticks\": \"\"}}, \"type\": \"histogram\"}], \"histogram2d\": [{\"colorbar\": {\"outlinewidth\": 0, \"ticks\": \"\"}, \"colorscale\": [[0.0, \"#0d0887\"], [0.1111111111111111, \"#46039f\"], [0.2222222222222222, \"#7201a8\"], [0.3333333333333333, \"#9c179e\"], [0.4444444444444444, \"#bd3786\"], [0.5555555555555556, \"#d8576b\"], [0.6666666666666666, \"#ed7953\"], [0.7777777777777778, \"#fb9f3a\"], [0.8888888888888888, \"#fdca26\"], [1.0, \"#f0f921\"]], \"type\": \"histogram2d\"}], \"histogram2dcontour\": [{\"colorbar\": {\"outlinewidth\": 0, \"ticks\": \"\"}, \"colorscale\": [[0.0, \"#0d0887\"], [0.1111111111111111, \"#46039f\"], [0.2222222222222222, \"#7201a8\"], [0.3333333333333333, \"#9c179e\"], [0.4444444444444444, \"#bd3786\"], [0.5555555555555556, \"#d8576b\"], [0.6666666666666666, \"#ed7953\"], [0.7777777777777778, \"#fb9f3a\"], [0.8888888888888888, \"#fdca26\"], [1.0, \"#f0f921\"]], \"type\": \"histogram2dcontour\"}], \"mesh3d\": [{\"colorbar\": {\"outlinewidth\": 0, \"ticks\": \"\"}, \"type\": \"mesh3d\"}], \"parcoords\": [{\"line\": {\"colorbar\": {\"outlinewidth\": 0, \"ticks\": \"\"}}, \"type\": \"parcoords\"}], \"pie\": [{\"automargin\": true, \"type\": \"pie\"}], \"scatter\": [{\"marker\": {\"line\": {\"color\": \"#283442\"}}, \"type\": \"scatter\"}], \"scatter3d\": [{\"line\": {\"colorbar\": {\"outlinewidth\": 0, \"ticks\": \"\"}}, \"marker\": {\"colorbar\": {\"outlinewidth\": 0, \"ticks\": \"\"}}, \"type\": \"scatter3d\"}], \"scattercarpet\": [{\"marker\": {\"colorbar\": {\"outlinewidth\": 0, \"ticks\": \"\"}}, \"type\": \"scattercarpet\"}], \"scattergeo\": [{\"marker\": {\"colorbar\": {\"outlinewidth\": 0, \"ticks\": \"\"}}, \"type\": \"scattergeo\"}], \"scattergl\": [{\"marker\": {\"line\": {\"color\": \"#283442\"}}, \"type\": \"scattergl\"}], \"scattermapbox\": [{\"marker\": {\"colorbar\": {\"outlinewidth\": 0, \"ticks\": \"\"}}, \"type\": \"scattermapbox\"}], \"scatterpolar\": [{\"marker\": {\"colorbar\": {\"outlinewidth\": 0, \"ticks\": \"\"}}, \"type\": \"scatterpolar\"}], \"scatterpolargl\": [{\"marker\": {\"colorbar\": {\"outlinewidth\": 0, \"ticks\": \"\"}}, \"type\": \"scatterpolargl\"}], \"scatterternary\": [{\"marker\": {\"colorbar\": {\"outlinewidth\": 0, \"ticks\": \"\"}}, \"type\": \"scatterternary\"}], \"surface\": [{\"colorbar\": {\"outlinewidth\": 0, \"ticks\": \"\"}, \"colorscale\": [[0.0, \"#0d0887\"], [0.1111111111111111, \"#46039f\"], [0.2222222222222222, \"#7201a8\"], [0.3333333333333333, \"#9c179e\"], [0.4444444444444444, \"#bd3786\"], [0.5555555555555556, \"#d8576b\"], [0.6666666666666666, \"#ed7953\"], [0.7777777777777778, \"#fb9f3a\"], [0.8888888888888888, \"#fdca26\"], [1.0, \"#f0f921\"]], \"type\": \"surface\"}], \"table\": [{\"cells\": {\"fill\": {\"color\": \"#506784\"}, \"line\": {\"color\": \"rgb(17,17,17)\"}}, \"header\": {\"fill\": {\"color\": \"#2a3f5f\"}, \"line\": {\"color\": \"rgb(17,17,17)\"}}, \"type\": \"table\"}]}, \"layout\": {\"annotationdefaults\": {\"arrowcolor\": \"#f2f5fa\", \"arrowhead\": 0, \"arrowwidth\": 1}, \"autotypenumbers\": \"strict\", \"coloraxis\": {\"colorbar\": {\"outlinewidth\": 0, \"ticks\": \"\"}}, \"colorscale\": {\"diverging\": [[0, \"#8e0152\"], [0.1, \"#c51b7d\"], [0.2, \"#de77ae\"], [0.3, \"#f1b6da\"], [0.4, \"#fde0ef\"], [0.5, \"#f7f7f7\"], [0.6, \"#e6f5d0\"], [0.7, \"#b8e186\"], [0.8, \"#7fbc41\"], [0.9, \"#4d9221\"], [1, \"#276419\"]], \"sequential\": [[0.0, \"#0d0887\"], [0.1111111111111111, \"#46039f\"], [0.2222222222222222, \"#7201a8\"], [0.3333333333333333, \"#9c179e\"], [0.4444444444444444, \"#bd3786\"], [0.5555555555555556, \"#d8576b\"], [0.6666666666666666, \"#ed7953\"], [0.7777777777777778, \"#fb9f3a\"], [0.8888888888888888, \"#fdca26\"], [1.0, \"#f0f921\"]], \"sequentialminus\": [[0.0, \"#0d0887\"], [0.1111111111111111, \"#46039f\"], [0.2222222222222222, \"#7201a8\"], [0.3333333333333333, \"#9c179e\"], [0.4444444444444444, \"#bd3786\"], [0.5555555555555556, \"#d8576b\"], [0.6666666666666666, \"#ed7953\"], [0.7777777777777778, \"#fb9f3a\"], [0.8888888888888888, \"#fdca26\"], [1.0, \"#f0f921\"]]}, \"colorway\": [\"#636efa\", \"#EF553B\", \"#00cc96\", \"#ab63fa\", \"#FFA15A\", \"#19d3f3\", \"#FF6692\", \"#B6E880\", \"#FF97FF\", \"#FECB52\"], \"font\": {\"color\": \"#f2f5fa\"}, \"geo\": {\"bgcolor\": \"rgb(17,17,17)\", \"lakecolor\": \"rgb(17,17,17)\", \"landcolor\": \"rgb(17,17,17)\", \"showlakes\": true, \"showland\": true, \"subunitcolor\": \"#506784\"}, \"hoverlabel\": {\"align\": \"left\"}, \"hovermode\": \"closest\", \"mapbox\": {\"style\": \"dark\"}, \"paper_bgcolor\": \"rgb(17,17,17)\", \"plot_bgcolor\": \"rgb(17,17,17)\", \"polar\": {\"angularaxis\": {\"gridcolor\": \"#506784\", \"linecolor\": \"#506784\", \"ticks\": \"\"}, \"bgcolor\": \"rgb(17,17,17)\", \"radialaxis\": {\"gridcolor\": \"#506784\", \"linecolor\": \"#506784\", \"ticks\": \"\"}}, \"scene\": {\"xaxis\": {\"backgroundcolor\": \"rgb(17,17,17)\", \"gridcolor\": \"#506784\", \"gridwidth\": 2, \"linecolor\": \"#506784\", \"showbackground\": true, \"ticks\": \"\", \"zerolinecolor\": \"#C8D4E3\"}, \"yaxis\": {\"backgroundcolor\": \"rgb(17,17,17)\", \"gridcolor\": \"#506784\", \"gridwidth\": 2, \"linecolor\": \"#506784\", \"showbackground\": true, \"ticks\": \"\", \"zerolinecolor\": \"#C8D4E3\"}, \"zaxis\": {\"backgroundcolor\": \"rgb(17,17,17)\", \"gridcolor\": \"#506784\", \"gridwidth\": 2, \"linecolor\": \"#506784\", \"showbackground\": true, \"ticks\": \"\", \"zerolinecolor\": \"#C8D4E3\"}}, \"shapedefaults\": {\"line\": {\"color\": \"#f2f5fa\"}}, \"sliderdefaults\": {\"bgcolor\": \"#C8D4E3\", \"bordercolor\": \"rgb(17,17,17)\", \"borderwidth\": 1, \"tickwidth\": 0}, \"ternary\": {\"aaxis\": {\"gridcolor\": \"#506784\", \"linecolor\": \"#506784\", \"ticks\": \"\"}, \"baxis\": {\"gridcolor\": \"#506784\", \"linecolor\": \"#506784\", \"ticks\": \"\"}, \"bgcolor\": \"rgb(17,17,17)\", \"caxis\": {\"gridcolor\": \"#506784\", \"linecolor\": \"#506784\", \"ticks\": \"\"}}, \"title\": {\"x\": 0.05}, \"updatemenudefaults\": {\"bgcolor\": \"#506784\", \"borderwidth\": 0}, \"xaxis\": {\"automargin\": true, \"gridcolor\": \"#283442\", \"linecolor\": \"#506784\", \"ticks\": \"\", \"title\": {\"standoff\": 15}, \"zerolinecolor\": \"#283442\", \"zerolinewidth\": 2}, \"yaxis\": {\"automargin\": true, \"gridcolor\": \"#283442\", \"linecolor\": \"#506784\", \"ticks\": \"\", \"title\": {\"standoff\": 15}, \"zerolinecolor\": \"#283442\", \"zerolinewidth\": 2}}}, \"title\": {\"text\": \"GDP per capita, PPP vs. Post-Secondary Educational Attainment in 2008\"}, \"xaxis\": {\"anchor\": \"y\", \"domain\": [0.0, 1.0], \"title\": {\"text\": \"Educational Attainment, at least completed Post-Secondary\"}}, \"yaxis\": {\"anchor\": \"x\", \"domain\": [0.0, 1.0], \"title\": {\"text\": \"GDP Per Capita, PPP\"}}},                        {\"responsive\": true}                    ).then(function(){\n",
              "                            \n",
              "var gd = document.getElementById('616858a3-50c3-457f-9d30-4571db038928');\n",
              "var x = new MutationObserver(function (mutations, observer) {{\n",
              "        var display = window.getComputedStyle(gd).display;\n",
              "        if (!display || display === 'none') {{\n",
              "            console.log([gd, 'removed!']);\n",
              "            Plotly.purge(gd);\n",
              "            observer.disconnect();\n",
              "        }}\n",
              "}});\n",
              "\n",
              "// Listen for the removal of the full notebook cells\n",
              "var notebookContainer = gd.closest('#notebook-container');\n",
              "if (notebookContainer) {{\n",
              "    x.observe(notebookContainer, {childList: true});\n",
              "}}\n",
              "\n",
              "// Listen for the clearing of the current output cell\n",
              "var outputEl = gd.closest('.output');\n",
              "if (outputEl) {{\n",
              "    x.observe(outputEl, {childList: true});\n",
              "}}\n",
              "\n",
              "                        })                };                            </script>        </div>\n",
              "</body>\n",
              "</html>"
            ]
          },
          "metadata": {
            "tags": []
          }
        }
      ]
    },
    {
      "cell_type": "markdown",
      "metadata": {
        "tags": [],
        "cell_id": "00025-06e6f183-098b-456e-91d5-b9bc9b15f41e",
        "deepnote_cell_type": "markdown",
        "id": "1f1Egor480bP"
      },
      "source": [
        "**Figure 1** shows in 2008, United States has the highest GDP Per Capita, PPP of about 48K USD. In 2008, Germany has the second highest GDP Per Capita, PPP of about 38K USD. In 2008, Mexico has the third highest GDP Per Capita, PPP of about 15K USD. In 2008, Pakistan has the lowest GDP Per Capita, PPP of about 3800 USD. *Note: Analysis is only comparing these 4 countries.*"
      ]
    },
    {
      "cell_type": "markdown",
      "metadata": {
        "tags": [],
        "cell_id": "00026-bbb88acd-e80b-4f3e-a009-12defac6609a",
        "deepnote_cell_type": "markdown",
        "id": "7LQQmTo880bP"
      },
      "source": [
        "#### Figure 2"
      ]
    },
    {
      "cell_type": "code",
      "metadata": {
        "tags": [],
        "cell_id": "00012-adf1b4bf-e7ff-436f-84f9-bb28bf0490a5",
        "deepnote_to_be_reexecuted": false,
        "source_hash": "69290618",
        "execution_millis": 65,
        "execution_start": 1617471940472,
        "deepnote_cell_type": "code",
        "id": "VDesvovq80bP",
        "outputId": "41a8fbac-9ed9-4e0c-edf9-695cf1842c02"
      },
      "source": [
        "fig = px.scatter(data_frame=df_2016, \n",
        "             x=\"SE.SEC.CUAT.PO.ZS\", y=\"NY.GDP.PCAP.PP.CD\", \n",
        "             hover_name=\"Year\", \n",
        "             color=\"Country Name\",\n",
        "             height=600,\n",
        "             labels={\n",
        "                     \"Year\": \"Year\",\n",
        "                     \"SE.SEC.CUAT.PO.ZS\": \"Educational Attainment, at least completed Post-Secondary\",\n",
        "                     \"NY.GDP.PCAP.PP.CD\": \"GDP Per Capita, PPP\"\n",
        "                 },\n",
        "             title=\"GDP per capita, PPP vs. Post-Secondary Educational Attainment in 2016\"\n",
        "             )\n",
        "fig.show()"
      ],
      "execution_count": null,
      "outputs": [
        {
          "output_type": "display_data",
          "data": {
            "text/html": [
              "<html>\n",
              "<head><meta charset=\"utf-8\" /></head>\n",
              "<body>\n",
              "    <div>            <script src=\"https://cdnjs.cloudflare.com/ajax/libs/mathjax/2.7.5/MathJax.js?config=TeX-AMS-MML_SVG\"></script><script type=\"text/javascript\">if (window.MathJax) {MathJax.Hub.Config({SVG: {font: \"STIX-Web\"}});}</script>                <script type=\"text/javascript\">window.PlotlyConfig = {MathJaxConfig: 'local'};</script>\n",
              "        <script src=\"https://cdn.plot.ly/plotly-latest.min.js\"></script>                <div id=\"19e9c796-57cf-435b-8fe7-84be0489c2dd\" class=\"plotly-graph-div\" style=\"height:600px; width:100%;\"></div>            <script type=\"text/javascript\">                                    window.PLOTLYENV=window.PLOTLYENV || {};                                    if (document.getElementById(\"19e9c796-57cf-435b-8fe7-84be0489c2dd\")) {                    Plotly.newPlot(                        \"19e9c796-57cf-435b-8fe7-84be0489c2dd\",                        [{\"hovertemplate\": \"<b>%{hovertext}</b><br><br>Country Name=Germany<br>Educational Attainment, at least completed Post-Secondary=%{x}<br>GDP Per Capita, PPP=%{y}<extra></extra>\", \"hovertext\": [2016.0], \"legendgroup\": \"Germany\", \"marker\": {\"color\": \"#636efa\", \"symbol\": \"circle\"}, \"mode\": \"markers\", \"name\": \"Germany\", \"orientation\": \"v\", \"showlegend\": true, \"type\": \"scatter\", \"x\": [35.652721405], \"xaxis\": \"x\", \"y\": [50579.6839299266], \"yaxis\": \"y\"}, {\"hovertemplate\": \"<b>%{hovertext}</b><br><br>Country Name=Mexico<br>Educational Attainment, at least completed Post-Secondary=%{x}<br>GDP Per Capita, PPP=%{y}<extra></extra>\", \"hovertext\": [2016.0], \"legendgroup\": \"Mexico\", \"marker\": {\"color\": \"#EF553B\", \"symbol\": \"circle\"}, \"mode\": \"markers\", \"name\": \"Mexico\", \"orientation\": \"v\", \"showlegend\": true, \"type\": \"scatter\", \"x\": [15.1532297134], \"xaxis\": \"x\", \"y\": [19323.6663390245], \"yaxis\": \"y\"}, {\"hovertemplate\": \"<b>%{hovertext}</b><br><br>Country Name=Pakistan<br>Educational Attainment, at least completed Post-Secondary=%{x}<br>GDP Per Capita, PPP=%{y}<extra></extra>\", \"hovertext\": [2016.0], \"legendgroup\": \"Pakistan\", \"marker\": {\"color\": \"#00cc96\", \"symbol\": \"circle\"}, \"mode\": \"markers\", \"name\": \"Pakistan\", \"orientation\": \"v\", \"showlegend\": true, \"type\": \"scatter\", \"x\": [8.6171302795], \"xaxis\": \"x\", \"y\": [4410.0947532601], \"yaxis\": \"y\"}, {\"hovertemplate\": \"<b>%{hovertext}</b><br><br>Country Name=United States<br>Educational Attainment, at least completed Post-Secondary=%{x}<br>GDP Per Capita, PPP=%{y}<extra></extra>\", \"hovertext\": [2016.0], \"legendgroup\": \"United States\", \"marker\": {\"color\": \"#ab63fa\", \"symbol\": \"circle\"}, \"mode\": \"markers\", \"name\": \"United States\", \"orientation\": \"v\", \"showlegend\": true, \"type\": \"scatter\", \"x\": [43.5118789673], \"xaxis\": \"x\", \"y\": [57951.5840820997], \"yaxis\": \"y\"}],                        {\"height\": 600, \"legend\": {\"title\": {\"text\": \"Country Name\"}, \"tracegroupgap\": 0}, \"template\": {\"data\": {\"bar\": [{\"error_x\": {\"color\": \"#f2f5fa\"}, \"error_y\": {\"color\": \"#f2f5fa\"}, \"marker\": {\"line\": {\"color\": \"rgb(17,17,17)\", \"width\": 0.5}}, \"type\": \"bar\"}], \"barpolar\": [{\"marker\": {\"line\": {\"color\": \"rgb(17,17,17)\", \"width\": 0.5}}, \"type\": \"barpolar\"}], \"carpet\": [{\"aaxis\": {\"endlinecolor\": \"#A2B1C6\", \"gridcolor\": \"#506784\", \"linecolor\": \"#506784\", \"minorgridcolor\": \"#506784\", \"startlinecolor\": \"#A2B1C6\"}, \"baxis\": {\"endlinecolor\": \"#A2B1C6\", \"gridcolor\": \"#506784\", \"linecolor\": \"#506784\", \"minorgridcolor\": \"#506784\", \"startlinecolor\": \"#A2B1C6\"}, \"type\": \"carpet\"}], \"choropleth\": [{\"colorbar\": {\"outlinewidth\": 0, \"ticks\": \"\"}, \"type\": \"choropleth\"}], \"contour\": [{\"colorbar\": {\"outlinewidth\": 0, \"ticks\": \"\"}, \"colorscale\": [[0.0, \"#0d0887\"], [0.1111111111111111, \"#46039f\"], [0.2222222222222222, \"#7201a8\"], [0.3333333333333333, \"#9c179e\"], [0.4444444444444444, \"#bd3786\"], [0.5555555555555556, \"#d8576b\"], [0.6666666666666666, \"#ed7953\"], [0.7777777777777778, \"#fb9f3a\"], [0.8888888888888888, \"#fdca26\"], [1.0, \"#f0f921\"]], \"type\": \"contour\"}], \"contourcarpet\": [{\"colorbar\": {\"outlinewidth\": 0, \"ticks\": \"\"}, \"type\": \"contourcarpet\"}], \"heatmap\": [{\"colorbar\": {\"outlinewidth\": 0, \"ticks\": \"\"}, \"colorscale\": [[0.0, \"#0d0887\"], [0.1111111111111111, \"#46039f\"], [0.2222222222222222, \"#7201a8\"], [0.3333333333333333, \"#9c179e\"], [0.4444444444444444, \"#bd3786\"], [0.5555555555555556, \"#d8576b\"], [0.6666666666666666, \"#ed7953\"], [0.7777777777777778, \"#fb9f3a\"], [0.8888888888888888, \"#fdca26\"], [1.0, \"#f0f921\"]], \"type\": \"heatmap\"}], \"heatmapgl\": [{\"colorbar\": {\"outlinewidth\": 0, \"ticks\": \"\"}, \"colorscale\": [[0.0, \"#0d0887\"], [0.1111111111111111, \"#46039f\"], [0.2222222222222222, \"#7201a8\"], [0.3333333333333333, \"#9c179e\"], [0.4444444444444444, \"#bd3786\"], [0.5555555555555556, \"#d8576b\"], [0.6666666666666666, \"#ed7953\"], [0.7777777777777778, \"#fb9f3a\"], [0.8888888888888888, \"#fdca26\"], [1.0, \"#f0f921\"]], \"type\": \"heatmapgl\"}], \"histogram\": [{\"marker\": {\"colorbar\": {\"outlinewidth\": 0, \"ticks\": \"\"}}, \"type\": \"histogram\"}], \"histogram2d\": [{\"colorbar\": {\"outlinewidth\": 0, \"ticks\": \"\"}, \"colorscale\": [[0.0, \"#0d0887\"], [0.1111111111111111, \"#46039f\"], [0.2222222222222222, \"#7201a8\"], [0.3333333333333333, \"#9c179e\"], [0.4444444444444444, \"#bd3786\"], [0.5555555555555556, \"#d8576b\"], [0.6666666666666666, \"#ed7953\"], [0.7777777777777778, \"#fb9f3a\"], [0.8888888888888888, \"#fdca26\"], [1.0, \"#f0f921\"]], \"type\": \"histogram2d\"}], \"histogram2dcontour\": [{\"colorbar\": {\"outlinewidth\": 0, \"ticks\": \"\"}, \"colorscale\": [[0.0, \"#0d0887\"], [0.1111111111111111, \"#46039f\"], [0.2222222222222222, \"#7201a8\"], [0.3333333333333333, \"#9c179e\"], [0.4444444444444444, \"#bd3786\"], [0.5555555555555556, \"#d8576b\"], [0.6666666666666666, \"#ed7953\"], [0.7777777777777778, \"#fb9f3a\"], [0.8888888888888888, \"#fdca26\"], [1.0, \"#f0f921\"]], \"type\": \"histogram2dcontour\"}], \"mesh3d\": [{\"colorbar\": {\"outlinewidth\": 0, \"ticks\": \"\"}, \"type\": \"mesh3d\"}], \"parcoords\": [{\"line\": {\"colorbar\": {\"outlinewidth\": 0, \"ticks\": \"\"}}, \"type\": \"parcoords\"}], \"pie\": [{\"automargin\": true, \"type\": \"pie\"}], \"scatter\": [{\"marker\": {\"line\": {\"color\": \"#283442\"}}, \"type\": \"scatter\"}], \"scatter3d\": [{\"line\": {\"colorbar\": {\"outlinewidth\": 0, \"ticks\": \"\"}}, \"marker\": {\"colorbar\": {\"outlinewidth\": 0, \"ticks\": \"\"}}, \"type\": \"scatter3d\"}], \"scattercarpet\": [{\"marker\": {\"colorbar\": {\"outlinewidth\": 0, \"ticks\": \"\"}}, \"type\": \"scattercarpet\"}], \"scattergeo\": [{\"marker\": {\"colorbar\": {\"outlinewidth\": 0, \"ticks\": \"\"}}, \"type\": \"scattergeo\"}], \"scattergl\": [{\"marker\": {\"line\": {\"color\": \"#283442\"}}, \"type\": \"scattergl\"}], \"scattermapbox\": [{\"marker\": {\"colorbar\": {\"outlinewidth\": 0, \"ticks\": \"\"}}, \"type\": \"scattermapbox\"}], \"scatterpolar\": [{\"marker\": {\"colorbar\": {\"outlinewidth\": 0, \"ticks\": \"\"}}, \"type\": \"scatterpolar\"}], \"scatterpolargl\": [{\"marker\": {\"colorbar\": {\"outlinewidth\": 0, \"ticks\": \"\"}}, \"type\": \"scatterpolargl\"}], \"scatterternary\": [{\"marker\": {\"colorbar\": {\"outlinewidth\": 0, \"ticks\": \"\"}}, \"type\": \"scatterternary\"}], \"surface\": [{\"colorbar\": {\"outlinewidth\": 0, \"ticks\": \"\"}, \"colorscale\": [[0.0, \"#0d0887\"], [0.1111111111111111, \"#46039f\"], [0.2222222222222222, \"#7201a8\"], [0.3333333333333333, \"#9c179e\"], [0.4444444444444444, \"#bd3786\"], [0.5555555555555556, \"#d8576b\"], [0.6666666666666666, \"#ed7953\"], [0.7777777777777778, \"#fb9f3a\"], [0.8888888888888888, \"#fdca26\"], [1.0, \"#f0f921\"]], \"type\": \"surface\"}], \"table\": [{\"cells\": {\"fill\": {\"color\": \"#506784\"}, \"line\": {\"color\": \"rgb(17,17,17)\"}}, \"header\": {\"fill\": {\"color\": \"#2a3f5f\"}, \"line\": {\"color\": \"rgb(17,17,17)\"}}, \"type\": \"table\"}]}, \"layout\": {\"annotationdefaults\": {\"arrowcolor\": \"#f2f5fa\", \"arrowhead\": 0, \"arrowwidth\": 1}, \"autotypenumbers\": \"strict\", \"coloraxis\": {\"colorbar\": {\"outlinewidth\": 0, \"ticks\": \"\"}}, \"colorscale\": {\"diverging\": [[0, \"#8e0152\"], [0.1, \"#c51b7d\"], [0.2, \"#de77ae\"], [0.3, \"#f1b6da\"], [0.4, \"#fde0ef\"], [0.5, \"#f7f7f7\"], [0.6, \"#e6f5d0\"], [0.7, \"#b8e186\"], [0.8, \"#7fbc41\"], [0.9, \"#4d9221\"], [1, \"#276419\"]], \"sequential\": [[0.0, \"#0d0887\"], [0.1111111111111111, \"#46039f\"], [0.2222222222222222, \"#7201a8\"], [0.3333333333333333, \"#9c179e\"], [0.4444444444444444, \"#bd3786\"], [0.5555555555555556, \"#d8576b\"], [0.6666666666666666, \"#ed7953\"], [0.7777777777777778, \"#fb9f3a\"], [0.8888888888888888, \"#fdca26\"], [1.0, \"#f0f921\"]], \"sequentialminus\": [[0.0, \"#0d0887\"], [0.1111111111111111, \"#46039f\"], [0.2222222222222222, \"#7201a8\"], [0.3333333333333333, \"#9c179e\"], [0.4444444444444444, \"#bd3786\"], [0.5555555555555556, \"#d8576b\"], [0.6666666666666666, \"#ed7953\"], [0.7777777777777778, \"#fb9f3a\"], [0.8888888888888888, \"#fdca26\"], [1.0, \"#f0f921\"]]}, \"colorway\": [\"#636efa\", \"#EF553B\", \"#00cc96\", \"#ab63fa\", \"#FFA15A\", \"#19d3f3\", \"#FF6692\", \"#B6E880\", \"#FF97FF\", \"#FECB52\"], \"font\": {\"color\": \"#f2f5fa\"}, \"geo\": {\"bgcolor\": \"rgb(17,17,17)\", \"lakecolor\": \"rgb(17,17,17)\", \"landcolor\": \"rgb(17,17,17)\", \"showlakes\": true, \"showland\": true, \"subunitcolor\": \"#506784\"}, \"hoverlabel\": {\"align\": \"left\"}, \"hovermode\": \"closest\", \"mapbox\": {\"style\": \"dark\"}, \"paper_bgcolor\": \"rgb(17,17,17)\", \"plot_bgcolor\": \"rgb(17,17,17)\", \"polar\": {\"angularaxis\": {\"gridcolor\": \"#506784\", \"linecolor\": \"#506784\", \"ticks\": \"\"}, \"bgcolor\": \"rgb(17,17,17)\", \"radialaxis\": {\"gridcolor\": \"#506784\", \"linecolor\": \"#506784\", \"ticks\": \"\"}}, \"scene\": {\"xaxis\": {\"backgroundcolor\": \"rgb(17,17,17)\", \"gridcolor\": \"#506784\", \"gridwidth\": 2, \"linecolor\": \"#506784\", \"showbackground\": true, \"ticks\": \"\", \"zerolinecolor\": \"#C8D4E3\"}, \"yaxis\": {\"backgroundcolor\": \"rgb(17,17,17)\", \"gridcolor\": \"#506784\", \"gridwidth\": 2, \"linecolor\": \"#506784\", \"showbackground\": true, \"ticks\": \"\", \"zerolinecolor\": \"#C8D4E3\"}, \"zaxis\": {\"backgroundcolor\": \"rgb(17,17,17)\", \"gridcolor\": \"#506784\", \"gridwidth\": 2, \"linecolor\": \"#506784\", \"showbackground\": true, \"ticks\": \"\", \"zerolinecolor\": \"#C8D4E3\"}}, \"shapedefaults\": {\"line\": {\"color\": \"#f2f5fa\"}}, \"sliderdefaults\": {\"bgcolor\": \"#C8D4E3\", \"bordercolor\": \"rgb(17,17,17)\", \"borderwidth\": 1, \"tickwidth\": 0}, \"ternary\": {\"aaxis\": {\"gridcolor\": \"#506784\", \"linecolor\": \"#506784\", \"ticks\": \"\"}, \"baxis\": {\"gridcolor\": \"#506784\", \"linecolor\": \"#506784\", \"ticks\": \"\"}, \"bgcolor\": \"rgb(17,17,17)\", \"caxis\": {\"gridcolor\": \"#506784\", \"linecolor\": \"#506784\", \"ticks\": \"\"}}, \"title\": {\"x\": 0.05}, \"updatemenudefaults\": {\"bgcolor\": \"#506784\", \"borderwidth\": 0}, \"xaxis\": {\"automargin\": true, \"gridcolor\": \"#283442\", \"linecolor\": \"#506784\", \"ticks\": \"\", \"title\": {\"standoff\": 15}, \"zerolinecolor\": \"#283442\", \"zerolinewidth\": 2}, \"yaxis\": {\"automargin\": true, \"gridcolor\": \"#283442\", \"linecolor\": \"#506784\", \"ticks\": \"\", \"title\": {\"standoff\": 15}, \"zerolinecolor\": \"#283442\", \"zerolinewidth\": 2}}}, \"title\": {\"text\": \"GDP per capita, PPP vs. Post-Secondary Educational Attainment in 2016\"}, \"xaxis\": {\"anchor\": \"y\", \"domain\": [0.0, 1.0], \"title\": {\"text\": \"Educational Attainment, at least completed Post-Secondary\"}}, \"yaxis\": {\"anchor\": \"x\", \"domain\": [0.0, 1.0], \"title\": {\"text\": \"GDP Per Capita, PPP\"}}},                        {\"responsive\": true}                    ).then(function(){\n",
              "                            \n",
              "var gd = document.getElementById('19e9c796-57cf-435b-8fe7-84be0489c2dd');\n",
              "var x = new MutationObserver(function (mutations, observer) {{\n",
              "        var display = window.getComputedStyle(gd).display;\n",
              "        if (!display || display === 'none') {{\n",
              "            console.log([gd, 'removed!']);\n",
              "            Plotly.purge(gd);\n",
              "            observer.disconnect();\n",
              "        }}\n",
              "}});\n",
              "\n",
              "// Listen for the removal of the full notebook cells\n",
              "var notebookContainer = gd.closest('#notebook-container');\n",
              "if (notebookContainer) {{\n",
              "    x.observe(notebookContainer, {childList: true});\n",
              "}}\n",
              "\n",
              "// Listen for the clearing of the current output cell\n",
              "var outputEl = gd.closest('.output');\n",
              "if (outputEl) {{\n",
              "    x.observe(outputEl, {childList: true});\n",
              "}}\n",
              "\n",
              "                        })                };                            </script>        </div>\n",
              "</body>\n",
              "</html>"
            ]
          },
          "metadata": {
            "tags": []
          }
        }
      ]
    },
    {
      "cell_type": "markdown",
      "metadata": {
        "tags": [],
        "cell_id": "00028-7d47f79b-bf4e-410f-87df-69307baf11df",
        "deepnote_cell_type": "markdown",
        "id": "gLZ0mgvl80bQ"
      },
      "source": [
        "**Figure 2** shows in 2016, United States has the highest GDP Per Capita, PPP of about 58K USD. In 2016, Germany has the second highest GDP Per Capita, PPP of about 50K USD. In 2016, Mexico has the third highest GDP Per Capita, PPP of about 19K USD. In 2016, Pakistan has the lowest GDP Per Capita, PPP of about 4400 USD. *Note: Analysis is only comparing these 4 countries.*"
      ]
    },
    {
      "cell_type": "markdown",
      "metadata": {
        "tags": [],
        "cell_id": "00029-ac6b9d09-5899-46dd-af94-13b17809458e",
        "deepnote_cell_type": "markdown",
        "id": "Q8V-BAQS80bQ"
      },
      "source": [
        "#### Figure 3"
      ]
    },
    {
      "cell_type": "code",
      "metadata": {
        "tags": [],
        "cell_id": "00011-113135f5-3a7f-49f4-9ea4-b5e753eab941",
        "deepnote_to_be_reexecuted": false,
        "source_hash": "b761736d",
        "execution_millis": 106,
        "execution_start": 1617471940534,
        "deepnote_cell_type": "code",
        "id": "b6j8-KHN80bQ",
        "outputId": "c795f057-24ac-41f8-b00e-9acb8253aa3e"
      },
      "source": [
        "fig = px.line(df, \n",
        "             x=\"Year\", y=\"SE.SEC.CUAT.PO.ZS\", \n",
        "             hover_name=\"Year\", \n",
        "             color=\"Country Name\",\n",
        "             height=600,\n",
        "             labels={\n",
        "                     \"Year\": \"Year\",\n",
        "                     \"SE.SEC.CUAT.PO.ZS\": \"Educational Attainment, at least completed Post-Secondary\"\n",
        "                 },\n",
        "             title=\"Post-Secondary Educational Attainment Overtime\"\n",
        "             )\n",
        "fig.show()"
      ],
      "execution_count": null,
      "outputs": [
        {
          "output_type": "display_data",
          "data": {
            "text/html": [
              "<html>\n",
              "<head><meta charset=\"utf-8\" /></head>\n",
              "<body>\n",
              "    <div>            <script src=\"https://cdnjs.cloudflare.com/ajax/libs/mathjax/2.7.5/MathJax.js?config=TeX-AMS-MML_SVG\"></script><script type=\"text/javascript\">if (window.MathJax) {MathJax.Hub.Config({SVG: {font: \"STIX-Web\"}});}</script>                <script type=\"text/javascript\">window.PlotlyConfig = {MathJaxConfig: 'local'};</script>\n",
              "        <script src=\"https://cdn.plot.ly/plotly-latest.min.js\"></script>                <div id=\"169f0a24-fa58-4ac2-9ee3-952dd8730a26\" class=\"plotly-graph-div\" style=\"height:600px; width:100%;\"></div>            <script type=\"text/javascript\">                                    window.PLOTLYENV=window.PLOTLYENV || {};                                    if (document.getElementById(\"169f0a24-fa58-4ac2-9ee3-952dd8730a26\")) {                    Plotly.newPlot(                        \"169f0a24-fa58-4ac2-9ee3-952dd8730a26\",                        [{\"hovertemplate\": \"<b>%{hovertext}</b><br><br>Country Name=Germany<br>Year=%{x}<br>Educational Attainment, at least completed Post-Secondary=%{y}<extra></extra>\", \"hovertext\": [2008.0, 2009.0, 2010.0, 2011.0, 2012.0, 2013.0, 2014.0, 2015.0, 2016.0], \"legendgroup\": \"Germany\", \"line\": {\"color\": \"#636efa\", \"dash\": \"solid\"}, \"mode\": \"lines\", \"name\": \"Germany\", \"orientation\": \"v\", \"showlegend\": true, \"type\": \"scatter\", \"x\": [2008, 2009, 2010, 2011, 2012, 2013, 2014, 2015, 2016], \"xaxis\": \"x\", \"y\": [28.8160705566, 29.8395595551, 30.2569007874, 31.1494998932, 31.7936401367, 32.3349189758, 33.4242095947, 34.4100914001, 35.652721405], \"yaxis\": \"y\"}, {\"hovertemplate\": \"<b>%{hovertext}</b><br><br>Country Name=Mexico<br>Year=%{x}<br>Educational Attainment, at least completed Post-Secondary=%{y}<extra></extra>\", \"hovertext\": [2008.0, 2009.0, 2010.0, 2012.0, 2013.0, 2014.0, 2015.0, 2016.0, 2017.0], \"legendgroup\": \"Mexico\", \"line\": {\"color\": \"#EF553B\", \"dash\": \"solid\"}, \"mode\": \"lines\", \"name\": \"Mexico\", \"orientation\": \"v\", \"showlegend\": true, \"type\": \"scatter\", \"x\": [2008, 2009, 2010, 2012, 2013, 2014, 2015, 2016, 2017], \"xaxis\": \"x\", \"y\": [14.4625301361, 15.4787902832, 14.4238395691, 16.3126907349, 14.7768001556, 14.4319295883, 16.2725505829, 15.1532297134, 15.8232803345], \"yaxis\": \"y\"}, {\"hovertemplate\": \"<b>%{hovertext}</b><br><br>Country Name=Pakistan<br>Year=%{x}<br>Educational Attainment, at least completed Post-Secondary=%{y}<extra></extra>\", \"hovertext\": [2008.0, 2009.0, 2010.0, 2011.0, 2012.0, 2013.0, 2014.0, 2016.0, 2017.0], \"legendgroup\": \"Pakistan\", \"line\": {\"color\": \"#00cc96\", \"dash\": \"solid\"}, \"mode\": \"lines\", \"name\": \"Pakistan\", \"orientation\": \"v\", \"showlegend\": true, \"type\": \"scatter\", \"x\": [2008, 2009, 2010, 2011, 2012, 2013, 2014, 2016, 2017], \"xaxis\": \"x\", \"y\": [5.9769501686, 6.6714601517, 6.974460125, 7.3681898117, 7.5416398048, 7.991350174, 8.7533102036, 8.6171302795, 8.6503295898], \"yaxis\": \"y\"}, {\"hovertemplate\": \"<b>%{hovertext}</b><br><br>Country Name=United States<br>Year=%{x}<br>Educational Attainment, at least completed Post-Secondary=%{y}<extra></extra>\", \"hovertext\": [2008.0, 2009.0, 2010.0, 2011.0, 2012.0, 2013.0, 2014.0, 2015.0, 2016.0], \"legendgroup\": \"United States\", \"line\": {\"color\": \"#ab63fa\", \"dash\": \"solid\"}, \"mode\": \"lines\", \"name\": \"United States\", \"orientation\": \"v\", \"showlegend\": true, \"type\": \"scatter\", \"x\": [2008, 2009, 2010, 2011, 2012, 2013, 2014, 2015, 2016], \"xaxis\": \"x\", \"y\": [38.2589111328, 38.6207695007, 39.1374206543, 39.9449386597, 40.663230896, 41.5046691895, 41.8897018433, 42.3375091553, 43.5118789673], \"yaxis\": \"y\"}],                        {\"height\": 600, \"legend\": {\"title\": {\"text\": \"Country Name\"}, \"tracegroupgap\": 0}, \"template\": {\"data\": {\"bar\": [{\"error_x\": {\"color\": \"#f2f5fa\"}, \"error_y\": {\"color\": \"#f2f5fa\"}, \"marker\": {\"line\": {\"color\": \"rgb(17,17,17)\", \"width\": 0.5}}, \"type\": \"bar\"}], \"barpolar\": [{\"marker\": {\"line\": {\"color\": \"rgb(17,17,17)\", \"width\": 0.5}}, \"type\": \"barpolar\"}], \"carpet\": [{\"aaxis\": {\"endlinecolor\": \"#A2B1C6\", \"gridcolor\": \"#506784\", \"linecolor\": \"#506784\", \"minorgridcolor\": \"#506784\", \"startlinecolor\": \"#A2B1C6\"}, \"baxis\": {\"endlinecolor\": \"#A2B1C6\", \"gridcolor\": \"#506784\", \"linecolor\": \"#506784\", \"minorgridcolor\": \"#506784\", \"startlinecolor\": \"#A2B1C6\"}, \"type\": \"carpet\"}], \"choropleth\": [{\"colorbar\": {\"outlinewidth\": 0, \"ticks\": \"\"}, \"type\": \"choropleth\"}], \"contour\": [{\"colorbar\": {\"outlinewidth\": 0, \"ticks\": \"\"}, \"colorscale\": [[0.0, \"#0d0887\"], [0.1111111111111111, \"#46039f\"], [0.2222222222222222, \"#7201a8\"], [0.3333333333333333, \"#9c179e\"], [0.4444444444444444, \"#bd3786\"], [0.5555555555555556, \"#d8576b\"], [0.6666666666666666, \"#ed7953\"], [0.7777777777777778, \"#fb9f3a\"], [0.8888888888888888, \"#fdca26\"], [1.0, \"#f0f921\"]], \"type\": \"contour\"}], \"contourcarpet\": [{\"colorbar\": {\"outlinewidth\": 0, \"ticks\": \"\"}, \"type\": \"contourcarpet\"}], \"heatmap\": [{\"colorbar\": {\"outlinewidth\": 0, \"ticks\": \"\"}, \"colorscale\": [[0.0, \"#0d0887\"], [0.1111111111111111, \"#46039f\"], [0.2222222222222222, \"#7201a8\"], [0.3333333333333333, \"#9c179e\"], [0.4444444444444444, \"#bd3786\"], [0.5555555555555556, \"#d8576b\"], [0.6666666666666666, \"#ed7953\"], [0.7777777777777778, \"#fb9f3a\"], [0.8888888888888888, \"#fdca26\"], [1.0, \"#f0f921\"]], \"type\": \"heatmap\"}], \"heatmapgl\": [{\"colorbar\": {\"outlinewidth\": 0, \"ticks\": \"\"}, \"colorscale\": [[0.0, \"#0d0887\"], [0.1111111111111111, \"#46039f\"], [0.2222222222222222, \"#7201a8\"], [0.3333333333333333, \"#9c179e\"], [0.4444444444444444, \"#bd3786\"], [0.5555555555555556, \"#d8576b\"], [0.6666666666666666, \"#ed7953\"], [0.7777777777777778, \"#fb9f3a\"], [0.8888888888888888, \"#fdca26\"], [1.0, \"#f0f921\"]], \"type\": \"heatmapgl\"}], \"histogram\": [{\"marker\": {\"colorbar\": {\"outlinewidth\": 0, \"ticks\": \"\"}}, \"type\": \"histogram\"}], \"histogram2d\": [{\"colorbar\": {\"outlinewidth\": 0, \"ticks\": \"\"}, \"colorscale\": [[0.0, \"#0d0887\"], [0.1111111111111111, \"#46039f\"], [0.2222222222222222, \"#7201a8\"], [0.3333333333333333, \"#9c179e\"], [0.4444444444444444, \"#bd3786\"], [0.5555555555555556, \"#d8576b\"], [0.6666666666666666, \"#ed7953\"], [0.7777777777777778, \"#fb9f3a\"], [0.8888888888888888, \"#fdca26\"], [1.0, \"#f0f921\"]], \"type\": \"histogram2d\"}], \"histogram2dcontour\": [{\"colorbar\": {\"outlinewidth\": 0, \"ticks\": \"\"}, \"colorscale\": [[0.0, \"#0d0887\"], [0.1111111111111111, \"#46039f\"], [0.2222222222222222, \"#7201a8\"], [0.3333333333333333, \"#9c179e\"], [0.4444444444444444, \"#bd3786\"], [0.5555555555555556, \"#d8576b\"], [0.6666666666666666, \"#ed7953\"], [0.7777777777777778, \"#fb9f3a\"], [0.8888888888888888, \"#fdca26\"], [1.0, \"#f0f921\"]], \"type\": \"histogram2dcontour\"}], \"mesh3d\": [{\"colorbar\": {\"outlinewidth\": 0, \"ticks\": \"\"}, \"type\": \"mesh3d\"}], \"parcoords\": [{\"line\": {\"colorbar\": {\"outlinewidth\": 0, \"ticks\": \"\"}}, \"type\": \"parcoords\"}], \"pie\": [{\"automargin\": true, \"type\": \"pie\"}], \"scatter\": [{\"marker\": {\"line\": {\"color\": \"#283442\"}}, \"type\": \"scatter\"}], \"scatter3d\": [{\"line\": {\"colorbar\": {\"outlinewidth\": 0, \"ticks\": \"\"}}, \"marker\": {\"colorbar\": {\"outlinewidth\": 0, \"ticks\": \"\"}}, \"type\": \"scatter3d\"}], \"scattercarpet\": [{\"marker\": {\"colorbar\": {\"outlinewidth\": 0, \"ticks\": \"\"}}, \"type\": \"scattercarpet\"}], \"scattergeo\": [{\"marker\": {\"colorbar\": {\"outlinewidth\": 0, \"ticks\": \"\"}}, \"type\": \"scattergeo\"}], \"scattergl\": [{\"marker\": {\"line\": {\"color\": \"#283442\"}}, \"type\": \"scattergl\"}], \"scattermapbox\": [{\"marker\": {\"colorbar\": {\"outlinewidth\": 0, \"ticks\": \"\"}}, \"type\": \"scattermapbox\"}], \"scatterpolar\": [{\"marker\": {\"colorbar\": {\"outlinewidth\": 0, \"ticks\": \"\"}}, \"type\": \"scatterpolar\"}], \"scatterpolargl\": [{\"marker\": {\"colorbar\": {\"outlinewidth\": 0, \"ticks\": \"\"}}, \"type\": \"scatterpolargl\"}], \"scatterternary\": [{\"marker\": {\"colorbar\": {\"outlinewidth\": 0, \"ticks\": \"\"}}, \"type\": \"scatterternary\"}], \"surface\": [{\"colorbar\": {\"outlinewidth\": 0, \"ticks\": \"\"}, \"colorscale\": [[0.0, \"#0d0887\"], [0.1111111111111111, \"#46039f\"], [0.2222222222222222, \"#7201a8\"], [0.3333333333333333, \"#9c179e\"], [0.4444444444444444, \"#bd3786\"], [0.5555555555555556, \"#d8576b\"], [0.6666666666666666, \"#ed7953\"], [0.7777777777777778, \"#fb9f3a\"], [0.8888888888888888, \"#fdca26\"], [1.0, \"#f0f921\"]], \"type\": \"surface\"}], \"table\": [{\"cells\": {\"fill\": {\"color\": \"#506784\"}, \"line\": {\"color\": \"rgb(17,17,17)\"}}, \"header\": {\"fill\": {\"color\": \"#2a3f5f\"}, \"line\": {\"color\": \"rgb(17,17,17)\"}}, \"type\": \"table\"}]}, \"layout\": {\"annotationdefaults\": {\"arrowcolor\": \"#f2f5fa\", \"arrowhead\": 0, \"arrowwidth\": 1}, \"autotypenumbers\": \"strict\", \"coloraxis\": {\"colorbar\": {\"outlinewidth\": 0, \"ticks\": \"\"}}, \"colorscale\": {\"diverging\": [[0, \"#8e0152\"], [0.1, \"#c51b7d\"], [0.2, \"#de77ae\"], [0.3, \"#f1b6da\"], [0.4, \"#fde0ef\"], [0.5, \"#f7f7f7\"], [0.6, \"#e6f5d0\"], [0.7, \"#b8e186\"], [0.8, \"#7fbc41\"], [0.9, \"#4d9221\"], [1, \"#276419\"]], \"sequential\": [[0.0, \"#0d0887\"], [0.1111111111111111, \"#46039f\"], [0.2222222222222222, \"#7201a8\"], [0.3333333333333333, \"#9c179e\"], [0.4444444444444444, \"#bd3786\"], [0.5555555555555556, \"#d8576b\"], [0.6666666666666666, \"#ed7953\"], [0.7777777777777778, \"#fb9f3a\"], [0.8888888888888888, \"#fdca26\"], [1.0, \"#f0f921\"]], \"sequentialminus\": [[0.0, \"#0d0887\"], [0.1111111111111111, \"#46039f\"], [0.2222222222222222, \"#7201a8\"], [0.3333333333333333, \"#9c179e\"], [0.4444444444444444, \"#bd3786\"], [0.5555555555555556, \"#d8576b\"], [0.6666666666666666, \"#ed7953\"], [0.7777777777777778, \"#fb9f3a\"], [0.8888888888888888, \"#fdca26\"], [1.0, \"#f0f921\"]]}, \"colorway\": [\"#636efa\", \"#EF553B\", \"#00cc96\", \"#ab63fa\", \"#FFA15A\", \"#19d3f3\", \"#FF6692\", \"#B6E880\", \"#FF97FF\", \"#FECB52\"], \"font\": {\"color\": \"#f2f5fa\"}, \"geo\": {\"bgcolor\": \"rgb(17,17,17)\", \"lakecolor\": \"rgb(17,17,17)\", \"landcolor\": \"rgb(17,17,17)\", \"showlakes\": true, \"showland\": true, \"subunitcolor\": \"#506784\"}, \"hoverlabel\": {\"align\": \"left\"}, \"hovermode\": \"closest\", \"mapbox\": {\"style\": \"dark\"}, \"paper_bgcolor\": \"rgb(17,17,17)\", \"plot_bgcolor\": \"rgb(17,17,17)\", \"polar\": {\"angularaxis\": {\"gridcolor\": \"#506784\", \"linecolor\": \"#506784\", \"ticks\": \"\"}, \"bgcolor\": \"rgb(17,17,17)\", \"radialaxis\": {\"gridcolor\": \"#506784\", \"linecolor\": \"#506784\", \"ticks\": \"\"}}, \"scene\": {\"xaxis\": {\"backgroundcolor\": \"rgb(17,17,17)\", \"gridcolor\": \"#506784\", \"gridwidth\": 2, \"linecolor\": \"#506784\", \"showbackground\": true, \"ticks\": \"\", \"zerolinecolor\": \"#C8D4E3\"}, \"yaxis\": {\"backgroundcolor\": \"rgb(17,17,17)\", \"gridcolor\": \"#506784\", \"gridwidth\": 2, \"linecolor\": \"#506784\", \"showbackground\": true, \"ticks\": \"\", \"zerolinecolor\": \"#C8D4E3\"}, \"zaxis\": {\"backgroundcolor\": \"rgb(17,17,17)\", \"gridcolor\": \"#506784\", \"gridwidth\": 2, \"linecolor\": \"#506784\", \"showbackground\": true, \"ticks\": \"\", \"zerolinecolor\": \"#C8D4E3\"}}, \"shapedefaults\": {\"line\": {\"color\": \"#f2f5fa\"}}, \"sliderdefaults\": {\"bgcolor\": \"#C8D4E3\", \"bordercolor\": \"rgb(17,17,17)\", \"borderwidth\": 1, \"tickwidth\": 0}, \"ternary\": {\"aaxis\": {\"gridcolor\": \"#506784\", \"linecolor\": \"#506784\", \"ticks\": \"\"}, \"baxis\": {\"gridcolor\": \"#506784\", \"linecolor\": \"#506784\", \"ticks\": \"\"}, \"bgcolor\": \"rgb(17,17,17)\", \"caxis\": {\"gridcolor\": \"#506784\", \"linecolor\": \"#506784\", \"ticks\": \"\"}}, \"title\": {\"x\": 0.05}, \"updatemenudefaults\": {\"bgcolor\": \"#506784\", \"borderwidth\": 0}, \"xaxis\": {\"automargin\": true, \"gridcolor\": \"#283442\", \"linecolor\": \"#506784\", \"ticks\": \"\", \"title\": {\"standoff\": 15}, \"zerolinecolor\": \"#283442\", \"zerolinewidth\": 2}, \"yaxis\": {\"automargin\": true, \"gridcolor\": \"#283442\", \"linecolor\": \"#506784\", \"ticks\": \"\", \"title\": {\"standoff\": 15}, \"zerolinecolor\": \"#283442\", \"zerolinewidth\": 2}}}, \"title\": {\"text\": \"Post-Secondary Educational Attainment Overtime\"}, \"xaxis\": {\"anchor\": \"y\", \"domain\": [0.0, 1.0], \"title\": {\"text\": \"Year\"}}, \"yaxis\": {\"anchor\": \"x\", \"domain\": [0.0, 1.0], \"title\": {\"text\": \"Educational Attainment, at least completed Post-Secondary\"}}},                        {\"responsive\": true}                    ).then(function(){\n",
              "                            \n",
              "var gd = document.getElementById('169f0a24-fa58-4ac2-9ee3-952dd8730a26');\n",
              "var x = new MutationObserver(function (mutations, observer) {{\n",
              "        var display = window.getComputedStyle(gd).display;\n",
              "        if (!display || display === 'none') {{\n",
              "            console.log([gd, 'removed!']);\n",
              "            Plotly.purge(gd);\n",
              "            observer.disconnect();\n",
              "        }}\n",
              "}});\n",
              "\n",
              "// Listen for the removal of the full notebook cells\n",
              "var notebookContainer = gd.closest('#notebook-container');\n",
              "if (notebookContainer) {{\n",
              "    x.observe(notebookContainer, {childList: true});\n",
              "}}\n",
              "\n",
              "// Listen for the clearing of the current output cell\n",
              "var outputEl = gd.closest('.output');\n",
              "if (outputEl) {{\n",
              "    x.observe(outputEl, {childList: true});\n",
              "}}\n",
              "\n",
              "                        })                };                            </script>        </div>\n",
              "</body>\n",
              "</html>"
            ]
          },
          "metadata": {
            "tags": []
          }
        }
      ]
    },
    {
      "cell_type": "markdown",
      "metadata": {
        "tags": [],
        "cell_id": "00031-b3bc1512-e55a-40ae-9d5f-46c11c87969a",
        "deepnote_cell_type": "markdown",
        "id": "Tuw9ADpf80bQ"
      },
      "source": [
        "**Figure 3** shows post-secondary education attainment overtime shows a steady increase overtime for United States and Germany. However, the line graph for post-secondary education attainment overtime for Mexico shows fluctuation throughout the years, and Pakistan shows minimal growth and remains stable throughout the years."
      ]
    },
    {
      "cell_type": "markdown",
      "metadata": {
        "tags": [],
        "cell_id": "00032-18e2d647-37f5-4598-a1fc-4be9e036b9e0",
        "deepnote_cell_type": "markdown",
        "id": "fLyY0hsk80bR"
      },
      "source": [
        "#### Figure 4"
      ]
    },
    {
      "cell_type": "code",
      "metadata": {
        "tags": [],
        "cell_id": "00012-6d366fba-9d9f-4668-961d-f2c44be9a441",
        "deepnote_to_be_reexecuted": false,
        "source_hash": "4c949f79",
        "execution_millis": 61,
        "execution_start": 1617471940649,
        "deepnote_cell_type": "code",
        "id": "1jd7EmNI80bR",
        "outputId": "c490fa1a-1551-4e9c-fb23-a21efc354174"
      },
      "source": [
        "fig = px.line(df, \n",
        "             x=\"Year\", y=\"NY.GDP.PCAP.PP.CD\", \n",
        "             hover_name=\"Year\", \n",
        "             color=\"Country Name\",\n",
        "             height=600,\n",
        "             labels={\n",
        "                     \"Year\": \"Year\",\n",
        "                     \"NY.GDP.PCAP.PP.CD\": \"GDP Per Capita, PPP\"\n",
        "                 },\n",
        "             title=\"GDP per capita, PPP Overtime\"\n",
        "             )\n",
        "fig.show()"
      ],
      "execution_count": null,
      "outputs": [
        {
          "output_type": "display_data",
          "data": {
            "text/html": [
              "<html>\n",
              "<head><meta charset=\"utf-8\" /></head>\n",
              "<body>\n",
              "    <div>            <script src=\"https://cdnjs.cloudflare.com/ajax/libs/mathjax/2.7.5/MathJax.js?config=TeX-AMS-MML_SVG\"></script><script type=\"text/javascript\">if (window.MathJax) {MathJax.Hub.Config({SVG: {font: \"STIX-Web\"}});}</script>                <script type=\"text/javascript\">window.PlotlyConfig = {MathJaxConfig: 'local'};</script>\n",
              "        <script src=\"https://cdn.plot.ly/plotly-latest.min.js\"></script>                <div id=\"b5cc3bf4-9bac-47e9-abdf-06620363091e\" class=\"plotly-graph-div\" style=\"height:600px; width:100%;\"></div>            <script type=\"text/javascript\">                                    window.PLOTLYENV=window.PLOTLYENV || {};                                    if (document.getElementById(\"b5cc3bf4-9bac-47e9-abdf-06620363091e\")) {                    Plotly.newPlot(                        \"b5cc3bf4-9bac-47e9-abdf-06620363091e\",                        [{\"hovertemplate\": \"<b>%{hovertext}</b><br><br>Country Name=Germany<br>Year=%{x}<br>GDP Per Capita, PPP=%{y}<extra></extra>\", \"hovertext\": [2008.0, 2009.0, 2010.0, 2011.0, 2012.0, 2013.0, 2014.0, 2015.0, 2016.0], \"legendgroup\": \"Germany\", \"line\": {\"color\": \"#636efa\", \"dash\": \"solid\"}, \"mode\": \"lines\", \"name\": \"Germany\", \"orientation\": \"v\", \"showlegend\": true, \"type\": \"scatter\", \"x\": [2008, 2009, 2010, 2011, 2012, 2013, 2014, 2015, 2016], \"xaxis\": \"x\", \"y\": [37802.3874303197, 36842.9161976042, 38982.4263045636, 42541.5310884096, 43359.6148271723, 44993.8927459315, 47011.5510935131, 47609.7810045816, 50579.6839299266], \"yaxis\": \"y\"}, {\"hovertemplate\": \"<b>%{hovertext}</b><br><br>Country Name=Mexico<br>Year=%{x}<br>GDP Per Capita, PPP=%{y}<extra></extra>\", \"hovertext\": [2008.0, 2009.0, 2010.0, 2012.0, 2013.0, 2014.0, 2015.0, 2016.0, 2017.0], \"legendgroup\": \"Mexico\", \"line\": {\"color\": \"#EF553B\", \"dash\": \"solid\"}, \"mode\": \"lines\", \"name\": \"Mexico\", \"orientation\": \"v\", \"showlegend\": true, \"type\": \"scatter\", \"x\": [2008, 2009, 2010, 2012, 2013, 2014, 2015, 2016, 2017], \"xaxis\": \"x\", \"y\": [14924.8217487322, 14558.2448127429, 15260.6205539571, 17162.9275170326, 17373.8970180913, 18056.7911564109, 18301.4994177394, 19323.6663390245, 19785.905008208], \"yaxis\": \"y\"}, {\"hovertemplate\": \"<b>%{hovertext}</b><br><br>Country Name=Pakistan<br>Year=%{x}<br>GDP Per Capita, PPP=%{y}<extra></extra>\", \"hovertext\": [2008.0, 2009.0, 2010.0, 2011.0, 2012.0, 2013.0, 2014.0, 2016.0, 2017.0], \"legendgroup\": \"Pakistan\", \"line\": {\"color\": \"#00cc96\", \"dash\": \"solid\"}, \"mode\": \"lines\", \"name\": \"Pakistan\", \"orientation\": \"v\", \"showlegend\": true, \"type\": \"scatter\", \"x\": [2008, 2009, 2010, 2011, 2012, 2013, 2014, 2016, 2017], \"xaxis\": \"x\", \"y\": [3818.0719405522, 3868.7439644733, 3890.2906619542, 3993.5501313396, 4018.703768681, 4103.5840779917, 4238.5945208844, 4410.0947532601, 4571.4144908715], \"yaxis\": \"y\"}, {\"hovertemplate\": \"<b>%{hovertext}</b><br><br>Country Name=United States<br>Year=%{x}<br>GDP Per Capita, PPP=%{y}<extra></extra>\", \"hovertext\": [2008.0, 2009.0, 2010.0, 2011.0, 2012.0, 2013.0, 2014.0, 2015.0, 2016.0], \"legendgroup\": \"United States\", \"line\": {\"color\": \"#ab63fa\", \"dash\": \"solid\"}, \"mode\": \"lines\", \"name\": \"United States\", \"orientation\": \"v\", \"showlegend\": true, \"type\": \"scatter\", \"x\": [2008, 2009, 2010, 2011, 2012, 2013, 2014, 2015, 2016], \"xaxis\": \"x\", \"y\": [48382.5584490552, 47099.9804711343, 48467.5157769259, 49886.8181094923, 51610.6052783379, 53117.6678498178, 55064.7445483427, 56839.3817742317, 57951.5840820997], \"yaxis\": \"y\"}],                        {\"height\": 600, \"legend\": {\"title\": {\"text\": \"Country Name\"}, \"tracegroupgap\": 0}, \"template\": {\"data\": {\"bar\": [{\"error_x\": {\"color\": \"#f2f5fa\"}, \"error_y\": {\"color\": \"#f2f5fa\"}, \"marker\": {\"line\": {\"color\": \"rgb(17,17,17)\", \"width\": 0.5}}, \"type\": \"bar\"}], \"barpolar\": [{\"marker\": {\"line\": {\"color\": \"rgb(17,17,17)\", \"width\": 0.5}}, \"type\": \"barpolar\"}], \"carpet\": [{\"aaxis\": {\"endlinecolor\": \"#A2B1C6\", \"gridcolor\": \"#506784\", \"linecolor\": \"#506784\", \"minorgridcolor\": \"#506784\", \"startlinecolor\": \"#A2B1C6\"}, \"baxis\": {\"endlinecolor\": \"#A2B1C6\", \"gridcolor\": \"#506784\", \"linecolor\": \"#506784\", \"minorgridcolor\": \"#506784\", \"startlinecolor\": \"#A2B1C6\"}, \"type\": \"carpet\"}], \"choropleth\": [{\"colorbar\": {\"outlinewidth\": 0, \"ticks\": \"\"}, \"type\": \"choropleth\"}], \"contour\": [{\"colorbar\": {\"outlinewidth\": 0, \"ticks\": \"\"}, \"colorscale\": [[0.0, \"#0d0887\"], [0.1111111111111111, \"#46039f\"], [0.2222222222222222, \"#7201a8\"], [0.3333333333333333, \"#9c179e\"], [0.4444444444444444, \"#bd3786\"], [0.5555555555555556, \"#d8576b\"], [0.6666666666666666, \"#ed7953\"], [0.7777777777777778, \"#fb9f3a\"], [0.8888888888888888, \"#fdca26\"], [1.0, \"#f0f921\"]], \"type\": \"contour\"}], \"contourcarpet\": [{\"colorbar\": {\"outlinewidth\": 0, \"ticks\": \"\"}, \"type\": \"contourcarpet\"}], \"heatmap\": [{\"colorbar\": {\"outlinewidth\": 0, \"ticks\": \"\"}, \"colorscale\": [[0.0, \"#0d0887\"], [0.1111111111111111, \"#46039f\"], [0.2222222222222222, \"#7201a8\"], [0.3333333333333333, \"#9c179e\"], [0.4444444444444444, \"#bd3786\"], [0.5555555555555556, \"#d8576b\"], [0.6666666666666666, \"#ed7953\"], [0.7777777777777778, \"#fb9f3a\"], [0.8888888888888888, \"#fdca26\"], [1.0, \"#f0f921\"]], \"type\": \"heatmap\"}], \"heatmapgl\": [{\"colorbar\": {\"outlinewidth\": 0, \"ticks\": \"\"}, \"colorscale\": [[0.0, \"#0d0887\"], [0.1111111111111111, \"#46039f\"], [0.2222222222222222, \"#7201a8\"], [0.3333333333333333, \"#9c179e\"], [0.4444444444444444, \"#bd3786\"], [0.5555555555555556, \"#d8576b\"], [0.6666666666666666, \"#ed7953\"], [0.7777777777777778, \"#fb9f3a\"], [0.8888888888888888, \"#fdca26\"], [1.0, \"#f0f921\"]], \"type\": \"heatmapgl\"}], \"histogram\": [{\"marker\": {\"colorbar\": {\"outlinewidth\": 0, \"ticks\": \"\"}}, \"type\": \"histogram\"}], \"histogram2d\": [{\"colorbar\": {\"outlinewidth\": 0, \"ticks\": \"\"}, \"colorscale\": [[0.0, \"#0d0887\"], [0.1111111111111111, \"#46039f\"], [0.2222222222222222, \"#7201a8\"], [0.3333333333333333, \"#9c179e\"], [0.4444444444444444, \"#bd3786\"], [0.5555555555555556, \"#d8576b\"], [0.6666666666666666, \"#ed7953\"], [0.7777777777777778, \"#fb9f3a\"], [0.8888888888888888, \"#fdca26\"], [1.0, \"#f0f921\"]], \"type\": \"histogram2d\"}], \"histogram2dcontour\": [{\"colorbar\": {\"outlinewidth\": 0, \"ticks\": \"\"}, \"colorscale\": [[0.0, \"#0d0887\"], [0.1111111111111111, \"#46039f\"], [0.2222222222222222, \"#7201a8\"], [0.3333333333333333, \"#9c179e\"], [0.4444444444444444, \"#bd3786\"], [0.5555555555555556, \"#d8576b\"], [0.6666666666666666, \"#ed7953\"], [0.7777777777777778, \"#fb9f3a\"], [0.8888888888888888, \"#fdca26\"], [1.0, \"#f0f921\"]], \"type\": \"histogram2dcontour\"}], \"mesh3d\": [{\"colorbar\": {\"outlinewidth\": 0, \"ticks\": \"\"}, \"type\": \"mesh3d\"}], \"parcoords\": [{\"line\": {\"colorbar\": {\"outlinewidth\": 0, \"ticks\": \"\"}}, \"type\": \"parcoords\"}], \"pie\": [{\"automargin\": true, \"type\": \"pie\"}], \"scatter\": [{\"marker\": {\"line\": {\"color\": \"#283442\"}}, \"type\": \"scatter\"}], \"scatter3d\": [{\"line\": {\"colorbar\": {\"outlinewidth\": 0, \"ticks\": \"\"}}, \"marker\": {\"colorbar\": {\"outlinewidth\": 0, \"ticks\": \"\"}}, \"type\": \"scatter3d\"}], \"scattercarpet\": [{\"marker\": {\"colorbar\": {\"outlinewidth\": 0, \"ticks\": \"\"}}, \"type\": \"scattercarpet\"}], \"scattergeo\": [{\"marker\": {\"colorbar\": {\"outlinewidth\": 0, \"ticks\": \"\"}}, \"type\": \"scattergeo\"}], \"scattergl\": [{\"marker\": {\"line\": {\"color\": \"#283442\"}}, \"type\": \"scattergl\"}], \"scattermapbox\": [{\"marker\": {\"colorbar\": {\"outlinewidth\": 0, \"ticks\": \"\"}}, \"type\": \"scattermapbox\"}], \"scatterpolar\": [{\"marker\": {\"colorbar\": {\"outlinewidth\": 0, \"ticks\": \"\"}}, \"type\": \"scatterpolar\"}], \"scatterpolargl\": [{\"marker\": {\"colorbar\": {\"outlinewidth\": 0, \"ticks\": \"\"}}, \"type\": \"scatterpolargl\"}], \"scatterternary\": [{\"marker\": {\"colorbar\": {\"outlinewidth\": 0, \"ticks\": \"\"}}, \"type\": \"scatterternary\"}], \"surface\": [{\"colorbar\": {\"outlinewidth\": 0, \"ticks\": \"\"}, \"colorscale\": [[0.0, \"#0d0887\"], [0.1111111111111111, \"#46039f\"], [0.2222222222222222, \"#7201a8\"], [0.3333333333333333, \"#9c179e\"], [0.4444444444444444, \"#bd3786\"], [0.5555555555555556, \"#d8576b\"], [0.6666666666666666, \"#ed7953\"], [0.7777777777777778, \"#fb9f3a\"], [0.8888888888888888, \"#fdca26\"], [1.0, \"#f0f921\"]], \"type\": \"surface\"}], \"table\": [{\"cells\": {\"fill\": {\"color\": \"#506784\"}, \"line\": {\"color\": \"rgb(17,17,17)\"}}, \"header\": {\"fill\": {\"color\": \"#2a3f5f\"}, \"line\": {\"color\": \"rgb(17,17,17)\"}}, \"type\": \"table\"}]}, \"layout\": {\"annotationdefaults\": {\"arrowcolor\": \"#f2f5fa\", \"arrowhead\": 0, \"arrowwidth\": 1}, \"autotypenumbers\": \"strict\", \"coloraxis\": {\"colorbar\": {\"outlinewidth\": 0, \"ticks\": \"\"}}, \"colorscale\": {\"diverging\": [[0, \"#8e0152\"], [0.1, \"#c51b7d\"], [0.2, \"#de77ae\"], [0.3, \"#f1b6da\"], [0.4, \"#fde0ef\"], [0.5, \"#f7f7f7\"], [0.6, \"#e6f5d0\"], [0.7, \"#b8e186\"], [0.8, \"#7fbc41\"], [0.9, \"#4d9221\"], [1, \"#276419\"]], \"sequential\": [[0.0, \"#0d0887\"], [0.1111111111111111, \"#46039f\"], [0.2222222222222222, \"#7201a8\"], [0.3333333333333333, \"#9c179e\"], [0.4444444444444444, \"#bd3786\"], [0.5555555555555556, \"#d8576b\"], [0.6666666666666666, \"#ed7953\"], [0.7777777777777778, \"#fb9f3a\"], [0.8888888888888888, \"#fdca26\"], [1.0, \"#f0f921\"]], \"sequentialminus\": [[0.0, \"#0d0887\"], [0.1111111111111111, \"#46039f\"], [0.2222222222222222, \"#7201a8\"], [0.3333333333333333, \"#9c179e\"], [0.4444444444444444, \"#bd3786\"], [0.5555555555555556, \"#d8576b\"], [0.6666666666666666, \"#ed7953\"], [0.7777777777777778, \"#fb9f3a\"], [0.8888888888888888, \"#fdca26\"], [1.0, \"#f0f921\"]]}, \"colorway\": [\"#636efa\", \"#EF553B\", \"#00cc96\", \"#ab63fa\", \"#FFA15A\", \"#19d3f3\", \"#FF6692\", \"#B6E880\", \"#FF97FF\", \"#FECB52\"], \"font\": {\"color\": \"#f2f5fa\"}, \"geo\": {\"bgcolor\": \"rgb(17,17,17)\", \"lakecolor\": \"rgb(17,17,17)\", \"landcolor\": \"rgb(17,17,17)\", \"showlakes\": true, \"showland\": true, \"subunitcolor\": \"#506784\"}, \"hoverlabel\": {\"align\": \"left\"}, \"hovermode\": \"closest\", \"mapbox\": {\"style\": \"dark\"}, \"paper_bgcolor\": \"rgb(17,17,17)\", \"plot_bgcolor\": \"rgb(17,17,17)\", \"polar\": {\"angularaxis\": {\"gridcolor\": \"#506784\", \"linecolor\": \"#506784\", \"ticks\": \"\"}, \"bgcolor\": \"rgb(17,17,17)\", \"radialaxis\": {\"gridcolor\": \"#506784\", \"linecolor\": \"#506784\", \"ticks\": \"\"}}, \"scene\": {\"xaxis\": {\"backgroundcolor\": \"rgb(17,17,17)\", \"gridcolor\": \"#506784\", \"gridwidth\": 2, \"linecolor\": \"#506784\", \"showbackground\": true, \"ticks\": \"\", \"zerolinecolor\": \"#C8D4E3\"}, \"yaxis\": {\"backgroundcolor\": \"rgb(17,17,17)\", \"gridcolor\": \"#506784\", \"gridwidth\": 2, \"linecolor\": \"#506784\", \"showbackground\": true, \"ticks\": \"\", \"zerolinecolor\": \"#C8D4E3\"}, \"zaxis\": {\"backgroundcolor\": \"rgb(17,17,17)\", \"gridcolor\": \"#506784\", \"gridwidth\": 2, \"linecolor\": \"#506784\", \"showbackground\": true, \"ticks\": \"\", \"zerolinecolor\": \"#C8D4E3\"}}, \"shapedefaults\": {\"line\": {\"color\": \"#f2f5fa\"}}, \"sliderdefaults\": {\"bgcolor\": \"#C8D4E3\", \"bordercolor\": \"rgb(17,17,17)\", \"borderwidth\": 1, \"tickwidth\": 0}, \"ternary\": {\"aaxis\": {\"gridcolor\": \"#506784\", \"linecolor\": \"#506784\", \"ticks\": \"\"}, \"baxis\": {\"gridcolor\": \"#506784\", \"linecolor\": \"#506784\", \"ticks\": \"\"}, \"bgcolor\": \"rgb(17,17,17)\", \"caxis\": {\"gridcolor\": \"#506784\", \"linecolor\": \"#506784\", \"ticks\": \"\"}}, \"title\": {\"x\": 0.05}, \"updatemenudefaults\": {\"bgcolor\": \"#506784\", \"borderwidth\": 0}, \"xaxis\": {\"automargin\": true, \"gridcolor\": \"#283442\", \"linecolor\": \"#506784\", \"ticks\": \"\", \"title\": {\"standoff\": 15}, \"zerolinecolor\": \"#283442\", \"zerolinewidth\": 2}, \"yaxis\": {\"automargin\": true, \"gridcolor\": \"#283442\", \"linecolor\": \"#506784\", \"ticks\": \"\", \"title\": {\"standoff\": 15}, \"zerolinecolor\": \"#283442\", \"zerolinewidth\": 2}}}, \"title\": {\"text\": \"GDP per capita, PPP Overtime\"}, \"xaxis\": {\"anchor\": \"y\", \"domain\": [0.0, 1.0], \"title\": {\"text\": \"Year\"}}, \"yaxis\": {\"anchor\": \"x\", \"domain\": [0.0, 1.0], \"title\": {\"text\": \"GDP Per Capita, PPP\"}}},                        {\"responsive\": true}                    ).then(function(){\n",
              "                            \n",
              "var gd = document.getElementById('b5cc3bf4-9bac-47e9-abdf-06620363091e');\n",
              "var x = new MutationObserver(function (mutations, observer) {{\n",
              "        var display = window.getComputedStyle(gd).display;\n",
              "        if (!display || display === 'none') {{\n",
              "            console.log([gd, 'removed!']);\n",
              "            Plotly.purge(gd);\n",
              "            observer.disconnect();\n",
              "        }}\n",
              "}});\n",
              "\n",
              "// Listen for the removal of the full notebook cells\n",
              "var notebookContainer = gd.closest('#notebook-container');\n",
              "if (notebookContainer) {{\n",
              "    x.observe(notebookContainer, {childList: true});\n",
              "}}\n",
              "\n",
              "// Listen for the clearing of the current output cell\n",
              "var outputEl = gd.closest('.output');\n",
              "if (outputEl) {{\n",
              "    x.observe(outputEl, {childList: true});\n",
              "}}\n",
              "\n",
              "                        })                };                            </script>        </div>\n",
              "</body>\n",
              "</html>"
            ]
          },
          "metadata": {
            "tags": []
          }
        }
      ]
    },
    {
      "cell_type": "markdown",
      "metadata": {
        "tags": [],
        "cell_id": "00034-3c8cfd93-8f82-4082-9344-91aa0ad1fe95",
        "deepnote_cell_type": "markdown",
        "id": "kDKhzhHK80bU"
      },
      "source": [
        "**Figure 4** displays GDP per capita, PPP overtime which shows a steady increase overtime for United States and Germany. However, the line graph for GDP per capita, PPP overtime for Mexico is a very minimal increase while Pakistan remains stable throughout the years. "
      ]
    },
    {
      "cell_type": "markdown",
      "metadata": {
        "tags": [],
        "cell_id": "00035-7bd26e15-ab5f-41ae-a902-f9d728d9849f",
        "deepnote_cell_type": "markdown",
        "id": "7CO6IT1n80bW"
      },
      "source": [
        "#### Figure 5"
      ]
    },
    {
      "cell_type": "code",
      "metadata": {
        "tags": [],
        "cell_id": "00011-741cba64-f0f7-4cb3-bfdb-9191fe561d97",
        "deepnote_to_be_reexecuted": false,
        "source_hash": "7a43992e",
        "execution_millis": 31,
        "execution_start": 1617471940761,
        "deepnote_cell_type": "code",
        "id": "sVJsJW3R80bW",
        "outputId": "fda09157-79c2-4e4c-a949-0a60fa706474"
      },
      "source": [
        "fig = px.bar(data_frame=df_2016, \n",
        "             x=\"Country Name\", y=\"SE.SEC.CUAT.PO.ZS\", \n",
        "             hover_name=\"Country Name\", \n",
        "             color=\"Country Name\",\n",
        "             height=600,\n",
        "             labels={\n",
        "                     \"Country Name\": \"Country Name\",\n",
        "                     \"sepal_width\": \"Sepal Width (cm)\",\n",
        "                     \"SE.SEC.CUAT.PO.ZS\": \"Educational Attainment, at least completed Post-Secondary\"\n",
        "                 },\n",
        "             title=\"Post-Secondary Educational Attainment in 2016\"\n",
        "\n",
        "             )\n",
        "fig.show()\n"
      ],
      "execution_count": null,
      "outputs": [
        {
          "output_type": "display_data",
          "data": {
            "text/html": [
              "<html>\n",
              "<head><meta charset=\"utf-8\" /></head>\n",
              "<body>\n",
              "    <div>            <script src=\"https://cdnjs.cloudflare.com/ajax/libs/mathjax/2.7.5/MathJax.js?config=TeX-AMS-MML_SVG\"></script><script type=\"text/javascript\">if (window.MathJax) {MathJax.Hub.Config({SVG: {font: \"STIX-Web\"}});}</script>                <script type=\"text/javascript\">window.PlotlyConfig = {MathJaxConfig: 'local'};</script>\n",
              "        <script src=\"https://cdn.plot.ly/plotly-latest.min.js\"></script>                <div id=\"a976a27b-8514-4482-a837-c3416f5e7817\" class=\"plotly-graph-div\" style=\"height:600px; width:100%;\"></div>            <script type=\"text/javascript\">                                    window.PLOTLYENV=window.PLOTLYENV || {};                                    if (document.getElementById(\"a976a27b-8514-4482-a837-c3416f5e7817\")) {                    Plotly.newPlot(                        \"a976a27b-8514-4482-a837-c3416f5e7817\",                        [{\"alignmentgroup\": \"True\", \"hovertemplate\": \"<b>%{hovertext}</b><br><br>Country Name=%{x}<br>Educational Attainment, at least completed Post-Secondary=%{y}<extra></extra>\", \"hovertext\": [\"Germany\"], \"legendgroup\": \"Germany\", \"marker\": {\"color\": \"#636efa\"}, \"name\": \"Germany\", \"offsetgroup\": \"Germany\", \"orientation\": \"v\", \"showlegend\": true, \"textposition\": \"auto\", \"type\": \"bar\", \"x\": [\"Germany\"], \"xaxis\": \"x\", \"y\": [35.652721405], \"yaxis\": \"y\"}, {\"alignmentgroup\": \"True\", \"hovertemplate\": \"<b>%{hovertext}</b><br><br>Country Name=%{x}<br>Educational Attainment, at least completed Post-Secondary=%{y}<extra></extra>\", \"hovertext\": [\"Mexico\"], \"legendgroup\": \"Mexico\", \"marker\": {\"color\": \"#EF553B\"}, \"name\": \"Mexico\", \"offsetgroup\": \"Mexico\", \"orientation\": \"v\", \"showlegend\": true, \"textposition\": \"auto\", \"type\": \"bar\", \"x\": [\"Mexico\"], \"xaxis\": \"x\", \"y\": [15.1532297134], \"yaxis\": \"y\"}, {\"alignmentgroup\": \"True\", \"hovertemplate\": \"<b>%{hovertext}</b><br><br>Country Name=%{x}<br>Educational Attainment, at least completed Post-Secondary=%{y}<extra></extra>\", \"hovertext\": [\"Pakistan\"], \"legendgroup\": \"Pakistan\", \"marker\": {\"color\": \"#00cc96\"}, \"name\": \"Pakistan\", \"offsetgroup\": \"Pakistan\", \"orientation\": \"v\", \"showlegend\": true, \"textposition\": \"auto\", \"type\": \"bar\", \"x\": [\"Pakistan\"], \"xaxis\": \"x\", \"y\": [8.6171302795], \"yaxis\": \"y\"}, {\"alignmentgroup\": \"True\", \"hovertemplate\": \"<b>%{hovertext}</b><br><br>Country Name=%{x}<br>Educational Attainment, at least completed Post-Secondary=%{y}<extra></extra>\", \"hovertext\": [\"United States\"], \"legendgroup\": \"United States\", \"marker\": {\"color\": \"#ab63fa\"}, \"name\": \"United States\", \"offsetgroup\": \"United States\", \"orientation\": \"v\", \"showlegend\": true, \"textposition\": \"auto\", \"type\": \"bar\", \"x\": [\"United States\"], \"xaxis\": \"x\", \"y\": [43.5118789673], \"yaxis\": \"y\"}],                        {\"barmode\": \"relative\", \"height\": 600, \"legend\": {\"title\": {\"text\": \"Country Name\"}, \"tracegroupgap\": 0}, \"template\": {\"data\": {\"bar\": [{\"error_x\": {\"color\": \"#f2f5fa\"}, \"error_y\": {\"color\": \"#f2f5fa\"}, \"marker\": {\"line\": {\"color\": \"rgb(17,17,17)\", \"width\": 0.5}}, \"type\": \"bar\"}], \"barpolar\": [{\"marker\": {\"line\": {\"color\": \"rgb(17,17,17)\", \"width\": 0.5}}, \"type\": \"barpolar\"}], \"carpet\": [{\"aaxis\": {\"endlinecolor\": \"#A2B1C6\", \"gridcolor\": \"#506784\", \"linecolor\": \"#506784\", \"minorgridcolor\": \"#506784\", \"startlinecolor\": \"#A2B1C6\"}, \"baxis\": {\"endlinecolor\": \"#A2B1C6\", \"gridcolor\": \"#506784\", \"linecolor\": \"#506784\", \"minorgridcolor\": \"#506784\", \"startlinecolor\": \"#A2B1C6\"}, \"type\": \"carpet\"}], \"choropleth\": [{\"colorbar\": {\"outlinewidth\": 0, \"ticks\": \"\"}, \"type\": \"choropleth\"}], \"contour\": [{\"colorbar\": {\"outlinewidth\": 0, \"ticks\": \"\"}, \"colorscale\": [[0.0, \"#0d0887\"], [0.1111111111111111, \"#46039f\"], [0.2222222222222222, \"#7201a8\"], [0.3333333333333333, \"#9c179e\"], [0.4444444444444444, \"#bd3786\"], [0.5555555555555556, \"#d8576b\"], [0.6666666666666666, \"#ed7953\"], [0.7777777777777778, \"#fb9f3a\"], [0.8888888888888888, \"#fdca26\"], [1.0, \"#f0f921\"]], \"type\": \"contour\"}], \"contourcarpet\": [{\"colorbar\": {\"outlinewidth\": 0, \"ticks\": \"\"}, \"type\": \"contourcarpet\"}], \"heatmap\": [{\"colorbar\": {\"outlinewidth\": 0, \"ticks\": \"\"}, \"colorscale\": [[0.0, \"#0d0887\"], [0.1111111111111111, \"#46039f\"], [0.2222222222222222, \"#7201a8\"], [0.3333333333333333, \"#9c179e\"], [0.4444444444444444, \"#bd3786\"], [0.5555555555555556, \"#d8576b\"], [0.6666666666666666, \"#ed7953\"], [0.7777777777777778, \"#fb9f3a\"], [0.8888888888888888, \"#fdca26\"], [1.0, \"#f0f921\"]], \"type\": \"heatmap\"}], \"heatmapgl\": [{\"colorbar\": {\"outlinewidth\": 0, \"ticks\": \"\"}, \"colorscale\": [[0.0, \"#0d0887\"], [0.1111111111111111, \"#46039f\"], [0.2222222222222222, \"#7201a8\"], [0.3333333333333333, \"#9c179e\"], [0.4444444444444444, \"#bd3786\"], [0.5555555555555556, \"#d8576b\"], [0.6666666666666666, \"#ed7953\"], [0.7777777777777778, \"#fb9f3a\"], [0.8888888888888888, \"#fdca26\"], [1.0, \"#f0f921\"]], \"type\": \"heatmapgl\"}], \"histogram\": [{\"marker\": {\"colorbar\": {\"outlinewidth\": 0, \"ticks\": \"\"}}, \"type\": \"histogram\"}], \"histogram2d\": [{\"colorbar\": {\"outlinewidth\": 0, \"ticks\": \"\"}, \"colorscale\": [[0.0, \"#0d0887\"], [0.1111111111111111, \"#46039f\"], [0.2222222222222222, \"#7201a8\"], [0.3333333333333333, \"#9c179e\"], [0.4444444444444444, \"#bd3786\"], [0.5555555555555556, \"#d8576b\"], [0.6666666666666666, \"#ed7953\"], [0.7777777777777778, \"#fb9f3a\"], [0.8888888888888888, \"#fdca26\"], [1.0, \"#f0f921\"]], \"type\": \"histogram2d\"}], \"histogram2dcontour\": [{\"colorbar\": {\"outlinewidth\": 0, \"ticks\": \"\"}, \"colorscale\": [[0.0, \"#0d0887\"], [0.1111111111111111, \"#46039f\"], [0.2222222222222222, \"#7201a8\"], [0.3333333333333333, \"#9c179e\"], [0.4444444444444444, \"#bd3786\"], [0.5555555555555556, \"#d8576b\"], [0.6666666666666666, \"#ed7953\"], [0.7777777777777778, \"#fb9f3a\"], [0.8888888888888888, \"#fdca26\"], [1.0, \"#f0f921\"]], \"type\": \"histogram2dcontour\"}], \"mesh3d\": [{\"colorbar\": {\"outlinewidth\": 0, \"ticks\": \"\"}, \"type\": \"mesh3d\"}], \"parcoords\": [{\"line\": {\"colorbar\": {\"outlinewidth\": 0, \"ticks\": \"\"}}, \"type\": \"parcoords\"}], \"pie\": [{\"automargin\": true, \"type\": \"pie\"}], \"scatter\": [{\"marker\": {\"line\": {\"color\": \"#283442\"}}, \"type\": \"scatter\"}], \"scatter3d\": [{\"line\": {\"colorbar\": {\"outlinewidth\": 0, \"ticks\": \"\"}}, \"marker\": {\"colorbar\": {\"outlinewidth\": 0, \"ticks\": \"\"}}, \"type\": \"scatter3d\"}], \"scattercarpet\": [{\"marker\": {\"colorbar\": {\"outlinewidth\": 0, \"ticks\": \"\"}}, \"type\": \"scattercarpet\"}], \"scattergeo\": [{\"marker\": {\"colorbar\": {\"outlinewidth\": 0, \"ticks\": \"\"}}, \"type\": \"scattergeo\"}], \"scattergl\": [{\"marker\": {\"line\": {\"color\": \"#283442\"}}, \"type\": \"scattergl\"}], \"scattermapbox\": [{\"marker\": {\"colorbar\": {\"outlinewidth\": 0, \"ticks\": \"\"}}, \"type\": \"scattermapbox\"}], \"scatterpolar\": [{\"marker\": {\"colorbar\": {\"outlinewidth\": 0, \"ticks\": \"\"}}, \"type\": \"scatterpolar\"}], \"scatterpolargl\": [{\"marker\": {\"colorbar\": {\"outlinewidth\": 0, \"ticks\": \"\"}}, \"type\": \"scatterpolargl\"}], \"scatterternary\": [{\"marker\": {\"colorbar\": {\"outlinewidth\": 0, \"ticks\": \"\"}}, \"type\": \"scatterternary\"}], \"surface\": [{\"colorbar\": {\"outlinewidth\": 0, \"ticks\": \"\"}, \"colorscale\": [[0.0, \"#0d0887\"], [0.1111111111111111, \"#46039f\"], [0.2222222222222222, \"#7201a8\"], [0.3333333333333333, \"#9c179e\"], [0.4444444444444444, \"#bd3786\"], [0.5555555555555556, \"#d8576b\"], [0.6666666666666666, \"#ed7953\"], [0.7777777777777778, \"#fb9f3a\"], [0.8888888888888888, \"#fdca26\"], [1.0, \"#f0f921\"]], \"type\": \"surface\"}], \"table\": [{\"cells\": {\"fill\": {\"color\": \"#506784\"}, \"line\": {\"color\": \"rgb(17,17,17)\"}}, \"header\": {\"fill\": {\"color\": \"#2a3f5f\"}, \"line\": {\"color\": \"rgb(17,17,17)\"}}, \"type\": \"table\"}]}, \"layout\": {\"annotationdefaults\": {\"arrowcolor\": \"#f2f5fa\", \"arrowhead\": 0, \"arrowwidth\": 1}, \"autotypenumbers\": \"strict\", \"coloraxis\": {\"colorbar\": {\"outlinewidth\": 0, \"ticks\": \"\"}}, \"colorscale\": {\"diverging\": [[0, \"#8e0152\"], [0.1, \"#c51b7d\"], [0.2, \"#de77ae\"], [0.3, \"#f1b6da\"], [0.4, \"#fde0ef\"], [0.5, \"#f7f7f7\"], [0.6, \"#e6f5d0\"], [0.7, \"#b8e186\"], [0.8, \"#7fbc41\"], [0.9, \"#4d9221\"], [1, \"#276419\"]], \"sequential\": [[0.0, \"#0d0887\"], [0.1111111111111111, \"#46039f\"], [0.2222222222222222, \"#7201a8\"], [0.3333333333333333, \"#9c179e\"], [0.4444444444444444, \"#bd3786\"], [0.5555555555555556, \"#d8576b\"], [0.6666666666666666, \"#ed7953\"], [0.7777777777777778, \"#fb9f3a\"], [0.8888888888888888, \"#fdca26\"], [1.0, \"#f0f921\"]], \"sequentialminus\": [[0.0, \"#0d0887\"], [0.1111111111111111, \"#46039f\"], [0.2222222222222222, \"#7201a8\"], [0.3333333333333333, \"#9c179e\"], [0.4444444444444444, \"#bd3786\"], [0.5555555555555556, \"#d8576b\"], [0.6666666666666666, \"#ed7953\"], [0.7777777777777778, \"#fb9f3a\"], [0.8888888888888888, \"#fdca26\"], [1.0, \"#f0f921\"]]}, \"colorway\": [\"#636efa\", \"#EF553B\", \"#00cc96\", \"#ab63fa\", \"#FFA15A\", \"#19d3f3\", \"#FF6692\", \"#B6E880\", \"#FF97FF\", \"#FECB52\"], \"font\": {\"color\": \"#f2f5fa\"}, \"geo\": {\"bgcolor\": \"rgb(17,17,17)\", \"lakecolor\": \"rgb(17,17,17)\", \"landcolor\": \"rgb(17,17,17)\", \"showlakes\": true, \"showland\": true, \"subunitcolor\": \"#506784\"}, \"hoverlabel\": {\"align\": \"left\"}, \"hovermode\": \"closest\", \"mapbox\": {\"style\": \"dark\"}, \"paper_bgcolor\": \"rgb(17,17,17)\", \"plot_bgcolor\": \"rgb(17,17,17)\", \"polar\": {\"angularaxis\": {\"gridcolor\": \"#506784\", \"linecolor\": \"#506784\", \"ticks\": \"\"}, \"bgcolor\": \"rgb(17,17,17)\", \"radialaxis\": {\"gridcolor\": \"#506784\", \"linecolor\": \"#506784\", \"ticks\": \"\"}}, \"scene\": {\"xaxis\": {\"backgroundcolor\": \"rgb(17,17,17)\", \"gridcolor\": \"#506784\", \"gridwidth\": 2, \"linecolor\": \"#506784\", \"showbackground\": true, \"ticks\": \"\", \"zerolinecolor\": \"#C8D4E3\"}, \"yaxis\": {\"backgroundcolor\": \"rgb(17,17,17)\", \"gridcolor\": \"#506784\", \"gridwidth\": 2, \"linecolor\": \"#506784\", \"showbackground\": true, \"ticks\": \"\", \"zerolinecolor\": \"#C8D4E3\"}, \"zaxis\": {\"backgroundcolor\": \"rgb(17,17,17)\", \"gridcolor\": \"#506784\", \"gridwidth\": 2, \"linecolor\": \"#506784\", \"showbackground\": true, \"ticks\": \"\", \"zerolinecolor\": \"#C8D4E3\"}}, \"shapedefaults\": {\"line\": {\"color\": \"#f2f5fa\"}}, \"sliderdefaults\": {\"bgcolor\": \"#C8D4E3\", \"bordercolor\": \"rgb(17,17,17)\", \"borderwidth\": 1, \"tickwidth\": 0}, \"ternary\": {\"aaxis\": {\"gridcolor\": \"#506784\", \"linecolor\": \"#506784\", \"ticks\": \"\"}, \"baxis\": {\"gridcolor\": \"#506784\", \"linecolor\": \"#506784\", \"ticks\": \"\"}, \"bgcolor\": \"rgb(17,17,17)\", \"caxis\": {\"gridcolor\": \"#506784\", \"linecolor\": \"#506784\", \"ticks\": \"\"}}, \"title\": {\"x\": 0.05}, \"updatemenudefaults\": {\"bgcolor\": \"#506784\", \"borderwidth\": 0}, \"xaxis\": {\"automargin\": true, \"gridcolor\": \"#283442\", \"linecolor\": \"#506784\", \"ticks\": \"\", \"title\": {\"standoff\": 15}, \"zerolinecolor\": \"#283442\", \"zerolinewidth\": 2}, \"yaxis\": {\"automargin\": true, \"gridcolor\": \"#283442\", \"linecolor\": \"#506784\", \"ticks\": \"\", \"title\": {\"standoff\": 15}, \"zerolinecolor\": \"#283442\", \"zerolinewidth\": 2}}}, \"title\": {\"text\": \"Post-Secondary Educational Attainment in 2016\"}, \"xaxis\": {\"anchor\": \"y\", \"categoryarray\": [\"Germany\", \"Mexico\", \"Pakistan\", \"United States\"], \"categoryorder\": \"array\", \"domain\": [0.0, 1.0], \"title\": {\"text\": \"Country Name\"}}, \"yaxis\": {\"anchor\": \"x\", \"domain\": [0.0, 1.0], \"title\": {\"text\": \"Educational Attainment, at least completed Post-Secondary\"}}},                        {\"responsive\": true}                    ).then(function(){\n",
              "                            \n",
              "var gd = document.getElementById('a976a27b-8514-4482-a837-c3416f5e7817');\n",
              "var x = new MutationObserver(function (mutations, observer) {{\n",
              "        var display = window.getComputedStyle(gd).display;\n",
              "        if (!display || display === 'none') {{\n",
              "            console.log([gd, 'removed!']);\n",
              "            Plotly.purge(gd);\n",
              "            observer.disconnect();\n",
              "        }}\n",
              "}});\n",
              "\n",
              "// Listen for the removal of the full notebook cells\n",
              "var notebookContainer = gd.closest('#notebook-container');\n",
              "if (notebookContainer) {{\n",
              "    x.observe(notebookContainer, {childList: true});\n",
              "}}\n",
              "\n",
              "// Listen for the clearing of the current output cell\n",
              "var outputEl = gd.closest('.output');\n",
              "if (outputEl) {{\n",
              "    x.observe(outputEl, {childList: true});\n",
              "}}\n",
              "\n",
              "                        })                };                            </script>        </div>\n",
              "</body>\n",
              "</html>"
            ]
          },
          "metadata": {
            "tags": []
          }
        }
      ]
    },
    {
      "cell_type": "markdown",
      "metadata": {
        "tags": [],
        "cell_id": "00037-0b2983d4-0489-4670-acfb-d1d2375eda65",
        "deepnote_cell_type": "markdown",
        "id": "SJD079Dx80bX"
      },
      "source": [
        "**Figure 5** shows United States having the highest number of people with post-secondary education, then Germany, then Mexico, and lastly Pakistan."
      ]
    },
    {
      "cell_type": "markdown",
      "metadata": {
        "tags": [],
        "cell_id": "00038-e446e15a-c7ac-41dd-b7f4-be4c3e28db1b",
        "deepnote_cell_type": "markdown",
        "id": "m8ANmtbl80bY"
      },
      "source": [
        "#### Analysis"
      ]
    },
    {
      "cell_type": "markdown",
      "metadata": {
        "tags": [],
        "cell_id": "00039-86699b11-4cb7-49fa-a5f9-7623eeea9a7b",
        "deepnote_cell_type": "markdown",
        "id": "3RDzFIXi80bY"
      },
      "source": [
        "The bubble charts show a positive correlation so the higher the level of education attained, the higher the GDP Per Capita, PPP of a country. The results show that higher education attainment for a population increases GDP of a country. The historic trend from 2008 to 2016 also remains the same (positive correlation). So essentially if people have better access to education and attain higher education, the economy will thrive even more. Higher education contributes to economic growth as it involves keeping up with technological development, transferring knowledge and raising awareness, which all contribute to reducing the knowledge gap and poverty in these countries."
      ]
    },
    {
      "cell_type": "markdown",
      "metadata": {
        "tags": [],
        "cell_id": "00040-0e168023-a647-4571-8de7-46543be42816",
        "deepnote_cell_type": "markdown",
        "id": "6LAHK6fA80bZ"
      },
      "source": [
        "The data shows similarities between United States and Germany as they both are first-world countries and have high GDP Per Capita, PPP and high post-secondary education attainment. Mexico and Pakistan have similarities in that they both have much lower education attainment and GDP. Similarities between all four countries are that the higher the education attainment, the higher the GDP for countries."
      ]
    },
    {
      "cell_type": "markdown",
      "metadata": {
        "tags": [],
        "cell_id": "00041-0f1f3227-a6fe-4d2a-a3e0-9ad6ea66c006",
        "deepnote_cell_type": "markdown",
        "id": "-1ATU2GW80bZ"
      },
      "source": [
        "When comparing the countries, it is clear that first-world countries have much higher education attainment compared to third-world countries. First-world countries also have higher GDP Per Capita, PPP than third-world countries. Since third-world countries are developing nations, the economy growth is much slower compared to first-world countries. Better economy leads to more money for educational programs and resources, allowing residents of first-world countries to attain higher education. People living in third-world countries have less educational attainment due to a lack of funding for education, untrained teachers, lack of learning materials, long school distances, and overall expense of education."
      ]
    }
  ]
}