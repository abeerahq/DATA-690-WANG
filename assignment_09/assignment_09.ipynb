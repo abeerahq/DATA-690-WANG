{
  "cells": [
    {
      "cell_type": "markdown",
      "source": "## Assignment 9\n\n**Author**: Abeerah Qadir\n\n**Date**: April 25, 2021",
      "metadata": {
        "tags": [],
        "cell_id": "00000-9dfcb12c-af36-4381-9506-a07e3a6577ab",
        "deepnote_cell_type": "markdown"
      }
    },
    {
      "cell_type": "markdown",
      "source": "#### Step 0 - Data Preprocessing",
      "metadata": {
        "tags": [],
        "cell_id": "00001-b6e034c4-6b74-4d02-b930-b1a1b8683373",
        "deepnote_cell_type": "markdown"
      }
    },
    {
      "cell_type": "code",
      "metadata": {
        "tags": [],
        "cell_id": "00000-0e7edd03-af0f-4997-9acc-169c6726f800",
        "deepnote_to_be_reexecuted": false,
        "source_hash": "2d3ff81b",
        "execution_millis": 0,
        "execution_start": 1619302252835,
        "deepnote_cell_type": "code"
      },
      "source": "# Import Python packages\n\nimport pandas as pd\nimport numpy as np\nimport seaborn as sns\nimport matplotlib.pyplot as plt\nimport scipy.stats as stats\nimport math\nimport numpy as np\nimport statistics",
      "execution_count": 16,
      "outputs": []
    },
    {
      "cell_type": "code",
      "metadata": {
        "tags": [],
        "cell_id": "00002-be10fdf0-addd-48d0-88e0-f0b4cbad47a8",
        "deepnote_to_be_reexecuted": false,
        "source_hash": "4671b5ff",
        "execution_millis": 6,
        "execution_start": 1619302278170,
        "deepnote_cell_type": "code"
      },
      "source": "# make each line of numbers a string object and then concatenate them together \n# The end result is one single string containing 35 numbers separated by \";\"\n\ndata_1 = \"6,414; 1,550; 2,109; 9,350; 21,828; 4,300; 5,944; 5,722; 2,825; 2,044; \" \n\ndata_2 = \"5,481; 5,200; 5,853; 2,750; 10,012; 6,357; 27,000; 9,414; 7,681; 3,200; \"\n\ndata_3 = \"17,500; 9,200; 7,380; 18,314; 6,557; 13,713; 17,768; 7,493; 2,771; 2,861; \"\n\ndata_4 = \"1,263; 7,285; 28,165; 5,080; 11,622 \"\ndata = data_1 + data_2 + data_3 + data_4\ndata",
      "execution_count": 17,
      "outputs": [
        {
          "output_type": "execute_result",
          "execution_count": 17,
          "data": {
            "text/plain": "'6,414; 1,550; 2,109; 9,350; 21,828; 4,300; 5,944; 5,722; 2,825; 2,044; 5,481; 5,200; 5,853; 2,750; 10,012; 6,357; 27,000; 9,414; 7,681; 3,200; 17,500; 9,200; 7,380; 18,314; 6,557; 13,713; 17,768; 7,493; 2,771; 2,861; 1,263; 7,285; 28,165; 5,080; 11,622 '"
          },
          "metadata": {}
        }
      ]
    },
    {
      "cell_type": "code",
      "metadata": {
        "tags": [],
        "cell_id": "00003-7659126c-0be7-4f43-a5e4-689254f69857",
        "deepnote_to_be_reexecuted": false,
        "source_hash": "26c25ab7",
        "execution_millis": 11,
        "execution_start": 1619302362980,
        "deepnote_cell_type": "code"
      },
      "source": "# Convert the single string to a list of strings using split() function\n# Make sure to specify a delimter or separator\n\nnew = data.split(\";\")\nprint(new)",
      "execution_count": 19,
      "outputs": [
        {
          "name": "stdout",
          "text": "['6,414', ' 1,550', ' 2,109', ' 9,350', ' 21,828', ' 4,300', ' 5,944', ' 5,722', ' 2,825', ' 2,044', ' 5,481', ' 5,200', ' 5,853', ' 2,750', ' 10,012', ' 6,357', ' 27,000', ' 9,414', ' 7,681', ' 3,200', ' 17,500', ' 9,200', ' 7,380', ' 18,314', ' 6,557', ' 13,713', ' 17,768', ' 7,493', ' 2,771', ' 2,861', ' 1,263', ' 7,285', ' 28,165', ' 5,080', ' 11,622 ']\n",
          "output_type": "stream"
        }
      ]
    },
    {
      "cell_type": "code",
      "metadata": {
        "tags": [],
        "cell_id": "00005-4290f976-3164-4db8-81f6-2d1e8de91f94",
        "deepnote_to_be_reexecuted": false,
        "source_hash": "e5143dd7",
        "execution_millis": 7,
        "execution_start": 1619303843427,
        "deepnote_cell_type": "code"
      },
      "source": "# Make sure to remove the \",\" first.\nnewlist = [int(i.replace(\",\", \"\")) for i in x]\nprint(newlist)",
      "execution_count": 34,
      "outputs": [
        {
          "name": "stdout",
          "text": "[6414, 1550, 2109, 9350, 21828, 4300, 5944, 5722, 2825, 2044, 5481, 5200, 5853, 2750, 10012, 6357, 27000, 9414, 7681, 3200, 17500, 9200, 7380, 18314, 6557, 13713, 17768, 7493, 2771, 2861, 1263, 7285, 28165, 5080, 11622]\n",
          "output_type": "stream"
        }
      ]
    },
    {
      "cell_type": "code",
      "metadata": {
        "tags": [],
        "cell_id": "00006-bbdc440b-479b-4474-91ad-9b69b9beac79",
        "deepnote_to_be_reexecuted": false,
        "source_hash": "546d74d5",
        "execution_millis": 6,
        "execution_start": 1619302571284,
        "deepnote_cell_type": "code"
      },
      "source": "# Create a list of integers from the list of strings using List Comprehension or for loop.\n# Use for loop\nnewlist = []\nfor i in x:\n    y = i.replace(\",\", \"\")\n    y = int(y)\n    newlist.append(y)\n    \nprint(newlist)",
      "execution_count": 23,
      "outputs": [
        {
          "name": "stdout",
          "text": "[6414, 1550, 2109, 9350, 21828, 4300, 5944, 5722, 2825, 2044, 5481, 5200, 5853, 2750, 10012, 6357, 27000, 9414, 7681, 3200, 17500, 9200, 7380, 18314, 6557, 13713, 17768, 7493, 2771, 2861, 1263, 7285, 28165, 5080, 11622]\n",
          "output_type": "stream"
        }
      ]
    },
    {
      "cell_type": "markdown",
      "source": "#### Step 1 - Calculate and Display the Sample Size and Sample Mean",
      "metadata": {
        "tags": [],
        "cell_id": "00007-8e63a680-a29a-45df-a836-e8a9cbc0afad",
        "deepnote_cell_type": "markdown"
      }
    },
    {
      "cell_type": "code",
      "metadata": {
        "tags": [],
        "cell_id": "00008-8cf4b796-15ed-416f-a640-f80bb88f8020",
        "deepnote_to_be_reexecuted": false,
        "source_hash": "db5845c8",
        "execution_start": 1619302606272,
        "execution_millis": 5,
        "deepnote_cell_type": "code"
      },
      "source": "# Calculate and display the sample size\n\nsample_size = len(newlist)\nprint(\"Sample Size is\", sample_size)",
      "execution_count": 24,
      "outputs": [
        {
          "name": "stdout",
          "text": "Sample Size is 35\n",
          "output_type": "stream"
        }
      ]
    },
    {
      "cell_type": "code",
      "metadata": {
        "tags": [],
        "cell_id": "00009-19b40dd2-384e-4fd9-a0af-48502ac9929c",
        "deepnote_to_be_reexecuted": false,
        "source_hash": "da4b8cce",
        "execution_millis": 6,
        "execution_start": 1619302656281,
        "deepnote_cell_type": "code"
      },
      "source": "# Calculate and display the sample mean\n\nsample_mean = round(statistics.mean(newlist),0)\nprint(\"Sample Mean is\", sample_mean)",
      "execution_count": 26,
      "outputs": [
        {
          "name": "stdout",
          "text": "Sample Mean is 8629.0\n",
          "output_type": "stream"
        }
      ]
    },
    {
      "cell_type": "markdown",
      "source": "#### Step 2 - Calculate and Display the Sample Standard Deviation & Sample Standard Error",
      "metadata": {
        "tags": [],
        "cell_id": "00007-de10717b-6c22-4415-9a12-7d4a8f7cbe8c",
        "deepnote_cell_type": "markdown"
      }
    },
    {
      "cell_type": "code",
      "metadata": {
        "tags": [],
        "cell_id": "00011-d8fc39f4-1ce7-4cfd-9857-d46ca1f6959d",
        "deepnote_to_be_reexecuted": false,
        "source_hash": "8c25c21b",
        "execution_start": 1619302665424,
        "execution_millis": 5,
        "deepnote_cell_type": "code"
      },
      "source": "# Calculate and display the sample standard deviation using Numpy's std function.\n\nsstd = round(np.std(newlist,ddof=1),0)\nprint(\"Sample Standard Deviation is\", sstd)",
      "execution_count": 27,
      "outputs": [
        {
          "name": "stdout",
          "text": "Sample Standard Deviation is 6944.0\n",
          "output_type": "stream"
        }
      ]
    },
    {
      "cell_type": "code",
      "metadata": {
        "tags": [],
        "cell_id": "00012-88564b6a-15d9-43c7-a070-6488963213c6",
        "deepnote_to_be_reexecuted": false,
        "source_hash": "e6103b8e",
        "execution_start": 1619302688835,
        "execution_millis": 6,
        "deepnote_cell_type": "code"
      },
      "source": "# Calculate and display the sample standard error\n\nsstd_err = round(sstd/math.sqrt(sample_size),0)\nprint(\"Sample Standard Error is\",sstd_err)",
      "execution_count": 28,
      "outputs": [
        {
          "name": "stdout",
          "text": "Sample Standard Error is 1174.0\n",
          "output_type": "stream"
        }
      ]
    },
    {
      "cell_type": "markdown",
      "source": "#### Step 3 - Calculate t Critical Value using t-Distribution",
      "metadata": {
        "tags": [],
        "cell_id": "00013-e9d2b179-b4d8-4993-a02a-6f54a3f84993",
        "deepnote_cell_type": "markdown"
      }
    },
    {
      "cell_type": "code",
      "metadata": {
        "tags": [],
        "cell_id": "00014-cd5532c3-4197-4a41-9ae0-cab73cd2a947",
        "deepnote_to_be_reexecuted": false,
        "source_hash": "41803be5",
        "execution_start": 1619302740500,
        "execution_millis": 4,
        "deepnote_cell_type": "code"
      },
      "source": "# Calculate and display the t critical value using scipy.stats.t package ppf function\nt_critical = stats.t.ppf(0.975,34)\nprint(\"t critical value or t statistics = \", round(t_critical,2))",
      "execution_count": 29,
      "outputs": [
        {
          "name": "stdout",
          "text": "t critical value or t statistics =  2.03\n",
          "output_type": "stream"
        }
      ]
    },
    {
      "cell_type": "markdown",
      "source": "#### Step 4 - Calculate the Margin of Error",
      "metadata": {
        "tags": [],
        "cell_id": "00015-3d7ca684-963c-4507-ae5b-3904c39312fe",
        "deepnote_cell_type": "markdown"
      }
    },
    {
      "cell_type": "code",
      "metadata": {
        "tags": [],
        "cell_id": "00015-e7c9efcf-2006-4380-a129-fc5cac9d29cb",
        "deepnote_to_be_reexecuted": false,
        "source_hash": "bd0647af",
        "execution_start": 1619302775507,
        "execution_millis": 6,
        "deepnote_cell_type": "code"
      },
      "source": "# Calculate and display the margin of error\n\nmoe = round(t_critical*sstd_err,2)\nprint(\"Margin of Error\", moe)",
      "execution_count": 30,
      "outputs": [
        {
          "name": "stdout",
          "text": "Margin of Error 2385.86\n",
          "output_type": "stream"
        }
      ]
    },
    {
      "cell_type": "markdown",
      "source": "#### Step 5 - Calculate Lower and Upper Limit of the Confidence Interval",
      "metadata": {
        "tags": [],
        "cell_id": "00017-2b0a0a86-a114-486a-9d65-8b77a1256b4d",
        "deepnote_cell_type": "markdown"
      }
    },
    {
      "cell_type": "code",
      "metadata": {
        "tags": [],
        "cell_id": "00018-f0bd0cff-6c06-4e5f-9918-1e0021348ad9",
        "deepnote_to_be_reexecuted": false,
        "source_hash": "2017bebe",
        "execution_start": 1619302816467,
        "execution_millis": 6,
        "deepnote_cell_type": "code"
      },
      "source": "# Calculate and display the lower limit\n\nlower_limit = sample_mean - moe\nprint (\"Lower Limit = \", lower_limit)",
      "execution_count": 31,
      "outputs": [
        {
          "name": "stdout",
          "text": "Lower Limit =  6243.139999999999\n",
          "output_type": "stream"
        }
      ]
    },
    {
      "cell_type": "code",
      "metadata": {
        "tags": [],
        "cell_id": "00019-c1484a31-49ab-4025-b17c-48c04565c530",
        "deepnote_to_be_reexecuted": false,
        "source_hash": "199dc1ac",
        "execution_start": 1619302835579,
        "execution_millis": 5,
        "deepnote_cell_type": "code"
      },
      "source": "# Calculate and display the upper limit\n\nupper_limit = sample_mean + moe\nprint (\"Upper Limit = \", upper_limit)",
      "execution_count": 32,
      "outputs": [
        {
          "name": "stdout",
          "text": "Upper Limit =  11014.86\n",
          "output_type": "stream"
        }
      ]
    },
    {
      "cell_type": "markdown",
      "source": "#### Step 6 - Now We have the 95% Confidence Interval",
      "metadata": {
        "tags": [],
        "cell_id": "00020-4dc16e87-4787-4d75-b7ec-495b9068765c",
        "deepnote_cell_type": "markdown"
      }
    },
    {
      "cell_type": "code",
      "metadata": {
        "tags": [],
        "cell_id": "00021-2a953cbc-e058-41ba-a338-00cde377c31b",
        "deepnote_to_be_reexecuted": false,
        "source_hash": "35169891",
        "execution_millis": 7,
        "execution_start": 1619304009271,
        "deepnote_cell_type": "code"
      },
      "source": "# Print the 95% confidence interveral in the form (lower limit, upper limit)\n\nprint(\"The 95% Confidence Interval Estimate is = (\", lower_limit, \",\", upper_limit, \")\")",
      "execution_count": 35,
      "outputs": [
        {
          "name": "stdout",
          "text": "The 95% Confidence Interval Estimate is = ( 6243.139999999999 , 11014.86 )\n",
          "output_type": "stream"
        }
      ]
    },
    {
      "cell_type": "markdown",
      "source": "<a style='text-decoration:none;line-height:16px;display:flex;color:#5B5B62;padding:10px;justify-content:end;' href='https://deepnote.com?utm_source=created-in-deepnote-cell&projectId=ae54b6e9-ccb0-4058-b3ea-af6da046554b' target=\"_blank\">\n<img alt='Created in deepnote.com' style='display:inline;max-height:16px;margin:0px;margin-right:7.5px;' src='data:image/svg+xml;base64,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' > </img>\nCreated in <span style='font-weight:600;margin-left:4px;'>Deepnote</span></a>",
      "metadata": {
        "tags": [],
        "created_in_deepnote_cell": true,
        "deepnote_cell_type": "markdown"
      }
    }
  ],
  "nbformat": 4,
  "nbformat_minor": 2,
  "metadata": {
    "orig_nbformat": 2,
    "deepnote": {
      "is_reactive": false
    },
    "deepnote_notebook_id": "23a40845-9d16-4393-b506-7c3b4f4fa493",
    "deepnote_execution_queue": []
  }
}