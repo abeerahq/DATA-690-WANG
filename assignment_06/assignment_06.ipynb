{
  "cells": [
    {
      "cell_type": "markdown",
      "source": "## Assignment 6\n\n**Author**: Abeerah Qadir\n\n**Date**: March 14, 2021",
      "metadata": {
        "tags": [],
        "cell_id": "00000-d80e9b9b-66b7-47a0-a9bd-3c064226777c",
        "deepnote_cell_type": "markdown"
      }
    },
    {
      "cell_type": "markdown",
      "source": "#### Use Pandas read_html() function to retrive the HTML tables as dataframes from the web page",
      "metadata": {
        "tags": [],
        "cell_id": "00001-5400fbc2-75e2-4393-8a4c-17286413a426",
        "deepnote_cell_type": "markdown"
      }
    },
    {
      "cell_type": "code",
      "metadata": {
        "tags": [],
        "cell_id": "00002-ea0e2716-3a02-43cf-82cd-018b28f94429",
        "deepnote_to_be_reexecuted": false,
        "source_hash": "9b82ee11",
        "execution_millis": 8,
        "execution_start": 1615760078013,
        "deepnote_cell_type": "code"
      },
      "source": "import pandas as pd",
      "execution_count": 1,
      "outputs": []
    },
    {
      "cell_type": "code",
      "metadata": {
        "tags": [],
        "cell_id": "00000-13abd4aa-ccce-4988-bcdc-c73550204f5f",
        "deepnote_to_be_reexecuted": false,
        "source_hash": "576dea73",
        "execution_millis": 445,
        "execution_start": 1615760078027,
        "deepnote_cell_type": "code"
      },
      "source": "df = pd.read_html(\"https://www.genealogybranches.com/censuscosts.html\", header=0)\nprint(df)",
      "execution_count": 2,
      "outputs": [
        {
          "name": "stdout",
          "text": "[   Census Year  Total Population     Census Cost Average Cost Per Person\n0         1790           3929214         $44,377              1.13 cents\n1         1800           5308483         $66,109              1.24 cents\n2         1810           7239881        $178,445              2.46 cents\n3         1820           9633822        $208,526              2.16 cents\n4         1830          12866020        $378,545              2.94 cents\n5         1840          17069458        $833,371              4.88 cents\n6         1850          23191876      $1,423,351              6.14 cents\n7         1860          31443321      $1,969,377              6.26 cents\n8         1870          38558371      $3,421,198              8.87 cents\n9         1880          50155783      $5,790,678             11.54 cents\n10        1890          62979766     $11,547,127             18.33 cents\n11        1900          76303387     $11,854,000             15.54 cents\n12        1910          91972266     $15,968,000             17.07 cents\n13        1920         105710620     $25,117,000             23.76 cents\n14        1930         122775046     $40,156,000             32.71 cents\n15        1940         131669275     $67,527,000             51.29 cents\n16        1950         151325798     $91,462,000             60.44 cents\n17        1960         179323175    $127,934,000             71.34 cents\n18        1970         203302031    $247,653,000                   $1.22\n19        1980         226542199  $1,078,488,000                   $4.76\n20        1990         248718301  $2,492,830,000                  $10.02\n21        2000         281421906    $4.5 Billion                  $15.99\n22       2010*         308745538     $13 Billion                  $42.11, Empty DataFrame\nColumns: [The U.S. population reached 300,000,000 on 17 October 2006. At the end of 2015, it was at 319,958,045. At the end of 2017, it was at 326,971,209. Source (except 2010)... Gauthier, Jason G., Measuring America: The Decennial Censuses From 1790-2000, (US Bureau of the Census/Dept of Commerce), Washington: US Government Printing Office, 2002, Appendix A, Page A-1.The numbers in the fourth column are not included in the book and were added by me. * The 2010 census cost was taken from GAO (U.S. Government Accountability Office) report number GAO-11-496T, 2010 Census: Preliminary Lessons Learned Highlight the Need for Fundamental Reforms (April 6, 2011): \"At about $13 billion, 2010 was the costliest U.S. Census in history.\" The official census day for 2010 was April 1, 2010. The total population figure (308,745,538) was announced by the U.S. Census Bureau on Dec. 21, 2010. See: 2010 Census - Resident Population Data The 1940 Census 1940 census records were released on April 2, 2012. For details see:1940 Census Records and InformationFor information on census records for other years see: U.S. Census Records 1790-1940]\nIndex: []]\n",
          "output_type": "stream"
        }
      ]
    },
    {
      "cell_type": "markdown",
      "source": "#### Find out how many HTML tables Pandas retrieves from the web page. Find out which dataframe contain the data and use it for further processing.",
      "metadata": {
        "tags": [],
        "cell_id": "00004-ad54ec24-18fc-49a8-a69a-0494fe2a00a2",
        "deepnote_cell_type": "markdown"
      }
    },
    {
      "cell_type": "code",
      "metadata": {
        "tags": [],
        "cell_id": "00004-c298c284-b821-4ac5-9f8c-f4dc401d8900",
        "deepnote_to_be_reexecuted": false,
        "source_hash": "e32020ae",
        "execution_millis": 26,
        "execution_start": 1615760078486,
        "deepnote_cell_type": "code"
      },
      "source": "df[0].head(3)",
      "execution_count": 3,
      "outputs": [
        {
          "output_type": "execute_result",
          "execution_count": 3,
          "data": {
            "application/vnd.deepnote.dataframe.v2+json": {
              "row_count": 3,
              "column_count": 4,
              "columns": [
                {
                  "name": "Census Year",
                  "dtype": "object",
                  "stats": {
                    "unique_count": 3,
                    "nan_count": 0,
                    "categories": [
                      {
                        "name": "1790",
                        "count": 1
                      },
                      {
                        "name": "1800",
                        "count": 1
                      },
                      {
                        "name": "1810",
                        "count": 1
                      }
                    ]
                  }
                },
                {
                  "name": "Total Population",
                  "dtype": "int64",
                  "stats": {
                    "unique_count": 3,
                    "nan_count": 0,
                    "min": 3929214,
                    "max": 7239881,
                    "histogram": [
                      {
                        "bin_start": 3929214,
                        "bin_end": 4260280.7,
                        "count": 1
                      },
                      {
                        "bin_start": 4260280.7,
                        "bin_end": 4591347.4,
                        "count": 0
                      },
                      {
                        "bin_start": 4591347.4,
                        "bin_end": 4922414.1,
                        "count": 0
                      },
                      {
                        "bin_start": 4922414.1,
                        "bin_end": 5253480.8,
                        "count": 0
                      },
                      {
                        "bin_start": 5253480.8,
                        "bin_end": 5584547.5,
                        "count": 1
                      },
                      {
                        "bin_start": 5584547.5,
                        "bin_end": 5915614.2,
                        "count": 0
                      },
                      {
                        "bin_start": 5915614.2,
                        "bin_end": 6246680.9,
                        "count": 0
                      },
                      {
                        "bin_start": 6246680.9,
                        "bin_end": 6577747.6,
                        "count": 0
                      },
                      {
                        "bin_start": 6577747.6,
                        "bin_end": 6908814.300000001,
                        "count": 0
                      },
                      {
                        "bin_start": 6908814.300000001,
                        "bin_end": 7239881,
                        "count": 1
                      }
                    ]
                  }
                },
                {
                  "name": "Census Cost",
                  "dtype": "object",
                  "stats": {
                    "unique_count": 3,
                    "nan_count": 0,
                    "categories": [
                      {
                        "name": "$44,377",
                        "count": 1
                      },
                      {
                        "name": "$66,109",
                        "count": 1
                      },
                      {
                        "name": "$178,445",
                        "count": 1
                      }
                    ]
                  }
                },
                {
                  "name": "Average Cost Per Person",
                  "dtype": "object",
                  "stats": {
                    "unique_count": 3,
                    "nan_count": 0,
                    "categories": [
                      {
                        "name": "1.13 cents",
                        "count": 1
                      },
                      {
                        "name": "1.24 cents",
                        "count": 1
                      },
                      {
                        "name": "2.46 cents",
                        "count": 1
                      }
                    ]
                  }
                },
                {
                  "name": "_deepnote_index_column",
                  "dtype": "int64"
                }
              ],
              "rows_top": [
                {
                  "Census Year": "1790",
                  "Total Population": 3929214,
                  "Census Cost": "$44,377",
                  "Average Cost Per Person": "1.13 cents",
                  "_deepnote_index_column": 0
                },
                {
                  "Census Year": "1800",
                  "Total Population": 5308483,
                  "Census Cost": "$66,109",
                  "Average Cost Per Person": "1.24 cents",
                  "_deepnote_index_column": 1
                },
                {
                  "Census Year": "1810",
                  "Total Population": 7239881,
                  "Census Cost": "$178,445",
                  "Average Cost Per Person": "2.46 cents",
                  "_deepnote_index_column": 2
                }
              ],
              "rows_bottom": null
            },
            "text/plain": "  Census Year  Total Population Census Cost Average Cost Per Person\n0        1790           3929214     $44,377              1.13 cents\n1        1800           5308483     $66,109              1.24 cents\n2        1810           7239881    $178,445              2.46 cents",
            "text/html": "<div>\n<style scoped>\n    .dataframe tbody tr th:only-of-type {\n        vertical-align: middle;\n    }\n\n    .dataframe tbody tr th {\n        vertical-align: top;\n    }\n\n    .dataframe thead th {\n        text-align: right;\n    }\n</style>\n<table border=\"1\" class=\"dataframe\">\n  <thead>\n    <tr style=\"text-align: right;\">\n      <th></th>\n      <th>Census Year</th>\n      <th>Total Population</th>\n      <th>Census Cost</th>\n      <th>Average Cost Per Person</th>\n    </tr>\n  </thead>\n  <tbody>\n    <tr>\n      <th>0</th>\n      <td>1790</td>\n      <td>3929214</td>\n      <td>$44,377</td>\n      <td>1.13 cents</td>\n    </tr>\n    <tr>\n      <th>1</th>\n      <td>1800</td>\n      <td>5308483</td>\n      <td>$66,109</td>\n      <td>1.24 cents</td>\n    </tr>\n    <tr>\n      <th>2</th>\n      <td>1810</td>\n      <td>7239881</td>\n      <td>$178,445</td>\n      <td>2.46 cents</td>\n    </tr>\n  </tbody>\n</table>\n</div>"
          },
          "metadata": {}
        }
      ]
    },
    {
      "cell_type": "code",
      "metadata": {
        "tags": [],
        "cell_id": "00006-dad660b8-9733-4fc1-80b0-e757df0bbc40",
        "deepnote_to_be_reexecuted": false,
        "source_hash": "e6b3fed6",
        "execution_millis": 10,
        "execution_start": 1615760078510,
        "deepnote_cell_type": "code"
      },
      "source": "df[1].head(3)",
      "execution_count": 4,
      "outputs": [
        {
          "output_type": "execute_result",
          "execution_count": 4,
          "data": {
            "application/vnd.deepnote.dataframe.v2+json": {
              "row_count": 0,
              "column_count": 1,
              "columns": [
                {
                  "name": "The U.S. population reached 300,000,000 on 17 October 2006. At the end of 2015, it was at 319,958,045. At the end of 2017, it was at 326,971,209. Source (except 2010)... Gauthier, Jason G., Measuring America: The Decennial Censuses From 1790-2000, (US Bureau of the Census/Dept of Commerce), Washington: US Government Printing Office, 2002, Appendix A, Page A-1.The numbers in the fourth column are not included in the book and were added by me. * The 2010 census cost was taken from GAO (U.S. Government Accountability Office) report number GAO-11-496T, 2010 Census: Preliminary Lessons Learned Highlight the Need for Fundamental Reforms (April 6, 2011): \"At about $13 billion, 2010 was the costliest U.S. Census in history.\" The official census day for 2010 was April 1, 2010. The total population figure (308,745,538) was announced by the U.S. Census Bureau on Dec. 21, 2010. See: 2010 Census - Resident Population Data The 1940 Census 1940 census records were released on April 2, 2012. For details see:1940 Census Records and InformationFor information on census records for other years see: U.S. Census Records 1790-1940",
                  "dtype": "object",
                  "stats": {
                    "unique_count": 0,
                    "nan_count": 0,
                    "categories": []
                  }
                },
                {
                  "name": "_deepnote_index_column",
                  "dtype": "object"
                }
              ],
              "rows_top": [],
              "rows_bottom": null
            },
            "text/plain": "Empty DataFrame\nColumns: [The U.S. population reached 300,000,000 on 17 October 2006. At the end of 2015, it was at 319,958,045. At the end of 2017, it was at 326,971,209. Source (except 2010)... Gauthier, Jason G., Measuring America: The Decennial Censuses From 1790-2000, (US Bureau of the Census/Dept of Commerce), Washington: US Government Printing Office, 2002, Appendix A, Page A-1.The numbers in the fourth column are not included in the book and were added by me. * The 2010 census cost was taken from GAO (U.S. Government Accountability Office) report number GAO-11-496T, 2010 Census: Preliminary Lessons Learned Highlight the Need for Fundamental Reforms (April 6, 2011): \"At about $13 billion, 2010 was the costliest U.S. Census in history.\" The official census day for 2010 was April 1, 2010. The total population figure (308,745,538) was announced by the U.S. Census Bureau on Dec. 21, 2010. See: 2010 Census - Resident Population Data The 1940 Census 1940 census records were released on April 2, 2012. For details see:1940 Census Records and InformationFor information on census records for other years see: U.S. Census Records 1790-1940]\nIndex: []",
            "text/html": "<div>\n<style scoped>\n    .dataframe tbody tr th:only-of-type {\n        vertical-align: middle;\n    }\n\n    .dataframe tbody tr th {\n        vertical-align: top;\n    }\n\n    .dataframe thead th {\n        text-align: right;\n    }\n</style>\n<table border=\"1\" class=\"dataframe\">\n  <thead>\n    <tr style=\"text-align: right;\">\n      <th></th>\n      <th>The U.S. population reached 300,000,000 on 17 October 2006. At the end of 2015, it was at 319,958,045. At the end of 2017, it was at 326,971,209. Source (except 2010)... Gauthier, Jason G., Measuring America: The Decennial Censuses From 1790-2000, (US Bureau of the Census/Dept of Commerce), Washington: US Government Printing Office, 2002, Appendix A, Page A-1.The numbers in the fourth column are not included in the book and were added by me. * The 2010 census cost was taken from GAO (U.S. Government Accountability Office) report number GAO-11-496T, 2010 Census: Preliminary Lessons Learned Highlight the Need for Fundamental Reforms (April 6, 2011): \"At about $13 billion, 2010 was the costliest U.S. Census in history.\" The official census day for 2010 was April 1, 2010. The total population figure (308,745,538) was announced by the U.S. Census Bureau on Dec. 21, 2010. See: 2010 Census - Resident Population Data The 1940 Census 1940 census records were released on April 2, 2012. For details see:1940 Census Records and InformationFor information on census records for other years see: U.S. Census Records 1790-1940</th>\n    </tr>\n  </thead>\n  <tbody>\n  </tbody>\n</table>\n</div>"
          },
          "metadata": {}
        }
      ]
    },
    {
      "cell_type": "markdown",
      "source": "#### Display and explore the data (rows, columns, etc.) and determine the data quality (bad rows, bad columns, bad elements, null values, etc.)\n",
      "metadata": {
        "tags": [],
        "cell_id": "00007-0438a20a-4187-49bb-9227-6c84af12c534",
        "deepnote_cell_type": "markdown"
      }
    },
    {
      "cell_type": "code",
      "metadata": {
        "tags": [],
        "cell_id": "00007-6b324bd1-716b-4d1d-a854-6cfb7aec813d",
        "deepnote_to_be_reexecuted": false,
        "source_hash": "3e472cea",
        "execution_millis": 18,
        "execution_start": 1615760078522,
        "deepnote_cell_type": "code"
      },
      "source": "# First data frame\ncensus_df = df[0] \n\ncensus_df.head()",
      "execution_count": 5,
      "outputs": [
        {
          "output_type": "execute_result",
          "execution_count": 5,
          "data": {
            "application/vnd.deepnote.dataframe.v2+json": {
              "row_count": 5,
              "column_count": 4,
              "columns": [
                {
                  "name": "Census Year",
                  "dtype": "object",
                  "stats": {
                    "unique_count": 5,
                    "nan_count": 0,
                    "categories": [
                      {
                        "name": "1790",
                        "count": 1
                      },
                      {
                        "name": "1800",
                        "count": 1
                      },
                      {
                        "name": "3 others",
                        "count": 3
                      }
                    ]
                  }
                },
                {
                  "name": "Total Population",
                  "dtype": "int64",
                  "stats": {
                    "unique_count": 5,
                    "nan_count": 0,
                    "min": 3929214,
                    "max": 12866020,
                    "histogram": [
                      {
                        "bin_start": 3929214,
                        "bin_end": 4822894.6,
                        "count": 1
                      },
                      {
                        "bin_start": 4822894.6,
                        "bin_end": 5716575.2,
                        "count": 1
                      },
                      {
                        "bin_start": 5716575.2,
                        "bin_end": 6610255.8,
                        "count": 0
                      },
                      {
                        "bin_start": 6610255.8,
                        "bin_end": 7503936.4,
                        "count": 1
                      },
                      {
                        "bin_start": 7503936.4,
                        "bin_end": 8397617,
                        "count": 0
                      },
                      {
                        "bin_start": 8397617,
                        "bin_end": 9291297.6,
                        "count": 0
                      },
                      {
                        "bin_start": 9291297.6,
                        "bin_end": 10184978.2,
                        "count": 1
                      },
                      {
                        "bin_start": 10184978.2,
                        "bin_end": 11078658.8,
                        "count": 0
                      },
                      {
                        "bin_start": 11078658.8,
                        "bin_end": 11972339.399999999,
                        "count": 0
                      },
                      {
                        "bin_start": 11972339.399999999,
                        "bin_end": 12866020,
                        "count": 1
                      }
                    ]
                  }
                },
                {
                  "name": "Census Cost",
                  "dtype": "object",
                  "stats": {
                    "unique_count": 5,
                    "nan_count": 0,
                    "categories": [
                      {
                        "name": "$44,377",
                        "count": 1
                      },
                      {
                        "name": "$66,109",
                        "count": 1
                      },
                      {
                        "name": "3 others",
                        "count": 3
                      }
                    ]
                  }
                },
                {
                  "name": "Average Cost Per Person",
                  "dtype": "object",
                  "stats": {
                    "unique_count": 5,
                    "nan_count": 0,
                    "categories": [
                      {
                        "name": "1.13 cents",
                        "count": 1
                      },
                      {
                        "name": "1.24 cents",
                        "count": 1
                      },
                      {
                        "name": "3 others",
                        "count": 3
                      }
                    ]
                  }
                },
                {
                  "name": "_deepnote_index_column",
                  "dtype": "int64"
                }
              ],
              "rows_top": [
                {
                  "Census Year": "1790",
                  "Total Population": 3929214,
                  "Census Cost": "$44,377",
                  "Average Cost Per Person": "1.13 cents",
                  "_deepnote_index_column": 0
                },
                {
                  "Census Year": "1800",
                  "Total Population": 5308483,
                  "Census Cost": "$66,109",
                  "Average Cost Per Person": "1.24 cents",
                  "_deepnote_index_column": 1
                },
                {
                  "Census Year": "1810",
                  "Total Population": 7239881,
                  "Census Cost": "$178,445",
                  "Average Cost Per Person": "2.46 cents",
                  "_deepnote_index_column": 2
                },
                {
                  "Census Year": "1820",
                  "Total Population": 9633822,
                  "Census Cost": "$208,526",
                  "Average Cost Per Person": "2.16 cents",
                  "_deepnote_index_column": 3
                },
                {
                  "Census Year": "1830",
                  "Total Population": 12866020,
                  "Census Cost": "$378,545",
                  "Average Cost Per Person": "2.94 cents",
                  "_deepnote_index_column": 4
                }
              ],
              "rows_bottom": null
            },
            "text/plain": "  Census Year  Total Population Census Cost Average Cost Per Person\n0        1790           3929214     $44,377              1.13 cents\n1        1800           5308483     $66,109              1.24 cents\n2        1810           7239881    $178,445              2.46 cents\n3        1820           9633822    $208,526              2.16 cents\n4        1830          12866020    $378,545              2.94 cents",
            "text/html": "<div>\n<style scoped>\n    .dataframe tbody tr th:only-of-type {\n        vertical-align: middle;\n    }\n\n    .dataframe tbody tr th {\n        vertical-align: top;\n    }\n\n    .dataframe thead th {\n        text-align: right;\n    }\n</style>\n<table border=\"1\" class=\"dataframe\">\n  <thead>\n    <tr style=\"text-align: right;\">\n      <th></th>\n      <th>Census Year</th>\n      <th>Total Population</th>\n      <th>Census Cost</th>\n      <th>Average Cost Per Person</th>\n    </tr>\n  </thead>\n  <tbody>\n    <tr>\n      <th>0</th>\n      <td>1790</td>\n      <td>3929214</td>\n      <td>$44,377</td>\n      <td>1.13 cents</td>\n    </tr>\n    <tr>\n      <th>1</th>\n      <td>1800</td>\n      <td>5308483</td>\n      <td>$66,109</td>\n      <td>1.24 cents</td>\n    </tr>\n    <tr>\n      <th>2</th>\n      <td>1810</td>\n      <td>7239881</td>\n      <td>$178,445</td>\n      <td>2.46 cents</td>\n    </tr>\n    <tr>\n      <th>3</th>\n      <td>1820</td>\n      <td>9633822</td>\n      <td>$208,526</td>\n      <td>2.16 cents</td>\n    </tr>\n    <tr>\n      <th>4</th>\n      <td>1830</td>\n      <td>12866020</td>\n      <td>$378,545</td>\n      <td>2.94 cents</td>\n    </tr>\n  </tbody>\n</table>\n</div>"
          },
          "metadata": {}
        }
      ]
    },
    {
      "cell_type": "code",
      "metadata": {
        "tags": [],
        "cell_id": "00009-851b286e-a898-4fc2-a4c0-24f497a0cc09",
        "deepnote_to_be_reexecuted": false,
        "source_hash": "51e9f356",
        "execution_millis": 6,
        "execution_start": 1615760078555,
        "deepnote_cell_type": "code"
      },
      "source": "census_df.dtypes",
      "execution_count": 6,
      "outputs": [
        {
          "output_type": "execute_result",
          "execution_count": 6,
          "data": {
            "text/plain": "Census Year                object\nTotal Population            int64\nCensus Cost                object\nAverage Cost Per Person    object\ndtype: object"
          },
          "metadata": {}
        }
      ]
    },
    {
      "cell_type": "markdown",
      "source": "#### Document the data quality issues using a Markdown cell so the reader understands what the problems are.",
      "metadata": {
        "tags": [],
        "cell_id": "00012-325d9f57-0b76-4ed5-b345-caf49e2854a1",
        "deepnote_cell_type": "markdown"
      }
    },
    {
      "cell_type": "markdown",
      "source": "- Dataset needs to remove \"$\" \",\" \".\" \"cents\" and \"Billion\".\n- Dataset needs to remove \"*\" after year 2010.",
      "metadata": {
        "tags": [],
        "cell_id": "00013-8fd05388-59f2-4354-bffc-29a8fd5dc161",
        "deepnote_cell_type": "markdown"
      }
    },
    {
      "cell_type": "markdown",
      "source": "#### Write a function named cleanse_year() that takes a string as input and removes any asterisks in the string and return the cleansed string.",
      "metadata": {
        "tags": [],
        "cell_id": "00014-333c114c-964f-47be-be21-c27e89e20c84",
        "deepnote_cell_type": "markdown"
      }
    },
    {
      "cell_type": "code",
      "metadata": {
        "tags": [],
        "cell_id": "00012-dc30bad3-3d09-455b-95c0-81e7de917211",
        "deepnote_to_be_reexecuted": false,
        "source_hash": "d7ec342b",
        "execution_millis": 0,
        "execution_start": 1615760078556,
        "deepnote_cell_type": "code"
      },
      "source": "#Remove asterisks in the string\ndef cleanse_year(raw_years):\n    raw_years = int(raw_years.replace(\"*\",\"\"))\n    return raw_years",
      "execution_count": 7,
      "outputs": []
    },
    {
      "cell_type": "markdown",
      "source": "#### Test the function by using test strings (for example, \"1989*\", \"20*10\")",
      "metadata": {
        "tags": [],
        "cell_id": "00016-4c1f203b-7d65-44b3-9c0c-90190ba94445",
        "deepnote_cell_type": "markdown"
      }
    },
    {
      "cell_type": "code",
      "metadata": {
        "tags": [],
        "cell_id": "00017-da0524a4-ff9f-4e39-94de-5aa6f3a9166f",
        "deepnote_to_be_reexecuted": false,
        "source_hash": "eee67d1",
        "execution_millis": 5,
        "execution_start": 1615760078556,
        "deepnote_cell_type": "code"
      },
      "source": "test_years = (\"1989\", \"20*10\", \"85\")\n\nfor li in test_years:\n    li_test = cleanse_year(li)\n    print(f\"{li_test} {type(li_test)}\")",
      "execution_count": 8,
      "outputs": [
        {
          "name": "stdout",
          "text": "1989 <class 'int'>\n2010 <class 'int'>\n85 <class 'int'>\n",
          "output_type": "stream"
        }
      ]
    },
    {
      "cell_type": "markdown",
      "source": "#### Cleanse the column \"Census Year\" using the function cleanse_year() and Pandas's apply() function.",
      "metadata": {
        "tags": [],
        "cell_id": "00018-137a1ec8-6733-4cea-9ad4-2f670886c769",
        "deepnote_cell_type": "markdown"
      }
    },
    {
      "cell_type": "code",
      "metadata": {
        "tags": [],
        "cell_id": "00017-7c26af80-2e3e-4533-a5e3-73c96ce73bd1",
        "deepnote_to_be_reexecuted": false,
        "source_hash": "e695e2f8",
        "execution_millis": 6,
        "execution_start": 1615760078559,
        "deepnote_cell_type": "code"
      },
      "source": "census_df[\"Census Year\"] = census_df[\"Census Year\"].apply(cleanse_year)",
      "execution_count": 9,
      "outputs": []
    },
    {
      "cell_type": "code",
      "metadata": {
        "tags": [],
        "cell_id": "00018-14376f5b-c037-4c73-9d75-1a04898a0ba4",
        "deepnote_to_be_reexecuted": false,
        "source_hash": "e477a738",
        "execution_millis": 25,
        "execution_start": 1615760078596,
        "deepnote_cell_type": "code"
      },
      "source": "census_df.head()",
      "execution_count": 10,
      "outputs": [
        {
          "output_type": "execute_result",
          "execution_count": 10,
          "data": {
            "application/vnd.deepnote.dataframe.v2+json": {
              "row_count": 5,
              "column_count": 4,
              "columns": [
                {
                  "name": "Census Year",
                  "dtype": "int64",
                  "stats": {
                    "unique_count": 5,
                    "nan_count": 0,
                    "min": 1790,
                    "max": 1830,
                    "histogram": [
                      {
                        "bin_start": 1790,
                        "bin_end": 1794,
                        "count": 1
                      },
                      {
                        "bin_start": 1794,
                        "bin_end": 1798,
                        "count": 0
                      },
                      {
                        "bin_start": 1798,
                        "bin_end": 1802,
                        "count": 1
                      },
                      {
                        "bin_start": 1802,
                        "bin_end": 1806,
                        "count": 0
                      },
                      {
                        "bin_start": 1806,
                        "bin_end": 1810,
                        "count": 0
                      },
                      {
                        "bin_start": 1810,
                        "bin_end": 1814,
                        "count": 1
                      },
                      {
                        "bin_start": 1814,
                        "bin_end": 1818,
                        "count": 0
                      },
                      {
                        "bin_start": 1818,
                        "bin_end": 1822,
                        "count": 1
                      },
                      {
                        "bin_start": 1822,
                        "bin_end": 1826,
                        "count": 0
                      },
                      {
                        "bin_start": 1826,
                        "bin_end": 1830,
                        "count": 1
                      }
                    ]
                  }
                },
                {
                  "name": "Total Population",
                  "dtype": "int64",
                  "stats": {
                    "unique_count": 5,
                    "nan_count": 0,
                    "min": 3929214,
                    "max": 12866020,
                    "histogram": [
                      {
                        "bin_start": 3929214,
                        "bin_end": 4822894.6,
                        "count": 1
                      },
                      {
                        "bin_start": 4822894.6,
                        "bin_end": 5716575.2,
                        "count": 1
                      },
                      {
                        "bin_start": 5716575.2,
                        "bin_end": 6610255.8,
                        "count": 0
                      },
                      {
                        "bin_start": 6610255.8,
                        "bin_end": 7503936.4,
                        "count": 1
                      },
                      {
                        "bin_start": 7503936.4,
                        "bin_end": 8397617,
                        "count": 0
                      },
                      {
                        "bin_start": 8397617,
                        "bin_end": 9291297.6,
                        "count": 0
                      },
                      {
                        "bin_start": 9291297.6,
                        "bin_end": 10184978.2,
                        "count": 1
                      },
                      {
                        "bin_start": 10184978.2,
                        "bin_end": 11078658.8,
                        "count": 0
                      },
                      {
                        "bin_start": 11078658.8,
                        "bin_end": 11972339.399999999,
                        "count": 0
                      },
                      {
                        "bin_start": 11972339.399999999,
                        "bin_end": 12866020,
                        "count": 1
                      }
                    ]
                  }
                },
                {
                  "name": "Census Cost",
                  "dtype": "object",
                  "stats": {
                    "unique_count": 5,
                    "nan_count": 0,
                    "categories": [
                      {
                        "name": "$44,377",
                        "count": 1
                      },
                      {
                        "name": "$66,109",
                        "count": 1
                      },
                      {
                        "name": "3 others",
                        "count": 3
                      }
                    ]
                  }
                },
                {
                  "name": "Average Cost Per Person",
                  "dtype": "object",
                  "stats": {
                    "unique_count": 5,
                    "nan_count": 0,
                    "categories": [
                      {
                        "name": "1.13 cents",
                        "count": 1
                      },
                      {
                        "name": "1.24 cents",
                        "count": 1
                      },
                      {
                        "name": "3 others",
                        "count": 3
                      }
                    ]
                  }
                },
                {
                  "name": "_deepnote_index_column",
                  "dtype": "int64"
                }
              ],
              "rows_top": [
                {
                  "Census Year": 1790,
                  "Total Population": 3929214,
                  "Census Cost": "$44,377",
                  "Average Cost Per Person": "1.13 cents",
                  "_deepnote_index_column": 0
                },
                {
                  "Census Year": 1800,
                  "Total Population": 5308483,
                  "Census Cost": "$66,109",
                  "Average Cost Per Person": "1.24 cents",
                  "_deepnote_index_column": 1
                },
                {
                  "Census Year": 1810,
                  "Total Population": 7239881,
                  "Census Cost": "$178,445",
                  "Average Cost Per Person": "2.46 cents",
                  "_deepnote_index_column": 2
                },
                {
                  "Census Year": 1820,
                  "Total Population": 9633822,
                  "Census Cost": "$208,526",
                  "Average Cost Per Person": "2.16 cents",
                  "_deepnote_index_column": 3
                },
                {
                  "Census Year": 1830,
                  "Total Population": 12866020,
                  "Census Cost": "$378,545",
                  "Average Cost Per Person": "2.94 cents",
                  "_deepnote_index_column": 4
                }
              ],
              "rows_bottom": null
            },
            "text/plain": "   Census Year  Total Population Census Cost Average Cost Per Person\n0         1790           3929214     $44,377              1.13 cents\n1         1800           5308483     $66,109              1.24 cents\n2         1810           7239881    $178,445              2.46 cents\n3         1820           9633822    $208,526              2.16 cents\n4         1830          12866020    $378,545              2.94 cents",
            "text/html": "<div>\n<style scoped>\n    .dataframe tbody tr th:only-of-type {\n        vertical-align: middle;\n    }\n\n    .dataframe tbody tr th {\n        vertical-align: top;\n    }\n\n    .dataframe thead th {\n        text-align: right;\n    }\n</style>\n<table border=\"1\" class=\"dataframe\">\n  <thead>\n    <tr style=\"text-align: right;\">\n      <th></th>\n      <th>Census Year</th>\n      <th>Total Population</th>\n      <th>Census Cost</th>\n      <th>Average Cost Per Person</th>\n    </tr>\n  </thead>\n  <tbody>\n    <tr>\n      <th>0</th>\n      <td>1790</td>\n      <td>3929214</td>\n      <td>$44,377</td>\n      <td>1.13 cents</td>\n    </tr>\n    <tr>\n      <th>1</th>\n      <td>1800</td>\n      <td>5308483</td>\n      <td>$66,109</td>\n      <td>1.24 cents</td>\n    </tr>\n    <tr>\n      <th>2</th>\n      <td>1810</td>\n      <td>7239881</td>\n      <td>$178,445</td>\n      <td>2.46 cents</td>\n    </tr>\n    <tr>\n      <th>3</th>\n      <td>1820</td>\n      <td>9633822</td>\n      <td>$208,526</td>\n      <td>2.16 cents</td>\n    </tr>\n    <tr>\n      <th>4</th>\n      <td>1830</td>\n      <td>12866020</td>\n      <td>$378,545</td>\n      <td>2.94 cents</td>\n    </tr>\n  </tbody>\n</table>\n</div>"
          },
          "metadata": {}
        }
      ]
    },
    {
      "cell_type": "markdown",
      "source": "#### Repeat this process for column \"Total Population\", \"Census Cost\", \"Average Cost Per Person\". (define, test, and apply the function)",
      "metadata": {
        "tags": [],
        "cell_id": "00019-b7c0ff99-bbfa-4ace-a04d-ff42e7e2c8bf",
        "deepnote_cell_type": "markdown"
      }
    },
    {
      "cell_type": "markdown",
      "source": "Total Population",
      "metadata": {
        "tags": [],
        "cell_id": "00020-648c432a-074e-413a-aded-f9b42289f95d",
        "deepnote_cell_type": "markdown"
      }
    },
    {
      "cell_type": "code",
      "metadata": {
        "tags": [],
        "cell_id": "00019-b76111e1-01ab-40aa-8fba-de75df6d1b37",
        "deepnote_to_be_reexecuted": false,
        "source_hash": "75fa65c6",
        "execution_millis": 0,
        "execution_start": 1615760078597,
        "deepnote_cell_type": "code"
      },
      "source": "#Define\ndef cleanse_pop(raw_pop):\n    raw_pop = int(raw_pop)\n    return raw_pop",
      "execution_count": 11,
      "outputs": []
    },
    {
      "cell_type": "code",
      "metadata": {
        "tags": [],
        "cell_id": "00021-f15d6b98-d1ae-4d51-80e8-54a72d8c009d",
        "deepnote_to_be_reexecuted": false,
        "source_hash": "9f962ff1",
        "execution_millis": 20,
        "execution_start": 1615760078601,
        "deepnote_cell_type": "code"
      },
      "source": "#Test Function\ntest_list = (\"1000\", \"500\", \"2020\")\n\nfor li in test_list:\n    print(f\" {li} type: {type(cleanse_pop(li))}\")",
      "execution_count": 12,
      "outputs": [
        {
          "name": "stdout",
          "text": " 1000 type: <class 'int'>\n 500 type: <class 'int'>\n 2020 type: <class 'int'>\n",
          "output_type": "stream"
        }
      ]
    },
    {
      "cell_type": "code",
      "metadata": {
        "tags": [],
        "cell_id": "00022-c5d5a8b8-fc12-43f9-aac4-5585ce2b3726",
        "deepnote_to_be_reexecuted": false,
        "source_hash": "631f0a16",
        "execution_millis": 4,
        "execution_start": 1615760078606,
        "deepnote_cell_type": "code"
      },
      "source": "#Apply\ncensus_df[\"Total Population\"] = census_df[\"Total Population\"].apply(cleanse_pop)",
      "execution_count": 13,
      "outputs": []
    },
    {
      "cell_type": "markdown",
      "source": "Census Cost",
      "metadata": {
        "tags": [],
        "cell_id": "00024-146a7245-7586-4414-b8ee-f5d9b318e271",
        "deepnote_cell_type": "markdown"
      }
    },
    {
      "cell_type": "code",
      "metadata": {
        "tags": [],
        "cell_id": "00024-d8edd763-3c20-4cc5-95e7-28de1d3d0cd5",
        "deepnote_to_be_reexecuted": false,
        "source_hash": "be81b1fc",
        "execution_millis": 1,
        "execution_start": 1615760078615,
        "deepnote_cell_type": "code"
      },
      "source": "#Define\ndef cleanse_census_cost(raw_cost):\n    costs = raw_cost.replace(\"$\",\"\").replace(\",\",\"\")\n\n    if  raw_cost.find(\"4.5\") != -1:          # if \"4.5\" in raw_cost:\n        costs = \"45\" + \"0\" * 8\n\n    elif raw_cost.find(\"Billion\") != -1:     # elif \"Billion\" in raw_cost: \n        costs = \"13\" + \"0\" * 9\n    \n    else:\n        raw_cost = costs\n\n    return float(costs)",
      "execution_count": 14,
      "outputs": []
    },
    {
      "cell_type": "code",
      "metadata": {
        "tags": [],
        "cell_id": "00026-e9e6f9f0-3354-446d-bac8-9d2699907d14",
        "deepnote_to_be_reexecuted": false,
        "source_hash": "cc2d2fb2",
        "execution_millis": 78,
        "execution_start": 1615760078655,
        "deepnote_cell_type": "code"
      },
      "source": "#Test\ncleanse_census_cost(\"12 Billion\")",
      "execution_count": 15,
      "outputs": [
        {
          "output_type": "execute_result",
          "execution_count": 15,
          "data": {
            "text/plain": "13000000000.0"
          },
          "metadata": {}
        }
      ]
    },
    {
      "cell_type": "code",
      "metadata": {
        "tags": [],
        "cell_id": "00027-60fdf3bd-c197-4ab0-b879-8953e0cec1b4",
        "deepnote_to_be_reexecuted": false,
        "source_hash": "9f0e7221",
        "execution_millis": 77,
        "execution_start": 1615760078656,
        "deepnote_cell_type": "code"
      },
      "source": "#Apply\ncensus_df[\"Census Cost\"] = census_df[\"Census Cost\"].apply(cleanse_census_cost)\ncensus_df",
      "execution_count": 16,
      "outputs": [
        {
          "output_type": "execute_result",
          "execution_count": 16,
          "data": {
            "application/vnd.deepnote.dataframe.v2+json": {
              "row_count": 23,
              "column_count": 4,
              "columns": [
                {
                  "name": "Census Year",
                  "dtype": "int64",
                  "stats": {
                    "unique_count": 23,
                    "nan_count": 0,
                    "min": 1790,
                    "max": 2010,
                    "histogram": [
                      {
                        "bin_start": 1790,
                        "bin_end": 1812,
                        "count": 3
                      },
                      {
                        "bin_start": 1812,
                        "bin_end": 1834,
                        "count": 2
                      },
                      {
                        "bin_start": 1834,
                        "bin_end": 1856,
                        "count": 2
                      },
                      {
                        "bin_start": 1856,
                        "bin_end": 1878,
                        "count": 2
                      },
                      {
                        "bin_start": 1878,
                        "bin_end": 1900,
                        "count": 2
                      },
                      {
                        "bin_start": 1900,
                        "bin_end": 1922,
                        "count": 3
                      },
                      {
                        "bin_start": 1922,
                        "bin_end": 1944,
                        "count": 2
                      },
                      {
                        "bin_start": 1944,
                        "bin_end": 1966,
                        "count": 2
                      },
                      {
                        "bin_start": 1966,
                        "bin_end": 1988,
                        "count": 2
                      },
                      {
                        "bin_start": 1988,
                        "bin_end": 2010,
                        "count": 3
                      }
                    ]
                  }
                },
                {
                  "name": "Total Population",
                  "dtype": "int64",
                  "stats": {
                    "unique_count": 23,
                    "nan_count": 0,
                    "min": 3929214,
                    "max": 308745538,
                    "histogram": [
                      {
                        "bin_start": 3929214,
                        "bin_end": 34410846.4,
                        "count": 8
                      },
                      {
                        "bin_start": 34410846.4,
                        "bin_end": 64892478.8,
                        "count": 3
                      },
                      {
                        "bin_start": 64892478.8,
                        "bin_end": 95374111.19999999,
                        "count": 2
                      },
                      {
                        "bin_start": 95374111.19999999,
                        "bin_end": 125855743.6,
                        "count": 2
                      },
                      {
                        "bin_start": 125855743.6,
                        "bin_end": 156337376,
                        "count": 2
                      },
                      {
                        "bin_start": 156337376,
                        "bin_end": 186819008.39999998,
                        "count": 1
                      },
                      {
                        "bin_start": 186819008.39999998,
                        "bin_end": 217300640.79999998,
                        "count": 1
                      },
                      {
                        "bin_start": 217300640.79999998,
                        "bin_end": 247782273.2,
                        "count": 1
                      },
                      {
                        "bin_start": 247782273.2,
                        "bin_end": 278263905.59999996,
                        "count": 1
                      },
                      {
                        "bin_start": 278263905.59999996,
                        "bin_end": 308745538,
                        "count": 2
                      }
                    ]
                  }
                },
                {
                  "name": "Census Cost",
                  "dtype": "float64",
                  "stats": {
                    "unique_count": 23,
                    "nan_count": 0,
                    "min": 44377,
                    "max": 13000000000,
                    "histogram": [
                      {
                        "bin_start": 44377,
                        "bin_end": 1300039939.3,
                        "count": 20
                      },
                      {
                        "bin_start": 1300039939.3,
                        "bin_end": 2600035501.6,
                        "count": 1
                      },
                      {
                        "bin_start": 2600035501.6,
                        "bin_end": 3900031063.8999996,
                        "count": 0
                      },
                      {
                        "bin_start": 3900031063.8999996,
                        "bin_end": 5200026626.2,
                        "count": 1
                      },
                      {
                        "bin_start": 5200026626.2,
                        "bin_end": 6500022188.5,
                        "count": 0
                      },
                      {
                        "bin_start": 6500022188.5,
                        "bin_end": 7800017750.799999,
                        "count": 0
                      },
                      {
                        "bin_start": 7800017750.799999,
                        "bin_end": 9100013313.1,
                        "count": 0
                      },
                      {
                        "bin_start": 9100013313.1,
                        "bin_end": 10400008875.4,
                        "count": 0
                      },
                      {
                        "bin_start": 10400008875.4,
                        "bin_end": 11700004437.699999,
                        "count": 0
                      },
                      {
                        "bin_start": 11700004437.699999,
                        "bin_end": 13000000000,
                        "count": 1
                      }
                    ]
                  }
                },
                {
                  "name": "Average Cost Per Person",
                  "dtype": "object",
                  "stats": {
                    "unique_count": 23,
                    "nan_count": 0,
                    "categories": [
                      {
                        "name": "1.13 cents",
                        "count": 1
                      },
                      {
                        "name": "1.24 cents",
                        "count": 1
                      },
                      {
                        "name": "21 others",
                        "count": 21
                      }
                    ]
                  }
                },
                {
                  "name": "_deepnote_index_column",
                  "dtype": "int64"
                }
              ],
              "rows_top": [
                {
                  "Census Year": 1790,
                  "Total Population": 3929214,
                  "Census Cost": 44377,
                  "Average Cost Per Person": "1.13 cents",
                  "_deepnote_index_column": 0
                },
                {
                  "Census Year": 1800,
                  "Total Population": 5308483,
                  "Census Cost": 66109,
                  "Average Cost Per Person": "1.24 cents",
                  "_deepnote_index_column": 1
                },
                {
                  "Census Year": 1810,
                  "Total Population": 7239881,
                  "Census Cost": 178445,
                  "Average Cost Per Person": "2.46 cents",
                  "_deepnote_index_column": 2
                },
                {
                  "Census Year": 1820,
                  "Total Population": 9633822,
                  "Census Cost": 208526,
                  "Average Cost Per Person": "2.16 cents",
                  "_deepnote_index_column": 3
                },
                {
                  "Census Year": 1830,
                  "Total Population": 12866020,
                  "Census Cost": 378545,
                  "Average Cost Per Person": "2.94 cents",
                  "_deepnote_index_column": 4
                },
                {
                  "Census Year": 1840,
                  "Total Population": 17069458,
                  "Census Cost": 833371,
                  "Average Cost Per Person": "4.88 cents",
                  "_deepnote_index_column": 5
                },
                {
                  "Census Year": 1850,
                  "Total Population": 23191876,
                  "Census Cost": 1423351,
                  "Average Cost Per Person": "6.14 cents",
                  "_deepnote_index_column": 6
                },
                {
                  "Census Year": 1860,
                  "Total Population": 31443321,
                  "Census Cost": 1969377,
                  "Average Cost Per Person": "6.26 cents",
                  "_deepnote_index_column": 7
                },
                {
                  "Census Year": 1870,
                  "Total Population": 38558371,
                  "Census Cost": 3421198,
                  "Average Cost Per Person": "8.87 cents",
                  "_deepnote_index_column": 8
                },
                {
                  "Census Year": 1880,
                  "Total Population": 50155783,
                  "Census Cost": 5790678,
                  "Average Cost Per Person": "11.54 cents",
                  "_deepnote_index_column": 9
                },
                {
                  "Census Year": 1890,
                  "Total Population": 62979766,
                  "Census Cost": 11547127,
                  "Average Cost Per Person": "18.33 cents",
                  "_deepnote_index_column": 10
                },
                {
                  "Census Year": 1900,
                  "Total Population": 76303387,
                  "Census Cost": 11854000,
                  "Average Cost Per Person": "15.54 cents",
                  "_deepnote_index_column": 11
                },
                {
                  "Census Year": 1910,
                  "Total Population": 91972266,
                  "Census Cost": 15968000,
                  "Average Cost Per Person": "17.07 cents",
                  "_deepnote_index_column": 12
                },
                {
                  "Census Year": 1920,
                  "Total Population": 105710620,
                  "Census Cost": 25117000,
                  "Average Cost Per Person": "23.76 cents",
                  "_deepnote_index_column": 13
                },
                {
                  "Census Year": 1930,
                  "Total Population": 122775046,
                  "Census Cost": 40156000,
                  "Average Cost Per Person": "32.71 cents",
                  "_deepnote_index_column": 14
                },
                {
                  "Census Year": 1940,
                  "Total Population": 131669275,
                  "Census Cost": 67527000,
                  "Average Cost Per Person": "51.29 cents",
                  "_deepnote_index_column": 15
                },
                {
                  "Census Year": 1950,
                  "Total Population": 151325798,
                  "Census Cost": 91462000,
                  "Average Cost Per Person": "60.44 cents",
                  "_deepnote_index_column": 16
                },
                {
                  "Census Year": 1960,
                  "Total Population": 179323175,
                  "Census Cost": 127934000,
                  "Average Cost Per Person": "71.34 cents",
                  "_deepnote_index_column": 17
                },
                {
                  "Census Year": 1970,
                  "Total Population": 203302031,
                  "Census Cost": 247653000,
                  "Average Cost Per Person": "$1.22",
                  "_deepnote_index_column": 18
                },
                {
                  "Census Year": 1980,
                  "Total Population": 226542199,
                  "Census Cost": 1078488000,
                  "Average Cost Per Person": "$4.76",
                  "_deepnote_index_column": 19
                },
                {
                  "Census Year": 1990,
                  "Total Population": 248718301,
                  "Census Cost": 2492830000,
                  "Average Cost Per Person": "$10.02",
                  "_deepnote_index_column": 20
                },
                {
                  "Census Year": 2000,
                  "Total Population": 281421906,
                  "Census Cost": 4500000000,
                  "Average Cost Per Person": "$15.99",
                  "_deepnote_index_column": 21
                },
                {
                  "Census Year": 2010,
                  "Total Population": 308745538,
                  "Census Cost": 13000000000,
                  "Average Cost Per Person": "$42.11",
                  "_deepnote_index_column": 22
                }
              ],
              "rows_bottom": null
            },
            "text/plain": "    Census Year  Total Population   Census Cost Average Cost Per Person\n0          1790           3929214  4.437700e+04              1.13 cents\n1          1800           5308483  6.610900e+04              1.24 cents\n2          1810           7239881  1.784450e+05              2.46 cents\n3          1820           9633822  2.085260e+05              2.16 cents\n4          1830          12866020  3.785450e+05              2.94 cents\n5          1840          17069458  8.333710e+05              4.88 cents\n6          1850          23191876  1.423351e+06              6.14 cents\n7          1860          31443321  1.969377e+06              6.26 cents\n8          1870          38558371  3.421198e+06              8.87 cents\n9          1880          50155783  5.790678e+06             11.54 cents\n10         1890          62979766  1.154713e+07             18.33 cents\n11         1900          76303387  1.185400e+07             15.54 cents\n12         1910          91972266  1.596800e+07             17.07 cents\n13         1920         105710620  2.511700e+07             23.76 cents\n14         1930         122775046  4.015600e+07             32.71 cents\n15         1940         131669275  6.752700e+07             51.29 cents\n16         1950         151325798  9.146200e+07             60.44 cents\n17         1960         179323175  1.279340e+08             71.34 cents\n18         1970         203302031  2.476530e+08                   $1.22\n19         1980         226542199  1.078488e+09                   $4.76\n20         1990         248718301  2.492830e+09                  $10.02\n21         2000         281421906  4.500000e+09                  $15.99\n22         2010         308745538  1.300000e+10                  $42.11",
            "text/html": "<div>\n<style scoped>\n    .dataframe tbody tr th:only-of-type {\n        vertical-align: middle;\n    }\n\n    .dataframe tbody tr th {\n        vertical-align: top;\n    }\n\n    .dataframe thead th {\n        text-align: right;\n    }\n</style>\n<table border=\"1\" class=\"dataframe\">\n  <thead>\n    <tr style=\"text-align: right;\">\n      <th></th>\n      <th>Census Year</th>\n      <th>Total Population</th>\n      <th>Census Cost</th>\n      <th>Average Cost Per Person</th>\n    </tr>\n  </thead>\n  <tbody>\n    <tr>\n      <th>0</th>\n      <td>1790</td>\n      <td>3929214</td>\n      <td>4.437700e+04</td>\n      <td>1.13 cents</td>\n    </tr>\n    <tr>\n      <th>1</th>\n      <td>1800</td>\n      <td>5308483</td>\n      <td>6.610900e+04</td>\n      <td>1.24 cents</td>\n    </tr>\n    <tr>\n      <th>2</th>\n      <td>1810</td>\n      <td>7239881</td>\n      <td>1.784450e+05</td>\n      <td>2.46 cents</td>\n    </tr>\n    <tr>\n      <th>3</th>\n      <td>1820</td>\n      <td>9633822</td>\n      <td>2.085260e+05</td>\n      <td>2.16 cents</td>\n    </tr>\n    <tr>\n      <th>4</th>\n      <td>1830</td>\n      <td>12866020</td>\n      <td>3.785450e+05</td>\n      <td>2.94 cents</td>\n    </tr>\n    <tr>\n      <th>5</th>\n      <td>1840</td>\n      <td>17069458</td>\n      <td>8.333710e+05</td>\n      <td>4.88 cents</td>\n    </tr>\n    <tr>\n      <th>6</th>\n      <td>1850</td>\n      <td>23191876</td>\n      <td>1.423351e+06</td>\n      <td>6.14 cents</td>\n    </tr>\n    <tr>\n      <th>7</th>\n      <td>1860</td>\n      <td>31443321</td>\n      <td>1.969377e+06</td>\n      <td>6.26 cents</td>\n    </tr>\n    <tr>\n      <th>8</th>\n      <td>1870</td>\n      <td>38558371</td>\n      <td>3.421198e+06</td>\n      <td>8.87 cents</td>\n    </tr>\n    <tr>\n      <th>9</th>\n      <td>1880</td>\n      <td>50155783</td>\n      <td>5.790678e+06</td>\n      <td>11.54 cents</td>\n    </tr>\n    <tr>\n      <th>10</th>\n      <td>1890</td>\n      <td>62979766</td>\n      <td>1.154713e+07</td>\n      <td>18.33 cents</td>\n    </tr>\n    <tr>\n      <th>11</th>\n      <td>1900</td>\n      <td>76303387</td>\n      <td>1.185400e+07</td>\n      <td>15.54 cents</td>\n    </tr>\n    <tr>\n      <th>12</th>\n      <td>1910</td>\n      <td>91972266</td>\n      <td>1.596800e+07</td>\n      <td>17.07 cents</td>\n    </tr>\n    <tr>\n      <th>13</th>\n      <td>1920</td>\n      <td>105710620</td>\n      <td>2.511700e+07</td>\n      <td>23.76 cents</td>\n    </tr>\n    <tr>\n      <th>14</th>\n      <td>1930</td>\n      <td>122775046</td>\n      <td>4.015600e+07</td>\n      <td>32.71 cents</td>\n    </tr>\n    <tr>\n      <th>15</th>\n      <td>1940</td>\n      <td>131669275</td>\n      <td>6.752700e+07</td>\n      <td>51.29 cents</td>\n    </tr>\n    <tr>\n      <th>16</th>\n      <td>1950</td>\n      <td>151325798</td>\n      <td>9.146200e+07</td>\n      <td>60.44 cents</td>\n    </tr>\n    <tr>\n      <th>17</th>\n      <td>1960</td>\n      <td>179323175</td>\n      <td>1.279340e+08</td>\n      <td>71.34 cents</td>\n    </tr>\n    <tr>\n      <th>18</th>\n      <td>1970</td>\n      <td>203302031</td>\n      <td>2.476530e+08</td>\n      <td>$1.22</td>\n    </tr>\n    <tr>\n      <th>19</th>\n      <td>1980</td>\n      <td>226542199</td>\n      <td>1.078488e+09</td>\n      <td>$4.76</td>\n    </tr>\n    <tr>\n      <th>20</th>\n      <td>1990</td>\n      <td>248718301</td>\n      <td>2.492830e+09</td>\n      <td>$10.02</td>\n    </tr>\n    <tr>\n      <th>21</th>\n      <td>2000</td>\n      <td>281421906</td>\n      <td>4.500000e+09</td>\n      <td>$15.99</td>\n    </tr>\n    <tr>\n      <th>22</th>\n      <td>2010</td>\n      <td>308745538</td>\n      <td>1.300000e+10</td>\n      <td>$42.11</td>\n    </tr>\n  </tbody>\n</table>\n</div>"
          },
          "metadata": {}
        }
      ]
    },
    {
      "cell_type": "markdown",
      "source": "Average Cost",
      "metadata": {
        "tags": [],
        "cell_id": "00028-f6e5d5db-8f6f-4b8d-85be-6416758b793a",
        "deepnote_cell_type": "markdown"
      }
    },
    {
      "cell_type": "code",
      "metadata": {
        "tags": [],
        "cell_id": "00029-9609f2e6-26db-4093-bc15-68b9f7574dc4",
        "deepnote_to_be_reexecuted": false,
        "source_hash": "a5fc5e5b",
        "execution_millis": 1,
        "execution_start": 1615760078688,
        "deepnote_cell_type": "code"
      },
      "source": "#Define\ndef cleanse_avg_cost(avg_cost):\n    if avg_cost.find(\"cents\") != -1:\n        costs = round(float(avg_cost.replace(\"cents\",\"\")) / 100 , 2) #Rounds the float, since fractional cents are not helpful here.\n\n    else:\n        costs = avg_cost.replace(\"$\",\"\") #Removes all dollars from values first\n        costs = round(float(avg_cost.replace(\"$\",\"\")),2) #In either case, we round the values to standardize them.\n    \n    return costs",
      "execution_count": 17,
      "outputs": []
    },
    {
      "cell_type": "code",
      "metadata": {
        "tags": [],
        "cell_id": "00030-0d220091-cc39-48df-869a-6a116599bd50",
        "deepnote_to_be_reexecuted": false,
        "source_hash": "4456ac7b",
        "execution_millis": 44,
        "execution_start": 1615760078689,
        "deepnote_cell_type": "code"
      },
      "source": "#Test\nprint(cleanse_avg_cost(\"10 cents\"))\nprint(cleanse_avg_cost(\"$1.5\"))",
      "execution_count": 18,
      "outputs": [
        {
          "name": "stdout",
          "text": "0.1\n1.5\n",
          "output_type": "stream"
        }
      ]
    },
    {
      "cell_type": "code",
      "metadata": {
        "tags": [],
        "cell_id": "00031-fba6d6f7-cec7-41bc-91ad-89979fc7a372",
        "deepnote_to_be_reexecuted": false,
        "source_hash": "29367424",
        "execution_millis": 0,
        "execution_start": 1615760078721,
        "deepnote_cell_type": "code"
      },
      "source": "#Apply\ncensus_df[\"Average Cost Per Person\"] = census_df[\"Average Cost Per Person\"].apply(cleanse_avg_cost)\ncensus_df",
      "execution_count": 19,
      "outputs": [
        {
          "output_type": "execute_result",
          "execution_count": 19,
          "data": {
            "application/vnd.deepnote.dataframe.v2+json": {
              "row_count": 23,
              "column_count": 4,
              "columns": [
                {
                  "name": "Census Year",
                  "dtype": "int64",
                  "stats": {
                    "unique_count": 23,
                    "nan_count": 0,
                    "min": 1790,
                    "max": 2010,
                    "histogram": [
                      {
                        "bin_start": 1790,
                        "bin_end": 1812,
                        "count": 3
                      },
                      {
                        "bin_start": 1812,
                        "bin_end": 1834,
                        "count": 2
                      },
                      {
                        "bin_start": 1834,
                        "bin_end": 1856,
                        "count": 2
                      },
                      {
                        "bin_start": 1856,
                        "bin_end": 1878,
                        "count": 2
                      },
                      {
                        "bin_start": 1878,
                        "bin_end": 1900,
                        "count": 2
                      },
                      {
                        "bin_start": 1900,
                        "bin_end": 1922,
                        "count": 3
                      },
                      {
                        "bin_start": 1922,
                        "bin_end": 1944,
                        "count": 2
                      },
                      {
                        "bin_start": 1944,
                        "bin_end": 1966,
                        "count": 2
                      },
                      {
                        "bin_start": 1966,
                        "bin_end": 1988,
                        "count": 2
                      },
                      {
                        "bin_start": 1988,
                        "bin_end": 2010,
                        "count": 3
                      }
                    ]
                  }
                },
                {
                  "name": "Total Population",
                  "dtype": "int64",
                  "stats": {
                    "unique_count": 23,
                    "nan_count": 0,
                    "min": 3929214,
                    "max": 308745538,
                    "histogram": [
                      {
                        "bin_start": 3929214,
                        "bin_end": 34410846.4,
                        "count": 8
                      },
                      {
                        "bin_start": 34410846.4,
                        "bin_end": 64892478.8,
                        "count": 3
                      },
                      {
                        "bin_start": 64892478.8,
                        "bin_end": 95374111.19999999,
                        "count": 2
                      },
                      {
                        "bin_start": 95374111.19999999,
                        "bin_end": 125855743.6,
                        "count": 2
                      },
                      {
                        "bin_start": 125855743.6,
                        "bin_end": 156337376,
                        "count": 2
                      },
                      {
                        "bin_start": 156337376,
                        "bin_end": 186819008.39999998,
                        "count": 1
                      },
                      {
                        "bin_start": 186819008.39999998,
                        "bin_end": 217300640.79999998,
                        "count": 1
                      },
                      {
                        "bin_start": 217300640.79999998,
                        "bin_end": 247782273.2,
                        "count": 1
                      },
                      {
                        "bin_start": 247782273.2,
                        "bin_end": 278263905.59999996,
                        "count": 1
                      },
                      {
                        "bin_start": 278263905.59999996,
                        "bin_end": 308745538,
                        "count": 2
                      }
                    ]
                  }
                },
                {
                  "name": "Census Cost",
                  "dtype": "float64",
                  "stats": {
                    "unique_count": 23,
                    "nan_count": 0,
                    "min": 44377,
                    "max": 13000000000,
                    "histogram": [
                      {
                        "bin_start": 44377,
                        "bin_end": 1300039939.3,
                        "count": 20
                      },
                      {
                        "bin_start": 1300039939.3,
                        "bin_end": 2600035501.6,
                        "count": 1
                      },
                      {
                        "bin_start": 2600035501.6,
                        "bin_end": 3900031063.8999996,
                        "count": 0
                      },
                      {
                        "bin_start": 3900031063.8999996,
                        "bin_end": 5200026626.2,
                        "count": 1
                      },
                      {
                        "bin_start": 5200026626.2,
                        "bin_end": 6500022188.5,
                        "count": 0
                      },
                      {
                        "bin_start": 6500022188.5,
                        "bin_end": 7800017750.799999,
                        "count": 0
                      },
                      {
                        "bin_start": 7800017750.799999,
                        "bin_end": 9100013313.1,
                        "count": 0
                      },
                      {
                        "bin_start": 9100013313.1,
                        "bin_end": 10400008875.4,
                        "count": 0
                      },
                      {
                        "bin_start": 10400008875.4,
                        "bin_end": 11700004437.699999,
                        "count": 0
                      },
                      {
                        "bin_start": 11700004437.699999,
                        "bin_end": 13000000000,
                        "count": 1
                      }
                    ]
                  }
                },
                {
                  "name": "Average Cost Per Person",
                  "dtype": "float64",
                  "stats": {
                    "unique_count": 20,
                    "nan_count": 0,
                    "min": 0.01,
                    "max": 42.11,
                    "histogram": [
                      {
                        "bin_start": 0.01,
                        "bin_end": 4.22,
                        "count": 19
                      },
                      {
                        "bin_start": 4.22,
                        "bin_end": 8.43,
                        "count": 1
                      },
                      {
                        "bin_start": 8.43,
                        "bin_end": 12.639999999999999,
                        "count": 1
                      },
                      {
                        "bin_start": 12.639999999999999,
                        "bin_end": 16.85,
                        "count": 1
                      },
                      {
                        "bin_start": 16.85,
                        "bin_end": 21.060000000000002,
                        "count": 0
                      },
                      {
                        "bin_start": 21.060000000000002,
                        "bin_end": 25.27,
                        "count": 0
                      },
                      {
                        "bin_start": 25.27,
                        "bin_end": 29.48,
                        "count": 0
                      },
                      {
                        "bin_start": 29.48,
                        "bin_end": 33.69,
                        "count": 0
                      },
                      {
                        "bin_start": 33.69,
                        "bin_end": 37.9,
                        "count": 0
                      },
                      {
                        "bin_start": 37.9,
                        "bin_end": 42.11,
                        "count": 1
                      }
                    ]
                  }
                },
                {
                  "name": "_deepnote_index_column",
                  "dtype": "int64"
                }
              ],
              "rows_top": [
                {
                  "Census Year": 1790,
                  "Total Population": 3929214,
                  "Census Cost": 44377,
                  "Average Cost Per Person": 0.01,
                  "_deepnote_index_column": 0
                },
                {
                  "Census Year": 1800,
                  "Total Population": 5308483,
                  "Census Cost": 66109,
                  "Average Cost Per Person": 0.01,
                  "_deepnote_index_column": 1
                },
                {
                  "Census Year": 1810,
                  "Total Population": 7239881,
                  "Census Cost": 178445,
                  "Average Cost Per Person": 0.02,
                  "_deepnote_index_column": 2
                },
                {
                  "Census Year": 1820,
                  "Total Population": 9633822,
                  "Census Cost": 208526,
                  "Average Cost Per Person": 0.02,
                  "_deepnote_index_column": 3
                },
                {
                  "Census Year": 1830,
                  "Total Population": 12866020,
                  "Census Cost": 378545,
                  "Average Cost Per Person": 0.03,
                  "_deepnote_index_column": 4
                },
                {
                  "Census Year": 1840,
                  "Total Population": 17069458,
                  "Census Cost": 833371,
                  "Average Cost Per Person": 0.05,
                  "_deepnote_index_column": 5
                },
                {
                  "Census Year": 1850,
                  "Total Population": 23191876,
                  "Census Cost": 1423351,
                  "Average Cost Per Person": 0.06,
                  "_deepnote_index_column": 6
                },
                {
                  "Census Year": 1860,
                  "Total Population": 31443321,
                  "Census Cost": 1969377,
                  "Average Cost Per Person": 0.06,
                  "_deepnote_index_column": 7
                },
                {
                  "Census Year": 1870,
                  "Total Population": 38558371,
                  "Census Cost": 3421198,
                  "Average Cost Per Person": 0.09,
                  "_deepnote_index_column": 8
                },
                {
                  "Census Year": 1880,
                  "Total Population": 50155783,
                  "Census Cost": 5790678,
                  "Average Cost Per Person": 0.12,
                  "_deepnote_index_column": 9
                },
                {
                  "Census Year": 1890,
                  "Total Population": 62979766,
                  "Census Cost": 11547127,
                  "Average Cost Per Person": 0.18,
                  "_deepnote_index_column": 10
                },
                {
                  "Census Year": 1900,
                  "Total Population": 76303387,
                  "Census Cost": 11854000,
                  "Average Cost Per Person": 0.16,
                  "_deepnote_index_column": 11
                },
                {
                  "Census Year": 1910,
                  "Total Population": 91972266,
                  "Census Cost": 15968000,
                  "Average Cost Per Person": 0.17,
                  "_deepnote_index_column": 12
                },
                {
                  "Census Year": 1920,
                  "Total Population": 105710620,
                  "Census Cost": 25117000,
                  "Average Cost Per Person": 0.24,
                  "_deepnote_index_column": 13
                },
                {
                  "Census Year": 1930,
                  "Total Population": 122775046,
                  "Census Cost": 40156000,
                  "Average Cost Per Person": 0.33,
                  "_deepnote_index_column": 14
                },
                {
                  "Census Year": 1940,
                  "Total Population": 131669275,
                  "Census Cost": 67527000,
                  "Average Cost Per Person": 0.51,
                  "_deepnote_index_column": 15
                },
                {
                  "Census Year": 1950,
                  "Total Population": 151325798,
                  "Census Cost": 91462000,
                  "Average Cost Per Person": 0.6,
                  "_deepnote_index_column": 16
                },
                {
                  "Census Year": 1960,
                  "Total Population": 179323175,
                  "Census Cost": 127934000,
                  "Average Cost Per Person": 0.71,
                  "_deepnote_index_column": 17
                },
                {
                  "Census Year": 1970,
                  "Total Population": 203302031,
                  "Census Cost": 247653000,
                  "Average Cost Per Person": 1.22,
                  "_deepnote_index_column": 18
                },
                {
                  "Census Year": 1980,
                  "Total Population": 226542199,
                  "Census Cost": 1078488000,
                  "Average Cost Per Person": 4.76,
                  "_deepnote_index_column": 19
                },
                {
                  "Census Year": 1990,
                  "Total Population": 248718301,
                  "Census Cost": 2492830000,
                  "Average Cost Per Person": 10.02,
                  "_deepnote_index_column": 20
                },
                {
                  "Census Year": 2000,
                  "Total Population": 281421906,
                  "Census Cost": 4500000000,
                  "Average Cost Per Person": 15.99,
                  "_deepnote_index_column": 21
                },
                {
                  "Census Year": 2010,
                  "Total Population": 308745538,
                  "Census Cost": 13000000000,
                  "Average Cost Per Person": 42.11,
                  "_deepnote_index_column": 22
                }
              ],
              "rows_bottom": null
            },
            "text/plain": "    Census Year  Total Population   Census Cost  Average Cost Per Person\n0          1790           3929214  4.437700e+04                     0.01\n1          1800           5308483  6.610900e+04                     0.01\n2          1810           7239881  1.784450e+05                     0.02\n3          1820           9633822  2.085260e+05                     0.02\n4          1830          12866020  3.785450e+05                     0.03\n5          1840          17069458  8.333710e+05                     0.05\n6          1850          23191876  1.423351e+06                     0.06\n7          1860          31443321  1.969377e+06                     0.06\n8          1870          38558371  3.421198e+06                     0.09\n9          1880          50155783  5.790678e+06                     0.12\n10         1890          62979766  1.154713e+07                     0.18\n11         1900          76303387  1.185400e+07                     0.16\n12         1910          91972266  1.596800e+07                     0.17\n13         1920         105710620  2.511700e+07                     0.24\n14         1930         122775046  4.015600e+07                     0.33\n15         1940         131669275  6.752700e+07                     0.51\n16         1950         151325798  9.146200e+07                     0.60\n17         1960         179323175  1.279340e+08                     0.71\n18         1970         203302031  2.476530e+08                     1.22\n19         1980         226542199  1.078488e+09                     4.76\n20         1990         248718301  2.492830e+09                    10.02\n21         2000         281421906  4.500000e+09                    15.99\n22         2010         308745538  1.300000e+10                    42.11",
            "text/html": "<div>\n<style scoped>\n    .dataframe tbody tr th:only-of-type {\n        vertical-align: middle;\n    }\n\n    .dataframe tbody tr th {\n        vertical-align: top;\n    }\n\n    .dataframe thead th {\n        text-align: right;\n    }\n</style>\n<table border=\"1\" class=\"dataframe\">\n  <thead>\n    <tr style=\"text-align: right;\">\n      <th></th>\n      <th>Census Year</th>\n      <th>Total Population</th>\n      <th>Census Cost</th>\n      <th>Average Cost Per Person</th>\n    </tr>\n  </thead>\n  <tbody>\n    <tr>\n      <th>0</th>\n      <td>1790</td>\n      <td>3929214</td>\n      <td>4.437700e+04</td>\n      <td>0.01</td>\n    </tr>\n    <tr>\n      <th>1</th>\n      <td>1800</td>\n      <td>5308483</td>\n      <td>6.610900e+04</td>\n      <td>0.01</td>\n    </tr>\n    <tr>\n      <th>2</th>\n      <td>1810</td>\n      <td>7239881</td>\n      <td>1.784450e+05</td>\n      <td>0.02</td>\n    </tr>\n    <tr>\n      <th>3</th>\n      <td>1820</td>\n      <td>9633822</td>\n      <td>2.085260e+05</td>\n      <td>0.02</td>\n    </tr>\n    <tr>\n      <th>4</th>\n      <td>1830</td>\n      <td>12866020</td>\n      <td>3.785450e+05</td>\n      <td>0.03</td>\n    </tr>\n    <tr>\n      <th>5</th>\n      <td>1840</td>\n      <td>17069458</td>\n      <td>8.333710e+05</td>\n      <td>0.05</td>\n    </tr>\n    <tr>\n      <th>6</th>\n      <td>1850</td>\n      <td>23191876</td>\n      <td>1.423351e+06</td>\n      <td>0.06</td>\n    </tr>\n    <tr>\n      <th>7</th>\n      <td>1860</td>\n      <td>31443321</td>\n      <td>1.969377e+06</td>\n      <td>0.06</td>\n    </tr>\n    <tr>\n      <th>8</th>\n      <td>1870</td>\n      <td>38558371</td>\n      <td>3.421198e+06</td>\n      <td>0.09</td>\n    </tr>\n    <tr>\n      <th>9</th>\n      <td>1880</td>\n      <td>50155783</td>\n      <td>5.790678e+06</td>\n      <td>0.12</td>\n    </tr>\n    <tr>\n      <th>10</th>\n      <td>1890</td>\n      <td>62979766</td>\n      <td>1.154713e+07</td>\n      <td>0.18</td>\n    </tr>\n    <tr>\n      <th>11</th>\n      <td>1900</td>\n      <td>76303387</td>\n      <td>1.185400e+07</td>\n      <td>0.16</td>\n    </tr>\n    <tr>\n      <th>12</th>\n      <td>1910</td>\n      <td>91972266</td>\n      <td>1.596800e+07</td>\n      <td>0.17</td>\n    </tr>\n    <tr>\n      <th>13</th>\n      <td>1920</td>\n      <td>105710620</td>\n      <td>2.511700e+07</td>\n      <td>0.24</td>\n    </tr>\n    <tr>\n      <th>14</th>\n      <td>1930</td>\n      <td>122775046</td>\n      <td>4.015600e+07</td>\n      <td>0.33</td>\n    </tr>\n    <tr>\n      <th>15</th>\n      <td>1940</td>\n      <td>131669275</td>\n      <td>6.752700e+07</td>\n      <td>0.51</td>\n    </tr>\n    <tr>\n      <th>16</th>\n      <td>1950</td>\n      <td>151325798</td>\n      <td>9.146200e+07</td>\n      <td>0.60</td>\n    </tr>\n    <tr>\n      <th>17</th>\n      <td>1960</td>\n      <td>179323175</td>\n      <td>1.279340e+08</td>\n      <td>0.71</td>\n    </tr>\n    <tr>\n      <th>18</th>\n      <td>1970</td>\n      <td>203302031</td>\n      <td>2.476530e+08</td>\n      <td>1.22</td>\n    </tr>\n    <tr>\n      <th>19</th>\n      <td>1980</td>\n      <td>226542199</td>\n      <td>1.078488e+09</td>\n      <td>4.76</td>\n    </tr>\n    <tr>\n      <th>20</th>\n      <td>1990</td>\n      <td>248718301</td>\n      <td>2.492830e+09</td>\n      <td>10.02</td>\n    </tr>\n    <tr>\n      <th>21</th>\n      <td>2000</td>\n      <td>281421906</td>\n      <td>4.500000e+09</td>\n      <td>15.99</td>\n    </tr>\n    <tr>\n      <th>22</th>\n      <td>2010</td>\n      <td>308745538</td>\n      <td>1.300000e+10</td>\n      <td>42.11</td>\n    </tr>\n  </tbody>\n</table>\n</div>"
          },
          "metadata": {}
        }
      ]
    },
    {
      "cell_type": "markdown",
      "source": "#### After all columns are cleansed, save the cleansed dataframe to a file named \"census_cost_cleansed.csv\" using CSV format.",
      "metadata": {
        "tags": [],
        "cell_id": "00024-d3e16e65-b417-4389-be9e-8e95a54dea3e",
        "deepnote_cell_type": "markdown"
      }
    },
    {
      "cell_type": "code",
      "metadata": {
        "tags": [],
        "cell_id": "00023-b4e00d12-112c-45e6-87cd-0e0292c34ec0",
        "deepnote_to_be_reexecuted": false,
        "source_hash": "51e9f356",
        "execution_millis": 11,
        "execution_start": 1615760078722,
        "deepnote_cell_type": "code"
      },
      "source": "census_df.dtypes",
      "execution_count": 20,
      "outputs": [
        {
          "output_type": "execute_result",
          "execution_count": 20,
          "data": {
            "text/plain": "Census Year                  int64\nTotal Population             int64\nCensus Cost                float64\nAverage Cost Per Person    float64\ndtype: object"
          },
          "metadata": {}
        }
      ]
    },
    {
      "cell_type": "code",
      "metadata": {
        "tags": [],
        "cell_id": "00034-ff138045-4d02-472e-99b5-6bf4adf8e615",
        "deepnote_to_be_reexecuted": false,
        "source_hash": "24a773f4",
        "execution_millis": 2,
        "execution_start": 1615760078726,
        "deepnote_cell_type": "code"
      },
      "source": "census_df.to_csv('census_cost_cleansed.csv') ",
      "execution_count": 21,
      "outputs": []
    },
    {
      "cell_type": "markdown",
      "source": "#### Use Pandas to read the saved cleansed file and explore to make sure it is clean.",
      "metadata": {
        "tags": [],
        "cell_id": "00035-9f4c4aab-3d09-4186-8ffa-5d8f0c0c64ec",
        "deepnote_cell_type": "markdown"
      }
    },
    {
      "cell_type": "code",
      "metadata": {
        "tags": [],
        "cell_id": "00035-0a823803-377e-45ed-bb02-3c9d3a083ce4",
        "deepnote_to_be_reexecuted": false,
        "source_hash": "29ad7c02",
        "execution_millis": 24,
        "execution_start": 1615760078729,
        "deepnote_cell_type": "code"
      },
      "source": "retest_census_df = pd.read_csv('/work/census_cost_cleansed.csv', header=0)\nretest_census_df",
      "execution_count": 22,
      "outputs": [
        {
          "output_type": "execute_result",
          "execution_count": 22,
          "data": {
            "application/vnd.deepnote.dataframe.v2+json": {
              "row_count": 23,
              "column_count": 5,
              "columns": [
                {
                  "name": "Unnamed: 0",
                  "dtype": "int64",
                  "stats": {
                    "unique_count": 23,
                    "nan_count": 0,
                    "min": 0,
                    "max": 22,
                    "histogram": [
                      {
                        "bin_start": 0,
                        "bin_end": 2.2,
                        "count": 3
                      },
                      {
                        "bin_start": 2.2,
                        "bin_end": 4.4,
                        "count": 2
                      },
                      {
                        "bin_start": 4.4,
                        "bin_end": 6.6000000000000005,
                        "count": 2
                      },
                      {
                        "bin_start": 6.6000000000000005,
                        "bin_end": 8.8,
                        "count": 2
                      },
                      {
                        "bin_start": 8.8,
                        "bin_end": 11,
                        "count": 2
                      },
                      {
                        "bin_start": 11,
                        "bin_end": 13.200000000000001,
                        "count": 3
                      },
                      {
                        "bin_start": 13.200000000000001,
                        "bin_end": 15.400000000000002,
                        "count": 2
                      },
                      {
                        "bin_start": 15.400000000000002,
                        "bin_end": 17.6,
                        "count": 2
                      },
                      {
                        "bin_start": 17.6,
                        "bin_end": 19.8,
                        "count": 2
                      },
                      {
                        "bin_start": 19.8,
                        "bin_end": 22,
                        "count": 3
                      }
                    ]
                  }
                },
                {
                  "name": "Census Year",
                  "dtype": "int64",
                  "stats": {
                    "unique_count": 23,
                    "nan_count": 0,
                    "min": 1790,
                    "max": 2010,
                    "histogram": [
                      {
                        "bin_start": 1790,
                        "bin_end": 1812,
                        "count": 3
                      },
                      {
                        "bin_start": 1812,
                        "bin_end": 1834,
                        "count": 2
                      },
                      {
                        "bin_start": 1834,
                        "bin_end": 1856,
                        "count": 2
                      },
                      {
                        "bin_start": 1856,
                        "bin_end": 1878,
                        "count": 2
                      },
                      {
                        "bin_start": 1878,
                        "bin_end": 1900,
                        "count": 2
                      },
                      {
                        "bin_start": 1900,
                        "bin_end": 1922,
                        "count": 3
                      },
                      {
                        "bin_start": 1922,
                        "bin_end": 1944,
                        "count": 2
                      },
                      {
                        "bin_start": 1944,
                        "bin_end": 1966,
                        "count": 2
                      },
                      {
                        "bin_start": 1966,
                        "bin_end": 1988,
                        "count": 2
                      },
                      {
                        "bin_start": 1988,
                        "bin_end": 2010,
                        "count": 3
                      }
                    ]
                  }
                },
                {
                  "name": "Total Population",
                  "dtype": "int64",
                  "stats": {
                    "unique_count": 23,
                    "nan_count": 0,
                    "min": 3929214,
                    "max": 308745538,
                    "histogram": [
                      {
                        "bin_start": 3929214,
                        "bin_end": 34410846.4,
                        "count": 8
                      },
                      {
                        "bin_start": 34410846.4,
                        "bin_end": 64892478.8,
                        "count": 3
                      },
                      {
                        "bin_start": 64892478.8,
                        "bin_end": 95374111.19999999,
                        "count": 2
                      },
                      {
                        "bin_start": 95374111.19999999,
                        "bin_end": 125855743.6,
                        "count": 2
                      },
                      {
                        "bin_start": 125855743.6,
                        "bin_end": 156337376,
                        "count": 2
                      },
                      {
                        "bin_start": 156337376,
                        "bin_end": 186819008.39999998,
                        "count": 1
                      },
                      {
                        "bin_start": 186819008.39999998,
                        "bin_end": 217300640.79999998,
                        "count": 1
                      },
                      {
                        "bin_start": 217300640.79999998,
                        "bin_end": 247782273.2,
                        "count": 1
                      },
                      {
                        "bin_start": 247782273.2,
                        "bin_end": 278263905.59999996,
                        "count": 1
                      },
                      {
                        "bin_start": 278263905.59999996,
                        "bin_end": 308745538,
                        "count": 2
                      }
                    ]
                  }
                },
                {
                  "name": "Census Cost",
                  "dtype": "float64",
                  "stats": {
                    "unique_count": 23,
                    "nan_count": 0,
                    "min": 44377,
                    "max": 13000000000,
                    "histogram": [
                      {
                        "bin_start": 44377,
                        "bin_end": 1300039939.3,
                        "count": 20
                      },
                      {
                        "bin_start": 1300039939.3,
                        "bin_end": 2600035501.6,
                        "count": 1
                      },
                      {
                        "bin_start": 2600035501.6,
                        "bin_end": 3900031063.8999996,
                        "count": 0
                      },
                      {
                        "bin_start": 3900031063.8999996,
                        "bin_end": 5200026626.2,
                        "count": 1
                      },
                      {
                        "bin_start": 5200026626.2,
                        "bin_end": 6500022188.5,
                        "count": 0
                      },
                      {
                        "bin_start": 6500022188.5,
                        "bin_end": 7800017750.799999,
                        "count": 0
                      },
                      {
                        "bin_start": 7800017750.799999,
                        "bin_end": 9100013313.1,
                        "count": 0
                      },
                      {
                        "bin_start": 9100013313.1,
                        "bin_end": 10400008875.4,
                        "count": 0
                      },
                      {
                        "bin_start": 10400008875.4,
                        "bin_end": 11700004437.699999,
                        "count": 0
                      },
                      {
                        "bin_start": 11700004437.699999,
                        "bin_end": 13000000000,
                        "count": 1
                      }
                    ]
                  }
                },
                {
                  "name": "Average Cost Per Person",
                  "dtype": "float64",
                  "stats": {
                    "unique_count": 20,
                    "nan_count": 0,
                    "min": 0.01,
                    "max": 42.11,
                    "histogram": [
                      {
                        "bin_start": 0.01,
                        "bin_end": 4.22,
                        "count": 19
                      },
                      {
                        "bin_start": 4.22,
                        "bin_end": 8.43,
                        "count": 1
                      },
                      {
                        "bin_start": 8.43,
                        "bin_end": 12.639999999999999,
                        "count": 1
                      },
                      {
                        "bin_start": 12.639999999999999,
                        "bin_end": 16.85,
                        "count": 1
                      },
                      {
                        "bin_start": 16.85,
                        "bin_end": 21.060000000000002,
                        "count": 0
                      },
                      {
                        "bin_start": 21.060000000000002,
                        "bin_end": 25.27,
                        "count": 0
                      },
                      {
                        "bin_start": 25.27,
                        "bin_end": 29.48,
                        "count": 0
                      },
                      {
                        "bin_start": 29.48,
                        "bin_end": 33.69,
                        "count": 0
                      },
                      {
                        "bin_start": 33.69,
                        "bin_end": 37.9,
                        "count": 0
                      },
                      {
                        "bin_start": 37.9,
                        "bin_end": 42.11,
                        "count": 1
                      }
                    ]
                  }
                },
                {
                  "name": "_deepnote_index_column",
                  "dtype": "int64"
                }
              ],
              "rows_top": [
                {
                  "Unnamed: 0": 0,
                  "Census Year": 1790,
                  "Total Population": 3929214,
                  "Census Cost": 44377,
                  "Average Cost Per Person": 0.01,
                  "_deepnote_index_column": 0
                },
                {
                  "Unnamed: 0": 1,
                  "Census Year": 1800,
                  "Total Population": 5308483,
                  "Census Cost": 66109,
                  "Average Cost Per Person": 0.01,
                  "_deepnote_index_column": 1
                },
                {
                  "Unnamed: 0": 2,
                  "Census Year": 1810,
                  "Total Population": 7239881,
                  "Census Cost": 178445,
                  "Average Cost Per Person": 0.02,
                  "_deepnote_index_column": 2
                },
                {
                  "Unnamed: 0": 3,
                  "Census Year": 1820,
                  "Total Population": 9633822,
                  "Census Cost": 208526,
                  "Average Cost Per Person": 0.02,
                  "_deepnote_index_column": 3
                },
                {
                  "Unnamed: 0": 4,
                  "Census Year": 1830,
                  "Total Population": 12866020,
                  "Census Cost": 378545,
                  "Average Cost Per Person": 0.03,
                  "_deepnote_index_column": 4
                },
                {
                  "Unnamed: 0": 5,
                  "Census Year": 1840,
                  "Total Population": 17069458,
                  "Census Cost": 833371,
                  "Average Cost Per Person": 0.05,
                  "_deepnote_index_column": 5
                },
                {
                  "Unnamed: 0": 6,
                  "Census Year": 1850,
                  "Total Population": 23191876,
                  "Census Cost": 1423351,
                  "Average Cost Per Person": 0.06,
                  "_deepnote_index_column": 6
                },
                {
                  "Unnamed: 0": 7,
                  "Census Year": 1860,
                  "Total Population": 31443321,
                  "Census Cost": 1969377,
                  "Average Cost Per Person": 0.06,
                  "_deepnote_index_column": 7
                },
                {
                  "Unnamed: 0": 8,
                  "Census Year": 1870,
                  "Total Population": 38558371,
                  "Census Cost": 3421198,
                  "Average Cost Per Person": 0.09,
                  "_deepnote_index_column": 8
                },
                {
                  "Unnamed: 0": 9,
                  "Census Year": 1880,
                  "Total Population": 50155783,
                  "Census Cost": 5790678,
                  "Average Cost Per Person": 0.12,
                  "_deepnote_index_column": 9
                },
                {
                  "Unnamed: 0": 10,
                  "Census Year": 1890,
                  "Total Population": 62979766,
                  "Census Cost": 11547127,
                  "Average Cost Per Person": 0.18,
                  "_deepnote_index_column": 10
                },
                {
                  "Unnamed: 0": 11,
                  "Census Year": 1900,
                  "Total Population": 76303387,
                  "Census Cost": 11854000,
                  "Average Cost Per Person": 0.16,
                  "_deepnote_index_column": 11
                },
                {
                  "Unnamed: 0": 12,
                  "Census Year": 1910,
                  "Total Population": 91972266,
                  "Census Cost": 15968000,
                  "Average Cost Per Person": 0.17,
                  "_deepnote_index_column": 12
                },
                {
                  "Unnamed: 0": 13,
                  "Census Year": 1920,
                  "Total Population": 105710620,
                  "Census Cost": 25117000,
                  "Average Cost Per Person": 0.24,
                  "_deepnote_index_column": 13
                },
                {
                  "Unnamed: 0": 14,
                  "Census Year": 1930,
                  "Total Population": 122775046,
                  "Census Cost": 40156000,
                  "Average Cost Per Person": 0.33,
                  "_deepnote_index_column": 14
                },
                {
                  "Unnamed: 0": 15,
                  "Census Year": 1940,
                  "Total Population": 131669275,
                  "Census Cost": 67527000,
                  "Average Cost Per Person": 0.51,
                  "_deepnote_index_column": 15
                },
                {
                  "Unnamed: 0": 16,
                  "Census Year": 1950,
                  "Total Population": 151325798,
                  "Census Cost": 91462000,
                  "Average Cost Per Person": 0.6,
                  "_deepnote_index_column": 16
                },
                {
                  "Unnamed: 0": 17,
                  "Census Year": 1960,
                  "Total Population": 179323175,
                  "Census Cost": 127934000,
                  "Average Cost Per Person": 0.71,
                  "_deepnote_index_column": 17
                },
                {
                  "Unnamed: 0": 18,
                  "Census Year": 1970,
                  "Total Population": 203302031,
                  "Census Cost": 247653000,
                  "Average Cost Per Person": 1.22,
                  "_deepnote_index_column": 18
                },
                {
                  "Unnamed: 0": 19,
                  "Census Year": 1980,
                  "Total Population": 226542199,
                  "Census Cost": 1078488000,
                  "Average Cost Per Person": 4.76,
                  "_deepnote_index_column": 19
                },
                {
                  "Unnamed: 0": 20,
                  "Census Year": 1990,
                  "Total Population": 248718301,
                  "Census Cost": 2492830000,
                  "Average Cost Per Person": 10.02,
                  "_deepnote_index_column": 20
                },
                {
                  "Unnamed: 0": 21,
                  "Census Year": 2000,
                  "Total Population": 281421906,
                  "Census Cost": 4500000000,
                  "Average Cost Per Person": 15.99,
                  "_deepnote_index_column": 21
                },
                {
                  "Unnamed: 0": 22,
                  "Census Year": 2010,
                  "Total Population": 308745538,
                  "Census Cost": 13000000000,
                  "Average Cost Per Person": 42.11,
                  "_deepnote_index_column": 22
                }
              ],
              "rows_bottom": null
            },
            "text/plain": "    Unnamed: 0  Census Year  Total Population   Census Cost  \\\n0            0         1790           3929214  4.437700e+04   \n1            1         1800           5308483  6.610900e+04   \n2            2         1810           7239881  1.784450e+05   \n3            3         1820           9633822  2.085260e+05   \n4            4         1830          12866020  3.785450e+05   \n5            5         1840          17069458  8.333710e+05   \n6            6         1850          23191876  1.423351e+06   \n7            7         1860          31443321  1.969377e+06   \n8            8         1870          38558371  3.421198e+06   \n9            9         1880          50155783  5.790678e+06   \n10          10         1890          62979766  1.154713e+07   \n11          11         1900          76303387  1.185400e+07   \n12          12         1910          91972266  1.596800e+07   \n13          13         1920         105710620  2.511700e+07   \n14          14         1930         122775046  4.015600e+07   \n15          15         1940         131669275  6.752700e+07   \n16          16         1950         151325798  9.146200e+07   \n17          17         1960         179323175  1.279340e+08   \n18          18         1970         203302031  2.476530e+08   \n19          19         1980         226542199  1.078488e+09   \n20          20         1990         248718301  2.492830e+09   \n21          21         2000         281421906  4.500000e+09   \n22          22         2010         308745538  1.300000e+10   \n\n    Average Cost Per Person  \n0                      0.01  \n1                      0.01  \n2                      0.02  \n3                      0.02  \n4                      0.03  \n5                      0.05  \n6                      0.06  \n7                      0.06  \n8                      0.09  \n9                      0.12  \n10                     0.18  \n11                     0.16  \n12                     0.17  \n13                     0.24  \n14                     0.33  \n15                     0.51  \n16                     0.60  \n17                     0.71  \n18                     1.22  \n19                     4.76  \n20                    10.02  \n21                    15.99  \n22                    42.11  ",
            "text/html": "<div>\n<style scoped>\n    .dataframe tbody tr th:only-of-type {\n        vertical-align: middle;\n    }\n\n    .dataframe tbody tr th {\n        vertical-align: top;\n    }\n\n    .dataframe thead th {\n        text-align: right;\n    }\n</style>\n<table border=\"1\" class=\"dataframe\">\n  <thead>\n    <tr style=\"text-align: right;\">\n      <th></th>\n      <th>Unnamed: 0</th>\n      <th>Census Year</th>\n      <th>Total Population</th>\n      <th>Census Cost</th>\n      <th>Average Cost Per Person</th>\n    </tr>\n  </thead>\n  <tbody>\n    <tr>\n      <th>0</th>\n      <td>0</td>\n      <td>1790</td>\n      <td>3929214</td>\n      <td>4.437700e+04</td>\n      <td>0.01</td>\n    </tr>\n    <tr>\n      <th>1</th>\n      <td>1</td>\n      <td>1800</td>\n      <td>5308483</td>\n      <td>6.610900e+04</td>\n      <td>0.01</td>\n    </tr>\n    <tr>\n      <th>2</th>\n      <td>2</td>\n      <td>1810</td>\n      <td>7239881</td>\n      <td>1.784450e+05</td>\n      <td>0.02</td>\n    </tr>\n    <tr>\n      <th>3</th>\n      <td>3</td>\n      <td>1820</td>\n      <td>9633822</td>\n      <td>2.085260e+05</td>\n      <td>0.02</td>\n    </tr>\n    <tr>\n      <th>4</th>\n      <td>4</td>\n      <td>1830</td>\n      <td>12866020</td>\n      <td>3.785450e+05</td>\n      <td>0.03</td>\n    </tr>\n    <tr>\n      <th>5</th>\n      <td>5</td>\n      <td>1840</td>\n      <td>17069458</td>\n      <td>8.333710e+05</td>\n      <td>0.05</td>\n    </tr>\n    <tr>\n      <th>6</th>\n      <td>6</td>\n      <td>1850</td>\n      <td>23191876</td>\n      <td>1.423351e+06</td>\n      <td>0.06</td>\n    </tr>\n    <tr>\n      <th>7</th>\n      <td>7</td>\n      <td>1860</td>\n      <td>31443321</td>\n      <td>1.969377e+06</td>\n      <td>0.06</td>\n    </tr>\n    <tr>\n      <th>8</th>\n      <td>8</td>\n      <td>1870</td>\n      <td>38558371</td>\n      <td>3.421198e+06</td>\n      <td>0.09</td>\n    </tr>\n    <tr>\n      <th>9</th>\n      <td>9</td>\n      <td>1880</td>\n      <td>50155783</td>\n      <td>5.790678e+06</td>\n      <td>0.12</td>\n    </tr>\n    <tr>\n      <th>10</th>\n      <td>10</td>\n      <td>1890</td>\n      <td>62979766</td>\n      <td>1.154713e+07</td>\n      <td>0.18</td>\n    </tr>\n    <tr>\n      <th>11</th>\n      <td>11</td>\n      <td>1900</td>\n      <td>76303387</td>\n      <td>1.185400e+07</td>\n      <td>0.16</td>\n    </tr>\n    <tr>\n      <th>12</th>\n      <td>12</td>\n      <td>1910</td>\n      <td>91972266</td>\n      <td>1.596800e+07</td>\n      <td>0.17</td>\n    </tr>\n    <tr>\n      <th>13</th>\n      <td>13</td>\n      <td>1920</td>\n      <td>105710620</td>\n      <td>2.511700e+07</td>\n      <td>0.24</td>\n    </tr>\n    <tr>\n      <th>14</th>\n      <td>14</td>\n      <td>1930</td>\n      <td>122775046</td>\n      <td>4.015600e+07</td>\n      <td>0.33</td>\n    </tr>\n    <tr>\n      <th>15</th>\n      <td>15</td>\n      <td>1940</td>\n      <td>131669275</td>\n      <td>6.752700e+07</td>\n      <td>0.51</td>\n    </tr>\n    <tr>\n      <th>16</th>\n      <td>16</td>\n      <td>1950</td>\n      <td>151325798</td>\n      <td>9.146200e+07</td>\n      <td>0.60</td>\n    </tr>\n    <tr>\n      <th>17</th>\n      <td>17</td>\n      <td>1960</td>\n      <td>179323175</td>\n      <td>1.279340e+08</td>\n      <td>0.71</td>\n    </tr>\n    <tr>\n      <th>18</th>\n      <td>18</td>\n      <td>1970</td>\n      <td>203302031</td>\n      <td>2.476530e+08</td>\n      <td>1.22</td>\n    </tr>\n    <tr>\n      <th>19</th>\n      <td>19</td>\n      <td>1980</td>\n      <td>226542199</td>\n      <td>1.078488e+09</td>\n      <td>4.76</td>\n    </tr>\n    <tr>\n      <th>20</th>\n      <td>20</td>\n      <td>1990</td>\n      <td>248718301</td>\n      <td>2.492830e+09</td>\n      <td>10.02</td>\n    </tr>\n    <tr>\n      <th>21</th>\n      <td>21</td>\n      <td>2000</td>\n      <td>281421906</td>\n      <td>4.500000e+09</td>\n      <td>15.99</td>\n    </tr>\n    <tr>\n      <th>22</th>\n      <td>22</td>\n      <td>2010</td>\n      <td>308745538</td>\n      <td>1.300000e+10</td>\n      <td>42.11</td>\n    </tr>\n  </tbody>\n</table>\n</div>"
          },
          "metadata": {}
        }
      ]
    },
    {
      "cell_type": "markdown",
      "source": "<a style='text-decoration:none;line-height:16px;display:flex;color:#5B5B62;padding:10px;justify-content:end;' href='https://deepnote.com?utm_source=created-in-deepnote-cell&projectId=dbec9188-a8c8-4b41-a333-07cf482f0464' target=\"_blank\">\n<img style='display:inline;max-height:16px;margin:0px;margin-right:7.5px;' src='data:image/svg+xml;base64,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' > </img>\nCreated in <span style='font-weight:600;margin-left:4px;'>Deepnote</span></a>",
      "metadata": {
        "tags": [],
        "created_in_deepnote_cell": true,
        "deepnote_cell_type": "markdown"
      }
    }
  ],
  "nbformat": 4,
  "nbformat_minor": 2,
  "metadata": {
    "orig_nbformat": 2,
    "deepnote_notebook_id": "0edb6927-e012-436b-bd50-5c88b992fa20",
    "deepnote": {},
    "deepnote_execution_queue": []
  }
}